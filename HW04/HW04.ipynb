{
  "cells": [
    {
      "cell_type": "markdown",
      "metadata": {
        "id": "BcCCabvWBWbd"
      },
      "source": [
        "# <span style='font-family: \"Georgia\", Times, \"Times New Roman\", serif; color:#3498DB;'>**Statistical Inference Course (Spring 2024)**</span>\n",
        "\n",
        "## <span style='font-family: \"Helvetica Neue\", Helvetica, Arial, sans-serif; color:#2E86C1;'>**Homework 4**</span>\n",
        "\n",
        "<hr>\n",
        "\n",
        "### <span style='font-family: \"Courier New\", Courier, monospace; color:#27AE30;'>**Professor**</span>\n",
        "\n",
        "*   Dr. Behnam Bahrak\n",
        "\n",
        "### <span style='font-family: \"Courier New\", Courier, monospace; color:#E67E22;'>**Student**</span>\n",
        "\n",
        "*   Ali Zahedzadeh\n"
      ]
    },
    {
      "cell_type": "markdown",
      "metadata": {
        "id": "cdqq_CHkBWbh"
      },
      "source": [
        "<hr>"
      ]
    },
    {
      "cell_type": "markdown",
      "metadata": {
        "id": "KQbRmJCrBWbi"
      },
      "source": [
        "### <span style='color:#2ECC71; font-family: \"Arial\", sans-serif; font-size: 1.3em; font-weight: bold;'>Question 1</span>\n",
        "\n",
        "<span style='font-family: \"Segoe UI\", Tahoma, Geneva, Verdana, sans-serif; font-size: 1.2em; font-weight: bold;'>\n",
        "    Identify each of the following statements as true or false. Provide an explanation to justify each of your answers.\n",
        "\n",
        "</span>\n",
        "\n"
      ]
    },
    {
      "cell_type": "markdown",
      "metadata": {
        "id": "ScxC6X7XBWbi"
      },
      "source": [
        "#### <span style='color:#E74C3C; font-family: \"Arial\", sans-serif; font-size: 1.1em; font-weight: bold;'>Answer</span>"
      ]
    },
    {
      "cell_type": "markdown",
      "metadata": {},
      "source": [
        "##### <span style='color:#3498DB; font-family: \"Helvetica\", Arial, sans-serif; font-size: 1.2em; font-weight: bold;'>Part a:</span>\n",
        "\n",
        "<span style='font-family: \"Segoe UI\", Tahoma, Geneva, Verdana, sans-serif; font-size: 1.2em; font-weight: bold;'>\n",
        "    By resampling the population with replacement, a bootstrap distribution is created.\n",
        "</span>\n",
        "\n",
        "\n"
      ]
    },
    {
      "cell_type": "markdown",
      "metadata": {},
      "source": [
        "False.\n",
        "\n",
        "The bootstrap distribution is created by resampling with replacement from the `original sample`, not the population."
      ]
    },
    {
      "cell_type": "markdown",
      "metadata": {},
      "source": [
        "##### <span style='color:#3498DB; font-family: \"Helvetica\", Arial, sans-serif; font-size: 1.2em; font-weight: bold;'>Part b:</span>\n",
        "\n",
        "<span style='font-family: \"Segoe UI\", Tahoma, Geneva, Verdana, sans-serif; font-size: 1.2em; font-weight: bold;'>\n",
        "    Suppose that ANOVA at a 5% significance level rejects the null hypothesis that the means of the four groups are the same. Hence, the pairwise analysis will identify at least one pair of significantly different means.\n",
        "</span>\n",
        "\n",
        "\n"
      ]
    },
    {
      "cell_type": "markdown",
      "metadata": {},
      "source": [
        "True.\n",
        "\n",
        "The data strongly suggest that at least one pair of groups have different means (though we don't know which ones) using ANOVA. But with pairwise analysis, we'll find at least one pair with significantly different means."
      ]
    },
    {
      "cell_type": "markdown",
      "metadata": {},
      "source": [
        "##### <span style='color:#3498DB; font-family: \"Helvetica\", Arial, sans-serif; font-size: 1.2em; font-weight: bold;'>Part c:</span>\n",
        "\n",
        "<span style='font-family: \"Segoe UI\", Tahoma, Geneva, Verdana, sans-serif; font-size: 1.2em; font-weight: bold;'>\n",
        "    A smaller sample size is recommended when generating resampled samples.\n",
        "</span>\n",
        "\n",
        "\n"
      ]
    },
    {
      "cell_type": "markdown",
      "metadata": {},
      "source": [
        "False. \n",
        "\n",
        "Resamples should ideally have the same sample size as the original sample to ensure a representative distribution."
      ]
    },
    {
      "cell_type": "markdown",
      "metadata": {},
      "source": [
        "##### <span style='color:#3498DB; font-family: \"Helvetica\", Arial, sans-serif; font-size: 1.2em; font-weight: bold;'>Part d:</span>\n",
        "\n",
        "<span style='font-family: \"Segoe UI\", Tahoma, Geneva, Verdana, sans-serif; font-size: 1.2em; font-weight: bold;'>\n",
        "    The difference between each pair of observations is the starting point for a paired analysis. Then we use these differences to make inferences.\n",
        "</span>\n",
        "\n",
        "\n"
      ]
    },
    {
      "cell_type": "markdown",
      "metadata": {},
      "source": [
        "True. \n",
        "\n",
        "In paired analysis, the initial step involves calculating the differences between the values within each pair. so, we work with a single group of variables composed of these differences to draw inferences."
      ]
    },
    {
      "cell_type": "markdown",
      "metadata": {},
      "source": [
        "##### <span style='color:#3498DB; font-family: \"Helvetica\", Arial, sans-serif; font-size: 1.2em; font-weight: bold;'>Part e:</span>\n",
        "\n",
        "<span style='font-family: \"Segoe UI\", Tahoma, Geneva, Verdana, sans-serif; font-size: 1.2em; font-weight: bold;'>\n",
        "    There is a reverse relation between variance within an ANOVA group and the amount of noise (variance).\n",
        "</span>\n",
        "\n",
        "\n"
      ]
    },
    {
      "cell_type": "markdown",
      "metadata": {},
      "source": [
        "False. \n",
        "\n",
        "There is a reverse relationship between variance within an ANOVA group and variance between ANOVA groups."
      ]
    },
    {
      "cell_type": "markdown",
      "metadata": {},
      "source": [
        "##### <span style='color:#3498DB; font-family: \"Helvetica\", Arial, sans-serif; font-size: 1.2em; font-weight: bold;'>Part f:</span>\n",
        "\n",
        "<span style='font-family: \"Segoe UI\", Tahoma, Geneva, Verdana, sans-serif; font-size: 1.2em; font-weight: bold;'>\n",
        "    In a test, we randomly sample 30 items from Amazon and note the price for each. Then we visit local markets and collect the price of each of those same 30 items. This is a paired t-test.\n",
        "</span>\n",
        "\n",
        "\n"
      ]
    },
    {
      "cell_type": "markdown",
      "metadata": {},
      "source": [
        "True.\n",
        "\n",
        "Yes, this is a paired data. The strong association of each record comes from a fact that each record is a price of the same item from different stores."
      ]
    },
    {
      "cell_type": "markdown",
      "metadata": {},
      "source": [
        "##### <span style='color:#3498DB; font-family: \"Helvetica\", Arial, sans-serif; font-size: 1.2em; font-weight: bold;'>Part g:</span>\n",
        "\n",
        "<span style='font-family: \"Segoe UI\", Tahoma, Geneva, Verdana, sans-serif; font-size: 1.2em; font-weight: bold;'>\n",
        "    An inference is made based on the difference between two observations in a paired analysis.\n",
        "</span>\n",
        "\n",
        "\n"
      ]
    },
    {
      "cell_type": "markdown",
      "metadata": {},
      "source": [
        "True\n",
        "\n",
        "For paired analysis, the initial step involves calculating the differences between the values within each group. Subsequently, utilizing these differences, we conduct inferences, as there is only one group of variables involved."
      ]
    },
    {
      "cell_type": "markdown",
      "metadata": {},
      "source": [
        "##### <span style='color:#3498DB; font-family: \"Helvetica\", Arial, sans-serif; font-size: 1.2em; font-weight: bold;'>Part h:</span>\n",
        "\n",
        "<span style='font-family: \"Segoe UI\", Tahoma, Geneva, Verdana, sans-serif; font-size: 1.2em; font-weight: bold;'>\n",
        "    In order to prevent Type-II errors, you should assign a large amount of 𝛽.\n",
        "</span>\n",
        "\n",
        "\n"
      ]
    },
    {
      "cell_type": "markdown",
      "metadata": {},
      "source": [
        "False.\n",
        "\n",
        "To prevent Type-II errors, we should assign a large amount of power (1 - 𝛽), not a large amount of 𝛽 itself.\n",
        "\n",
        "Increasing power reduces the likelihood of making a Type-II error."
      ]
    },
    {
      "cell_type": "markdown",
      "metadata": {
        "id": "sulw4lP5BWcO"
      },
      "source": [
        "<hr>"
      ]
    },
    {
      "cell_type": "markdown",
      "metadata": {
        "id": "u4gFy0JTBWcO"
      },
      "source": [
        "### <span style='color:#2ECC71; font-family: \"Arial\", sans-serif; font-size: 1.3em; font-weight: bold;'>Question 2</span>\n",
        "\n",
        "<span style='font-family: \"Segoe UI\", Tahoma, Geneva, Verdana, sans-serif; font-size: 1.2em; font-weight: bold;'>\n",
        "\n",
        "A statistical inference class at a certain university has 500 students. The scores of 10 students were selected at random and are demonstrated in the following table.\n",
        "\n",
        "\n",
        "|   |   |   |   |   |\n",
        "|---|---|---|---|---|\n",
        "| 76| 84| 69| 92| 58|\n",
        "| 89| 73| 97| 85| 77|\n",
        "\n",
        "</span>"
      ]
    },
    {
      "cell_type": "markdown",
      "metadata": {
        "id": "GPJcgozFBWcP"
      },
      "source": [
        "#### <span style='color:#E74C3C; font-family: \"Arial\", sans-serif; font-size: 1.1em; font-weight: bold;'>Answer</span>"
      ]
    },
    {
      "cell_type": "markdown",
      "metadata": {},
      "source": [
        "##### <span style='color:#3498DB; font-family: \"Helvetica\", Arial, sans-serif; font-size: 1.2em; font-weight: bold;'>Part a:</span>\n",
        "\n",
        "<span style='font-family: \"Segoe UI\", Tahoma, Geneva, Verdana, sans-serif; font-size: 1.2em; font-weight: bold;'>\n",
        "    Calculate the mean and standard deviation of the sample.\n",
        "</span>\n",
        "\n",
        "\n"
      ]
    },
    {
      "cell_type": "markdown",
      "metadata": {},
      "source": [
        "Here's the LaTeX code for your expression:\n",
        "\n",
        "\n",
        "$\\bar{x} = \\frac{76 + 84 + 69 + 92 + 58 + 89 + 73 + 97 + 85 + 77}{10} = \\frac{800}{10} = 80$\n",
        "\n",
        "\n",
        "$s^2 = \\frac{\\sum_{i=1}^{n}(x_i - \\bar{x})^2}{n-1}$\n",
        "\n",
        "$$\n",
        "\\begin{align*}\n",
        "&(76-80)^2\\frac{1}{9}+(84-80)^2\\frac{1}{9}+(69-80)^2\\frac{1}{9}+(92-80)^2\\frac{1}{9}+(58-80)^2\\frac{1}{9}+(89-80)^2\\frac{1}{9} \\\\\n",
        "&+(73-80)^2\\frac{1}{9}+(97-80)^2\\frac{1}{9}+(85-80)^2\\frac{1}{9}+(77-80)^2\\frac{1}{9} \\\\\n",
        "&= \\frac{1234}{9} = 137.11 \\Rightarrow s = \\sqrt{137.11} = 11.71\n",
        "\\end{align*}\n",
        "$$\n"
      ]
    },
    {
      "cell_type": "markdown",
      "metadata": {},
      "source": [
        "##### <span style='color:#3498DB; font-family: \"Helvetica\", Arial, sans-serif; font-size: 1.2em; font-weight: bold;'>Part b:</span>\n",
        "\n",
        "<span style='font-family: \"Segoe UI\", Tahoma, Geneva, Verdana, sans-serif; font-size: 1.2em; font-weight: bold;'>\n",
        "    Calculate the margin of error.\n",
        "</span>\n",
        "\n",
        "\n"
      ]
    },
    {
      "cell_type": "markdown",
      "metadata": {},
      "source": [
        "The students were randomly selected and are independent. Additionally, their scores typically exhibit a distribution that is not heavily skewed, resembling a normal distribution. The sample size represents less than 10% of the total student population but is still fewer than 30. Hence, for this scenario, we employ the Student's 𝑡-Distribution."
      ]
    },
    {
      "cell_type": "markdown",
      "metadata": {},
      "source": [
        "$SE = \\frac{s}{\\sqrt{n}} = \\frac{11.71}{\\sqrt{10}} = 3.7$"
      ]
    },
    {
      "cell_type": "markdown",
      "metadata": {},
      "source": [
        "We use alpha = 0.1  because in next part said to use 90% confidence interval."
      ]
    },
    {
      "cell_type": "code",
      "execution_count": 3,
      "metadata": {
        "vscode": {
          "languageId": "r"
        }
      },
      "outputs": [
        {
          "name": "stdout",
          "output_type": "stream",
          "text": [
            "[1] 1.833113\n"
          ]
        }
      ],
      "source": [
        "alpha <- 0.1\n",
        "df <- 9\n",
        "\n",
        "t_score <- qt(1 - alpha/2, df)\n",
        "print(t_score)"
      ]
    },
    {
      "cell_type": "markdown",
      "metadata": {},
      "source": [
        "\n",
        "\n",
        "$ME = 1.83 \\times 3.7 = 6.77$"
      ]
    },
    {
      "cell_type": "markdown",
      "metadata": {},
      "source": [
        "##### <span style='color:#3498DB; font-family: \"Helvetica\", Arial, sans-serif; font-size: 1.2em; font-weight: bold;'>Part c:</span>\n",
        "\n",
        "<span style='font-family: \"Segoe UI\", Tahoma, Geneva, Verdana, sans-serif; font-size: 1.2em; font-weight: bold;'>\n",
        "    Construct a 90% confidence interval for the mean score of all the students in this class.\n",
        "</span>\n",
        "\n",
        "\n"
      ]
    },
    {
      "cell_type": "markdown",
      "metadata": {},
      "source": [
        "\n",
        "\n",
        "$\\bar{x} - ME < \\mu < \\bar{x} + ME$\n",
        "\n",
        "$80 - 6.77 < \\mu < 80 + 6.77 \\Rightarrow 73.23 < \\mu < 86.77$"
      ]
    },
    {
      "cell_type": "markdown",
      "metadata": {},
      "source": [
        "##### <span style='color:#3498DB; font-family: \"Helvetica\", Arial, sans-serif; font-size: 1.2em; font-weight: bold;'>Part d:</span>\n",
        "\n",
        "<span style='font-family: \"Segoe UI\", Tahoma, Geneva, Verdana, sans-serif; font-size: 1.2em; font-weight: bold;'>\n",
        "    Interpret the calculated confidence interval\n",
        "</span>\n",
        "\n",
        "\n"
      ]
    },
    {
      "cell_type": "markdown",
      "metadata": {},
      "source": [
        "We are 90% confident that the true mean score of all the students in the class falls within the interval."
      ]
    },
    {
      "cell_type": "markdown",
      "metadata": {
        "id": "Ng5AP3DABWcQ"
      },
      "source": [
        "<hr>"
      ]
    },
    {
      "cell_type": "markdown",
      "metadata": {
        "id": "VrLL7kfNBWcQ"
      },
      "source": [
        "### <span style='color:#2ECC71; font-family: \"Arial\", sans-serif; font-size: 1.3em; font-weight: bold;'>Question 3</span>\n",
        "\n",
        "<span style='font-family: \"Segoe UI\", Tahoma, Geneva, Verdana, sans-serif; font-size: 1.2em; font-weight: bold;'>\n",
        "\n",
        "New York is known as “the city that never sleeps”. A random sample of 25 New Yorkers were asked how much sleep they get per night. Statistical summaries of these data are shown below. The point estimate suggests New Yorkers sleep less than 8 hours a night on average. Is the result statistically significant?\n",
        "</span>"
      ]
    },
    {
      "cell_type": "markdown",
      "metadata": {},
      "source": [
        "| 𝑛   | 𝑥̅    | 𝑠    | 𝑚𝑖𝑛   | 𝑚𝑎𝑥   |\n",
        "|-----|-------|------|--------|--------|\n",
        "| 25  | 7.73  | 0.77 | 6.17   | 9.78   |"
      ]
    },
    {
      "cell_type": "markdown",
      "metadata": {
        "id": "ZlAUWUm_BWcR"
      },
      "source": [
        "#### <span style='color:#E74C3C; font-family: \"Arial\", sans-serif; font-size: 1.1em; font-weight: bold;'>Answer</span>"
      ]
    },
    {
      "cell_type": "markdown",
      "metadata": {
        "id": "o1K65IfKBWcR"
      },
      "source": [
        "##### <span style='color:#3498DB; font-family: \"Helvetica\", Arial, sans-serif; font-size: 1.2em; font-weight: bold;'>Part a:</span>\n",
        "\n",
        "<span style='font-family: \"Segoe UI\", Tahoma, Geneva, Verdana, sans-serif; font-size: 1.2em; font-weight: bold;'>\n",
        "Write the hypotheses in symbols and words.\n",
        "</span>"
      ]
    },
    {
      "cell_type": "markdown",
      "metadata": {},
      "source": [
        "\n",
        "\n",
        "$H_0: \\mu = 8 \\quad \\text{(New York people sleep 8 hours a night on average)}$\n",
        "\n",
        "$H_A: \\mu < 8 \\quad \\text{(New Yorkers people sleep less than 8 hours a night on average)}$"
      ]
    },
    {
      "cell_type": "markdown",
      "metadata": {
        "id": "fG_oRXLiBWcT"
      },
      "source": [
        "##### <span style='color:#3498DB; font-family: \"Helvetica\", Arial, sans-serif; font-size: 1.2em; font-weight: bold;'>Part b:</span>\n",
        "\n",
        "<span style='font-family: \"Segoe UI\", Tahoma, Geneva, Verdana, sans-serif; font-size: 1.2em; font-weight: bold;'>\n",
        "Check conditions, then calculate the test statistic, 𝑇, and the associated degrees of freedom.\n",
        "</span>"
      ]
    },
    {
      "cell_type": "markdown",
      "metadata": {},
      "source": [
        "**Independence:**\n",
        "\n",
        "- The observations are from a sample of 25 randomly selected independent New Yorkers.\n",
        "- The sampling is done without replacement, and the sample size of 25 is less than 10% of New York's population.\n",
        "\n",
        "**Sample Size/Skew:**\n",
        "\n",
        "- The duration of sleep per day is a naturally distributed trait.\n",
        "For this sample size, slight skewness is acceptable, and the range of values (min/max) suggests minimal skew in the data.\n",
        "\n",
        "- The sample size is small, less than 30 (n < 30).\n",
        "\n",
        "Hence, we employ the Student’s 𝒕-Distribution."
      ]
    },
    {
      "cell_type": "markdown",
      "metadata": {},
      "source": [
        "\n",
        "\n",
        "$SE = \\frac{s}{\\sqrt{n}} = \\frac{0.77}{\\sqrt{25}} = 0.154$\n",
        "\n",
        "$T = \\frac{Observation - Null}{SE} = \\frac{7.73 - 8}{0.154} = -1.75$\n",
        "\n",
        "$df = n - 1 = 25 - 1 = 24$"
      ]
    },
    {
      "cell_type": "markdown",
      "metadata": {
        "id": "WOx9-F2KBWcT"
      },
      "source": [
        "##### <span style='color:#3498DB; font-family: \"Helvetica\", Arial, sans-serif; font-size: 1.2em; font-weight: bold;'>Part c:</span>\n",
        "\n",
        "<span style='font-family: \"Segoe UI\", Tahoma, Geneva, Verdana, sans-serif; font-size: 1.2em; font-weight: bold;'>\n",
        "Find and interpret the p-value in this context.\n",
        "</span>"
      ]
    },
    {
      "cell_type": "code",
      "execution_count": 4,
      "metadata": {
        "vscode": {
          "languageId": "r"
        }
      },
      "outputs": [
        {
          "name": "stdout",
          "output_type": "stream",
          "text": [
            "[1] 0.04644754\n"
          ]
        }
      ],
      "source": [
        "t_score <- -1.75\n",
        "df <- 24\n",
        "\n",
        "p_value <- pt(t_score, df)\n",
        "print(p_value)\n"
      ]
    },
    {
      "cell_type": "markdown",
      "metadata": {},
      "source": [
        "Given α = 0.05, as the p-value is less than α, we can infer that the data offer significant evidence to reject the null hypothesis. Consequently, the findings indicate that New Yorkers sleep less than 8 hours per night on average."
      ]
    },
    {
      "cell_type": "markdown",
      "metadata": {},
      "source": [
        "##### <span style='color:#3498DB; font-family: \"Helvetica\", Arial, sans-serif; font-size: 1.2em; font-weight: bold;'>Part d:</span>\n",
        "\n",
        "<span style='font-family: \"Segoe UI\", Tahoma, Geneva, Verdana, sans-serif; font-size: 1.2em; font-weight: bold;'>\n",
        "What is the conclusion of the hypothesis test?\n",
        "</span>"
      ]
    },
    {
      "cell_type": "markdown",
      "metadata": {},
      "source": [
        "The p-value is less than the significance level  (0.05), so we reject the null hypothesis.\n",
        "\n",
        "p-value = 0.046 < 0.05 so we reject the null hypothesis."
      ]
    },
    {
      "cell_type": "markdown",
      "metadata": {},
      "source": [
        "##### <span style='color:#3498DB; font-family: \"Helvetica\", Arial, sans-serif; font-size: 1.2em; font-weight: bold;'>Part e:</span>\n",
        "\n",
        "<span style='font-family: \"Segoe UI\", Tahoma, Geneva, Verdana, sans-serif; font-size: 1.2em; font-weight: bold;'>\n",
        "If you were to construct a 90% confidence interval that corresponded to this hypothesis test, would you expect 8 hours to be in the interval?\n",
        "</span>"
      ]
    },
    {
      "cell_type": "code",
      "execution_count": 5,
      "metadata": {
        "vscode": {
          "languageId": "r"
        }
      },
      "outputs": [
        {
          "name": "stdout",
          "output_type": "stream",
          "text": [
            "[1] 1.710882\n"
          ]
        }
      ],
      "source": [
        "df <- 24\n",
        "alpha <- 0.1\n",
        "\n",
        "t_score <- qt(1 - alpha/2, df)\n",
        "print(t_score)\n"
      ]
    },
    {
      "cell_type": "markdown",
      "metadata": {},
      "source": [
        "\n",
        "\n",
        "$\\bar{x} - t^* \\times SE < \\mu < \\bar{x} + t^* \\times SE$\n",
        "\n",
        "$7.73 - 1.71 \\times 0.154 < \\mu < 7.73 + 1.71 \\times 0.154 \\Rightarrow 7.4605 < \\mu < 7.9995$"
      ]
    },
    {
      "cell_type": "markdown",
      "metadata": {},
      "source": [
        "Since 8 falls outside the 90% confidence interval, it confirms the findings of the p-values. so, we reject the null hypothesis."
      ]
    },
    {
      "cell_type": "markdown",
      "metadata": {
        "id": "rS47X12qBWcT"
      },
      "source": [
        "<hr>"
      ]
    },
    {
      "cell_type": "markdown",
      "metadata": {
        "id": "_UUYPnglBWcU"
      },
      "source": [
        "### <span style='color:#2ECC71; font-family: \"Arial\", sans-serif; font-size: 1.3em; font-weight: bold;'>Question 4</span>\n",
        "\n",
        "<span style='font-family: \"Segoe UI\", Tahoma, Geneva, Verdana, sans-serif; font-size: 1.2em; font-weight: bold;'>\n",
        "\n",
        "An experiment is performed to determine whether intensive tutoring (covering a great deal of material in a fixed amount of time) is statistically different from (is more/less effective) paced tutoring (covering less material in the same amount of time). Two randomly chosen groups are tutored separately and then administered proficiency tests. Use the significance level 𝛼 = 0.05.\n",
        "\n",
        "\n",
        "</span>"
      ]
    },
    {
      "cell_type": "markdown",
      "metadata": {},
      "source": [
        "\n",
        "\n",
        "| Group | Method    | 𝑛  | 𝑥̅     | s    |\n",
        "|-------|-----------|----|--------|------|\n",
        "| 1     | Intensive | 12 | 46.31  | 6.44 |\n",
        "| 2     | Paced     | 10 | 42.79  | 7.52 |\n"
      ]
    },
    {
      "cell_type": "markdown",
      "metadata": {
        "id": "5duhcY3OBWcU"
      },
      "source": [
        "#### <span style='color:#E74C3C; font-family: \"Arial\", sans-serif; font-size: 1.1em; font-weight: bold;'>Answer</span>"
      ]
    },
    {
      "cell_type": "markdown",
      "metadata": {},
      "source": [
        "Calculate the difference between mean of two group after it we start the interference process.\n",
        "\n",
        "$\\mu_{\\text{intensive}} = \\mu_{\\text{Paced}} \\Rightarrow \\mu_{\\text{intensive}} - \\mu_{\\text{Paced}} = 0$\n",
        "\n",
        "**Hypothesis Test :**\n",
        "\n",
        "$H_0: \\mu_{\\text{intensive}} - \\mu_{\\text{Paced}} = 0 \\quad (\\text{There is no difference})$\n",
        "\n",
        "$H_A: \\mu_{\\text{intensive}} - \\mu_{\\text{Paced}} \\neq 0 \\quad (\\text{There is a difference})$\n",
        "\n",
        "\n",
        "\n",
        "$SE_{\\bar{x}_1 - \\bar{x}_2} = \\sqrt{\\frac{s_1^2}{n_1} + \\frac{s_2^2}{n_2}} = \\sqrt{\\frac{41.47}{12} + \\frac{56.55}{10}} = 3.02$\n",
        "\n",
        "**Degree of freedom :**\n",
        "\n",
        "$df = \\min(n_1 - 1, n_2 - 2) = 9$\n",
        "\n",
        "**Exact degree of freedom :**\n",
        "\n",
        "$$\n",
        "C = \\frac{\\frac{s_1^2}{n_1}}{\\frac{s_1^2}{n_1} + \\frac{s_2^2}{n_2}} = \\frac{\\frac{41.4736}{12}}{\\frac{41.4736}{12} + \\frac{56.5504}{10}} = 0.38\n",
        "$$\n",
        "\n",
        "$$\n",
        "df = \\frac{(n_1 - 1) \\times (n_2 - 2)}{(n_2 - 2) \\times C^2 + (1 - C)^2 \\times (n_1 - 1)} = \\frac{9 \\times 11}{11 \\times (0.38)^2 + (1 - 0.38)^2 \\times 9} \\approx 20\n",
        "$$\n",
        "\n",
        "$$\n",
        "T = \\frac{\\text{Observed} - \\text{Null}}{\\text{SE}} = \\frac{(x_1 - x_2) - 0}{3.02} = \\frac{46.31 - 42.79}{3.02} = 1.1655\n",
        "$$\n",
        "\n",
        "\n",
        "\n"
      ]
    },
    {
      "cell_type": "code",
      "execution_count": 1,
      "metadata": {
        "vscode": {
          "languageId": "r"
        }
      },
      "outputs": [
        {
          "name": "stdout",
          "output_type": "stream",
          "text": [
            "[1] 0.2577267\n"
          ]
        }
      ],
      "source": [
        "# Calculate the p-value\n",
        "p_value <- 2 * (1 - pt(abs(1.165), df = 20))\n",
        "\n",
        "# Print the result\n",
        "print(p_value)\n"
      ]
    },
    {
      "cell_type": "markdown",
      "metadata": {},
      "source": [
        "With α = 0.05. We conclude that, p−value > α and we can not reject the null hypothesis."
      ]
    },
    {
      "cell_type": "markdown",
      "metadata": {
        "id": "1UFyn2V8BWcV"
      },
      "source": [
        "<hr>"
      ]
    },
    {
      "cell_type": "markdown",
      "metadata": {
        "id": "J2GKlfrIBWcV"
      },
      "source": [
        "### <span style='color:#2ECC71; font-family: \"Arial\", sans-serif; font-size: 1.3em; font-weight: bold;'>Question 5</span>\n",
        "\n",
        "<span style='font-family: \"Segoe UI\", Tahoma, Geneva, Verdana, sans-serif; font-size: 1.2em; font-weight: bold;'>\n",
        "\tIn order to conduct medical research, a medical research group is seeking participants to complete short surveys about their medical history. One survey, for example, asks about a person's family history of cancer. As part of another survey, the respondent is asked what topics were discussed during their last hospital visit. According to our data, as people sign up, they complete approximately 4 surveys on average, and the standard deviation for the number of surveys is approximately 2.2. The research group wants to try a new interface that they think will encourage new enrollees to complete more surveys, where they will randomize each enrollee to either get the new interface or the current interface. How many new enrollees do they need for each interface to detect an effect size of 0.5 surveys per enrollee if the desired power level is 80%? Assume α=0.05.\n",
        "</span>\n",
        "\n"
      ]
    },
    {
      "cell_type": "markdown",
      "metadata": {
        "id": "H_Jp-9_uBWcZ"
      },
      "source": [
        "#### <span style='color:#E74C3C; font-family: \"Arial\", sans-serif; font-size: 1.1em; font-weight: bold;'>Answer</span>"
      ]
    },
    {
      "cell_type": "markdown",
      "metadata": {},
      "source": [
        "$$\n",
        "\\text{Effect size} = \\delta = \\bar{x} - \\mu = 0.5 \\quad \\alpha = 0.05 \\quad \\text{SD} = 2.2\n",
        "$$\n",
        "\n",
        "\n",
        "\n"
      ]
    },
    {
      "cell_type": "code",
      "execution_count": 6,
      "metadata": {
        "vscode": {
          "languageId": "r"
        }
      },
      "outputs": [
        {
          "name": "stdout",
          "output_type": "stream",
          "text": [
            "[1] 1.959964\n",
            "[1] 0.8416212\n"
          ]
        }
      ],
      "source": [
        "# Calculate the z-score for alpha = 0.05\n",
        "z_alpha <- qnorm(0.025, lower.tail = FALSE)\n",
        "\n",
        "# Calculate the z-score for 1 - beta = 0.8\n",
        "z_beta <- qnorm(0.8)\n",
        "\n",
        "# Print the results\n",
        "print(z_alpha)\n",
        "print(z_beta)"
      ]
    },
    {
      "cell_type": "markdown",
      "metadata": {},
      "source": [
        "$$\n",
        "\\text{Sample size (} n \\text{)} = \\frac{2 \\times \\left( z_{\\frac{\\alpha}{2}} + z_{\\beta} \\right)^2 \\times s^2}{\\sigma^2}\n",
        "$$\n",
        "\n",
        "$$\n",
        "\\text{Sample size (} n \\text{)} = \\frac{2 \\times \\left( 1.96 + 0.8416 \\right)^2 \\times (2.2)^2}{(0.5)^2}\n",
        "$$\n",
        "\n",
        "$$\n",
        "\\text{Sample size (} n \\text{)} \\approx 304\n",
        "$$\n",
        "\n",
        "\n",
        "We need 304 new enrollees."
      ]
    },
    {
      "cell_type": "markdown",
      "metadata": {
        "id": "ygFPK-nSBWcb"
      },
      "source": [
        "<hr>"
      ]
    },
    {
      "cell_type": "markdown",
      "metadata": {
        "id": "e2wZ3uNABWcb"
      },
      "source": [
        "### <span style='color:#2ECC71; font-family: \"Arial\", sans-serif; font-size: 1.3em; font-weight: bold;'>Question 6</span>\n",
        "\n",
        "<span style='font-family: \"Segoe UI\", Tahoma, Geneva, Verdana, sans-serif; font-size: 1.2em; font-weight: bold;'>\n",
        "To study the effect of cigarette smoking on platelet aggregation, researchers drew blood samples from 11 individuals before and after they smoked a cigarette and measured the percentage of blood platelet aggregation. Platelets are involved in the formation of blood clots, and it is known \n",
        "that smokers suffer from disorders involving blood clots more than non-smokers. Test the null hypothesis that the means before and after are the same. Use significance level 𝛼 = 0.05.\n",
        "\n",
        "</span>\n",
        "\n",
        "\n",
        "\n",
        "\n",
        "$$\n",
        "\\begin{array}{cc}\n",
        "\\text{Before} & \\text{After} \\\\\n",
        "\\hline\n",
        "25 & 27 \\\\\n",
        "25 & 29 \\\\\n",
        "27 & 37 \\\\\n",
        "44 & 56 \\\\\n",
        "30 & 46 \\\\\n",
        "67 & 82 \\\\\n",
        "53 & 57 \\\\\n",
        "52 & 61 \\\\\n",
        "53 & 80 \\\\\n",
        "60 & 59 \\\\\n",
        "28 & 43 \\\\\n",
        "\\end{array}\n",
        "$$\n"
      ]
    },
    {
      "cell_type": "markdown",
      "metadata": {
        "id": "kjmjouO2BWcb"
      },
      "source": [
        "#### <span style='color:#E74C3C; font-family: \"Arial\", sans-serif; font-size: 1.1em; font-weight: bold;'>Answer</span>"
      ]
    },
    {
      "cell_type": "markdown",
      "metadata": {},
      "source": [
        "**Difference between each group :**\n",
        "\n",
        "$$\n",
        "\\begin{array}{ccc}\n",
        "\\text{Before} & \\text{After} & \\text{Difference} \\\\\n",
        "\\hline\n",
        "25 & 27 & 25 - 27 = -2 \\\\\n",
        "25 & 29 & 25 - 29 = -4 \\\\\n",
        "27 & 37 & 27 - 37 = -10 \\\\\n",
        "44 & 56 & 44 - 56 = -12 \\\\\n",
        "30 & 46 & 30 - 46 = -16 \\\\\n",
        "67 & 82 & 67 - 82 = -15 \\\\\n",
        "53 & 57 & 53 - 57 = -4 \\\\\n",
        "52 & 61 & 52 - 61 = -9 \\\\\n",
        "53 & 80 & 53 - 80 = -27 \\\\\n",
        "60 & 59 & 60 - 59 = 1 \\\\\n",
        "28 & 43 & 28 - 43 = -15 \\\\\n",
        "\\end{array}\n",
        "$$\n",
        "\n",
        "**Hypothesis Test:**\n",
        "\n",
        "$$\n",
        "H_0: \\mu_{\\text{Diff}} = 0 \\quad (\\text{There is no difference}) \\\\\n",
        "H_A: \\mu_{\\text{Diff}} \\neq 0 \\quad (\\text{There is a difference})\n",
        "$$"
      ]
    },
    {
      "cell_type": "markdown",
      "metadata": {},
      "source": [
        "\n",
        "\n",
        "$$\n",
        "\\bar{x} = \\frac{-2 - 4 - 10 - 12 - 16 - 15 - 4 - 9 - 27 + 1 - 15}{11} = -10.27\n",
        "$$"
      ]
    },
    {
      "cell_type": "markdown",
      "metadata": {},
      "source": [
        "$$\n",
        "s^2 = \\frac{\\sum_{i=1}^{n} (x_i - \\bar{x})^2}{n-1}\n",
        "$$"
      ]
    },
    {
      "cell_type": "markdown",
      "metadata": {},
      "source": [
        "$$\n",
        "\\begin{aligned}\n",
        "&= \\frac{(-2 + 10.27)^2 + (-4 + 10.27)^2 + (-10 + 10.27)^2 + (-12 + 10.27)^2 + (-16 + 10.27)^2 + (-15 + 10.27)^2}{10} \\\\\n",
        "& \\quad + \\frac{(-4 + 10.27)^2 + (-9 + 10.27)^2 + (-27 + 10.27)^2 + (1 + 10.27)^2 + (-15 + 10.27)^2}{10} \\\\\n",
        "&= \\frac{636.1819}{10} \\\\\n",
        "&= 63.62\n",
        "\\end{aligned}\n",
        "$$"
      ]
    },
    {
      "cell_type": "markdown",
      "metadata": {},
      "source": [
        "$$\n",
        "\\begin{aligned}\n",
        "s &= \\sqrt{63.62} = 7.97 \\\\\n",
        "df &= n - 1 = 11 - 1 = 10 \\\\\n",
        "SE &= \\frac{s}{\\sqrt{n}} = \\frac{7.97}{\\sqrt{11}} = 2.40 \\\\\n",
        "T &= \\frac{\\text{Observed} - \\text{Null}}{SE} = \\frac{-10.27 - 0}{2.40} = -4.28\n",
        "\\end{aligned}\n",
        "$$"
      ]
    },
    {
      "cell_type": "code",
      "execution_count": 14,
      "metadata": {
        "vscode": {
          "languageId": "r"
        }
      },
      "outputs": [
        {
          "name": "stdout",
          "output_type": "stream",
          "text": [
            "[1] 0.0008056962\n"
          ]
        }
      ],
      "source": [
        "# Calculate the p-value\n",
        "p_value <-  pt(-4.28, df = 10)\n",
        "\n",
        "# Print the result\n",
        "print(p_value)\n"
      ]
    },
    {
      "cell_type": "markdown",
      "metadata": {},
      "source": [
        "Because of p−value < α and we can reject the null hypothesis."
      ]
    },
    {
      "cell_type": "markdown",
      "metadata": {
        "id": "6wp2h84UBWcg"
      },
      "source": [
        "<hr>"
      ]
    },
    {
      "cell_type": "markdown",
      "metadata": {
        "id": "KnCCjZmwBWcg"
      },
      "source": [
        "### <span style='color:#2ECC71; font-family: \"Arial\", sans-serif; font-size: 1.3em; font-weight: bold;'>Question 7</span>\n",
        "\n",
        "<span style='font-family: \"Segoe UI\", Tahoma, Geneva, Verdana, sans-serif; font-size: 1.2em; font-weight: bold;'>\n",
        "\n",
        "The table below shows the heights of 24 men above 20 years of age from US, UK and India. We are interested in whether or not a significant difference exists between the mean heights of these three different countries. Use significance level 𝛼 = 0.05.\n",
        "\n",
        "</span>"
      ]
    },
    {
      "cell_type": "markdown",
      "metadata": {},
      "source": [
        "| Country (US) | Country (UK) | Country (India) |\n",
        "|-------------|-------------|----------------|\n",
        "|     180     |     185     |      170       |\n",
        "|     183     |     181     |      183       |\n",
        "|     172     |     180     |      180       |\n",
        "|     178     |     179     |      175       |\n",
        "|     169     |     164     |      181       |\n",
        "|     179     |     173     |      183       |\n",
        "|     178     |     180     |      176       |\n",
        "|     180     |     178     |      167       |\n"
      ]
    },
    {
      "cell_type": "markdown",
      "metadata": {
        "id": "i7EvPYL5BWch"
      },
      "source": [
        "#### <span style='color:#E74C3C; font-family: \"Arial\", sans-serif; font-size: 1.1em; font-weight: bold;'>Answer</span>"
      ]
    },
    {
      "cell_type": "markdown",
      "metadata": {
        "id": "1-GFxXp_BWcj"
      },
      "source": [
        "##### <span style='color:#3498DB; font-family: \"Helvetica\", Arial, sans-serif; font-size: 1.2em; font-weight: bold;'>Part a:</span>\n",
        "\n",
        "<span style='font-family: \"Segoe UI\", Tahoma, Geneva, Verdana, sans-serif; font-size: 1.2em; font-weight: bold;'>\n",
        "Write the hypotheses for testing if the average height of three groups of men varies.\n",
        "</span>\n"
      ]
    },
    {
      "cell_type": "markdown",
      "metadata": {},
      "source": [
        "$$\n",
        "\\text{H}_0:  \\mu_{\\text{USA}} = \\mu_{\\text{UK}} = \\mu_{\\text{India}} \\text{(There is no difference in the mean height among the mentioned countries )}\n",
        "$$\n",
        "\n",
        "$$\n",
        "\\text{H}_A: \\text{(There exists a difference in the mean height among at least one pair of countries)}\n",
        "$$"
      ]
    },
    {
      "cell_type": "markdown",
      "metadata": {
        "id": "WGZbIKgNBWck"
      },
      "source": [
        "##### <span style='color:#3498DB; font-family: \"Helvetica\", Arial, sans-serif; font-size: 1.2em; font-weight: bold;'>Part b:</span>\n",
        "\n",
        "<span style='font-family: \"Segoe UI\", Tahoma, Geneva, Verdana, sans-serif; font-size: 1.2em; font-weight: bold;'>\n",
        "Calculate and conduct analysis using one-way ANOVA and complete the table.\n",
        "</span>\n"
      ]
    },
    {
      "cell_type": "markdown",
      "metadata": {},
      "source": [
        "|            |            | DF   | Sum SQ | Mean SQ | F-value |Pr(>F)   |\n",
        "|------------|------------|------|--------|---------|---------|---------|\n",
        "| Group      | Class      |      |        |         |         |         |\n",
        "| Error  | Residuals  |      |        |         |         |         |\n",
        "|       | Total      |      |        |         |         |         |"
      ]
    },
    {
      "cell_type": "markdown",
      "metadata": {},
      "source": [
        "$$\n",
        "\\bar{y}_{\\text{USA}} = \\frac{180 + 183 + 172 + 178 + 169 + 179 + 178 + 180}{8} = 177.375\n",
        "$$\n",
        "\n",
        "$$\n",
        "\\bar{y}_{\\text{UK}} = \\frac{185 + 181 + 180 + 179 + 164 + 173 + 180 + 178}{8} = 177.5\n",
        "$$\n",
        "$$\n",
        "\\bar{y}_{\\text{India}} = \\frac{170 + 183 + 180 + 175 + 181 + 183 + 176 + 167}{8} = 176.875\n",
        "$$\n",
        "\n",
        "$$\n",
        "\\bar{y} = \\frac{176.875 + 177.5 + 177.375}{3} = 177.25\n",
        "$$"
      ]
    },
    {
      "cell_type": "markdown",
      "metadata": {},
      "source": [
        "$$\n",
        "SSG = \\sum_{j=1}^{k} n_j \\times (\\bar{y}_j - \\bar{y})^2 = 8 \\times (177.375 - 177.25)^2 + 8 \\times (177.5 - 177.25)^2 + 8 \\times (176.875 - 177.25)^2 = 1.75\n",
        "$$"
      ]
    },
    {
      "cell_type": "markdown",
      "metadata": {},
      "source": [
        "\n",
        "\n",
        "$$\n",
        "SST = \\sum_{i=1}^{n} (y_i - \\bar{y})^2 = (180 - 177.25)^2 + (183 - 177.25)^2 + (172 - 177.25)^2 + ... = 686.5\n",
        "$$"
      ]
    },
    {
      "cell_type": "markdown",
      "metadata": {},
      "source": [
        "$$\n",
        "SSE = SST - SSG = 686.5 - 1.75 = 684.75\n",
        "$$"
      ]
    },
    {
      "cell_type": "markdown",
      "metadata": {},
      "source": [
        "**Degrees of freedom:**\n",
        "\n",
        "$$\n",
        " df_T\\text{(Total)} = n - 1 = 24 - 1 = 23\n",
        "$$\n",
        "\n",
        "$$\n",
        " df_G\\text{(Group)} = k - 1 = 3 - 1 = 2\n",
        "$$\n",
        "\n",
        "$$\n",
        "df_E\\text{(Error)}  = df_T - df_G = 23 - 2 = 21\n",
        "$$"
      ]
    },
    {
      "cell_type": "markdown",
      "metadata": {},
      "source": [
        "**Mean squares:**\n",
        "\n",
        "$$\n",
        "MSG\\text{(Group)}  = \\frac{SSG}{df_G} = \\frac{1.75}{2} = 0.875\n",
        "$$\n",
        "\n",
        "$$\n",
        "MSE\\text{(Error)} = \\frac{SSE}{df_E} = \\frac{684.75}{21} = 32.607\n",
        "$$"
      ]
    },
    {
      "cell_type": "markdown",
      "metadata": {},
      "source": [
        "**F-statics:**\n",
        "\n",
        "$$\n",
        "F = \\frac{MSG}{MSE} = \\frac{0.875}{32.607} = 0.02683461117\n",
        "$$"
      ]
    },
    {
      "cell_type": "markdown",
      "metadata": {},
      "source": [
        "**p-value**"
      ]
    },
    {
      "cell_type": "code",
      "execution_count": 1,
      "metadata": {
        "vscode": {
          "languageId": "r"
        }
      },
      "outputs": [
        {
          "name": "stdout",
          "output_type": "stream",
          "text": [
            "[1] 0.9735554\n"
          ]
        }
      ],
      "source": [
        "# Given values\n",
        "MSG <- 0.875\n",
        "MSE <- 32.607\n",
        "df_G <- 2\n",
        "df_E <- 21\n",
        "\n",
        "# Calculating the F-statistic\n",
        "F <- MSG / MSE\n",
        "\n",
        "# Calculating the p-value\n",
        "p_value <- pf(F, df_G, df_E, lower.tail = FALSE)\n",
        "\n",
        "# Printing the p-value\n",
        "print(p_value)\n"
      ]
    },
    {
      "cell_type": "markdown",
      "metadata": {},
      "source": [
        "**Final Result**\n",
        "\n",
        "|            |            | DF   | Sum SQ | Mean SQ | F-value |Pr(>F)   |\n",
        "|------------|------------|------|--------|---------|---------|---------|\n",
        "| Group      | Class      |    2  |   1.75     |  0.875       |  0.02683461117       |     0.9735    |\n",
        "| Error  | Residuals  |   21   |   684.75     |   32.607      |         |         |\n",
        "|       | Total      |   23   |   686.5     |         |         |         |"
      ]
    },
    {
      "cell_type": "markdown",
      "metadata": {
        "id": "vI6Qh4w0BWck"
      },
      "source": [
        "##### <span style='color:#3498DB; font-family: \"Helvetica\", Arial, sans-serif; font-size: 1.2em; font-weight: bold;'>Part c:</span>\n",
        "\n",
        "<span style='font-family: \"Segoe UI\", Tahoma, Geneva, Verdana, sans-serif; font-size: 1.2em; font-weight: bold;'>\n",
        "What is the conclusion of the test?\n",
        "</span>\n"
      ]
    },
    {
      "cell_type": "markdown",
      "metadata": {},
      "source": [
        "The p-value is relatively large (p-value > α), indicating that we fail to reject the null hypothesis. "
      ]
    },
    {
      "cell_type": "markdown",
      "metadata": {},
      "source": [
        "<hr>"
      ]
    },
    {
      "cell_type": "markdown",
      "metadata": {},
      "source": [
        "### <span style='color:#2ECC71; font-family: \"Arial\", sans-serif; font-size: 1.3em; font-weight: bold;'>Question 8</span>\n",
        "\n",
        "<span style='font-family: \"Segoe UI\", Tahoma, Geneva, Verdana, sans-serif; font-size: 1.2em; font-weight: bold;'>\n",
        "\n",
        "The dataset “Diet” contains information about 78 people who began to follow 3 different types of diets (referred to as diets A, B, and C). This exercise aims to see which diet is most effective at losing weight.\n",
        "\n",
        "</span>"
      ]
    },
    {
      "cell_type": "markdown",
      "metadata": {},
      "source": [
        "#### <span style='color:#E74C3C; font-family: \"Arial\", sans-serif; font-size: 1.1em; font-weight: bold;'>Answer</span>"
      ]
    },
    {
      "cell_type": "markdown",
      "metadata": {},
      "source": [
        "##### <span style='color:#3498DB; font-family: \"Helvetica\", Arial, sans-serif; font-size: 1.2em; font-weight: bold;'>Part a:</span>\n",
        "\n",
        "<span style='font-family: \"Segoe UI\", Tahoma, Geneva, Verdana, sans-serif; font-size: 1.2em; font-weight: bold;'>\n",
        "Plot the three group’s data using side-by-side boxplots.\n",
        "</span>\n"
      ]
    },
    {
      "cell_type": "code",
      "execution_count": 12,
      "metadata": {
        "vscode": {
          "languageId": "r"
        }
      },
      "outputs": [
        {
          "data": {
            "image/png": "[encoded data removed]",
            "text/plain": [
              "plot without title"
            ]
          },
          "metadata": {
            "image/png": {
              "height": 420,
              "width": 420
            }
          },
          "output_type": "display_data"
        }
      ],
      "source": [
        "# Load required library\n",
        "library(ggplot2)\n",
        "\n",
        "# Read the dataset from CSV\n",
        "diet_data <- read.csv(\"diet.csv\")\n",
        "\n",
        "# Create side-by-side boxplot\n",
        "ggplot(diet_data, aes(x = diet.type, y = initial.weight - final.weight, fill = diet.type)) +\n",
        "  geom_boxplot() +\n",
        "  labs(title = \"Weight Loss Comparison by Diet Type\",\n",
        "       x = \"Diet Type\",\n",
        "       y = \"Weight Loss\") +\n",
        "  theme_minimal()\n"
      ]
    },
    {
      "cell_type": "code",
      "execution_count": 13,
      "metadata": {
        "vscode": {
          "languageId": "r"
        }
      },
      "outputs": [
        {
          "data": {
            "image/png": "[encoded data removed]",
            "text/plain": [
              "plot without title"
            ]
          },
          "metadata": {
            "image/png": {
              "height": 420,
              "width": 420
            }
          },
          "output_type": "display_data"
        }
      ],
      "source": [
        "# Load required library\n",
        "library(ggplot2)\n",
        "\n",
        "# Create side-by-side boxplot for age\n",
        "ggplot(diet_data, aes(x = diet.type, y = age, fill = diet.type)) +\n",
        "  geom_boxplot() +\n",
        "  labs(title = \"Age Comparison by Diet Type\",\n",
        "       x = \"Diet Type\",\n",
        "       y = \"Age\") +\n",
        "  theme_minimal()\n"
      ]
    },
    {
      "cell_type": "markdown",
      "metadata": {},
      "source": [
        "##### <span style='color:#3498DB; font-family: \"Helvetica\", Arial, sans-serif; font-size: 1.2em; font-weight: bold;'>Part b:</span>\n",
        "\n",
        "<span style='font-family: \"Segoe UI\", Tahoma, Geneva, Verdana, sans-serif; font-size: 1.2em; font-weight: bold;'>\n",
        "Use ANOVA in R to determine whether there is a significant difference in the mean weight loss between groups.\n",
        "</span>\n"
      ]
    },
    {
      "cell_type": "code",
      "execution_count": 14,
      "metadata": {
        "vscode": {
          "languageId": "r"
        }
      },
      "outputs": [
        {
          "data": {
            "text/plain": [
              "            Df Sum Sq Mean Sq F value Pr(>F)   \n",
              "diet.type    2   60.5  30.264   5.383 0.0066 **\n",
              "Residuals   73  410.4   5.622                  \n",
              "---\n",
              "Signif. codes:  0 '***' 0.001 '**' 0.01 '*' 0.05 '.' 0.1 ' ' 1"
            ]
          },
          "metadata": {},
          "output_type": "display_data"
        }
      ],
      "source": [
        "# Calculate the difference in mean weight loss\n",
        "diet_data$weight_loss <- diet_data$initial.weight - diet_data$final.weight\n",
        "\n",
        "# Perform ANOVA\n",
        "anova_result <- aov(weight_loss ~ diet.type, data = diet_data)\n",
        "\n",
        "summary(anova_result)"
      ]
    },
    {
      "cell_type": "markdown",
      "metadata": {},
      "source": [
        "##### <span style='color:#3498DB; font-family: \"Helvetica\", Arial, sans-serif; font-size: 1.2em; font-weight: bold;'>Part c:</span>\n",
        "\n",
        "<span style='font-family: \"Segoe UI\", Tahoma, Geneva, Verdana, sans-serif; font-size: 1.2em; font-weight: bold;'>\n",
        "Display and analyze the results.\n",
        "</span>\n"
      ]
    },
    {
      "cell_type": "markdown",
      "metadata": {},
      "source": [
        "The obtained p-value of 0.0066 is statistically significant at the α=0.05 level. As the p-value is less than the chosen significance level, we reject the null hypothesis (H0). Hence, we can infer that there exists a difference in the mean weight loss among at least one pair of the considered diet groups."
      ]
    },
    {
      "cell_type": "markdown",
      "metadata": {},
      "source": [
        "##### <span style='color:#3498DB; font-family: \"Helvetica\", Arial, sans-serif; font-size: 1.2em; font-weight: bold;'>Part d:</span>\n",
        "\n",
        "<span style='font-family: \"Segoe UI\", Tahoma, Geneva, Verdana, sans-serif; font-size: 1.2em; font-weight: bold;'>\n",
        "Compare the weight loss between the two groups in R and:\n",
        "\n",
        "- Write the hypothesis.\n",
        "- Report the level of significance of the test and the decision about the hypothesis.\n",
        "- Estimate the size of the difference in the mean drop; use 𝛼=0.05.\n",
        "\n",
        "</span>\n"
      ]
    },
    {
      "cell_type": "markdown",
      "metadata": {},
      "source": [
        "\n",
        "$$\n",
        "H_0: \\text{There is no difference in the mean weight loss among the specified diet groups. } \\mu_1 = \\mu_2 = \\mu_3\n",
        "$$\n",
        "\n",
        "$$\n",
        "H_A: \\text{There exists a difference in the mean weight loss among at least one pair of the specified diet groups.}\n",
        "$$"
      ]
    },
    {
      "cell_type": "code",
      "execution_count": 10,
      "metadata": {
        "vscode": {
          "languageId": "r"
        }
      },
      "outputs": [
        {
          "name": "stdout",
          "output_type": "stream",
          "text": [
            "Level of significance (alpha): 0.05 \n",
            "p-value: 0.006595853 \n",
            "Decision about the hypothesis: Reject H0 \n"
          ]
        }
      ],
      "source": [
        "# Read the dataset from CSV\n",
        "diet_data <- read.csv(\"diet.csv\")\n",
        "\n",
        "# Calculate the difference in mean weight loss\n",
        "diet_data$weight_loss <- diet_data$initial.weight - diet_data$final.weight\n",
        "\n",
        "# Perform ANOVA\n",
        "anova_result <- aov(weight_loss ~ diet.type, data = diet_data)\n",
        "\n",
        "# Get the p-value from ANOVA results\n",
        "p_value <- summary(anova_result)[[1]]$`Pr(>F)`[1]\n",
        "\n",
        "# Set the significance level\n",
        "alpha <- 0.05\n",
        "\n",
        "# Decision about the hypothesis\n",
        "if (p_value < alpha) {\n",
        "  decision <- \"Reject H0\"\n",
        "} else {\n",
        "  decision <- \"Fail to reject H0\"\n",
        "}\n",
        "\n",
        "# Report the level of significance and decision\n",
        "cat(\"Level of significance (alpha):\", alpha, \"\\n\")\n",
        "cat(\"p-value:\", p_value, \"\\n\")\n",
        "cat(\"Decision about the hypothesis:\", decision, \"\\n\")\n"
      ]
    },
    {
      "cell_type": "markdown",
      "metadata": {},
      "source": [
        "Now we need to use `Bonferroni correction` for pair-wise comparison,so :\n",
        "\n",
        "$\\alpha^* = \\frac{\\alpha}{3} = 0.0167$\n",
        "\n",
        "But in R we have a paramether to control this.\n"
      ]
    },
    {
      "cell_type": "code",
      "execution_count": 29,
      "metadata": {
        "vscode": {
          "languageId": "r"
        }
      },
      "outputs": [
        {
          "data": {
            "text/plain": [
              "\n",
              "\tPairwise comparisons using t tests with non-pooled SD \n",
              "\n",
              "data:  diet_data$weight_loss and diet_data$diet.type \n",
              "\n",
              "  A     B    \n",
              "B 1.000 -    \n",
              "C 0.019 0.023\n",
              "\n",
              "P value adjustment method: bonferroni "
            ]
          },
          "metadata": {},
          "output_type": "display_data"
        }
      ],
      "source": [
        "# With Bonferroni correction\n",
        "pairwise.t.test(diet_data$weight_loss, diet_data$diet.type, p.adj = \"bonf\", pool.sd = FALSE)\n"
      ]
    },
    {
      "cell_type": "markdown",
      "metadata": {},
      "source": [
        "**Group A and B**\n",
        "$$\n",
        "H_0: \\text{The mean weight loss in group A and group B is the same. } \\mu_1 - \\mu_2 = 0\n",
        "$$\n",
        "\n",
        "$$\n",
        "H_A: \\text{The mean weight loss in group A and group B is not the same. } \\mu_1 - \\mu_2 \\neq 0\n",
        "$$\n",
        "\n",
        "p-value in comparison between group A and B is 1 which is bigger than α=0.05 and we can not reject the H0."
      ]
    },
    {
      "cell_type": "markdown",
      "metadata": {},
      "source": [
        "**Group A and C**\n",
        "$$\n",
        "H_0: \\text{The mean weight loss in group A and group B is the same. } \\mu_1 - \\mu_3 = 0\n",
        "$$\n",
        "\n",
        "$$\n",
        "H_A: \\text{The mean weight loss in group A and group B is not the same. } \\mu_1 - \\mu_3 \\neq 0\n",
        "$$\n",
        "\n",
        "p-value in comparison between group A and B is 0.019 which is lower than α=0.05 and we can reject the H0."
      ]
    },
    {
      "cell_type": "markdown",
      "metadata": {},
      "source": [
        "**Group B and C**\n",
        "$$\n",
        "H_0: \\text{The mean weight loss in group A and group B is the same. } \\mu_2 - \\mu_3 = 0\n",
        "$$\n",
        "\n",
        "$$\n",
        "H_A: \\text{The mean weight loss in group A and group B is not the same. } \\mu_2 - \\mu_3 \\neq 0\n",
        "$$\n",
        "\n",
        "p-value in comparison between group A and B is 0.023 which is lower than α=0.05 and we can reject the H0."
      ]
    }
  ],
  "metadata": {
    "colab": {
      "collapsed_sections": [
        "KQbRmJCrBWbi",
        "u4gFy0JTBWcO",
        "VrLL7kfNBWcQ",
        "_UUYPnglBWcU",
        "J2GKlfrIBWcV",
        "e2wZ3uNABWcb",
        "KnCCjZmwBWcg",
        "i7EvPYL5BWch"
      ],
      "provenance": [],
      "toc_visible": true
    },
    "kernelspec": {
      "display_name": "R",
      "language": "R",
      "name": "ir"
    },
    "language_info": {
      "codemirror_mode": "r",
      "file_extension": ".r",
      "mimetype": "text/x-r-source",
      "name": "R",
      "pygments_lexer": "r",
      "version": "4.2.2"
    }
  },
  "nbformat": 4,
  "nbformat_minor": 0
}
