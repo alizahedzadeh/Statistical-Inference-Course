{
  "cells": [
    {
      "cell_type": "markdown",
      "metadata": {
        "id": "BcCCabvWBWbd"
      },
      "source": [
        "# <span style='font-family: \"Georgia\", Times, \"Times New Roman\", serif; color:#3498DB;'>**Statistical Inference Course (Spring 2024)**</span>\n",
        "\n",
        "## <span style='font-family: \"Helvetica Neue\", Helvetica, Arial, sans-serif; color:#2E86C1;'>**Homework 5**</span>\n",
        "\n",
        "<hr>\n",
        "\n",
        "### <span style='font-family: \"Courier New\", Courier, monospace; color:#27AE30;'>**Professor**</span>\n",
        "\n",
        "*   Dr. Behnam Bahrak\n",
        "\n",
        "### <span style='font-family: \"Courier New\", Courier, monospace; color:#E67E22;'>**Student**</span>\n",
        "\n",
        "*   Ali Zahedzadeh\n"
      ]
    },
    {
      "cell_type": "markdown",
      "metadata": {
        "id": "cdqq_CHkBWbh"
      },
      "source": [
        "<hr>"
      ]
    },
    {
      "cell_type": "markdown",
      "metadata": {
        "id": "KQbRmJCrBWbi"
      },
      "source": [
        "### <span style='color:#2ECC71; font-family: \"Arial\", sans-serif; font-size: 1.3em; font-weight: bold;'>Question 1</span>\n",
        "\n",
        "<span style='font-family: \"Segoe UI\", Tahoma, Geneva, Verdana, sans-serif; font-size: 1.2em; font-weight: bold;'>\n",
        "    The General Social Survey asked a random sample of 1,390 Americans the following question: “On the whole, do you think it should or should not be the government’s responsibility to promote equality between men and women?” 82% of the respondents said it “should be”. At a 95% confidence level, this sample has 2% margin of error. Based on this information, determine if the following statements are true or false, and explain your reasoning.\n",
        "\n",
        "</span>\n",
        "\n"
      ]
    },
    {
      "cell_type": "markdown",
      "metadata": {
        "id": "ScxC6X7XBWbi"
      },
      "source": [
        "#### <span style='color:#E74C3C; font-family: \"Arial\", sans-serif; font-size: 1.1em; font-weight: bold;'>Answer</span>"
      ]
    },
    {
      "cell_type": "markdown",
      "metadata": {},
      "source": [
        "$$\n",
        "\\hat{p} = 0.82, \\quad n = 1390 \\quad \\text{ME} = Z_{1-\\alpha/2} \\times \\sqrt{\\frac{\\hat{p}(1 - \\hat{p})}{n}} = 0.02\n",
        "$$\n",
        "\n",
        "$$\n",
        "82 - 2 < \\hat{p} < 82 + 2 \\implies 80 < \\hat{p} < 84\n",
        "$$\n",
        "\n",
        "\n",
        "\n"
      ]
    },
    {
      "cell_type": "markdown",
      "metadata": {},
      "source": [
        "##### <span style='color:#3498DB; font-family: \"Helvetica\", Arial, sans-serif; font-size: 1.2em; font-weight: bold;'>Part a:</span>\n",
        "\n",
        "<span style='font-family: \"Segoe UI\", Tahoma, Geneva, Verdana, sans-serif; font-size: 1.2em; font-weight: bold;'>\n",
        "    We are 95% confident that between 80% and 84% of Americans in this sample think it’s the government’s responsibility to promote equality between men and women.\n",
        "</span>\n",
        "\n",
        "\n"
      ]
    },
    {
      "cell_type": "markdown",
      "metadata": {},
      "source": [
        "**False.**\n",
        "\n",
        "The purpose of constructing a confidence interval is to estimate the population proportion, rather than solely the sample proportion. Thus, it's correct  to say as: We are 95% confident that between 82% and 84% of `all` Americans believe it is the government's responsibility to promote equality between men and women."
      ]
    },
    {
      "cell_type": "markdown",
      "metadata": {},
      "source": [
        "##### <span style='color:#3498DB; font-family: \"Helvetica\", Arial, sans-serif; font-size: 1.2em; font-weight: bold;'>Part b:</span>\n",
        "\n",
        "<span style='font-family: \"Segoe UI\", Tahoma, Geneva, Verdana, sans-serif; font-size: 1.2em; font-weight: bold;'>\n",
        "    We are 95% confident that between 80% and 84% of all Americans think it’s the government’s responsibility to promote equality between men and women.\n",
        "</span>\n",
        "\n",
        "\n"
      ]
    },
    {
      "cell_type": "markdown",
      "metadata": {},
      "source": [
        "**True.**\n",
        "\n",
        "We are 95% confident that between 82% and 84% of `all` Americans believe it is the government's responsibility to promote equality between men and women."
      ]
    },
    {
      "cell_type": "markdown",
      "metadata": {},
      "source": [
        "##### <span style='color:#3498DB; font-family: \"Helvetica\", Arial, sans-serif; font-size: 1.2em; font-weight: bold;'>Part c:</span>\n",
        "\n",
        "<span style='font-family: \"Segoe UI\", Tahoma, Geneva, Verdana, sans-serif; font-size: 1.2em; font-weight: bold;'>\n",
        "    If we considered many random samples of 1,390 Americans, and we calculated 95% confidence intervals for each, 95% of these intervals would include the true population proportion of Americans who think it’s the government’s responsibility to promote equality between men and women.\n",
        "</span>\n",
        "\n",
        "\n"
      ]
    },
    {
      "cell_type": "markdown",
      "metadata": {},
      "source": [
        "**True.** \n",
        "\n",
        "This is the definition of sampling by simulation."
      ]
    },
    {
      "cell_type": "markdown",
      "metadata": {},
      "source": [
        "##### <span style='color:#3498DB; font-family: \"Helvetica\", Arial, sans-serif; font-size: 1.2em; font-weight: bold;'>Part d:</span>\n",
        "\n",
        "<span style='font-family: \"Segoe UI\", Tahoma, Geneva, Verdana, sans-serif; font-size: 1.2em; font-weight: bold;'>\n",
        "    In order to decrease the margin of error to 1%, we would need to quadruple (multiply by 4) the sample size.\n",
        "</span>\n",
        "\n",
        "\n"
      ]
    },
    {
      "cell_type": "markdown",
      "metadata": {},
      "source": [
        "**True.** \n",
        "\n",
        " Since $\\text{ME} \\propto \\frac{1}{\\sqrt{n}}$ to halve the CI, we should quadruple (4 times) the sample size (n)."
      ]
    },
    {
      "cell_type": "markdown",
      "metadata": {},
      "source": [
        "##### <span style='color:#3498DB; font-family: \"Helvetica\", Arial, sans-serif; font-size: 1.2em; font-weight: bold;'>Part e:</span>\n",
        "\n",
        "<span style='font-family: \"Segoe UI\", Tahoma, Geneva, Verdana, sans-serif; font-size: 1.2em; font-weight: bold;'>\n",
        "    Based on this confidence interval, there is sufficient evidence to conclude that a majority of Americans think it’s the government’s responsibility to promote equality between men and women.\n",
        "</span>\n",
        "\n",
        "\n"
      ]
    },
    {
      "cell_type": "markdown",
      "metadata": {},
      "source": [
        "**True.** \n",
        "\n",
        "We are 95% confident that Americans believe it is the government's responsibility to promote equality between men and women."
      ]
    },
    {
      "cell_type": "markdown",
      "metadata": {
        "id": "sulw4lP5BWcO"
      },
      "source": [
        "<hr>"
      ]
    },
    {
      "cell_type": "markdown",
      "metadata": {
        "id": "u4gFy0JTBWcO"
      },
      "source": [
        "### <span style='color:#2ECC71; font-family: \"Arial\", sans-serif; font-size: 1.3em; font-weight: bold;'>Question 3</span>\n",
        "\n",
        "<span style='font-family: \"Segoe UI\", Tahoma, Geneva, Verdana, sans-serif; font-size: 1.2em; font-weight: bold;'>\n",
        "\n",
        "In July 2008, the US National Institutes of Health announced that it was stopping a clinical study \n",
        "early  because  of  unexpected  results.  The  study  population  consisted  of  HIV-infected  women  in \n",
        "sub-Saharan Africa who had been given a single dose of Nevirapine (a treatment for HIV) while \n",
        "giving birth to prevent transmission of HIV to the infant. The study was a randomized comparison \n",
        "of continued treatment of a woman (after successful childbirth) with Nevirapine vs. Lopinavir, a \n",
        "second drug used to treat HIV. 240 women participated in the study; 120 were randomized to each \n",
        "of the two treatments. Twenty-four weeks after starting the study treatment, each woman was tested \n",
        "to determine if the HIV infection was becoming worse (an outcome called virologic failure). 26 of \n",
        "the 120 women treated with Nevirapine experienced virologic failure, while 10 of the 120 women \n",
        "treated with the other drug experienced virologic failure.\n",
        "\n",
        "</span>"
      ]
    },
    {
      "cell_type": "markdown",
      "metadata": {
        "id": "GPJcgozFBWcP"
      },
      "source": [
        "#### <span style='color:#E74C3C; font-family: \"Arial\", sans-serif; font-size: 1.1em; font-weight: bold;'>Answer</span>"
      ]
    },
    {
      "cell_type": "markdown",
      "metadata": {},
      "source": [
        "##### <span style='color:#3498DB; font-family: \"Helvetica\", Arial, sans-serif; font-size: 1.2em; font-weight: bold;'>Part a:</span>\n",
        "\n",
        "<span style='font-family: \"Segoe UI\", Tahoma, Geneva, Verdana, sans-serif; font-size: 1.2em; font-weight: bold;'>\n",
        "    Create a two-way table presenting the results of this study.\n",
        "</span>\n",
        "\n",
        "\n"
      ]
    },
    {
      "cell_type": "markdown",
      "metadata": {},
      "source": [
        "| $Name$       | $Yes$ | $No$  | $Total$ | $\\hat{p}$   | $p_{pool}$   |\n",
        "|------------|-----|-----|-------|-----------------|----------------|\n",
        "| $Nevirapine$  |  $26$ | $94$ |   $120$ | $\\frac{26}{36}$| $\\frac{36}{120}$ |\n",
        "| $Lopinavir$ |  $10$ |  $110$ |   $120$ | $\\frac{10}{36}$|                |\n",
        "| **Total**  |  $36$ | $204$ |   $240$ | $1$             |                |\n"
      ]
    },
    {
      "cell_type": "markdown",
      "metadata": {},
      "source": [
        "##### <span style='color:#3498DB; font-family: \"Helvetica\", Arial, sans-serif; font-size: 1.2em; font-weight: bold;'>Part b:</span>\n",
        "\n",
        "<span style='font-family: \"Segoe UI\", Tahoma, Geneva, Verdana, sans-serif; font-size: 1.2em; font-weight: bold;'>\n",
        "    State  appropriate  hypotheses  to  test  for  difference  in  virologic  failure  rates  between \n",
        "treatment groups. \n",
        "\n",
        "</span>\n",
        "\n",
        "\n"
      ]
    },
    {
      "cell_type": "markdown",
      "metadata": {},
      "source": [
        "**Hypotheses:**\n",
        "\n",
        "- $H_0: p_{f\\_Nevaripine} = p_{f\\_Lopinavir}$ : There is no significant difference in the rates of virologic failure between the use of Lopinavir and Nevaripine.\n",
        "- $H_A: p_{f\\_Nevaripine} \\neq p_{f\\_Lopinavir}$ : There is a significant difference in the rates of virologic failure between the use of Lopinavir and Nevaripine.\n"
      ]
    },
    {
      "cell_type": "markdown",
      "metadata": {},
      "source": [
        "##### <span style='color:#3498DB; font-family: \"Helvetica\", Arial, sans-serif; font-size: 1.2em; font-weight: bold;'>Part c:</span>\n",
        "\n",
        "<span style='font-family: \"Segoe UI\", Tahoma, Geneva, Verdana, sans-serif; font-size: 1.2em; font-weight: bold;'>\n",
        "    Complete the hypothesis test and state an appropriate conclusion. (Reminder: Verify any \n",
        "necessary conditions for the test.)\n",
        "</span>\n",
        "\n",
        "\n"
      ]
    },
    {
      "cell_type": "markdown",
      "metadata": {},
      "source": [
        "Before proceeding, we need to verify the conditions for the Central Limit Theorem (CLI):\n",
        "\n",
        "- **Independence:**\n",
        "  - Within groups: Sampled observations should be independent within each group.\n",
        "    - Women have been randomly assigned to each treatment group.\n",
        "    - Sampling is done without replacement, and the sample size is less than 10% of the total population of women.\n",
        "  - Between groups: The two treatment groups should be independent of each other.\n",
        "\n",
        "- **Sample size/skew:**\n",
        "  - Each sample should satisfy the success-failure condition:\n",
        "    - For the first group $ n_1 $:\n",
        "      - $ n_1 \\cdot p_{pool} \\geq 10  \\quad and \\quad  n_1 \\cdot (1 - p_{pool}) \\geq 10 $\n",
        "      - $ 120 \\cdot \\frac{36}{240} = 18 > 10  \\quad and \\quad 120 \\cdot \\frac{204}{240} = 102 > 10 $\n",
        "    - For the second group $ n_2 $:\n",
        "      - $ n_2 \\cdot p_{pool} \\geq 10  \\quad and \\quad  n_2 \\cdot (1 - p_{pool}) \\geq 10 $\n",
        "      - $ 120 \\cdot \\frac{36}{240} = 18 > 10 \\quad and \\quad 120 \\cdot \\frac{204}{240} = 102 > 10 $\n"
      ]
    },
    {
      "cell_type": "markdown",
      "metadata": {},
      "source": [
        "$$\\hat{p}_1 = \\frac{26}{36}, \\quad \\hat{p}_2 = \\frac{10}{36}, \\quad p_{\\text{pool}} = \\frac{36}{240}$$\n"
      ]
    },
    {
      "cell_type": "markdown",
      "metadata": {},
      "source": [
        "$$\n",
        "\\begin{align*}\n",
        "SE &= \\sqrt{\\frac{P_{\\text{pool}}(1-P_{\\text{pool}})}{n_1} + \\frac{P_{\\text{pool}}(1-P_{\\text{pool}})}{n_2}} \\\\\n",
        "&= \\sqrt{\\frac{\\frac{36}{240} \\cdot (1 - \\frac{36}{240})}{120} + \\frac{\\frac{36}{240} \\cdot (1 - \\frac{36}{240})}{120}} \\\\\n",
        "&= 0.046\n",
        "\\end{align*}\n",
        "\n",
        "\n",
        "$$"
      ]
    },
    {
      "cell_type": "markdown",
      "metadata": {},
      "source": [
        "$$\n",
        "\\begin{align*}\n",
        "Z &= \\frac{\\text{observation} - \\text{null}}{SE} \\\\\n",
        "&= \\frac{\\frac{26}{120} - \\frac{10}{120} - 0}{0.046} \\\\\n",
        "&= 2.89\n",
        "\\end{align*}\n",
        "$$"
      ]
    },
    {
      "cell_type": "code",
      "execution_count": 2,
      "metadata": {
        "vscode": {
          "languageId": "r"
        }
      },
      "outputs": [
        {
          "data": {
            "text/html": [
              "0.00192620913218786"
            ],
            "text/latex": [
              "0.00192620913218786"
            ],
            "text/markdown": [
              "0.00192620913218786"
            ],
            "text/plain": [
              "[1] 0.001926209"
            ]
          },
          "metadata": {},
          "output_type": "display_data"
        }
      ],
      "source": [
        "pnorm(2.89, lower.tail = FALSE)"
      ]
    },
    {
      "cell_type": "markdown",
      "metadata": {},
      "source": [
        "If we consider 𝛼 = 0.05 so :\n",
        "\n",
        "𝑝−𝑣𝑎𝑙𝑢𝑒 < 𝛼 = 0.05 ⇒ Hence, there is compelling evidence to reject $H_0$. This indicates a notable distinction in the proportion of virologic failures between individuals treated with Nevirapine and those administered Lopinavir"
      ]
    },
    {
      "cell_type": "markdown",
      "metadata": {
        "id": "Ng5AP3DABWcQ"
      },
      "source": [
        "<hr>"
      ]
    },
    {
      "cell_type": "markdown",
      "metadata": {
        "id": "VrLL7kfNBWcQ"
      },
      "source": [
        "### <span style='color:#2ECC71; font-family: \"Arial\", sans-serif; font-size: 1.3em; font-weight: bold;'>Question 4</span>\n",
        "\n",
        "<span style='font-family: \"Segoe UI\", Tahoma, Geneva, Verdana, sans-serif; font-size: 1.2em; font-weight: bold;'>\n",
        "\n",
        "Two  different  question  phrasings  are  being  used  to  compare  the  2010  healthcare  law  approval. \n",
        "Depending  on  how  a  question  is  phrased,  a  person  may  respond  differently.  For  instance,  Pew \n",
        "Research Center conducted a survey with the following question: \n",
        " \n",
        "As you  may know, by  2014, nearly all Americans  will be  required to have  health insurance. \n",
        "[People who do not buy insurance will pay a penalty] while [People who cannot afford it will \n",
        "receive financial help from the government]. Do you approve or disapprove of this policy? \n",
        " \n",
        "For each randomly sampled respondent, the statements in brackets were randomized: either they \n",
        "were  kept  in  the  order  given  above,  or  the  two  statements  were  reversed.  The  following  table \n",
        "shows  the  results  of  this  experiment.  Create  and  interpret  a  90%  confidence  interval  of  the \n",
        "difference in approval.\n",
        "</span>"
      ]
    },
    {
      "cell_type": "markdown",
      "metadata": {},
      "source": [
        "|        | Sample size (ni)  | Approve law (%)  | Disapprove law (%) | Other    |\n",
        "|------------|-----|-----|-------|-----------------|\n",
        "| \"People who cannot afford it will receive financial help from the government\" is given second  |  771 | 47 |   49 | 4|\n",
        "| \"People who do not buy it will pay a penalty\" is given second |  732 |  34 |   63 | 3|\n",
        "\n"
      ]
    },
    {
      "cell_type": "markdown",
      "metadata": {
        "id": "ZlAUWUm_BWcR"
      },
      "source": [
        "#### <span style='color:#E74C3C; font-family: \"Arial\", sans-serif; font-size: 1.1em; font-weight: bold;'>Answer</span>"
      ]
    },
    {
      "cell_type": "markdown",
      "metadata": {},
      "source": [
        "Before proceeding, we need to verify the conditions for the Central Limit Theorem (CLI):\n",
        "\n",
        "- **Independence:**\n",
        "  - Within groups: Sampled observations should be independent within each group.\n",
        "    - The statements enclosed in brackets were randomly allocated to each respondent.\n",
        "    - The sampling method employed is without replacement, and the sample size accounts for less than 10% of the population.\n",
        "  - Between groups: The two groups of the respondent are independent of each other\n",
        "\n",
        "- **Sample size/skew:**\n",
        "  - Each sample should satisfy the success-failure condition:\n",
        "    - For the first group $ n_1 $:\n",
        "      - $ n_1 \\cdot \\hat{p} \\geq 10  \\quad and \\quad  n_1 \\cdot (1 - \\hat{p}) \\geq 10 $\n",
        "      - $ 771 \\cdot \\frac{47}{100} = 362.37 > 10  \\quad and \\quad 771 \\cdot \\frac{53}{100} = 408.63 > 10 $\n",
        "    - For the second group $ n_2 $:\n",
        "      - $ n_2 \\cdot \\hat{p} \\geq 10  \\quad and \\quad  n_2 \\cdot (1 - \\hat{p}) \\geq 10 $\n",
        "      - $ 732 \\cdot \\frac{34}{100} = 248.88 > 10 \\quad and \\quad 732 \\cdot \\frac{66}{100} = 483.12 > 10 $\n",
        "\n",
        "**Now we can use Central Limit Theorem (CLI)**"
      ]
    },
    {
      "cell_type": "markdown",
      "metadata": {},
      "source": [
        "$$\n",
        "\\begin{align*}\n",
        "SE &= \\sqrt{\\frac{\\hat{p}_{\\text{1}}(1-\\hat{p}_{\\text{1}})}{n_1} + \\frac{\\hat{p}_{\\text{2}}(1-\\hat{p}_{\\text{2}})}{n_2}} \\\\\n",
        "&= \\sqrt{\\frac{\\frac{47}{100} \\cdot (1 - \\frac{47}{100})}{771} + \\frac{\\frac{34}{100} \\cdot (1 - \\frac{34}{100})}{732}} \\\\\n",
        "&= 0.025\n",
        "\\end{align*}\n",
        "\n",
        "\n",
        "$$"
      ]
    },
    {
      "cell_type": "markdown",
      "metadata": {},
      "source": [
        "**For 90% confidence interval we have `z_score`**"
      ]
    },
    {
      "cell_type": "code",
      "execution_count": 2,
      "metadata": {
        "vscode": {
          "languageId": "r"
        }
      },
      "outputs": [
        {
          "data": {
            "text/html": [
              "1.64485362695147"
            ],
            "text/latex": [
              "1.64485362695147"
            ],
            "text/markdown": [
              "1.64485362695147"
            ],
            "text/plain": [
              "[1] 1.644854"
            ]
          },
          "metadata": {},
          "output_type": "display_data"
        }
      ],
      "source": [
        "qnorm(0.95)"
      ]
    },
    {
      "cell_type": "markdown",
      "metadata": {},
      "source": [
        "$(\\hat{p}_2 - \\hat{p}_1) \\pm z^{*} \\cdot SE = (0.47 - 0.34) \\pm 1.64 \\cdot 0.025 \\Rightarrow (0.0887, 0.1713)$\n"
      ]
    },
    {
      "cell_type": "markdown",
      "metadata": {},
      "source": [
        "We have a 90% confidence interval suggesting that the approval rating for the 2010 healthcare law changes falls within the range of 0.8% to 17%, influenced by the sequence in which the survey questions were presented."
      ]
    },
    {
      "cell_type": "markdown",
      "metadata": {
        "id": "rS47X12qBWcT"
      },
      "source": [
        "<hr>"
      ]
    },
    {
      "cell_type": "markdown",
      "metadata": {
        "id": "_UUYPnglBWcU"
      },
      "source": [
        "### <span style='color:#2ECC71; font-family: \"Arial\", sans-serif; font-size: 1.3em; font-weight: bold;'>Question 5</span>\n",
        "\n",
        "<span style='font-family: \"Segoe UI\", Tahoma, Geneva, Verdana, sans-serif; font-size: 1.2em; font-weight: bold;'>\n",
        "\n",
        "Rock-paper-scissors is a hand game played by two or more people where players choose to sign \n",
        "either rock, paper, or scissors with their hands. For your statistics class project, you want to evaluate \n",
        "whether  players  choose  between  these  three  options  randomly,  or  if  certain  options  are  favored \n",
        "above others. You ask two friends to play rock-paper-scissors and count the times each option is \n",
        "played. The following table summarizes the data.\n",
        "\n",
        "|       | Rock | Scissors | Paper |\n",
        "|-------|------|----------|-------|\n",
        "| Count | 43   | 21       | 35    |\n",
        "\n",
        "\n",
        "Use  these  data  to  evaluate  whether  players  choose  between  these  three  options  randomly,  or  if \n",
        "certain options are favored above others. Make sure to clearly outline each step of your analysis, \n",
        "and interpret your result in the context of the data and the research question. \n",
        "</span>"
      ]
    },
    {
      "cell_type": "markdown",
      "metadata": {
        "id": "5duhcY3OBWcU"
      },
      "source": [
        "#### <span style='color:#E74C3C; font-family: \"Arial\", sans-serif; font-size: 1.1em; font-weight: bold;'>Answer</span>"
      ]
    },
    {
      "cell_type": "markdown",
      "metadata": {},
      "source": [
        "Before proceeding, we need to verify the conditions for the Chi-Squared Test:\n",
        "\n",
        "1. **Independence**: Sampled observations must be independent, with each case contributing to only one cell.\n",
        "\n",
        "2. **Sample Size**: The expected value should be calculated as \\( np \\), where \\( n \\) is the sample size and \\( p \\) is the proportion for each category. Assuming an equal chance of selecting each category, the proportion \\( p \\) is 0.33. Given a sample size of 99 (with observed values of 43, 21, and 35), the expected value for each category is 33, which is greater than 5. Therefore, our sample size is sufficiently large.\n",
        "\n",
        "**Now we can use Chi-Squared Test**"
      ]
    },
    {
      "cell_type": "markdown",
      "metadata": {},
      "source": [
        "|       | Rock | Scissors | Paper |Total|\n",
        "|-------|------|----------|-------|-----|\n",
        "| Count | 43   | 21       | 35    |99|\n",
        "| Expected | 33   | 33       | 33    |99|"
      ]
    },
    {
      "cell_type": "markdown",
      "metadata": {},
      "source": [
        "$$\n",
        "\\begin{align*}\n",
        "H_0: & \\quad p_{\\text{Rock}} = p_{\\text{Scissors}} = p_{\\text{Paper}} \\quad \\text{(All options are equal)} \\\\\n",
        "H_A: & \\quad \\text{Some options are diffrent}\n",
        "\\end{align*}\n",
        "$$"
      ]
    },
    {
      "cell_type": "markdown",
      "metadata": {},
      "source": [
        "$$\n",
        "\\begin{align*}\n",
        "\\chi^2 &= \\frac{(43 - 33)^2}{33} + \\frac{(21 - 33)^2}{33} + \\frac{(35 - 33)^2}{33} = 7.515 \\\\\n",
        "\\text{df} &= k - 1 = 3 - 1 = 2\n",
        "\\end{align*}\n",
        "$$"
      ]
    },
    {
      "cell_type": "code",
      "execution_count": 1,
      "metadata": {
        "vscode": {
          "languageId": "r"
        }
      },
      "outputs": [
        {
          "data": {
            "text/html": [
              "0.0233420225481956"
            ],
            "text/latex": [
              "0.0233420225481956"
            ],
            "text/markdown": [
              "0.0233420225481956"
            ],
            "text/plain": [
              "[1] 0.02334202"
            ]
          },
          "metadata": {},
          "output_type": "display_data"
        }
      ],
      "source": [
        "pchisq(7.515, 2, lower.tail = FALSE)"
      ]
    },
    {
      "cell_type": "markdown",
      "metadata": {},
      "source": [
        "If we consider 𝛼 = 0.05 so :\n",
        "\n",
        "𝑝−𝑣𝑎𝑙𝑢𝑒 < 𝛼 = 0.05 ⇒ Hence, there is compelling evidence to reject $H_0$.\n",
        "\n",
        "**This means, some of the options are diffrent with other options.**"
      ]
    },
    {
      "cell_type": "markdown",
      "metadata": {
        "id": "1UFyn2V8BWcV"
      },
      "source": [
        "<hr>"
      ]
    },
    {
      "cell_type": "markdown",
      "metadata": {},
      "source": [
        "### <span style='color:#2ECC71; font-family: \"Arial\", sans-serif; font-size: 1.3em; font-weight: bold;'>Question 6</span>\n",
        "\n",
        "<span style='font-family: \"Segoe UI\", Tahoma, Geneva, Verdana, sans-serif; font-size: 1.2em; font-weight: bold;'>\n",
        "\n",
        "A Restaurant Manager for a Football Park wants to know if there is a relationship between gender \n",
        "(male or female) and the preferred condiment on a sandwich. The following table summarizes the \n",
        "results. Test the hypothesis with a significance level of 5%.\n",
        "\n",
        "|       | Ketchup | Mustard | Relish |Total|\n",
        "|-------|------|----------|-------|-----|\n",
        "| Male | 15   | 23       | 10    |48|\n",
        "| Femal | 25   | 19       | 8    |52|\n",
        "| Total | 40   | 42       | 18    |100|\n",
        "\n",
        "</span>"
      ]
    },
    {
      "cell_type": "markdown",
      "metadata": {},
      "source": [
        "#### <span style='color:#E74C3C; font-family: \"Arial\", sans-serif; font-size: 1.1em; font-weight: bold;'>Answer</span>"
      ]
    },
    {
      "cell_type": "markdown",
      "metadata": {},
      "source": [
        "**Hypothesis Testing :**\n",
        "\n",
        "- $ H_0 $: Gender and condiment preference are independent.\n",
        "- $ H_A $: Gender and condiment preference are dependent.\n",
        "\n",
        "Before proceeding with the Chi-Square test, we need to verify the following conditions:\n",
        "\n",
        "1. **Independence**: Sampled observations are independent and without replacement, constituting less than 10% of the population. Each case contributes to only one cell.\n",
        "2. **Sample Size**: None of the expected counts in the table are less than 5.\n",
        "\n",
        "**With these conditions verified, we can proceed with the Chi-Square test.**"
      ]
    },
    {
      "cell_type": "markdown",
      "metadata": {},
      "source": [
        "$$\n",
        "\\text{Expected count} = \\frac{(\\text{row numbers}) \\times (\\text{column number})}{\\text{total number}}\n",
        "$$\n",
        "\n",
        "$$\n",
        "E_{\\text{male, Ketchup}} = \\frac{40 \\times 48}{100} = 19.2, \\quad\n",
        "E_{\\text{male, Mustard}} = \\frac{42 \\times 48}{100} = 20.16, \\quad\n",
        "E_{\\text{male, Relish}} = \\frac{18 \\times 48}{100} = 8.64\n",
        "$$\n",
        "\n",
        "$$\n",
        "E_{\\text{female, Ketchup}} = \\frac{40 \\times 52}{100} = 20.8, \\quad\n",
        "E_{\\text{female, Mustard}} = \\frac{42 \\times 52}{100} = 21.84, \\quad\n",
        "E_{\\text{female, Relish}} = \\frac{18 \\times 52}{100} = 9.36\n",
        "$$\n",
        "\n",
        "$$\n",
        "\\chi^2 = \\frac{(15 - 19.2)^2}{19.2} + \\frac{(23 - 20.16)^2}{20.16} + \\frac{(10 - 8.64)^2}{8.64} + \\frac{(25 - 20.8)^2}{20.8} + \\frac{(19 - 21.84)^2}{21.84} = 2.947\n",
        "$$\n",
        "\n",
        "$$\n",
        "\\text{df} = (R - 1) \\times (C - 1) = 1 \\times 2 = 2\n",
        "$$\n"
      ]
    },
    {
      "cell_type": "code",
      "execution_count": 2,
      "metadata": {
        "vscode": {
          "languageId": "r"
        }
      },
      "outputs": [
        {
          "data": {
            "text/html": [
              "0.229122152640594"
            ],
            "text/latex": [
              "0.229122152640594"
            ],
            "text/markdown": [
              "0.229122152640594"
            ],
            "text/plain": [
              "[1] 0.2291222"
            ]
          },
          "metadata": {},
          "output_type": "display_data"
        }
      ],
      "source": [
        "pchisq(2.947, 2, lower.tail = FALSE)"
      ]
    },
    {
      "cell_type": "markdown",
      "metadata": {},
      "source": [
        "With a `p-value` greater than 5%, we fail to reject $ H_0 $. This indicates that there is not enough evidence in the data to suggest a dependency between gender and preferred condiment."
      ]
    },
    {
      "cell_type": "markdown",
      "metadata": {},
      "source": [
        "<hr>"
      ]
    },
    {
      "cell_type": "markdown",
      "metadata": {},
      "source": [
        "### <span style='color:#2ECC71; font-family: \"Arial\", sans-serif; font-size: 1.3em; font-weight: bold;'>Question 7</span>\n",
        "\n",
        "<span style='font-family: \"Segoe UI\", Tahoma, Geneva, Verdana, sans-serif; font-size: 1.2em; font-weight: bold;'>\n",
        "\n",
        "During a five-day workweek, employers are interested in knowing which days employees are \n",
        "absent. It is usually believed by employers that employees are absent equally throughout the week. \n",
        "In  this  scenario,  a  random  sample  of  70  managers  is  asked  what  day  of  the  week  they  had  the \n",
        "highest  number  of  employee  absences.  The  results  were  distributed  as  in  Table  7.1.  For  the \n",
        "population  of  employees,  do  the  days  for  the  highest  number  of  absences  occur  with  equal \n",
        "frequencies during a five-day workweek? Test at a 5% significance level. (Using a chi-square test) \n",
        "\n",
        "|       | Monday | Tuesday | Wednesday |Thursday|Friday|\n",
        "|-------|------|----------|-------|-----|------|\n",
        "| Number of Absences | 18   | 16       | 10    |10|16|\n",
        "\n",
        "\n",
        "</span>"
      ]
    },
    {
      "cell_type": "markdown",
      "metadata": {},
      "source": [
        "#### <span style='color:#E74C3C; font-family: \"Arial\", sans-serif; font-size: 1.1em; font-weight: bold;'>Answer</span>"
      ]
    },
    {
      "cell_type": "markdown",
      "metadata": {},
      "source": [
        "**Hypothesis Testing :**\n",
        "\n",
        "- $ H_0 $: Absence occurs equal frequencies during workweeks.\n",
        "- $ H_A $: Absence does not occur equal during a workweeks.\n",
        "\n",
        "Before proceeding with the Chi-Square test, we need to verify the following conditions:\n",
        "\n",
        "1. **Independence**: Sampled observations are independent and without replacement, and each case contributes to only one cell.\n",
        "2. **Sample Size**: None of the expected counts in the table are less than 5.(because the expected value is 14)\n",
        "\n",
        "**With these conditions verified, we can proceed with the Chi-Square test.**"
      ]
    },
    {
      "cell_type": "code",
      "execution_count": 16,
      "metadata": {
        "vscode": {
          "languageId": "r"
        }
      },
      "outputs": [
        {
          "name": "stdout",
          "output_type": "stream",
          "text": [
            "Chi-Squared statistic : 4\n",
            "p-value : 0.4060058"
          ]
        }
      ],
      "source": [
        "# Loading observed data\n",
        "observed_counts <- c(18, 16, 10, 10, 16)\n",
        "\n",
        "# Loading expected values\n",
        "expected_counts <- c(14, 14, 14, 14, 14)\n",
        "\n",
        "# Calculating the Chi-Squared statistic\n",
        "chi_squared_statistic <- sum((observed_counts - expected_counts)^2 / expected_counts)\n",
        "\n",
        "# Display the Chi-Squared statistic\n",
        "cat(\"Chi-Squared statistic :\", chi_squared_statistic)\n",
        "\n",
        "# Calculating the p-value\n",
        "p_value <- pchisq(chi_squared_statistic, df = 4, lower.tail = FALSE)\n",
        "cat(\"\\np-value :\", p_value)"
      ]
    },
    {
      "cell_type": "markdown",
      "metadata": {},
      "source": [
        "**Another way we can use `chisq.test` in R**"
      ]
    },
    {
      "cell_type": "code",
      "execution_count": 17,
      "metadata": {
        "vscode": {
          "languageId": "r"
        }
      },
      "outputs": [
        {
          "data": {
            "text/plain": [
              "\n",
              "\tChi-squared test for given probabilities\n",
              "\n",
              "data:  observed_counts\n",
              "X-squared = 4, df = 4, p-value = 0.406\n"
            ]
          },
          "metadata": {},
          "output_type": "display_data"
        }
      ],
      "source": [
        "chisq.test(observed_counts)"
      ]
    },
    {
      "cell_type": "markdown",
      "metadata": {},
      "source": [
        "With a `p-value` exceeding 5%, we fail to reject the null hypothesis (𝐻0). so, our conclusion is that the available evidence does not sufficiently support the notion that absence does not occur with uniform frequency throughout a typical five-day workweek."
      ]
    },
    {
      "cell_type": "markdown",
      "metadata": {},
      "source": [
        "<hr>"
      ]
    },
    {
      "cell_type": "markdown",
      "metadata": {},
      "source": [
        "### <span style='color:#2ECC71; font-family: \"Arial\", sans-serif; font-size: 1.3em; font-weight: bold;'>Question 8</span>\n",
        "\n",
        "<span style='font-family: \"Segoe UI\", Tahoma, Geneva, Verdana, sans-serif; font-size: 1.2em; font-weight: bold;'>\n",
        "\n",
        "Consider  the  dataset  named  “survey”  in  the  “MASS”  library  in  R.  The  Smoke  column \n",
        "records the students’ smoking habit, while the “Exer” column records their exercise level. Test \n",
        "the hypothesis of whether the students’ smoking habit is independent of their exercise level at \n",
        "the 0.05 significance level. \n",
        "\n",
        "</span>"
      ]
    },
    {
      "cell_type": "markdown",
      "metadata": {},
      "source": [
        "#### <span style='color:#E74C3C; font-family: \"Arial\", sans-serif; font-size: 1.1em; font-weight: bold;'>Answer</span>"
      ]
    },
    {
      "cell_type": "code",
      "execution_count": 7,
      "metadata": {
        "vscode": {
          "languageId": "r"
        }
      },
      "outputs": [],
      "source": [
        "# Load the MASS library\n",
        "library(MASS)\n",
        "\n",
        "# Load the survey dataset\n",
        "data(survey, package = \"MASS\")"
      ]
    },
    {
      "cell_type": "code",
      "execution_count": 8,
      "metadata": {
        "vscode": {
          "languageId": "r"
        }
      },
      "outputs": [
        {
          "data": {
            "text/plain": [
              "       \n",
              "        Freq None Some\n",
              "  Heavy    7    1    3\n",
              "  Never   87   18   84\n",
              "  Occas   12    3    4\n",
              "  Regul    9    1    7"
            ]
          },
          "metadata": {},
          "output_type": "display_data"
        }
      ],
      "source": [
        "table(survey$Smoke, survey$Exer)"
      ]
    },
    {
      "cell_type": "code",
      "execution_count": 9,
      "metadata": {
        "vscode": {
          "languageId": "r"
        }
      },
      "outputs": [
        {
          "data": {
            "text/html": [
              "<table class=\"dataframe\">\n",
              "<caption>A table: 5 × 4 of type dbl</caption>\n",
              "<thead>\n",
              "\t<tr><th></th><th scope=col>Freq</th><th scope=col>None</th><th scope=col>Some</th><th scope=col>Sum</th></tr>\n",
              "</thead>\n",
              "<tbody>\n",
              "\t<tr><th scope=row>Heavy</th><td>  7</td><td> 1</td><td> 3</td><td> 11</td></tr>\n",
              "\t<tr><th scope=row>Never</th><td> 87</td><td>18</td><td>84</td><td>189</td></tr>\n",
              "\t<tr><th scope=row>Occas</th><td> 12</td><td> 3</td><td> 4</td><td> 19</td></tr>\n",
              "\t<tr><th scope=row>Regul</th><td>  9</td><td> 1</td><td> 7</td><td> 17</td></tr>\n",
              "\t<tr><th scope=row>Sum</th><td>115</td><td>23</td><td>98</td><td>236</td></tr>\n",
              "</tbody>\n",
              "</table>\n"
            ],
            "text/latex": [
              "A table: 5 × 4 of type dbl\n",
              "\\begin{tabular}{r|llll}\n",
              "  & Freq & None & Some & Sum\\\\\n",
              "\\hline\n",
              "\tHeavy &   7 &  1 &  3 &  11\\\\\n",
              "\tNever &  87 & 18 & 84 & 189\\\\\n",
              "\tOccas &  12 &  3 &  4 &  19\\\\\n",
              "\tRegul &   9 &  1 &  7 &  17\\\\\n",
              "\tSum & 115 & 23 & 98 & 236\\\\\n",
              "\\end{tabular}\n"
            ],
            "text/markdown": [
              "\n",
              "A table: 5 × 4 of type dbl\n",
              "\n",
              "| <!--/--> | Freq | None | Some | Sum |\n",
              "|---|---|---|---|---|\n",
              "| Heavy |   7 |  1 |  3 |  11 |\n",
              "| Never |  87 | 18 | 84 | 189 |\n",
              "| Occas |  12 |  3 |  4 |  19 |\n",
              "| Regul |   9 |  1 |  7 |  17 |\n",
              "| Sum | 115 | 23 | 98 | 236 |\n",
              "\n"
            ],
            "text/plain": [
              "       \n",
              "        Freq None Some Sum\n",
              "  Heavy   7   1    3    11\n",
              "  Never  87  18   84   189\n",
              "  Occas  12   3    4    19\n",
              "  Regul   9   1    7    17\n",
              "  Sum   115  23   98   236"
            ]
          },
          "metadata": {},
          "output_type": "display_data"
        }
      ],
      "source": [
        "addmargins(table(survey$Smoke,survey$Exer))"
      ]
    },
    {
      "cell_type": "markdown",
      "metadata": {},
      "source": [
        "**Hypothesis Testing :**\n",
        "\n",
        "- $ H_0 $: The students' smoking habit is independent of their exercise level.\n",
        "- $ H_A $: The students' smoking habit is dependent on their exercise level.\n",
        "\n",
        "Before proceeding with the Chi-Square test, we need to verify the following conditions:\n",
        "\n",
        "1. **Independence**: Sampled observations are independent and without replacement, and each case contributes to only one cell.\n",
        "2. **Sample Size**: None of the expected counts in the table are less than 5.(**This condition is False but i didn't consider**)\n",
        "\n",
        "**With these conditions verified, we can proceed with the Chi-Square test.**"
      ]
    },
    {
      "cell_type": "code",
      "execution_count": 14,
      "metadata": {
        "vscode": {
          "languageId": "r"
        }
      },
      "outputs": [
        {
          "name": "stdout",
          "output_type": "stream",
          "text": [
            "       \n",
            "        Freq None Some\n",
            "  Heavy    7    1    3\n",
            "  Never   87   18   84\n",
            "  Occas   12    3    4\n",
            "  Regul    9    1    7\n",
            "\n",
            "Chi-squared statistic : 5.488546\n",
            "Degree of freedom : 6\n",
            "p-value : 0.4828422"
          ]
        }
      ],
      "source": [
        "# Load the MASS library and survey dataset\n",
        "library(MASS)\n",
        "data(survey)\n",
        "\n",
        "# Create a contingency table\n",
        "tbl <- table(survey$Smoke, survey$Exer)\n",
        "\n",
        "# Calculate expected values\n",
        "expected <- outer(rowSums(tbl), colSums(tbl)) / sum(tbl)\n",
        "\n",
        "# Calculate Chi-squared statistic\n",
        "chi_sq <- sum((tbl - expected)^2 / expected)\n",
        "\n",
        "# Calculate degrees of freedom\n",
        "df <- (nrow(tbl) - 1) * (ncol(tbl) - 1)\n",
        "\n",
        "# Calculate p-value\n",
        "p_value <- pchisq(chi_sq, df, lower.tail = FALSE)\n",
        "\n",
        "# Print the contingency table, Chi-squared statistic, Degree of freedom, and p-value\n",
        "print(tbl)\n",
        "cat(\"\\nChi-squared statistic :\", chi_sq)\n",
        "cat(\"\\nDegree of freedom :\", df)\n",
        "cat(\"\\np-value :\", p_value)\n"
      ]
    },
    {
      "cell_type": "markdown",
      "metadata": {},
      "source": [
        "**Another way we can use `chisq.test` in R**"
      ]
    },
    {
      "cell_type": "code",
      "execution_count": 18,
      "metadata": {
        "vscode": {
          "languageId": "r"
        }
      },
      "outputs": [
        {
          "name": "stderr",
          "output_type": "stream",
          "text": [
            "Warning message in chisq.test(tbl):\n",
            "\"Chi-squared approximation may be incorrect\"\n"
          ]
        },
        {
          "data": {
            "text/plain": [
              "\n",
              "\tPearson's Chi-squared test\n",
              "\n",
              "data:  tbl\n",
              "X-squared = 5.4885, df = 6, p-value = 0.4828\n"
            ]
          },
          "metadata": {},
          "output_type": "display_data"
        }
      ],
      "source": [
        "chisq.test(tbl)"
      ]
    },
    {
      "cell_type": "markdown",
      "metadata": {},
      "source": [
        "With a `p-value` of 0.482, which exceeds the significance level of 5%, we fail to reject the null hypothesis (𝐻0). Thus, we conclude that there is insufficient evidence in the data to support the claim that the smoking habit of students depends on their exercise level."
      ]
    }
  ],
  "metadata": {
    "colab": {
      "collapsed_sections": [
        "KQbRmJCrBWbi",
        "u4gFy0JTBWcO",
        "VrLL7kfNBWcQ",
        "_UUYPnglBWcU",
        "J2GKlfrIBWcV",
        "e2wZ3uNABWcb",
        "KnCCjZmwBWcg",
        "i7EvPYL5BWch"
      ],
      "provenance": [],
      "toc_visible": true
    },
    "kernelspec": {
      "display_name": "R",
      "language": "R",
      "name": "ir"
    },
    "language_info": {
      "codemirror_mode": "r",
      "file_extension": ".r",
      "mimetype": "text/x-r-source",
      "name": "R",
      "pygments_lexer": "r",
      "version": "4.2.2"
    }
  },
  "nbformat": 4,
  "nbformat_minor": 0
}
