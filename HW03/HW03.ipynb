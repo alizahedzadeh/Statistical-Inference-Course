{
  "cells": [
    {
      "cell_type": "markdown",
      "metadata": {
        "id": "BcCCabvWBWbd"
      },
      "source": [
        "# <span style='font-family: \"Georgia\", Times, \"Times New Roman\", serif; color:#3498DB;'>**Statistical Inference Course (Spring 2024)**</span>\n",
        "\n",
        "## <span style='font-family: \"Helvetica Neue\", Helvetica, Arial, sans-serif; color:#2E86C1;'>**Homework 3**</span>\n",
        "\n",
        "<hr>\n",
        "\n",
        "### <span style='font-family: \"Courier New\", Courier, monospace; color:#27AE30;'>**Professor**</span>\n",
        "\n",
        "*   Dr. Behnam Bahrak\n",
        "\n",
        "### <span style='font-family: \"Courier New\", Courier, monospace; color:#E67E22;'>**Student**</span>\n",
        "\n",
        "*   Ali Zahedzadeh\n"
      ]
    },
    {
      "cell_type": "markdown",
      "metadata": {
        "id": "cdqq_CHkBWbh"
      },
      "source": [
        "<hr>"
      ]
    },
    {
      "cell_type": "markdown",
      "metadata": {
        "id": "KQbRmJCrBWbi"
      },
      "source": [
        "### <span style='color:#2ECC71; font-family: \"Arial\", sans-serif; font-size: 1.3em; font-weight: bold;'>Question 1</span>\n",
        "\n",
        "<span style='font-family: \"Segoe UI\", Tahoma, Geneva, Verdana, sans-serif; font-size: 1.2em; font-weight: bold;'>\n",
        "    The average house price in New York based on the random sample of 81 houses is $800,000. Assume that population standard deviation 𝜎 equals $90,000.\n",
        "\n",
        "</span>\n",
        "\n"
      ]
    },
    {
      "cell_type": "markdown",
      "metadata": {
        "id": "ScxC6X7XBWbi"
      },
      "source": [
        "#### <span style='color:#E74C3C; font-family: \"Arial\", sans-serif; font-size: 1.1em; font-weight: bold;'>Answer</span>"
      ]
    },
    {
      "cell_type": "markdown",
      "metadata": {},
      "source": [
        "First we need to check CLT condition :\n",
        "\n",
        "- **Independece** : Sample observations are independed and `n` is smaller than 10 percent of all the housed in NY (It's not mentioned in question but I supposed it's True)\n",
        "- **Sample size/skew** : n≥30. \n",
        "\n",
        "Therefore, we can use the normal distribution and confidence interval."
      ]
    },
    {
      "cell_type": "markdown",
      "metadata": {},
      "source": [
        "##### <span style='color:#3498DB; font-family: \"Helvetica\", Arial, sans-serif; font-size: 1.2em; font-weight: bold;'>Part a:</span>\n",
        "\n",
        "<span style='font-family: \"Segoe UI\", Tahoma, Geneva, Verdana, sans-serif; font-size: 1.2em; font-weight: bold;'>\n",
        "    Compute a 98% confidence interval for the population mean 𝜇.\n",
        "</span>\n",
        "\n",
        "\n"
      ]
    },
    {
      "cell_type": "markdown",
      "metadata": {},
      "source": [
        "$\\sigma = 90000$ and  $\\overline{x} = 800000$\n",
        "\n",
        "$ SE = \\frac{\\sigma}{\\sqrt{n}} = \\frac{90000}{\\sqrt{81}} = 10000$\n",
        "\n",
        "and we have $\\overline{x} - z_{\\alpha/2} \\cdot \\text{SE} < \\mu < \\overline{x} + z_{\\alpha/2} \\cdot \\text{SE}$"
      ]
    },
    {
      "cell_type": "markdown",
      "metadata": {},
      "source": [
        "Here we calculate z_score"
      ]
    },
    {
      "cell_type": "code",
      "execution_count": 17,
      "metadata": {
        "vscode": {
          "languageId": "r"
        }
      },
      "outputs": [
        {
          "name": "stdout",
          "output_type": "stream",
          "text": [
            "The z-score for a 98% confidence interval is: 2.326348 \n"
          ]
        }
      ],
      "source": [
        "# Calculate the z-score for a 98% confidence interval\n",
        "z_score <- qnorm(0.99)\n",
        "\n",
        "# Print the result\n",
        "cat(\"The z-score for a 98% confidence interval is:\", z_score, \"\\n\")"
      ]
    },
    {
      "cell_type": "markdown",
      "metadata": {},
      "source": [
        "$ 800000-2.33 \\cdot 10000 < \\mu < 800000+2.33 \\cdot 10000 \\Rightarrow 776700 < \\mu < 823300 $"
      ]
    },
    {
      "cell_type": "markdown",
      "metadata": {},
      "source": [
        "##### <span style='color:#3498DB; font-family: \"Helvetica\", Arial, sans-serif; font-size: 1.2em; font-weight: bold;'>Part b:</span>\n",
        "\n",
        "<span style='font-family: \"Segoe UI\", Tahoma, Geneva, Verdana, sans-serif; font-size: 1.2em; font-weight: bold;'>\n",
        "    Compute a 95% confidence interval for the population mean 𝜇.\n",
        "</span>\n",
        "\n",
        "\n"
      ]
    },
    {
      "cell_type": "code",
      "execution_count": 18,
      "metadata": {
        "vscode": {
          "languageId": "r"
        }
      },
      "outputs": [
        {
          "name": "stdout",
          "output_type": "stream",
          "text": [
            "The z-score for a 95% confidence interval is: 1.959964 \n"
          ]
        }
      ],
      "source": [
        "# Calculate the z-score for a 95% confidence interval\n",
        "z_score <- qnorm(0.975)\n",
        "\n",
        "# Print the result\n",
        "cat(\"The z-score for a 95% confidence interval is:\", z_score, \"\\n\")\n"
      ]
    },
    {
      "cell_type": "markdown",
      "metadata": {},
      "source": [
        "$ 800000-1.96 \\cdot 10000 < \\mu < 800000+1.96 \\cdot 10000 \\Rightarrow 780400 < \\mu < 819600 $ "
      ]
    },
    {
      "cell_type": "markdown",
      "metadata": {},
      "source": [
        "##### <span style='color:#3498DB; font-family: \"Helvetica\", Arial, sans-serif; font-size: 1.2em; font-weight: bold;'>Part c:</span>\n",
        "\n",
        "<span style='font-family: \"Segoe UI\", Tahoma, Geneva, Verdana, sans-serif; font-size: 1.2em; font-weight: bold;'>\n",
        "    Compute a 90% confidence interval for the population mean 𝜇.\n",
        "</span>\n",
        "\n",
        "\n"
      ]
    },
    {
      "cell_type": "code",
      "execution_count": 19,
      "metadata": {
        "vscode": {
          "languageId": "r"
        }
      },
      "outputs": [
        {
          "name": "stdout",
          "output_type": "stream",
          "text": [
            "The z-score for a 90% confidence interval is: 1.644854 \n"
          ]
        }
      ],
      "source": [
        "# Calculate the z-score for a 90% confidence interval\n",
        "z_score <- qnorm(0.95)\n",
        "\n",
        "# Print the result\n",
        "cat(\"The z-score for a 90% confidence interval is:\", z_score, \"\\n\")\n"
      ]
    },
    {
      "cell_type": "markdown",
      "metadata": {},
      "source": [
        "$ 800000-1.64 \\cdot 10000 < \\mu < 800000+1.64 \\cdot 10000 \\Rightarrow 783600 < \\mu < 816400$"
      ]
    },
    {
      "cell_type": "markdown",
      "metadata": {},
      "source": [
        "##### <span style='color:#3498DB; font-family: \"Helvetica\", Arial, sans-serif; font-size: 1.2em; font-weight: bold;'>Part d:</span>\n",
        "\n",
        "<span style='font-family: \"Segoe UI\", Tahoma, Geneva, Verdana, sans-serif; font-size: 1.2em; font-weight: bold;'>\n",
        "    Compute a 50% confidence interval for the population mean 𝜇.\n",
        "</span>\n",
        "\n",
        "\n"
      ]
    },
    {
      "cell_type": "code",
      "execution_count": 20,
      "metadata": {
        "vscode": {
          "languageId": "r"
        }
      },
      "outputs": [
        {
          "name": "stdout",
          "output_type": "stream",
          "text": [
            "The z-score for a 50% confidence interval is: 0.6744898 \n"
          ]
        }
      ],
      "source": [
        "# Calculate the z-score for a 50% confidence interval\n",
        "z_score <- qnorm(0.75)\n",
        "\n",
        "# Print the result\n",
        "cat(\"The z-score for a 50% confidence interval is:\", z_score, \"\\n\")\n"
      ]
    },
    {
      "cell_type": "markdown",
      "metadata": {},
      "source": [
        "$ 800000-0.67 \\cdot 10000 < \\mu < 800000+0.67 \\cdot 10000 \\Rightarrow 793300 < \\mu < 806700$"
      ]
    },
    {
      "cell_type": "markdown",
      "metadata": {},
      "source": [
        "##### <span style='color:#3498DB; font-family: \"Helvetica\", Arial, sans-serif; font-size: 1.2em; font-weight: bold;'>Part e:</span>\n",
        "\n",
        "<span style='font-family: \"Segoe UI\", Tahoma, Geneva, Verdana, sans-serif; font-size: 1.2em; font-weight: bold;'>\n",
        "    Write a one-sentence interpretation of the confidence interval.\n",
        "</span>\n",
        "\n",
        "\n"
      ]
    },
    {
      "cell_type": "markdown",
      "metadata": {},
      "source": [
        "A confidence interval tells us the range of values where the true population parameter is likely to fall within the level of probability."
      ]
    },
    {
      "cell_type": "markdown",
      "metadata": {},
      "source": [
        "##### <span style='color:#3498DB; font-family: \"Helvetica\", Arial, sans-serif; font-size: 1.2em; font-weight: bold;'>Part f:</span>\n",
        "\n",
        "<span style='font-family: \"Segoe UI\", Tahoma, Geneva, Verdana, sans-serif; font-size: 1.2em; font-weight: bold;'>\n",
        "    Express the intuition behind different confidence intervals and obtained results.\n",
        "</span>\n",
        "\n",
        "\n"
      ]
    },
    {
      "cell_type": "markdown",
      "metadata": {},
      "source": [
        "In each case, when we want to raise the confidence interval (that is, to say with a more accurate probability that the average house price in New York is a certain value), as a result, our interval becomes wider.\n",
        "And in general, there is a trade-off between precision and accuracy, and we saw this in the previous parts of the question."
      ]
    },
    {
      "cell_type": "markdown",
      "metadata": {},
      "source": [
        "##### <span style='color:#3498DB; font-family: \"Helvetica\", Arial, sans-serif; font-size: 1.2em; font-weight: bold;'>Part g:</span>\n",
        "\n",
        "<span style='font-family: \"Segoe UI\", Tahoma, Geneva, Verdana, sans-serif; font-size: 1.2em; font-weight: bold;'>\n",
        "    How many such houses should be sampled in order to obtain a 99% confidence interval with a margin of error less than or equal to $5,000?\n",
        "</span>\n",
        "\n",
        "\n"
      ]
    },
    {
      "cell_type": "code",
      "execution_count": 21,
      "metadata": {
        "vscode": {
          "languageId": "r"
        }
      },
      "outputs": [
        {
          "name": "stdout",
          "output_type": "stream",
          "text": [
            "The z-score for a 99% confidence interval is: 2.575829 \n"
          ]
        }
      ],
      "source": [
        "# Calculate the z-score for a 99% confidence interval\n",
        "z_score <- qnorm(0.995)\n",
        "\n",
        "# Print the result\n",
        "cat(\"The z-score for a 99% confidence interval is:\", z_score, \"\\n\")\n"
      ]
    },
    {
      "cell_type": "markdown",
      "metadata": {},
      "source": [
        "$$Margin of error = z \\cdot SE = z \\cdot \\frac{\\sigma}{\\sqrt{n}} = 2.57 \\cdot \\frac{90000}{\\sqrt{n}} = 5000 \\Rightarrow \\sqrt{n} \\approx 46.26 \\Rightarrow n = 2139.9876 \\Rightarrow n \\approx \\boxed{2140}$$\n"
      ]
    },
    {
      "cell_type": "markdown",
      "metadata": {},
      "source": [
        "##### <span style='color:#3498DB; font-family: \"Helvetica\", Arial, sans-serif; font-size: 1.2em; font-weight: bold;'>Part h:</span>\n",
        "\n",
        "<span style='font-family: \"Segoe UI\", Tahoma, Geneva, Verdana, sans-serif; font-size: 1.2em; font-weight: bold;'>\n",
        "    How would the required sample size change if we want to decrease the margin of the error to $2,500?\n",
        "</span>\n",
        "\n",
        "\n"
      ]
    },
    {
      "cell_type": "markdown",
      "metadata": {},
      "source": [
        "$$\n",
        "\\begin{align*}\n",
        "\\text{Margin of error}_1 &= z \\cdot \\frac{\\sigma}{\\sqrt{n_1}} \\\\\n",
        "\\text{Margin of error}_2 &= z \\cdot \\frac{\\sigma}{\\sqrt{n_2}} \\\\\n",
        "\\frac{\\text{Margin of error}_2}{\\text{Margin of error}_1} &= \\frac{\\sqrt{n_2}}{\\sqrt{n_1}} \\\\\n",
        "\\frac{5000}{2500} &= \\frac{\\sqrt{n_2}}{46.26} \\\\\n",
        "\\sqrt{n_2} &= 46.26 \\cdot \\frac{5000}{2500} = 92.52\\\\\n",
        "n_2 &= \\left( 92.52  \\right)^2 = 8559.9504\\\\\n",
        "n_2 &\\approx \\boxed{8560}\n",
        "\\end{align*}\n",
        "$$"
      ]
    },
    {
      "cell_type": "markdown",
      "metadata": {
        "id": "sulw4lP5BWcO"
      },
      "source": [
        "<hr>"
      ]
    },
    {
      "cell_type": "markdown",
      "metadata": {
        "id": "u4gFy0JTBWcO"
      },
      "source": [
        "### <span style='color:#2ECC71; font-family: \"Arial\", sans-serif; font-size: 1.3em; font-weight: bold;'>Question 2</span>\n",
        "\n",
        "<span style='font-family: \"Segoe UI\", Tahoma, Geneva, Verdana, sans-serif; font-size: 1.2em; font-weight: bold;'>\n",
        "\n",
        "Based on research, on average, high school teens spend almost seven hours each weekday on\n",
        "educational activities. You think that this is underestimated and want to collect your own sample\n",
        "for a hypothesis test. You randomly sample 70 students from your dorm and find that on average\n",
        "they spend 10 hours each weekday on education activity. One of your friends wants to help you\n",
        "and comes up with the following hypothesis. Indicate any error you see.\n",
        "\n",
        "H0: 𝑥 < 7 ℎ𝑜𝑢𝑟𝑠\n",
        "H1 : 𝑥 >10 ℎ𝑜𝑢𝑟𝑠\n",
        "</span>"
      ]
    },
    {
      "cell_type": "markdown",
      "metadata": {
        "id": "GPJcgozFBWcP"
      },
      "source": [
        "#### <span style='color:#E74C3C; font-family: \"Arial\", sans-serif; font-size: 1.1em; font-weight: bold;'>Answer</span>"
      ]
    },
    {
      "cell_type": "markdown",
      "metadata": {},
      "source": [
        "**Errors in this hypothesis test**\n",
        "- The null hypothesis must have an equal sign\n",
        "- The alternative hypothesis value is wrong\n",
        "\n",
        "**Correct hypothesis**\n",
        "\n",
        "$$\n",
        "\\begin{align*}\n",
        "H_0: &\\mu = 7 \\text{ hours} \\\\\n",
        "H_A: &\\mu > 7 \\text{ hours}\n",
        "\\end{align*}\n",
        "$$"
      ]
    },
    {
      "cell_type": "markdown",
      "metadata": {
        "id": "Ng5AP3DABWcQ"
      },
      "source": [
        "<hr>"
      ]
    },
    {
      "cell_type": "markdown",
      "metadata": {
        "id": "VrLL7kfNBWcQ"
      },
      "source": [
        "### <span style='color:#2ECC71; font-family: \"Arial\", sans-serif; font-size: 1.3em; font-weight: bold;'>Question 3</span>\n",
        "\n",
        "<span style='font-family: \"Segoe UI\", Tahoma, Geneva, Verdana, sans-serif; font-size: 1.2em; font-weight: bold;'>\n",
        "\n",
        "A mayor claims that in his small city, which is renowned for its music school, the average child takes at least 5 years of piano lessons. We have a random sample of 20 children from the city, with a mean of 4.6 years of piano lessons and a standard deviation of 2.2 years.\n",
        "</span>"
      ]
    },
    {
      "cell_type": "markdown",
      "metadata": {
        "id": "ZlAUWUm_BWcR"
      },
      "source": [
        "#### <span style='color:#E74C3C; font-family: \"Arial\", sans-serif; font-size: 1.1em; font-weight: bold;'>Answer</span>"
      ]
    },
    {
      "cell_type": "markdown",
      "metadata": {
        "id": "o1K65IfKBWcR"
      },
      "source": [
        "##### <span style='color:#3498DB; font-family: \"Helvetica\", Arial, sans-serif; font-size: 1.2em; font-weight: bold;'>Part a:</span>\n",
        "\n",
        "<span style='font-family: \"Segoe UI\", Tahoma, Geneva, Verdana, sans-serif; font-size: 1.2em; font-weight: bold;'>\n",
        "Evaluate his claim using a hypothesis test (assume 𝛼 = 0.05).\n",
        "</span>"
      ]
    },
    {
      "cell_type": "markdown",
      "metadata": {},
      "source": [
        "because n < 30 we can't use CLT but i supposed it's true .\n",
        "\n",
        "$$\n",
        "\\begin{align*}\n",
        "H_0: &\\mu = 5 \\text{ years} \\\\\n",
        "H_A: &\\mu \\neq 5 \\text{ years}\n",
        "\\end{align*}\n",
        "$$\n",
        "\n",
        "$ SE = \\frac{\\sigma}{\\sqrt{n}} = \\frac{2.2}{\\sqrt{20}} \\approx 0.49$\n",
        "\n",
        "$Z = \\frac{\\bar{x} - \\mu}{\\text{SE}} = \\frac{4.6 - 5}{0.49}\\approx - 0.813$"
      ]
    },
    {
      "cell_type": "code",
      "execution_count": 22,
      "metadata": {
        "vscode": {
          "languageId": "r"
        }
      },
      "outputs": [
        {
          "data": {
            "text/html": [
              "0.208109029083126"
            ],
            "text/latex": [
              "0.208109029083126"
            ],
            "text/markdown": [
              "0.208109029083126"
            ],
            "text/plain": [
              "[1] 0.208109"
            ]
          },
          "metadata": {},
          "output_type": "display_data"
        }
      ],
      "source": [
        "# Define the z-score\n",
        "z_score <- -0.813\n",
        "\n",
        "# Find the p-value\n",
        "p_value <- pnorm(z_score)\n",
        "\n",
        "p_value"
      ]
    },
    {
      "cell_type": "markdown",
      "metadata": {},
      "source": [
        "Since p-value is higher than alpha (0.208 > 0.05), we fail to reject 𝐻0."
      ]
    },
    {
      "cell_type": "markdown",
      "metadata": {
        "id": "fG_oRXLiBWcT"
      },
      "source": [
        "##### <span style='color:#3498DB; font-family: \"Helvetica\", Arial, sans-serif; font-size: 1.2em; font-weight: bold;'>Part b:</span>\n",
        "\n",
        "<span style='font-family: \"Segoe UI\", Tahoma, Geneva, Verdana, sans-serif; font-size: 1.2em; font-weight: bold;'>\n",
        "Construct a 95% confidence interval for the number of years students in this city take piano lessons and interpret it in the context of the data.\n",
        "</span>"
      ]
    },
    {
      "cell_type": "markdown",
      "metadata": {},
      "source": [
        "We have $\\overline{x} - z_{\\alpha/2} \\cdot \\text{SE} < \\mu < \\overline{x} + z_{\\alpha/2} \\cdot \\text{SE}$"
      ]
    },
    {
      "cell_type": "code",
      "execution_count": 23,
      "metadata": {
        "vscode": {
          "languageId": "r"
        }
      },
      "outputs": [
        {
          "name": "stdout",
          "output_type": "stream",
          "text": [
            "The z-score for a 95% confidence interval is: 1.959964 \n"
          ]
        }
      ],
      "source": [
        "# Calculate the z-score for a 95% confidence interval\n",
        "z_score <- qnorm(0.975)\n",
        "\n",
        "# Print the result\n",
        "cat(\"The z-score for a 95% confidence interval is:\", z_score, \"\\n\")"
      ]
    },
    {
      "cell_type": "markdown",
      "metadata": {},
      "source": [
        "$ 4.6-1.95 \\cdot 0.49 < \\mu < 4.6+1.95 \\cdot 0.49 \\Rightarrow 3.64 < \\mu < 5.55$"
      ]
    },
    {
      "cell_type": "markdown",
      "metadata": {
        "id": "WOx9-F2KBWcT"
      },
      "source": [
        "##### <span style='color:#3498DB; font-family: \"Helvetica\", Arial, sans-serif; font-size: 1.2em; font-weight: bold;'>Part c:</span>\n",
        "\n",
        "<span style='font-family: \"Segoe UI\", Tahoma, Geneva, Verdana, sans-serif; font-size: 1.2em; font-weight: bold;'>\n",
        "Do your results from the hypothesis test and the confidence interval agree? Explain your reasoning\n",
        "</span>"
      ]
    },
    {
      "cell_type": "markdown",
      "metadata": {},
      "source": [
        "In both scenarios, we fail to reject the null hypothesis, $H_0$. In the first instance, the calculated p-value exceeds the predetermined significance level, indicating insufficient evidence to reject $H_0$. Similarly, in the second scenario, as the value 5 or the null hypothesis lies within the confidence interval, we again fail to find significant reason to reject $H_0$."
      ]
    },
    {
      "cell_type": "markdown",
      "metadata": {
        "id": "rS47X12qBWcT"
      },
      "source": [
        "<hr>"
      ]
    },
    {
      "cell_type": "markdown",
      "metadata": {
        "id": "_UUYPnglBWcU"
      },
      "source": [
        "### <span style='color:#2ECC71; font-family: \"Arial\", sans-serif; font-size: 1.3em; font-weight: bold;'>Question 4</span>\n",
        "\n",
        "<span style='font-family: \"Segoe UI\", Tahoma, Geneva, Verdana, sans-serif; font-size: 1.2em; font-weight: bold;'>\n",
        "\n",
        "A study suggests that the normal body temperature in degrees Fahrenheit is 98.6 . A doctor\n",
        "believes that this is an underestimate and decides to collect her own sample for a hypothesis test\n",
        "of 52 randomly chosen healthy adults. The body temperature of samples is measured with the\n",
        "following summary of the data:\n",
        "n = 52, 𝑥̅ = 98.2846 , s = 0.6824\n",
        "</span>"
      ]
    },
    {
      "cell_type": "markdown",
      "metadata": {
        "id": "5duhcY3OBWcU"
      },
      "source": [
        "#### <span style='color:#E74C3C; font-family: \"Arial\", sans-serif; font-size: 1.1em; font-weight: bold;'>Answer</span>"
      ]
    },
    {
      "cell_type": "markdown",
      "metadata": {},
      "source": [
        "##### <span style='color:#3498DB; font-family: \"Helvetica\", Arial, sans-serif; font-size: 1.2em; font-weight: bold;'>Part a:</span>\n",
        "\n",
        "<span style='font-family: \"Segoe UI\", Tahoma, Geneva, Verdana, sans-serif; font-size: 1.2em; font-weight: bold;'>\n",
        "Are the necessary conditions satisfied? Explain.\n",
        "</span>\n"
      ]
    },
    {
      "cell_type": "markdown",
      "metadata": {},
      "source": [
        "First we need to check CLT condition :\n",
        "\n",
        "- **Independece** : Sample observations are independed and `n` is smaller than 10 percent of all the data (It's not mentioned in question but I supposed it's True)\n",
        "- **Sample size/skew** : n≥30. \n",
        "\n",
        "Therefore, we can use the normal distribution and confidence interval."
      ]
    },
    {
      "cell_type": "markdown",
      "metadata": {},
      "source": [
        "##### <span style='color:#3498DB; font-family: \"Helvetica\", Arial, sans-serif; font-size: 1.2em; font-weight: bold;'>Part b:</span>\n",
        "\n",
        "<span style='font-family: \"Segoe UI\", Tahoma, Geneva, Verdana, sans-serif; font-size: 1.2em; font-weight: bold;'>\n",
        "Write the null and alternative hypotheses.\n",
        "</span>\n"
      ]
    },
    {
      "cell_type": "markdown",
      "metadata": {},
      "source": [
        "$$\n",
        "\\begin{align*}\n",
        "H_0: T = 98.6 \\text{ Fahrenheit} \\\\\n",
        "H_A: T > 98.6 \\text{ Fahrenheit}\n",
        "\\end{align*}\n",
        "$$"
      ]
    },
    {
      "cell_type": "markdown",
      "metadata": {},
      "source": [
        "##### <span style='color:#3498DB; font-family: \"Helvetica\", Arial, sans-serif; font-size: 1.2em; font-weight: bold;'>Part c:</span>\n",
        "\n",
        "<span style='font-family: \"Segoe UI\", Tahoma, Geneva, Verdana, sans-serif; font-size: 1.2em; font-weight: bold;'>\n",
        "Find a 98% confidence interval for the mean body temperature and make decision based on this confidence interval.\n",
        "</span>\n"
      ]
    },
    {
      "cell_type": "markdown",
      "metadata": {},
      "source": [
        "$ SE = \\frac{\\sigma}{\\sqrt{n}} = \\frac{0.6824}{\\sqrt{52}} \\approx 0.094$"
      ]
    },
    {
      "cell_type": "code",
      "execution_count": 24,
      "metadata": {
        "vscode": {
          "languageId": "r"
        }
      },
      "outputs": [
        {
          "name": "stdout",
          "output_type": "stream",
          "text": [
            "The z-score for a 98% confidence interval is: 2.326348 \n"
          ]
        }
      ],
      "source": [
        "# Calculate the z-score for a 98% confidence interval\n",
        "z_score <- qnorm(0.99)\n",
        "\n",
        "# Print the result\n",
        "cat(\"The z-score for a 98% confidence interval is:\", z_score, \"\\n\")"
      ]
    },
    {
      "cell_type": "markdown",
      "metadata": {},
      "source": [
        "$$ 98.2846 - 2.32 \\times 0.09463185 < \\mu < 98.2846 + 2.32 \\times 0.09463185 \\Rightarrow 98.0650 < \\mu < 98.5041 $$"
      ]
    },
    {
      "cell_type": "markdown",
      "metadata": {},
      "source": [
        "Based on the confidence interval derived above, the proposed body temperature of the study (98.6 Fahrenheit) falls outside the interval. "
      ]
    },
    {
      "cell_type": "markdown",
      "metadata": {},
      "source": [
        "##### <span style='color:#3498DB; font-family: \"Helvetica\", Arial, sans-serif; font-size: 1.2em; font-weight: bold;'>Part d:</span>\n",
        "\n",
        "<span style='font-family: \"Segoe UI\", Tahoma, Geneva, Verdana, sans-serif; font-size: 1.2em; font-weight: bold;'>\n",
        "Give a two-side hypothesis test for a mean body temperature of 98.6 Fahrenheit and use the information above to evaluate a test with significance level α = 0.02.\n",
        "</span>\n"
      ]
    },
    {
      "cell_type": "markdown",
      "metadata": {},
      "source": [
        "$$ Z = \\frac{{\\text{{observation}} - \\text{{null}}}}{{\\text{{SE}}}} = \\frac{{98.2846 - 98.6}}{{0.09463185}} = -3.3138948461854425 $$"
      ]
    },
    {
      "cell_type": "markdown",
      "metadata": {},
      "source": [
        "**Because we have two-sided test we use 2 * p-value to check our conditions.**"
      ]
    },
    {
      "cell_type": "code",
      "execution_count": 1,
      "metadata": {
        "vscode": {
          "languageId": "r"
        }
      },
      "outputs": [
        {
          "data": {
            "text/html": [
              "0.000920061011982768"
            ],
            "text/latex": [
              "0.000920061011982768"
            ],
            "text/markdown": [
              "0.000920061011982768"
            ],
            "text/plain": [
              "[1] 0.000920061"
            ]
          },
          "metadata": {},
          "output_type": "display_data"
        }
      ],
      "source": [
        "# Define the z-score\n",
        "z_score <- -3.3138948461854425\n",
        "\n",
        "# Find the p-value\n",
        "p_value <- pnorm(z_score)\n",
        "\n",
        "2 * p_value"
      ]
    },
    {
      "cell_type": "markdown",
      "metadata": {},
      "source": [
        "Since p-value is low(0 < 0.02 ==> alpha), we can reject 𝐻0."
      ]
    },
    {
      "cell_type": "markdown",
      "metadata": {
        "id": "1UFyn2V8BWcV"
      },
      "source": [
        "<hr>"
      ]
    },
    {
      "cell_type": "markdown",
      "metadata": {
        "id": "J2GKlfrIBWcV"
      },
      "source": [
        "### <span style='color:#2ECC71; font-family: \"Arial\", sans-serif; font-size: 1.3em; font-weight: bold;'>Question 5</span>\n",
        "\n",
        "<span style='font-family: \"Segoe UI\", Tahoma, Geneva, Verdana, sans-serif; font-size: 1.2em; font-weight: bold;'>\n",
        "A researcher designs a study to test the hypotheses 𝐻0: 𝜇 ≥ 28 versus 𝐻a: 𝜇 < 28. A random sample of 50 measurements from the population of interest yields 𝑦̅= 25.9 and 𝑠 = 5.6.\n",
        "</span>\n",
        "\n"
      ]
    },
    {
      "cell_type": "markdown",
      "metadata": {
        "id": "H_Jp-9_uBWcZ"
      },
      "source": [
        "#### <span style='color:#E74C3C; font-family: \"Arial\", sans-serif; font-size: 1.1em; font-weight: bold;'>Answer</span>"
      ]
    },
    {
      "cell_type": "markdown",
      "metadata": {},
      "source": [
        "##### <span style='color:#3498DB; font-family: \"Helvetica\", Arial, sans-serif; font-size: 1.2em; font-weight: bold;'>Part a:</span>\n",
        "\n",
        "<span style='font-family: \"Segoe UI\", Tahoma, Geneva, Verdana, sans-serif; font-size: 1.2em; font-weight: bold;'>\n",
        "Using 𝛼 = 0.05, what conclusions can you make about the hypotheses based on the sample information?\n",
        "</span>\n"
      ]
    },
    {
      "cell_type": "code",
      "execution_count": 26,
      "metadata": {
        "vscode": {
          "languageId": "r"
        }
      },
      "outputs": [
        {
          "name": "stdout",
          "output_type": "stream",
          "text": [
            "The z-score for a 0.95 confidence interval is: 1.959964 \n"
          ]
        }
      ],
      "source": [
        "# Specify the significance level (alpha)\n",
        "alpha <- 0.05 \n",
        "\n",
        "# Calculate the z-score for the specified alpha\n",
        "z_score <- qnorm(1 - (alpha / 2))\n",
        "\n",
        "# Print the result\n",
        "cat(\"The z-score for a\", 1 - alpha, \"confidence interval is:\", z_score, \"\\n\")"
      ]
    },
    {
      "cell_type": "markdown",
      "metadata": {},
      "source": [
        "$ SE = \\frac{\\sigma}{\\sqrt{n}} = \\frac{5.6}{\\sqrt{50}} \\approx 0.79$\n",
        "\n",
        "$$ 25.9 - 1.96 \\times 0.79 < \\mu < 25.9 + 1.96 \\times 0.79 \\Rightarrow 24.3515 < \\mu < 27.4484 $$\n",
        "\n",
        "Based on the confidence interval, 𝜇 ≥ 28 is not present in this interval. Therefore, the 𝐻0 is rejected."
      ]
    },
    {
      "cell_type": "markdown",
      "metadata": {},
      "source": [
        "##### <span style='color:#3498DB; font-family: \"Helvetica\", Arial, sans-serif; font-size: 1.2em; font-weight: bold;'>Part b:</span>\n",
        "\n",
        "<span style='font-family: \"Segoe UI\", Tahoma, Geneva, Verdana, sans-serif; font-size: 1.2em; font-weight: bold;'>\n",
        "Calculate the probability of making a Type II error if the actual value of 𝜇 is at most 27.\n",
        "</span>\n"
      ]
    },
    {
      "cell_type": "markdown",
      "metadata": {},
      "source": [
        "$$\n",
        "\\text{Type 2 error} = \\beta = P(\\text{Fail to reject } H_0 \\mid \\mu = \\mu_a)\n",
        "$$\n",
        "\n",
        "$$\n",
        "\\alpha = 0.05, \\text{ one side test} \\rightarrow z_{\\alpha} = -1.644854 \\left( P(Z < -1.644854) = 0.05 \\right)\n",
        "$$\n",
        "\n",
        "$$\n",
        "\\text{Type 2 error} = P\\left( -1.644854 < \\frac{\\overline{y} - 28}{0.79196} \\mid \\overline{y} \\sim N(\\mu = 27, SE = 0.79196) \\right)\n",
        "$$\n",
        "\n",
        "$$\n",
        "\\text{Type 2 error} = P\\left( 28 - 1.644854 \\times 0.79196 = 26.69734 < \\overline{y} \\mid \\overline{y} \\sim N(27, 0.79196) \\right)\n",
        "$$\n",
        "\n",
        "$$\n",
        "= P\\left( \\frac{26.69734 - 27}{0.79196} \\leq Z \\right)\n",
        "$$\n",
        "\n",
        "$$\n",
        "= P(-0.382 \\leq Z) = 0.6488308\n",
        "$$\n"
      ]
    },
    {
      "cell_type": "markdown",
      "metadata": {},
      "source": [
        "##### <span style='color:#3498DB; font-family: \"Helvetica\", Arial, sans-serif; font-size: 1.2em; font-weight: bold;'>Part c:</span>\n",
        "\n",
        "<span style='font-family: \"Segoe UI\", Tahoma, Geneva, Verdana, sans-serif; font-size: 1.2em; font-weight: bold;'>\n",
        "Could you have possibly made a Type II error in your decision in part (a)? Explain your answer.\n",
        "</span>\n"
      ]
    },
    {
      "cell_type": "markdown",
      "metadata": {},
      "source": [
        "The probability of a Type II error (β) is considered acceptable when it is below 0.2. It is crucial to consider the Type II error when we fail to reject the null hypothesis (H₀).\n",
        "\n",
        "In this case, we strongly rejected the null hypothesis because the p-value was close to zero. Therefore, the concern about a Type II error is not significant here."
      ]
    },
    {
      "cell_type": "markdown",
      "metadata": {
        "id": "ygFPK-nSBWcb"
      },
      "source": [
        "<hr>"
      ]
    },
    {
      "cell_type": "markdown",
      "metadata": {
        "id": "e2wZ3uNABWcb"
      },
      "source": [
        "### <span style='color:#2ECC71; font-family: \"Arial\", sans-serif; font-size: 1.3em; font-weight: bold;'>Question 6</span>\n",
        "\n",
        "<span style='font-family: \"Segoe UI\", Tahoma, Geneva, Verdana, sans-serif; font-size: 1.2em; font-weight: bold;'>\n",
        "\n",
        "Refer to the previous exercise (Ex. 5). Sketch the power curve for rejecting 𝐻0: 𝜇 ≥ 28 by determining (𝜇a) for the following values of 𝜇: 22, 23, 24, 25, 26, and 27.\n",
        "</span>\n",
        "\n"
      ]
    },
    {
      "cell_type": "markdown",
      "metadata": {
        "id": "kjmjouO2BWcb"
      },
      "source": [
        "#### <span style='color:#E74C3C; font-family: \"Arial\", sans-serif; font-size: 1.1em; font-weight: bold;'>Answer</span>"
      ]
    },
    {
      "cell_type": "markdown",
      "metadata": {},
      "source": [
        "##### <span style='color:#3498DB; font-family: \"Helvetica\", Arial, sans-serif; font-size: 1.2em; font-weight: bold;'>Part a:</span>\n",
        "\n",
        "<span style='font-family: \"Segoe UI\", Tahoma, Geneva, Verdana, sans-serif; font-size: 1.2em; font-weight: bold;'>\n",
        "Interpret the power values displayed in your graph.\n",
        "</span>\n"
      ]
    },
    {
      "cell_type": "markdown",
      "metadata": {},
      "source": [
        "\n",
        "$\\mu = 27 \\Rightarrow \\text{power} = 1 - P(\\text{Type II error}) = 1 - \\beta = 1 - p(z \\leq z_{\\alpha} - \\frac{\\mu_{a} - \\mu}{SE}) \\\\\n",
        "\\Rightarrow \\text{power} = 1 - p(z \\leq 1.645 - \\frac{28- 27}{0.8}) = 1 - p(z \\leq 0.395) = 1 - 0.6535786 = 0.3464214$\n",
        "\n",
        "$\\mu = 26 \\Rightarrow \\text{power} = 1 - p(z \\leq 1.645 - \\frac{28 - 26}{0.8}) = 1 - p(z \\leq -0.855) = 1 - 0.1962756 = 0.8037244$\n",
        "\n",
        "$\\mu = 25 \\Rightarrow \\text{power} = 1 - p(z \\leq 1.645 - \\frac{28 - 25}{0.8}) = 1 - p(z \\leq -2.105) = 1 - 0.01764565 = 0.9823544$\n",
        "\n",
        "$\\mu = 24 \\Rightarrow \\text{power} = 1 - p(z \\leq 1.645 - \\frac{28 - 24}{0.8}) = 1 - p(z \\leq -3.355) = 1 - 0.0003968249 = 0.9996032$\n",
        "\n",
        "$\\mu = 23 \\Rightarrow \\text{power} = 1 - p(z \\leq 1.645 - \\frac{28 - 23}{0.8}) = 1 - p(z \\leq -4.605) = 1 - 0.000002062329 = 0.9999979$\n",
        "\n",
        "$\\mu = 22 \\Rightarrow \\text{power} = 1 - p(z \\leq 1.645 -\\frac{28 - 22}{0.8}) = 1 - p(z \\leq -5.855) = 1 - 0 = 1$\n",
        "\n"
      ]
    },
    {
      "cell_type": "code",
      "execution_count": 29,
      "metadata": {
        "vscode": {
          "languageId": "r"
        }
      },
      "outputs": [
        {
          "data": {
            "image/png": "[encoded data removed]",
            "text/plain": [
              "Plot with title \"Power vs. μ\""
            ]
          },
          "metadata": {
            "image/png": {
              "height": 420,
              "width": 420
            }
          },
          "output_type": "display_data"
        }
      ],
      "source": [
        "# Function to calculate power\n",
        "calculate_power <- function(mu, alpha, mu_a, se) {\n",
        "  z_alpha <- qnorm(1 - alpha)\n",
        "  z <- (z_alpha - ((mu_a - mu) / se))\n",
        "  power <- 1 - pnorm(z)\n",
        "  return(power)\n",
        "}\n",
        "\n",
        "# Define parameters\n",
        "mu <- c(27, 26, 25, 24, 23, 22)\n",
        "alpha <- 0.05\n",
        "mu_a <- 28\n",
        "se <- 0.79\n",
        "\n",
        "# Calculate power for each mu\n",
        "power <- sapply(mu, function(x) calculate_power(x, alpha, mu_a, se))\n",
        "\n",
        "# Create a data frame\n",
        "df <- data.frame(mu, power)\n",
        "\n",
        "# Plot\n",
        "plot(df$mu, df$power, type = \"l\", col = \"blue\", lwd = 2, \n",
        "     xlab = expression(mu), ylab = \"Power\", \n",
        "     main = \"Power vs. \\u03BC\")\n",
        "\n",
        "# Add points\n",
        "points(df$mu, df$power, col = \"red\", pch = 19)\n",
        "\n",
        "# Add grid\n",
        "grid()\n",
        "\n",
        "# Add legend\n",
        "legend(\"bottomright\", legend = c(\"Power\"), col = c(\"blue\"), lty = 1, lwd = 2)\n"
      ]
    },
    {
      "cell_type": "markdown",
      "metadata": {},
      "source": [
        "The power of a statistical test represents the likelihood of correctly rejecting the null hypothesis $H_0$. This probability is denoted as $1 - \\beta$, where $\\beta$ is the probability of committing a Type II error. As the null hypothesis moves further away from the true population mean, the power of the test increases. For instance, if $H_0$ assumes a mean of 28 while the actual population mean is substantially lower, say 22, the effect size is large. Consequently, the probability of correctly rejecting $H_0$ is significantly high, nearing 1. Conversely, if the actual mean value is closer to the hypothesized mean, such as 27, the effect size diminishes. As a result, the probability of rejecting $H_0$ decreases substantially, approaching 0."
      ]
    },
    {
      "cell_type": "markdown",
      "metadata": {},
      "source": [
        "##### <span style='color:#3498DB; font-family: \"Helvetica\", Arial, sans-serif; font-size: 1.2em; font-weight: bold;'>Part b:</span>\n",
        "\n",
        "<span style='font-family: \"Segoe UI\", Tahoma, Geneva, Verdana, sans-serif; font-size: 1.2em; font-weight: bold;'>\n",
        "Suppose we keep 𝑛 = 50 but change to 𝛼 = 0.01. Without actually recalculating the values for (𝜇a), sketch on the same graph as your original power curve, the new power curve for 𝑛 = 50 and 𝛼 = 0.01.\n",
        "</span>\n"
      ]
    },
    {
      "cell_type": "code",
      "execution_count": null,
      "metadata": {
        "vscode": {
          "languageId": "r"
        }
      },
      "outputs": [
        {
          "data": {
            "image/png": "[encoded data removed]",
            "text/plain": [
              "Plot with title \"Power vs. μ for α = 0.05 and 0.01\""
            ]
          },
          "metadata": {
            "image/png": {
              "height": 420,
              "width": 420
            }
          },
          "output_type": "display_data"
        }
      ],
      "source": [
        "# Function to calculate power\n",
        "calculate_power <- function(mu, alpha, mu_a, se) {\n",
        "  z_alpha <- qnorm(1 - alpha)\n",
        "  z <- (z_alpha - ((mu_a - mu) / se))\n",
        "  power <- 1 - pnorm(z)\n",
        "  return(power)\n",
        "}\n",
        "\n",
        "# Define parameters\n",
        "mu <- c(27, 26, 25, 24, 23, 22)\n",
        "alpha_05 <- 0.05  # Significance level for alpha = 0.05\n",
        "alpha_01 <- 0.01  # Significance level for alpha = 0.01\n",
        "mu_a <- 28\n",
        "se <- 0.79\n",
        "\n",
        "# Calculate power for each mu for alpha = 0.05\n",
        "power_05 <- sapply(mu, function(x) calculate_power(x, alpha_05, mu_a, mu_se))\n",
        "\n",
        "# Calculate power for each mu for alpha = 0.01\n",
        "power_01 <- sapply(mu, function(x) calculate_power(x, alpha_01, mu_a, mu_se))\n",
        "\n",
        "# Create a data frame for alpha = 0.05\n",
        "df_05 <- data.frame(mu, power_05)\n",
        "\n",
        "# Create a data frame for alpha = 0.01\n",
        "df_01 <- data.frame(mu, power_01)\n",
        "\n",
        "# Plot\n",
        "plot(df_05$mu, df_05$power_05, type = \"l\", col = \"blue\", lwd = 2, \n",
        "     xlab = expression(mu), ylab = \"Power\", \n",
        "     main = \"Power vs. \\u03BC for \\u03B1 = 0.05 and 0.01\")\n",
        "\n",
        "# Add the power curve for alpha = 0.01\n",
        "lines(df_01$mu, df_01$power_01, col = \"red\", lwd = 2)\n",
        "\n",
        "# Add points for alpha = 0.05\n",
        "points(df_05$mu, df_05$power_05, col = \"blue\", pch = 19)\n",
        "\n",
        "# Add points for alpha = 0.01\n",
        "points(df_01$mu, df_01$power_01, col = \"red\", pch = 19)\n",
        "\n",
        "# Add legend\n",
        "legend(\"topright\", legend = c(\"Power (\\u03B1 = 0.05)\", \"Power (\\u03B1 = 0.01)\"), col = c(\"blue\", \"red\"), lty = 1, lwd = 2)\n"
      ]
    },
    {
      "cell_type": "markdown",
      "metadata": {},
      "source": [
        "##### <span style='color:#3498DB; font-family: \"Helvetica\", Arial, sans-serif; font-size: 1.2em; font-weight: bold;'>Part c:</span>\n",
        "\n",
        "<span style='font-family: \"Segoe UI\", Tahoma, Geneva, Verdana, sans-serif; font-size: 1.2em; font-weight: bold;'>\n",
        "Suppose we keep 𝛼 = .05 but change to 𝑛 = 20. Without actually recalculating the values for 𝑃𝑊𝑅(𝜇a), sketch on the same graph as your original power curve the new power curve for 𝑛 = 20 and 𝛼 = 0.05.\n",
        "</span>\n"
      ]
    },
    {
      "cell_type": "markdown",
      "metadata": {},
      "source": [
        "first we need to update SE value\n",
        "\n",
        "$ SE = \\frac{\\sigma}{\\sqrt{n}} = \\frac{5.6}{\\sqrt{20}} \\approx 1.25$"
      ]
    },
    {
      "cell_type": "code",
      "execution_count": null,
      "metadata": {
        "vscode": {
          "languageId": "r"
        }
      },
      "outputs": [
        {
          "data": {
            "image/png": "[encoded data removed]",
            "text/plain": [
              "Plot with title \"Power vs. μ for Different Sample Sizes and Significance Levels\""
            ]
          },
          "metadata": {
            "image/png": {
              "height": 420,
              "width": 420
            }
          },
          "output_type": "display_data"
        }
      ],
      "source": [
        "# Function to calculate power\n",
        "calculate_power <- function(mu, alpha, mu_a, se) {\n",
        "  z_alpha <- qnorm(1 - alpha)\n",
        "  z <- (z_alpha - ((mu_a - mu) / se))\n",
        "  power <- 1 - pnorm(z)\n",
        "  return(power)\n",
        "}\n",
        "\n",
        "# Define parameters\n",
        "mu <- c(27, 26, 25, 24, 23, 22)\n",
        "mu_a <- 28\n",
        "se <- 0.79\n",
        "\n",
        "# Calculate power for n = 50 and alpha = 0.05\n",
        "alpha_1 <- 0.05\n",
        "power_1 <- sapply(mu, function(x) calculate_power(x, alpha_1, mu_a, se))\n",
        "\n",
        "# Calculate power for n = 50 and alpha = 0.01\n",
        "alpha_2 <- 0.01\n",
        "power_2 <- sapply(mu, function(x) calculate_power(x, alpha_2, mu_a, se))\n",
        "\n",
        "# Calculate power for n = 20 and alpha = 0.05 (SE = 1.25)\n",
        "alpha_3 <- 0.05\n",
        "power_3 <- sapply(mu, function(x) calculate_power(x, alpha_3, mu_a, 1.25))\n",
        "\n",
        "# Plot all three power curves\n",
        "plot(mu, power_1, type = \"l\", col = \"blue\", lwd = 2,\n",
        "     xlab = expression(mu), ylab = \"Power\",\n",
        "     main = \"Power vs. \\u03BC for Different Sample Sizes and Significance Levels\")\n",
        "lines(mu, power_2, col = \"red\", lwd = 2)\n",
        "lines(mu, power_3, col = \"green\", lwd = 2)\n",
        "\n",
        "# Add legend\n",
        "legend(\"topright\", legend = c(\"n = 50, \\u03B1 = 0.05\", \"n = 50, \\u03B1 = 0.01\", \"n = 20, \\u03B1 = 0.05\"),\n",
        "       col = c(\"blue\", \"red\", \"green\"), lty = 1, lwd = 2)\n"
      ]
    },
    {
      "cell_type": "markdown",
      "metadata": {
        "id": "6wp2h84UBWcg"
      },
      "source": [
        "<hr>"
      ]
    },
    {
      "cell_type": "markdown",
      "metadata": {
        "id": "KnCCjZmwBWcg"
      },
      "source": [
        "### <span style='color:#2ECC71; font-family: \"Arial\", sans-serif; font-size: 1.3em; font-weight: bold;'>Question 7</span>\n",
        "\n",
        "<span style='font-family: \"Segoe UI\", Tahoma, Geneva, Verdana, sans-serif; font-size: 1.2em; font-weight: bold;'>\n",
        "\n",
        "For this question, use the dataset \"Galton\" placed next to the exercise. This dataset includes the height of children and their parents. (Assume that the standard deviation of the society is unknown)\n",
        "Use the height of the children:\n",
        "</span>"
      ]
    },
    {
      "cell_type": "markdown",
      "metadata": {},
      "source": [
        "First , we need to read dataset"
      ]
    },
    {
      "cell_type": "code",
      "execution_count": 30,
      "metadata": {
        "vscode": {
          "languageId": "r"
        }
      },
      "outputs": [
        {
          "data": {
            "text/html": [
              "<table class=\"dataframe\">\n",
              "<caption>A data.frame: 6 × 6</caption>\n",
              "<thead>\n",
              "\t<tr><th></th><th scope=col>Family</th><th scope=col>Father</th><th scope=col>Mother</th><th scope=col>Gender</th><th scope=col>Height</th><th scope=col>Kids</th></tr>\n",
              "\t<tr><th></th><th scope=col>&lt;chr&gt;</th><th scope=col>&lt;dbl&gt;</th><th scope=col>&lt;dbl&gt;</th><th scope=col>&lt;chr&gt;</th><th scope=col>&lt;dbl&gt;</th><th scope=col>&lt;int&gt;</th></tr>\n",
              "</thead>\n",
              "<tbody>\n",
              "\t<tr><th scope=row>1</th><td>1</td><td>78.5</td><td>67.0</td><td>M</td><td>73.2</td><td>4</td></tr>\n",
              "\t<tr><th scope=row>2</th><td>1</td><td>78.5</td><td>67.0</td><td>F</td><td>69.2</td><td>4</td></tr>\n",
              "\t<tr><th scope=row>3</th><td>1</td><td>78.5</td><td>67.0</td><td>F</td><td>69.0</td><td>4</td></tr>\n",
              "\t<tr><th scope=row>4</th><td>1</td><td>78.5</td><td>67.0</td><td>F</td><td>69.0</td><td>4</td></tr>\n",
              "\t<tr><th scope=row>5</th><td>2</td><td>75.5</td><td>66.5</td><td>M</td><td>73.5</td><td>4</td></tr>\n",
              "\t<tr><th scope=row>6</th><td>2</td><td>75.5</td><td>66.5</td><td>M</td><td>72.5</td><td>4</td></tr>\n",
              "</tbody>\n",
              "</table>\n"
            ],
            "text/latex": [
              "A data.frame: 6 × 6\n",
              "\\begin{tabular}{r|llllll}\n",
              "  & Family & Father & Mother & Gender & Height & Kids\\\\\n",
              "  & <chr> & <dbl> & <dbl> & <chr> & <dbl> & <int>\\\\\n",
              "\\hline\n",
              "\t1 & 1 & 78.5 & 67.0 & M & 73.2 & 4\\\\\n",
              "\t2 & 1 & 78.5 & 67.0 & F & 69.2 & 4\\\\\n",
              "\t3 & 1 & 78.5 & 67.0 & F & 69.0 & 4\\\\\n",
              "\t4 & 1 & 78.5 & 67.0 & F & 69.0 & 4\\\\\n",
              "\t5 & 2 & 75.5 & 66.5 & M & 73.5 & 4\\\\\n",
              "\t6 & 2 & 75.5 & 66.5 & M & 72.5 & 4\\\\\n",
              "\\end{tabular}\n"
            ],
            "text/markdown": [
              "\n",
              "A data.frame: 6 × 6\n",
              "\n",
              "| <!--/--> | Family &lt;chr&gt; | Father &lt;dbl&gt; | Mother &lt;dbl&gt; | Gender &lt;chr&gt; | Height &lt;dbl&gt; | Kids &lt;int&gt; |\n",
              "|---|---|---|---|---|---|---|\n",
              "| 1 | 1 | 78.5 | 67.0 | M | 73.2 | 4 |\n",
              "| 2 | 1 | 78.5 | 67.0 | F | 69.2 | 4 |\n",
              "| 3 | 1 | 78.5 | 67.0 | F | 69.0 | 4 |\n",
              "| 4 | 1 | 78.5 | 67.0 | F | 69.0 | 4 |\n",
              "| 5 | 2 | 75.5 | 66.5 | M | 73.5 | 4 |\n",
              "| 6 | 2 | 75.5 | 66.5 | M | 72.5 | 4 |\n",
              "\n"
            ],
            "text/plain": [
              "  Family Father Mother Gender Height Kids\n",
              "1 1      78.5   67.0   M      73.2   4   \n",
              "2 1      78.5   67.0   F      69.2   4   \n",
              "3 1      78.5   67.0   F      69.0   4   \n",
              "4 1      78.5   67.0   F      69.0   4   \n",
              "5 2      75.5   66.5   M      73.5   4   \n",
              "6 2      75.5   66.5   M      72.5   4   "
            ]
          },
          "metadata": {},
          "output_type": "display_data"
        }
      ],
      "source": [
        "# Set the file path to your .txt file\n",
        "file_path <- \"Galton.txt\"\n",
        "\n",
        "# Read the .txt file using read.table()\n",
        "data <- read.table(file_path, header = TRUE)\n",
        "\n",
        "# View the first few rows of the data to verify if it's loaded correctly\n",
        "head(data)\n"
      ]
    },
    {
      "cell_type": "markdown",
      "metadata": {
        "id": "i7EvPYL5BWch"
      },
      "source": [
        "#### <span style='color:#E74C3C; font-family: \"Arial\", sans-serif; font-size: 1.1em; font-weight: bold;'>Answer</span>"
      ]
    },
    {
      "cell_type": "markdown",
      "metadata": {
        "id": "1-GFxXp_BWcj"
      },
      "source": [
        "##### <span style='color:#3498DB; font-family: \"Helvetica\", Arial, sans-serif; font-size: 1.2em; font-weight: bold;'>Part a:</span>\n",
        "\n",
        "<span style='font-family: \"Segoe UI\", Tahoma, Geneva, Verdana, sans-serif; font-size: 1.2em; font-weight: bold;'>\n",
        "Generate 20000 samples of size 60 using sampling. Then calculate the 97% \n",
        "confidence interval for each of these samples. What percentage of the intervals \n",
        "include the real mean of the society?\n",
        "</span>\n"
      ]
    },
    {
      "cell_type": "code",
      "execution_count": 31,
      "metadata": {
        "vscode": {
          "languageId": "r"
        }
      },
      "outputs": [],
      "source": [
        "confidence_intervals_include_mean <- function(data, num_samples, sample_size, alpha) {\n",
        "  # Initialize a counter for intervals including the population mean\n",
        "  intervals_include_mean <- 0\n",
        "  \n",
        "  # Generate 'num_samples' samples of size 'sample_size' and calculate confidence intervals for each\n",
        "  for (i in 1:num_samples) {\n",
        "    # Sample with replacement from the dataset\n",
        "    sample_indices <- sample(nrow(data), size = sample_size, replace = TRUE)\n",
        "    sample_data <- data[sample_indices, ]\n",
        "    \n",
        "    # Calculate mean and standard error\n",
        "    sample_mean <- mean(sample_data$Height)\n",
        "    sample_sd <- sd(sample_data$Height)\n",
        "    standard_error <- sample_sd / sqrt(sample_size)\n",
        "    \n",
        "    # Calculate the margin of error for the confidence interval\n",
        "    margin_of_error <- abs(qnorm(1 - alpha / 2)) * standard_error\n",
        "    \n",
        "    # Calculate confidence interval\n",
        "    lower_bound <- sample_mean - margin_of_error\n",
        "    upper_bound <- sample_mean + margin_of_error\n",
        "    \n",
        "    # Check if the population mean falls within the confidence interval\n",
        "    if (lower_bound <= mean(data$Height) && upper_bound >= mean(data$Height)) {\n",
        "      intervals_include_mean <- intervals_include_mean + 1\n",
        "    }\n",
        "  }\n",
        "  \n",
        "  # Calculate the percentage of intervals that include the population mean\n",
        "  percentage_include_mean <- intervals_include_mean / num_samples * 100\n",
        "  \n",
        "  return(percentage_include_mean)\n",
        "}"
      ]
    },
    {
      "cell_type": "code",
      "execution_count": 32,
      "metadata": {
        "vscode": {
          "languageId": "r"
        }
      },
      "outputs": [
        {
          "name": "stdout",
          "output_type": "stream",
          "text": [
            "Percentage of intervals including the population mean: 96.52 %\n"
          ]
        }
      ],
      "source": [
        "set.seed(42)\n",
        "# Call the function\n",
        "result <- confidence_intervals_include_mean(data, num_samples = 20000, sample_size = 60, alpha = 0.03)\n",
        "cat(\"Percentage of intervals including the population mean:\", result, \"%\\n\")\n"
      ]
    },
    {
      "cell_type": "markdown",
      "metadata": {
        "id": "WGZbIKgNBWck"
      },
      "source": [
        "##### <span style='color:#3498DB; font-family: \"Helvetica\", Arial, sans-serif; font-size: 1.2em; font-weight: bold;'>Part b:</span>\n",
        "\n",
        "<span style='font-family: \"Segoe UI\", Tahoma, Geneva, Verdana, sans-serif; font-size: 1.2em; font-weight: bold;'>\n",
        "Repeat  the  above  test  for  10000  samples  with  size  10.  This  time, \n",
        "calculate the 90% confidence interval. What is  your conclusion about \n",
        "these two tests? \n",
        "</span>\n"
      ]
    },
    {
      "cell_type": "code",
      "execution_count": 33,
      "metadata": {
        "vscode": {
          "languageId": "r"
        }
      },
      "outputs": [
        {
          "name": "stdout",
          "output_type": "stream",
          "text": [
            "Percentage of intervals including the population mean for 10,000 samples with size 10 and 90% confidence level: 86.91 %\n"
          ]
        }
      ],
      "source": [
        "set.seed(42)\n",
        "# Conduct the test for 10,000 samples with size 10 and 90% confidence level\n",
        "result_2 <- confidence_intervals_include_mean(data, num_samples = 10000, sample_size = 10, alpha = 0.1)\n",
        "\n",
        "# Print the results\n",
        "cat(\"Percentage of intervals including the population mean for 10,000 samples with size 10 and 90% confidence level:\", result_2, \"%\\n\")\n"
      ]
    },
    {
      "cell_type": "markdown",
      "metadata": {},
      "source": [
        "Increasing `sample size` and `confidence level` generally improve the accuracy of confidence intervals and increase the likelihood of capturing the population mean. However, it's important to balance the trade-off between sample size, confidence level, and practical considerations such as cost and time constraints."
      ]
    },
    {
      "cell_type": "markdown",
      "metadata": {
        "id": "vI6Qh4w0BWck"
      },
      "source": [
        "##### <span style='color:#3498DB; font-family: \"Helvetica\", Arial, sans-serif; font-size: 1.2em; font-weight: bold;'>Part c:</span>\n",
        "\n",
        "<span style='font-family: \"Segoe UI\", Tahoma, Geneva, Verdana, sans-serif; font-size: 1.2em; font-weight: bold;'>\n",
        "Separate a sample with the size of 70 data from the mentioned data. Then \n",
        "check the following assumption and calculate the power. \n",
        "𝐻0: 𝜇 =60 \n",
        "𝐻𝐴: 𝜇  ≠ 60\n",
        "</span>\n"
      ]
    },
    {
      "cell_type": "markdown",
      "metadata": {},
      "source": [
        "For 95% Confidence interval"
      ]
    },
    {
      "cell_type": "code",
      "execution_count": 45,
      "metadata": {
        "vscode": {
          "languageId": "r"
        }
      },
      "outputs": [
        {
          "name": "stdout",
          "output_type": "stream",
          "text": [
            "The correct value of mean => 60 is not beetwen the 68.57018 and 69.90696 So H0 rejected \n",
            "The power is equal 1"
          ]
        }
      ],
      "source": [
        "set.seed(42)\n",
        "# Function to calculate the confidence interval\n",
        "calculate_ci <- function(sample_data, alpha) {\n",
        "  sample_mean <- mean(sample_data$Father)\n",
        "  sample_sd <- sd(sample_data$Father)\n",
        "  standard_error <- sample_sd / sqrt(sample_size) \n",
        "  \n",
        "  margin_of_error <- abs(qnorm(1 - alpha / 2)) * standard_error\n",
        "  \n",
        "  lower_bound <- sample_mean - margin_of_error\n",
        "  upper_bound <- sample_mean + margin_of_error\n",
        "  return(c(lower_bound, upper_bound))\n",
        "}\n",
        "\n",
        "# Separate a sample of size 70 from the height data of fathers\n",
        "sample_size <- 70\n",
        "sample_indices <- sample(nrow(data), size = sample_size)\n",
        "sample_data <- data[sample_indices, ]\n",
        "\n",
        "# Calculate the confidence interval for this sample\n",
        "alpha <- 0.05\n",
        "ci <- calculate_ci(sample_data, alpha)\n",
        "\n",
        "# Check if the true mean falls outside of the confidence interval\n",
        "true_mean <- 60\n",
        "if (true_mean < ci[1] || true_mean > ci[2]) {\n",
        "    cat(\"The correct value of mean =>\", true_mean ,\"is not beetwen the\", ci[1], \"and\", ci[2], \"So H0 rejected \\n\")\n",
        "    cat(\"The power is equal 1\")\n",
        "} else {\n",
        "    cat(\"The correct value of mean =>\", true_mean,\"is beetwen the\", ci[1], \"and\", ci[2],  \"So H0 not rejected\\n\")\n",
        "    cat(\"The power is equal 0\")\n",
        "}\n"
      ]
    },
    {
      "cell_type": "markdown",
      "metadata": {
        "id": "nQ-JosQZBWcl"
      },
      "source": [
        "##### <span style='color:#3498DB; font-family: \"Helvetica\", Arial, sans-serif; font-size: 1.2em; font-weight: bold;'>Part d:</span>\n",
        "\n",
        "<span style='font-family: \"Segoe UI\", Tahoma, Geneva, Verdana, sans-serif; font-size: 1.2em; font-weight: bold;'>\n",
        "Now, isolate a sample of 10 data and repeat the above test and report the results \n",
        "</span>\n"
      ]
    },
    {
      "cell_type": "code",
      "execution_count": 46,
      "metadata": {
        "vscode": {
          "languageId": "r"
        }
      },
      "outputs": [
        {
          "name": "stdout",
          "output_type": "stream",
          "text": [
            "The correct value of mean => 60 is not beetwen the 69.63576 and 71.60424 So H0 rejected \n",
            "The power is equal 1"
          ]
        }
      ],
      "source": [
        "set.seed(42)\n",
        "# Separate a sample of size 70 from the height data of fathers\n",
        "sample_size <- 10\n",
        "sample_indices <- sample(nrow(data), size = sample_size)\n",
        "sample_data <- data[sample_indices, ]\n",
        "\n",
        "# Calculate the confidence interval for this sample\n",
        "alpha <- 0.05\n",
        "ci <- calculate_ci(sample_data, alpha)\n",
        "\n",
        "# Check if the true mean falls outside of the confidence interval\n",
        "true_mean <- 60\n",
        "if (true_mean < ci[1] || true_mean > ci[2]) {\n",
        "    cat(\"The correct value of mean =>\", true_mean ,\"is not beetwen the\", ci[1], \"and\", ci[2], \"So H0 rejected \\n\")\n",
        "    cat(\"The power is equal 1\")\n",
        "} else {\n",
        "    cat(\"The correct value of mean =>\", true_mean,\"is beetwen the\", ci[1], \"and\", ci[2],  \"So H0 not rejected\\n\")\n",
        "    cat(\"The power is equal 0\")\n",
        "}"
      ]
    },
    {
      "cell_type": "markdown",
      "metadata": {},
      "source": [
        "##### <span style='color:#3498DB; font-family: \"Helvetica\", Arial, sans-serif; font-size: 1.2em; font-weight: bold;'>Part e:</span>\n",
        "\n",
        "<span style='font-family: \"Segoe UI\", Tahoma, Geneva, Verdana, sans-serif; font-size: 1.2em; font-weight: bold;'>\n",
        "What do you get from comparing the above results? \n",
        "</span>\n"
      ]
    },
    {
      "cell_type": "markdown",
      "metadata": {},
      "source": [
        "In both case we can reject H0 .\n",
        "\n",
        "In first case we use 70 as sample size then in another case use 10 as sample size so the result is diffrent.\n",
        "\n",
        "If we use a smaller sample size, it will probably be less accurate we will find. \n",
        "\n",
        "If we use a smaller sample size, the width of our confidence interval has increased."
      ]
    }
  ],
  "metadata": {
    "colab": {
      "collapsed_sections": [
        "KQbRmJCrBWbi",
        "u4gFy0JTBWcO",
        "VrLL7kfNBWcQ",
        "_UUYPnglBWcU",
        "J2GKlfrIBWcV",
        "e2wZ3uNABWcb",
        "KnCCjZmwBWcg",
        "i7EvPYL5BWch"
      ],
      "provenance": [],
      "toc_visible": true
    },
    "kernelspec": {
      "display_name": "R",
      "language": "R",
      "name": "ir"
    },
    "language_info": {
      "codemirror_mode": "r",
      "file_extension": ".r",
      "mimetype": "text/x-r-source",
      "name": "R",
      "pygments_lexer": "r",
      "version": "4.2.2"
    }
  },
  "nbformat": 4,
  "nbformat_minor": 0
}
