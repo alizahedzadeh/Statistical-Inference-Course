{
  "cells": [
    {
      "cell_type": "markdown",
      "metadata": {
        "id": "BcCCabvWBWbd"
      },
      "source": [
        "<div style=\"display: flex; justify-content: space-between;\">\n",
        "    <img src=\"https://teias.institute/wp-content/uploads/2021/07/TEIAS-LOGO-DARK.png\" width=\"300\" alt=\"TEIAS Institute logo\" />\n",
        "    <img src=\"https://d1m75rqqgidzqn.cloudfront.net/wp-data/2019/09/11134058/What-is-data-science-2.jpg\" width=\"300\" alt=\"Data Science image\" />\n",
        "</div>\n",
        "\n",
        "# <span style='font-family: \"Georgia\", Times, \"Times New Roman\", serif; color:#3498DB;'>**Statistical Inference Course (Spring 2024)**</span>\n",
        "\n",
        "## <span style='font-family: \"Helvetica Neue\", Helvetica, Arial, sans-serif; color:#2E86C1;'>**Project - Phase - 2**</span>\n",
        "\n",
        "<hr>\n",
        "\n",
        "### <span style='font-family: \"Courier New\", Courier, monospace; color:#27AE30;'>**Professor**</span>\n",
        "\n",
        "*   Dr. Behnam Bahrak\n",
        "\n",
        "### <span style='font-family: \"Courier New\", Courier, monospace; color:#E67E22;'>**Student**</span>\n",
        "\n",
        "*   Ali Zahedzadeh\n"
      ]
    },
    {
      "cell_type": "markdown",
      "metadata": {},
      "source": [
        "<hr>"
      ]
    },
    {
      "cell_type": "markdown",
      "metadata": {},
      "source": [
        "### <span style='font-family: \"Arial\", sans-serif; font-size: 1.3em; font-weight: bold;'>About Dataset</span>"
      ]
    },
    {
      "cell_type": "markdown",
      "metadata": {},
      "source": [
        "<div dir=ltr style=\"direction: ltr;text-align: right;line-height:200%;font-family:vazir;font-size:medium\">\n",
        "<font face=\"vazir\" size=3>\n",
        "<center>\n",
        "\n",
        "| Column | Description |\n",
        "|:-----------:|:------:|\n",
        "| `age` |Age of the patient in completed years|\n",
        "| `sex` | Gender of the patient|\n",
        "| `cp` | Chest Pain type (1: typical angina, 2: atypical angina, 3: non-anginal pain, 4: asymptomatic)|\n",
        "| `trestbps` | resting blood pressure (in mm Hg)|\n",
        "| `chol` | cholestoral in mg/dl fetched via BMI sensor|\n",
        "| `fbs` |(fasting blood sugar > 120 mg/dl) (1 = true; 0 = false)|\n",
        "| `restecg` | 0: normal, 1: having ST-T wave abnormality (T wave inversions and/or ST elevation or depression of > 0.05 mV), 2: showing probable or definite left ventricular hypertrophy by Estes' criteria|\n",
        "| `thalach` | maximum heart rate achieved|\n",
        "| `exang` |Exercise-induced angina (1 = yes, 0 = no)|\n",
        "| `oldpeak` | Previous peak|\n",
        "| `slope` | The slope of the peak exercise ST segment|\n",
        "| `ca` | number of major vessels (0-4)|\n",
        "| `thal`\t | 0 = Normal , 1 = Fixed , 2 = Reversible , 3 = Non-Reversible|\n",
        "| `target` | 0 = less chance of heart attack , 1 = more chance of heart attack|\n",
        "\n",
        "</center>\n",
        "</font>\n",
        "</div>"
      ]
    },
    {
      "cell_type": "markdown",
      "metadata": {},
      "source": [
        "**More details for some columns**"
      ]
    },
    {
      "cell_type": "markdown",
      "metadata": {},
      "source": [
        "**```Cp Column```** Values :\n",
        "\n",
        "1. **Typical Angina (0):** This category likely represents chest pain that conforms to the classic symptoms associated with angina, often characterized by a sensation of pressure, squeezing, or burning in the chest, which may radiate to the arms, neck, or jaw.\n",
        "\n",
        "2. **Atypical Angina (1):** Chest pain falling into this category is expected to deviate from the classic symptoms of angina. It may present with non-specific or less common symptoms, making it atypical in nature.\n",
        "\n",
        "3. **Non-Anginal Pain (2):** This category likely includes chest pain that is not related to angina. It might encompass a variety of sensations, and its classification implies a deviation from the typical symptoms associated with angina.\n",
        "\n",
        "4. **Asymptomatic (3):** Individuals categorized as asymptomatic are expected to exhibit no noticeable symptoms of chest pain. This group may be crucial for understanding individuals who do not manifest typical warning signs but still may be at risk for cardiovascular issues."
      ]
    },
    {
      "cell_type": "markdown",
      "metadata": {},
      "source": [
        "**```Ca Column```** Values :\n",
        "\n",
        "This variable is likely a crucial parameter in assessing the severity of cardiovascular conditions. This variable is expected to denote the count of major blood vessels colored by fluoroscopy, and it ranges from 0 to 4. Each value in this range signifies a different level of vascular involvement, which could be indicative of the extent and severity of coronary artery disease.\n",
        "\n",
        "1. **0:** This category might represent cases where there are no major vessels with a coloration observed during fluoroscopy, suggesting a potential absence of significant coronary artery disease.\n",
        "\n",
        "2. **1-4:** These values likely indicate an increasing severity of coronary artery disease, with a higher number corresponding to a greater degree of vessel involvement."
      ]
    },
    {
      "cell_type": "markdown",
      "metadata": {},
      "source": [
        "**```Thal Column```** Values :\n",
        "\n",
        "Thal column is categorical and represents different types of thalassemia or related conditions. The values are as follows:\n",
        "\n",
        "- **0 (null):** This value may indicate the absence of information or a null/missing entry in the dataset for the \"Thal\" variable.\n",
        "\n",
        "- **1 (fixed defect):** This category likely represents a specific type of thalassemia characterized by a fixed defect.\n",
        "\n",
        "- **2 (normal):** This value may indicate a normal condition, suggesting the absence of thalassemia or any related defects.\n",
        "\n",
        "- **3 (reversible defect):** This category could imply a form of thalassemia or a related condition that is potentially reversible.\n",
        "\n"
      ]
    },
    {
      "cell_type": "markdown",
      "metadata": {
        "id": "cdqq_CHkBWbh"
      },
      "source": [
        "<hr>"
      ]
    },
    {
      "cell_type": "markdown",
      "metadata": {},
      "source": [
        "### <span style='font-family: \"Arial\", sans-serif; font-size: 1.3em; font-weight: bold;'>Import Libraries</span>"
      ]
    },
    {
      "cell_type": "markdown",
      "metadata": {},
      "source": [
        "**Read dataset**"
      ]
    },
    {
      "cell_type": "code",
      "execution_count": 62,
      "metadata": {
        "vscode": {
          "languageId": "r"
        }
      },
      "outputs": [],
      "source": [
        "library(ggplot2)\n",
        "library(ggcorrplot)\n",
        "library(Hmisc)\n",
        "library(corrplot)\n",
        "library(reshape2)\n",
        "library(ggExtra)\n",
        "library(gridExtra)\n",
        "library(GGally)\n",
        "library(hexbin)\n",
        "library(plotly)\n",
        "library(vcd)\n",
        "library(ggmosaic)\n",
        "library(dplyr)\n",
        "library(boot)\n",
        "library(caret)\n",
        "library(Metrics)\n",
        "library(MASS)\n",
        "library(car)\n",
        "library(tidyverse)\n",
        "library(pROC)"
      ]
    },
    {
      "cell_type": "markdown",
      "metadata": {},
      "source": [
        "**Read dataset**"
      ]
    },
    {
      "cell_type": "code",
      "execution_count": 3,
      "metadata": {
        "vscode": {
          "languageId": "r"
        }
      },
      "outputs": [
        {
          "data": {
            "text/html": [
              "<table class=\"dataframe\">\n",
              "<caption>A data.frame: 6 × 14</caption>\n",
              "<thead>\n",
              "\t<tr><th></th><th scope=col>age</th><th scope=col>sex</th><th scope=col>cp</th><th scope=col>trestbps</th><th scope=col>chol</th><th scope=col>fbs</th><th scope=col>restecg</th><th scope=col>thalach</th><th scope=col>exang</th><th scope=col>oldpeak</th><th scope=col>slope</th><th scope=col>ca</th><th scope=col>thal</th><th scope=col>target</th></tr>\n",
              "\t<tr><th></th><th scope=col>&lt;int&gt;</th><th scope=col>&lt;int&gt;</th><th scope=col>&lt;int&gt;</th><th scope=col>&lt;int&gt;</th><th scope=col>&lt;int&gt;</th><th scope=col>&lt;int&gt;</th><th scope=col>&lt;int&gt;</th><th scope=col>&lt;int&gt;</th><th scope=col>&lt;int&gt;</th><th scope=col>&lt;dbl&gt;</th><th scope=col>&lt;int&gt;</th><th scope=col>&lt;int&gt;</th><th scope=col>&lt;int&gt;</th><th scope=col>&lt;int&gt;</th></tr>\n",
              "</thead>\n",
              "<tbody>\n",
              "\t<tr><th scope=row>1</th><td>52</td><td>1</td><td>0</td><td>125</td><td>212</td><td>0</td><td>1</td><td>168</td><td>0</td><td>1.0</td><td>2</td><td>2</td><td>3</td><td>0</td></tr>\n",
              "\t<tr><th scope=row>2</th><td>53</td><td>1</td><td>0</td><td>140</td><td>203</td><td>1</td><td>0</td><td>155</td><td>1</td><td>3.1</td><td>0</td><td>0</td><td>3</td><td>0</td></tr>\n",
              "\t<tr><th scope=row>3</th><td>70</td><td>1</td><td>0</td><td>145</td><td>174</td><td>0</td><td>1</td><td>125</td><td>1</td><td>2.6</td><td>0</td><td>0</td><td>3</td><td>0</td></tr>\n",
              "\t<tr><th scope=row>4</th><td>61</td><td>1</td><td>0</td><td>148</td><td>203</td><td>0</td><td>1</td><td>161</td><td>0</td><td>0.0</td><td>2</td><td>1</td><td>3</td><td>0</td></tr>\n",
              "\t<tr><th scope=row>5</th><td>62</td><td>0</td><td>0</td><td>138</td><td>294</td><td>1</td><td>1</td><td>106</td><td>0</td><td>1.9</td><td>1</td><td>3</td><td>2</td><td>0</td></tr>\n",
              "\t<tr><th scope=row>6</th><td>58</td><td>0</td><td>0</td><td>100</td><td>248</td><td>0</td><td>0</td><td>122</td><td>0</td><td>1.0</td><td>1</td><td>0</td><td>2</td><td>1</td></tr>\n",
              "</tbody>\n",
              "</table>\n"
            ],
            "text/latex": [
              "A data.frame: 6 × 14\n",
              "\\begin{tabular}{r|llllllllllllll}\n",
              "  & age & sex & cp & trestbps & chol & fbs & restecg & thalach & exang & oldpeak & slope & ca & thal & target\\\\\n",
              "  & <int> & <int> & <int> & <int> & <int> & <int> & <int> & <int> & <int> & <dbl> & <int> & <int> & <int> & <int>\\\\\n",
              "\\hline\n",
              "\t1 & 52 & 1 & 0 & 125 & 212 & 0 & 1 & 168 & 0 & 1.0 & 2 & 2 & 3 & 0\\\\\n",
              "\t2 & 53 & 1 & 0 & 140 & 203 & 1 & 0 & 155 & 1 & 3.1 & 0 & 0 & 3 & 0\\\\\n",
              "\t3 & 70 & 1 & 0 & 145 & 174 & 0 & 1 & 125 & 1 & 2.6 & 0 & 0 & 3 & 0\\\\\n",
              "\t4 & 61 & 1 & 0 & 148 & 203 & 0 & 1 & 161 & 0 & 0.0 & 2 & 1 & 3 & 0\\\\\n",
              "\t5 & 62 & 0 & 0 & 138 & 294 & 1 & 1 & 106 & 0 & 1.9 & 1 & 3 & 2 & 0\\\\\n",
              "\t6 & 58 & 0 & 0 & 100 & 248 & 0 & 0 & 122 & 0 & 1.0 & 1 & 0 & 2 & 1\\\\\n",
              "\\end{tabular}\n"
            ],
            "text/markdown": [
              "\n",
              "A data.frame: 6 × 14\n",
              "\n",
              "| <!--/--> | age &lt;int&gt; | sex &lt;int&gt; | cp &lt;int&gt; | trestbps &lt;int&gt; | chol &lt;int&gt; | fbs &lt;int&gt; | restecg &lt;int&gt; | thalach &lt;int&gt; | exang &lt;int&gt; | oldpeak &lt;dbl&gt; | slope &lt;int&gt; | ca &lt;int&gt; | thal &lt;int&gt; | target &lt;int&gt; |\n",
              "|---|---|---|---|---|---|---|---|---|---|---|---|---|---|---|\n",
              "| 1 | 52 | 1 | 0 | 125 | 212 | 0 | 1 | 168 | 0 | 1.0 | 2 | 2 | 3 | 0 |\n",
              "| 2 | 53 | 1 | 0 | 140 | 203 | 1 | 0 | 155 | 1 | 3.1 | 0 | 0 | 3 | 0 |\n",
              "| 3 | 70 | 1 | 0 | 145 | 174 | 0 | 1 | 125 | 1 | 2.6 | 0 | 0 | 3 | 0 |\n",
              "| 4 | 61 | 1 | 0 | 148 | 203 | 0 | 1 | 161 | 0 | 0.0 | 2 | 1 | 3 | 0 |\n",
              "| 5 | 62 | 0 | 0 | 138 | 294 | 1 | 1 | 106 | 0 | 1.9 | 1 | 3 | 2 | 0 |\n",
              "| 6 | 58 | 0 | 0 | 100 | 248 | 0 | 0 | 122 | 0 | 1.0 | 1 | 0 | 2 | 1 |\n",
              "\n"
            ],
            "text/plain": [
              "  age sex cp trestbps chol fbs restecg thalach exang oldpeak slope ca thal\n",
              "1 52  1   0  125      212  0   1       168     0     1.0     2     2  3   \n",
              "2 53  1   0  140      203  1   0       155     1     3.1     0     0  3   \n",
              "3 70  1   0  145      174  0   1       125     1     2.6     0     0  3   \n",
              "4 61  1   0  148      203  0   1       161     0     0.0     2     1  3   \n",
              "5 62  0   0  138      294  1   1       106     0     1.9     1     3  2   \n",
              "6 58  0   0  100      248  0   0       122     0     1.0     1     0  2   \n",
              "  target\n",
              "1 0     \n",
              "2 0     \n",
              "3 0     \n",
              "4 0     \n",
              "5 0     \n",
              "6 1     "
            ]
          },
          "metadata": {},
          "output_type": "display_data"
        }
      ],
      "source": [
        "heart_data <- read.csv(\"heart.csv\")\n",
        "head(heart_data)"
      ]
    },
    {
      "cell_type": "markdown",
      "metadata": {},
      "source": [
        "**Check Null values**\n",
        "\n",
        "We can see we don't have any null values. (so we don't need to fill these values .)"
      ]
    },
    {
      "cell_type": "code",
      "execution_count": 4,
      "metadata": {
        "vscode": {
          "languageId": "r"
        }
      },
      "outputs": [
        {
          "name": "stdout",
          "output_type": "stream",
          "text": [
            "     age      sex       cp trestbps     chol      fbs  restecg  thalach \n",
            "       0        0        0        0        0        0        0        0 \n",
            "   exang  oldpeak    slope       ca     thal   target \n",
            "       0        0        0        0        0        0 \n"
          ]
        }
      ],
      "source": [
        "# Check for missing values in the dataset\n",
        "missing_values_summary <- colSums(is.na(heart_data))\n",
        "\n",
        "# Display the summary of missing values for each variable\n",
        "print(missing_values_summary)"
      ]
    },
    {
      "cell_type": "markdown",
      "metadata": {},
      "source": [
        "**Check duplicate data**"
      ]
    },
    {
      "cell_type": "markdown",
      "metadata": {},
      "source": [
        "We can see we have lots of duplicate data (It's bad we will remove it)"
      ]
    },
    {
      "cell_type": "code",
      "execution_count": 5,
      "metadata": {
        "vscode": {
          "languageId": "r"
        }
      },
      "outputs": [
        {
          "name": "stdout",
          "output_type": "stream",
          "text": [
            "Number of duplicate rows: 723 \n",
            "     age sex cp trestbps chol fbs restecg thalach exang oldpeak slope ca thal\n",
            "16    34   0  1      118  210   0       1     192     0     0.7     2  0    2\n",
            "32    50   0  1      120  244   0       1     162     0     1.1     2  0    2\n",
            "44    46   1  0      120  249   0       0     144     0     0.8     2  0    3\n",
            "56    55   1  0      140  217   0       1     111     1     5.6     0  0    3\n",
            "62    66   0  2      146  278   0       0     152     0     0.0     1  1    2\n",
            "65    29   1  1      130  204   0       0     202     0     0.0     2  0    2\n",
            "80    52   1  1      134  201   0       1     158     0     0.8     2  1    2\n",
            "83    46   1  2      150  231   0       1     147     0     3.6     1  0    2\n",
            "84    38   1  2      138  175   0       1     173     0     0.0     2  4    2\n",
            "85    37   0  2      120  215   0       1     170     0     0.0     2  0    2\n",
            "87    58   1  2      140  211   1       0     165     0     0.0     2  0    2\n",
            "93    63   1  0      140  187   0       0     144     1     4.0     2  2    3\n",
            "94    44   1  0      120  169   0       1     144     1     2.8     0  0    1\n",
            "104   47   1  2      138  257   0       0     156     0     0.0     2  0    2\n",
            "113   48   1  0      130  256   1       0     150     1     0.0     2  2    3\n",
            "116   61   0  0      145  307   0       0     146     1     1.0     1  0    3\n",
            "119   29   1  1      130  204   0       0     202     0     0.0     2  0    2\n",
            "121   54   1  1      108  309   0       1     156     0     0.0     2  0    3\n",
            "122   44   1  0      120  169   0       1     144     1     2.8     0  0    1\n",
            "128   53   1  2      130  197   1       0     152     0     1.2     0  0    2\n",
            "131   60   0  3      150  240   0       1     171     0     0.9     2  0    2\n",
            "133   41   1  1      135  203   0       1     132     0     0.0     1  0    1\n",
            "134   50   1  2      129  196   0       1     163     0     0.0     2  0    2\n",
            "135   54   1  1      108  309   0       1     156     0     0.0     2  0    3\n",
            "137   55   0  1      132  342   0       1     166     0     1.2     2  0    2\n",
            "139   47   1  2      138  257   0       0     156     0     0.0     2  0    2\n",
            "151   58   1  0      114  318   0       2     140     0     4.4     0  3    1\n",
            "154   54   1  2      120  258   0       0     147     0     0.4     1  0    3\n",
            "156   54   1  1      108  309   0       1     156     0     0.0     2  0    3\n",
            "158   54   1  2      120  258   0       0     147     0     0.4     1  0    3\n",
            "163   77   1  0      125  304   0       0     162     1     0.0     2  3    2\n",
            "165   56   1  0      125  249   1       0     144     1     1.2     1  1    2\n",
            "166   59   1  0      170  326   0       0     140     1     3.4     0  0    3\n",
            "177   56   1  0      130  283   1       0     103     1     1.6     0  0    3\n",
            "179   44   1  0      110  197   0       0     177     0     0.0     2  1    2\n",
            "181   63   1  0      140  187   0       0     144     1     4.0     2  2    3\n",
            "187   40   1  0      110  167   0       0     114     1     2.0     1  0    3\n",
            "188   56   1  0      125  249   1       0     144     1     1.2     1  1    2\n",
            "189   63   1  0      130  254   0       0     147     0     1.4     1  1    3\n",
            "193   67   0  2      115  564   0       0     160     0     1.6     1  0    3\n",
            "196   59   1  2      150  212   1       1     157     0     1.6     2  0    2\n",
            "201   62   0  0      124  209   0       1     163     0     0.0     2  0    2\n",
            "202   34   1  3      118  182   0       0     174     0     0.0     2  0    2\n",
            "203   52   1  3      152  298   1       1     178     0     1.2     1  0    3\n",
            "205   66   0  2      146  278   0       0     152     0     0.0     1  1    2\n",
            "207   59   1  2      126  218   1       1     134     0     2.2     1  1    1\n",
            "208   41   1  2      112  250   0       1     179     0     0.0     2  0    2\n",
            "209   38   1  2      138  175   0       1     173     0     0.0     2  4    2\n",
            "210   62   1  1      120  281   0       0     103     0     1.4     1  1    3\n",
            "212   67   1  0      100  299   0       0     125     1     0.9     1  2    2\n",
            "214   43   1  2      130  315   0       1     162     0     1.9     2  1    2\n",
            "215   45   1  1      128  308   0       0     170     0     0.0     2  0    2\n",
            "218   41   1  1      120  157   0       1     182     0     0.0     2  0    2\n",
            "220   54   1  0      122  286   0       0     116     1     3.2     1  2    2\n",
            "222   63   1  0      130  254   0       0     147     0     1.4     1  1    3\n",
            "223   64   1  3      110  211   0       0     144     1     1.8     1  0    2\n",
            "224   39   0  2       94  199   0       1     179     0     0.0     2  0    2\n",
            "227   49   1  2      118  149   0       0     126     0     0.8     2  3    2\n",
            "230   66   0  0      178  228   1       1     165     1     1.0     1  2    3\n",
            "231   58   1  0      125  300   0       0     171     0     0.0     2  2    3\n",
            "236   64   1  3      170  227   0       0     155     0     0.6     1  0    3\n",
            "237   49   1  2      118  149   0       0     126     0     0.8     2  3    2\n",
            "239   60   1  0      117  230   1       1     160     1     1.4     2  2    3\n",
            "242   67   1  2      152  212   0       0     150     0     0.8     1  0    3\n",
            "243   38   1  2      138  175   0       1     173     0     0.0     2  4    2\n",
            "244   60   1  2      140  185   0       0     155     0     3.0     1  0    2\n",
            "247   54   1  1      192  283   0       0     195     0     0.0     2  1    3\n",
            "248   46   1  0      140  311   0       1     120     1     1.8     1  2    3\n",
            "250   42   1  2      130  180   0       1     150     0     0.0     2  0    2\n",
            "251   47   1  0      110  275   0       0     118     1     1.0     1  1    2\n",
            "252   45   0  1      112  160   0       1     138     0     0.0     1  0    2\n",
            "254   57   1  0      165  289   1       0     124     0     1.0     1  3    3\n",
            "258   64   0  0      180  325   0       1     154     1     0.0     2  0    2\n",
            "260   66   1  0      120  302   0       0     151     0     0.4     1  0    2\n",
            "262   54   1  2      150  232   0       0     165     0     1.6     2  0    3\n",
            "264   55   0  1      132  342   0       1     166     0     1.2     2  0    2\n",
            "265   58   0  0      170  225   1       0     146     1     2.8     1  2    1\n",
            "266   45   1  0      104  208   0       0     148     1     3.0     1  0    2\n",
            "267   53   1  0      123  282   0       1      95     1     2.0     1  2    3\n",
            "273   39   0  2      138  220   0       1     152     0     0.0     1  0    2\n",
            "274   54   1  0      110  206   0       0     108     1     0.0     1  1    2\n",
            "276   56   1  0      130  283   1       0     103     1     1.6     0  0    3\n",
            "278   44   1  1      130  219   0       0     188     0     0.0     2  0    2\n",
            "279   55   1  0      160  289   0       0     145     1     0.8     1  1    3\n",
            "284   64   1  3      110  211   0       0     144     1     1.8     1  0    2\n",
            "285   58   1  2      132  224   0       0     173     0     3.2     2  2    3\n",
            "286   71   0  2      110  265   1       0     130     0     0.0     2  1    2\n",
            "290   40   1  0      152  223   0       1     181     0     0.0     2  0    3\n",
            "291   52   1  2      138  223   0       1     169     0     0.0     2  4    2\n",
            "294   59   1  2      150  212   1       1     157     0     1.6     2  0    2\n",
            "295   56   0  0      200  288   1       0     133     1     4.0     0  2    3\n",
            "296   67   1  0      100  299   0       0     125     1     0.9     1  2    2\n",
            "297   67   1  0      120  237   0       1      71     0     1.0     1  0    2\n",
            "299   35   1  1      122  192   0       1     174     0     0.0     2  0    2\n",
            "303   55   0  1      132  342   0       1     166     0     1.2     2  0    2\n",
            "304   60   1  0      145  282   0       0     142     1     2.8     1  2    3\n",
            "307   44   0  2      118  242   0       1     149     0     0.3     1  1    2\n",
            "308   44   1  1      120  220   0       1     170     0     0.0     2  0    2\n",
            "309   59   1  2      126  218   1       1     134     0     2.2     1  1    1\n",
            "311   61   1  0      120  260   0       1     140     1     3.6     1  1    3\n",
            "312   48   1  0      130  256   1       0     150     1     0.0     2  2    3\n",
            "313   70   1  2      160  269   0       1     112     1     2.9     1  1    3\n",
            "315   40   1  3      140  199   0       1     178     1     1.4     2  0    3\n",
            "316   42   1  3      148  244   0       0     178     0     0.8     2  2    2\n",
            "317   64   0  2      140  313   0       1     133     0     0.2     2  0    3\n",
            "318   63   0  2      135  252   0       0     172     0     0.0     2  0    2\n",
            "319   59   1  0      140  177   0       1     162     1     0.0     2  1    3\n",
            "325   48   1  1      130  245   0       0     180     0     0.2     1  0    2\n",
            "326   56   0  1      140  294   0       0     153     0     1.3     1  0    2\n",
            "327   54   1  1      192  283   0       0     195     0     0.0     2  1    3\n",
            "330   53   0  2      128  216   0       0     115     0     0.0     2  0    0\n",
            "331   37   0  2      120  215   0       1     170     0     0.0     2  0    2\n",
            "336   58   1  0      150  270   0       0     111     1     0.8     2  0    3\n",
            "337   57   1  2      150  126   1       1     173     0     0.2     2  1    3\n",
            "339   56   1  2      130  256   1       0     142     1     0.6     1  1    1\n",
            "341   38   1  2      138  175   0       1     173     0     0.0     2  4    2\n",
            "342   44   1  2      120  226   0       1     169     0     0.0     2  0    2\n",
            "345   41   1  1      120  157   0       1     182     0     0.0     2  0    2\n",
            "346   66   1  1      160  246   0       1     120     1     0.0     1  3    1\n",
            "347   50   1  0      150  243   0       0     128     0     2.6     1  0    3\n",
            "348   54   0  2      108  267   0       0     167     0     0.0     2  0    2\n",
            "351   66   1  0      120  302   0       0     151     0     0.4     1  0    2\n",
            "352   50   1  0      144  200   0       0     126     1     0.9     1  0    3\n",
            "353   57   1  0      110  335   0       1     143     1     3.0     1  1    3\n",
            "355   57   1  1      124  261   0       1     141     0     0.3     2  0    3\n",
            "358   67   1  0      160  286   0       0     108     1     1.5     1  3    2\n",
            "360   53   0  2      128  216   0       0     115     0     0.0     2  0    0\n",
            "361   48   1  0      122  222   0       0     186     0     0.0     2  0    2\n",
            "363   43   0  2      122  213   0       1     165     0     0.2     1  0    2\n",
            "365   57   0  1      130  236   0       0     174     0     0.0     1  1    2\n",
            "366   53   1  2      130  246   1       0     173     0     0.0     2  3    2\n",
            "371   43   0  0      132  341   1       0     136     1     3.0     1  0    3\n",
            "372   55   1  0      132  353   0       1     132     1     1.2     1  1    3\n",
            "373   54   0  2      110  214   0       1     158     0     1.6     1  0    2\n",
            "376   66   1  0      160  228   0       0     138     0     2.3     2  0    1\n",
            "379   67   1  0      120  237   0       1      71     0     1.0     1  0    2\n",
            "380   52   1  3      118  186   0       0     190     0     0.0     1  0    1\n",
            "382   58   1  2      132  224   0       0     173     0     3.2     2  2    3\n",
            "384   58   1  0      150  270   0       0     111     1     0.8     2  0    3\n",
            "386   51   1  2      110  175   0       1     123     0     0.6     2  0    2\n",
            "387   42   0  2      120  209   0       1     173     0     0.0     1  0    2\n",
            "388   77   1  0      125  304   0       0     162     1     0.0     2  3    2\n",
            "389   64   1  0      120  246   0       0      96     1     2.2     0  1    2\n",
            "391   58   0  1      136  319   1       0     152     0     0.0     2  2    2\n",
            "393   51   1  2      110  175   0       1     123     0     0.6     2  0    2\n",
            "394   62   0  0      160  164   0       0     145     0     6.2     0  3    3\n",
            "395   63   1  0      130  330   1       0     132     1     1.8     2  3    3\n",
            "396   66   0  2      146  278   0       0     152     0     0.0     1  1    2\n",
            "398   40   1  0      110  167   0       0     114     1     2.0     1  0    3\n",
            "399   66   1  0      160  228   0       0     138     0     2.3     2  0    1\n",
            "400   63   1  3      145  233   1       0     150     0     2.3     0  0    1\n",
            "401   49   1  2      120  188   0       1     139     0     2.0     1  3    3\n",
            "402   71   0  0      112  149   0       1     125     0     1.6     1  0    2\n",
            "404   46   0  1      105  204   0       1     172     0     0.0     2  0    2\n",
            "405   61   1  0      140  207   0       0     138     1     1.9     2  1    3\n",
            "406   56   1  2      130  256   1       0     142     1     0.6     1  1    1\n",
            "407   58   1  2      140  211   1       0     165     0     0.0     2  0    2\n",
            "408   58   1  0      100  234   0       1     156     0     0.1     2  1    3\n",
            "409   46   0  0      138  243   0       0     152     1     0.0     1  0    2\n",
            "410   46   1  2      150  231   0       1     147     0     3.6     1  0    2\n",
            "411   41   0  1      105  198   0       1     168     0     0.0     2  1    2\n",
            "412   56   1  0      125  249   1       0     144     1     1.2     1  1    2\n",
            "413   57   1  0      150  276   0       0     112     1     0.6     1  1    1\n",
            "414   70   1  0      130  322   0       0     109     0     2.4     1  3    2\n",
            "415   59   1  3      170  288   0       0     159     0     0.2     1  0    3\n",
            "416   41   0  1      130  204   0       0     172     0     1.4     2  0    2\n",
            "417   54   1  2      125  273   0       0     152     0     0.5     0  1    2\n",
            "418   52   1  2      138  223   0       1     169     0     0.0     2  4    2\n",
            "419   62   0  0      124  209   0       1     163     0     0.0     2  0    2\n",
            "420   65   0  2      160  360   0       0     151     0     0.8     2  0    2\n",
            "421   57   0  0      128  303   0       0     159     0     0.0     2  1    2\n",
            "423   57   0  0      120  354   0       1     163     1     0.6     2  0    2\n",
            "424   58   0  1      136  319   1       0     152     0     0.0     2  2    2\n",
            "425   45   1  0      142  309   0       0     147     1     0.0     1  3    3\n",
            "429   43   1  0      132  247   1       0     143     1     0.1     1  4    3\n",
            "431   67   1  2      152  212   0       0     150     0     0.8     1  0    3\n",
            "433   60   0  2      102  318   0       1     160     0     0.0     2  1    2\n",
            "434   37   1  2      130  250   0       1     187     0     3.5     0  0    2\n",
            "436   57   0  0      120  354   0       1     163     1     0.6     2  0    2\n",
            "437   59   0  0      174  249   0       1     143     1     0.0     1  0    2\n",
            "440   58   1  1      120  284   0       0     160     0     1.8     1  0    2\n",
            "441   62   0  0      150  244   0       1     154     1     1.4     1  0    2\n",
            "442   60   1  0      140  293   0       0     170     0     1.2     1  2    3\n",
            "443   57   1  0      152  274   0       1      88     1     1.2     1  1    3\n",
            "444   57   1  2      150  168   0       1     174     0     1.6     2  0    2\n",
            "445   47   1  2      130  253   0       1     179     0     0.0     2  0    2\n",
            "446   52   1  1      128  205   1       1     184     0     0.0     2  0    2\n",
            "447   53   1  2      130  246   1       0     173     0     0.0     2  3    2\n",
            "448   55   1  0      160  289   0       0     145     1     0.8     1  1    3\n",
            "449   51   0  2      120  295   0       0     157     0     0.6     2  0    2\n",
            "453   66   0  0      178  228   1       1     165     1     1.0     1  2    3\n",
            "454   49   0  1      134  271   0       1     162     0     0.0     1  0    2\n",
            "455   65   0  0      150  225   0       0     114     0     1.0     1  3    3\n",
            "456   69   1  3      160  234   1       0     131     0     0.1     1  1    2\n",
            "457   47   1  2      108  243   0       1     152     0     0.0     2  0    2\n",
            "458   39   0  2      138  220   0       1     152     0     0.0     1  0    2\n",
            "459   43   1  0      150  247   0       1     171     0     1.5     2  0    2\n",
            "460   51   1  0      140  261   0       0     186     1     0.0     2  0    2\n",
            "462   48   1  2      124  255   1       1     175     0     0.0     2  2    2\n",
            "463   52   1  3      118  186   0       0     190     0     0.0     1  0    1\n",
            "464   43   1  0      110  211   0       1     161     0     0.0     2  0    3\n",
            "465   67   0  2      115  564   0       0     160     0     1.6     1  0    3\n",
            "466   38   1  2      138  175   0       1     173     0     0.0     2  4    2\n",
            "467   44   1  1      130  219   0       0     188     0     0.0     2  0    2\n",
            "468   47   1  0      110  275   0       0     118     1     1.0     1  1    2\n",
            "469   61   1  2      150  243   1       1     137     1     1.0     1  0    2\n",
            "470   67   1  0      160  286   0       0     108     1     1.5     1  3    2\n",
            "471   60   0  3      150  240   0       1     171     0     0.9     2  0    2\n",
            "472   64   0  2      140  313   0       1     133     0     0.2     2  0    3\n",
            "475   48   1  1      110  229   0       1     168     0     1.0     0  0    3\n",
            "476   57   1  2      150  126   1       1     173     0     0.2     2  1    3\n",
            "477   57   1  0      165  289   1       0     124     0     1.0     1  3    3\n",
            "478   57   1  2      128  229   0       0     150     0     0.4     1  1    3\n",
            "479   39   1  2      140  321   0       0     182     0     0.0     2  0    2\n",
            "481   51   0  0      130  305   0       1     142     1     1.2     1  0    3\n",
            "482   63   0  0      150  407   0       0     154     0     4.0     1  3    3\n",
            "483   51   1  0      140  298   0       1     122     1     4.2     1  3    3\n",
            "484   35   1  1      122  192   0       1     174     0     0.0     2  0    2\n",
            "485   65   1  0      110  248   0       0     158     0     0.6     2  2    1\n",
            "486   62   1  1      120  281   0       0     103     0     1.4     1  1    3\n",
            "487   41   1  0      110  172   0       0     158     0     0.0     2  0    3\n",
            "488   65   1  0      135  254   0       0     127     0     2.8     1  1    3\n",
            "489   54   0  1      132  288   1       0     159     1     0.0     2  1    2\n",
            "490   61   1  2      150  243   1       1     137     1     1.0     1  0    2\n",
            "491   57   0  0      128  303   0       0     159     0     0.0     2  1    2\n",
            "492   57   1  2      150  168   0       1     174     0     1.6     2  0    2\n",
            "493   64   1  2      125  309   0       1     131     1     1.8     1  0    3\n",
            "494   55   1  0      132  353   0       1     132     1     1.2     1  1    3\n",
            "495   51   1  2      125  245   1       0     166     0     2.4     1  0    2\n",
            "497   68   1  2      180  274   1       0     150     1     1.6     1  0    3\n",
            "498   57   1  1      154  232   0       0     164     0     0.0     2  1    2\n",
            "500   46   0  2      142  177   0       0     160     1     1.4     0  0    2\n",
            "501   71   0  0      112  149   0       1     125     0     1.6     1  0    2\n",
            "502   35   0  0      138  183   0       1     182     0     1.4     2  0    2\n",
            "503   46   0  2      142  177   0       0     160     1     1.4     0  0    2\n",
            "504   45   0  1      130  234   0       0     175     0     0.6     1  0    2\n",
            "505   47   1  2      108  243   0       1     152     0     0.0     2  0    2\n",
            "506   44   0  2      118  242   0       1     149     0     0.3     1  1    2\n",
            "507   61   1  0      120  260   0       1     140     1     3.6     1  1    3\n",
            "508   41   0  1      130  204   0       0     172     0     1.4     2  0    2\n",
            "509   56   0  0      200  288   1       0     133     1     4.0     0  2    3\n",
            "510   55   0  0      180  327   0       2     117     1     3.4     1  0    2\n",
            "511   54   0  1      132  288   1       0     159     1     0.0     2  1    2\n",
            "512   43   1  0      120  177   0       0     120     1     2.5     1  0    3\n",
            "514   54   1  0      110  206   0       0     108     1     0.0     1  1    2\n",
            "515   44   1  1      120  220   0       1     170     0     0.0     2  0    2\n",
            "516   49   1  2      120  188   0       1     139     0     2.0     1  3    3\n",
            "517   60   1  0      130  206   0       0     132     1     2.4     1  2    3\n",
            "518   41   0  1      105  198   0       1     168     0     0.0     2  1    2\n",
            "519   49   1  2      120  188   0       1     139     0     2.0     1  3    3\n",
            "520   61   1  0      148  203   0       1     161     0     0.0     2  1    3\n",
            "521   59   1  0      140  177   0       1     162     1     0.0     2  1    3\n",
            "524   61   1  0      148  203   0       1     161     0     0.0     2  1    3\n",
            "525   58   1  2      112  230   0       0     165     0     2.5     1  1    3\n",
            "526   51   0  2      130  256   0       0     149     0     0.5     2  0    2\n",
            "527   62   0  0      160  164   0       0     145     0     6.2     0  3    3\n",
            "528   62   0  0      124  209   0       1     163     0     0.0     2  0    2\n",
            "530   69   1  3      160  234   1       0     131     0     0.1     1  1    2\n",
            "532   65   0  2      155  269   0       1     148     0     0.8     2  0    2\n",
            "533   63   0  0      124  197   0       1     136     1     0.0     1  0    2\n",
            "535   54   0  2      108  267   0       0     167     0     0.0     2  0    2\n",
            "536   76   0  2      140  197   0       2     116     0     1.1     1  0    2\n",
            "538   52   1  1      120  325   0       1     172     0     0.2     2  0    2\n",
            "539   46   1  0      120  249   0       0     144     0     0.8     2  0    3\n",
            "540   64   1  3      170  227   0       0     155     0     0.6     1  0    3\n",
            "541   58   1  0      128  259   0       0     130     1     3.0     1  2    3\n",
            "543   62   0  0      140  394   0       0     157     0     1.2     1  0    2\n",
            "544   59   1  3      134  204   0       1     162     0     0.8     2  2    2\n",
            "545   54   1  2      125  273   0       0     152     0     0.5     0  1    2\n",
            "546   48   1  1      110  229   0       1     168     0     1.0     0  0    3\n",
            "547   70   1  0      130  322   0       0     109     0     2.4     1  3    2\n",
            "548   67   0  0      106  223   0       1     142     0     0.3     2  2    2\n",
            "549   51   0  2      120  295   0       0     157     0     0.6     2  0    2\n",
            "551   69   1  2      140  254   0       0     146     0     2.0     1  3    3\n",
            "552   54   1  0      122  286   0       0     116     1     3.2     1  2    2\n",
            "553   43   0  0      132  341   1       0     136     1     3.0     1  0    3\n",
            "554   53   1  2      130  197   1       0     152     0     1.2     0  0    2\n",
            "555   58   1  0      100  234   0       1     156     0     0.1     2  1    3\n",
            "557   59   1  0      140  177   0       1     162     1     0.0     2  1    3\n",
            "558   48   1  0      122  222   0       0     186     0     0.0     2  0    2\n",
            "559   39   0  2       94  199   0       1     179     0     0.0     2  0    2\n",
            "560   67   1  0      120  237   0       1      71     0     1.0     1  0    2\n",
            "561   58   0  0      130  197   0       1     131     0     0.6     1  0    2\n",
            "562   65   0  2      155  269   0       1     148     0     0.8     2  0    2\n",
            "563   42   0  2      120  209   0       1     173     0     0.0     1  0    2\n",
            "564   44   1  0      112  290   0       0     153     0     0.0     2  1    2\n",
            "565   56   1  0      132  184   0       0     105     1     2.1     1  1    1\n",
            "566   53   0  0      138  234   0       0     160     0     0.0     2  0    2\n",
            "568   41   1  2      130  214   0       0     168     0     2.0     1  0    2\n",
            "569   54   0  2      160  201   0       1     163     0     0.0     2  1    2\n",
            "570   42   1  2      120  240   1       1     194     0     0.8     0  0    3\n",
            "572   60   1  0      145  282   0       0     142     1     2.8     1  2    3\n",
            "573   34   1  3      118  182   0       0     174     0     0.0     2  0    2\n",
            "574   44   1  0      112  290   0       0     153     0     0.0     2  1    2\n",
            "575   60   1  0      125  258   0       0     141     1     2.8     1  1    3\n",
            "576   43   1  0      150  247   0       1     171     0     1.5     2  0    2\n",
            "577   52   1  3      152  298   1       1     178     0     1.2     1  0    3\n",
            "578   70   1  0      130  322   0       0     109     0     2.4     1  3    2\n",
            "579   62   0  0      140  394   0       0     157     0     1.2     1  0    2\n",
            "580   58   1  0      146  218   0       1     105     0     2.0     1  1    3\n",
            "582   44   1  2      140  235   0       0     180     0     0.0     2  0    2\n",
            "584   43   1  0      120  177   0       0     120     1     2.5     1  0    3\n",
            "585   55   1  0      132  353   0       1     132     1     1.2     1  1    3\n",
            "586   40   1  3      140  199   0       1     178     1     1.4     2  0    3\n",
            "587   64   1  2      125  309   0       1     131     1     1.8     1  0    3\n",
            "588   59   1  0      164  176   1       0      90     0     1.0     1  2    1\n",
            "589   61   0  0      145  307   0       0     146     1     1.0     1  0    3\n",
            "590   54   1  0      122  286   0       0     116     1     3.2     1  2    2\n",
            "591   74   0  1      120  269   0       0     121     1     0.2     2  1    2\n",
            "592   63   0  0      108  269   0       1     169     1     1.8     1  2    2\n",
            "593   70   1  2      160  269   0       1     112     1     2.9     1  1    3\n",
            "594   63   0  0      108  269   0       1     169     1     1.8     1  2    2\n",
            "596   61   1  0      148  203   0       1     161     0     0.0     2  1    3\n",
            "597   59   1  1      140  221   0       1     164     1     0.0     2  0    2\n",
            "598   38   1  2      138  175   0       1     173     0     0.0     2  4    2\n",
            "599   58   1  1      120  284   0       0     160     0     1.8     1  0    2\n",
            "601   62   0  2      130  263   0       1      97     0     1.2     1  1    3\n",
            "602   46   1  0      140  311   0       1     120     1     1.8     1  2    3\n",
            "603   58   0  2      120  340   0       1     172     0     0.0     2  0    2\n",
            "604   63   0  1      140  195   0       1     179     0     0.0     2  2    2\n",
            "605   47   1  2      130  253   0       1     179     0     0.0     2  0    2\n",
            "606   71   0  2      110  265   1       0     130     0     0.0     2  1    2\n",
            "608   42   1  0      136  315   0       1     125     1     1.8     1  0    1\n",
            "609   64   1  0      145  212   0       0     132     0     2.0     1  2    1\n",
            "610   55   0  0      180  327   0       2     117     1     3.4     1  0    2\n",
            "611   43   0  0      132  341   1       0     136     1     3.0     1  0    3\n",
            "613   58   0  0      170  225   1       0     146     1     2.8     1  2    1\n",
            "614   55   1  0      140  217   0       1     111     1     5.6     0  0    3\n",
            "615   51   0  0      130  305   0       1     142     1     1.2     1  0    3\n",
            "616   50   0  2      120  219   0       1     158     0     1.6     1  0    2\n",
            "618   41   0  1      126  306   0       1     163     0     0.0     2  0    2\n",
            "619   49   1  1      130  266   0       1     171     0     0.6     2  0    2\n",
            "620   65   1  0      110  248   0       0     158     0     0.6     2  2    1\n",
            "621   57   1  0      152  274   0       1      88     1     1.2     1  1    3\n",
            "622   48   1  0      130  256   1       0     150     1     0.0     2  2    3\n",
            "623   62   0  0      138  294   1       1     106     0     1.9     1  3    2\n",
            "624   61   1  3      134  234   0       1     145     0     2.6     1  2    2\n",
            "625   59   1  3      178  270   0       0     145     0     4.2     0  0    3\n",
            "626   69   1  2      140  254   0       0     146     0     2.0     1  3    3\n",
            "627   58   1  2      132  224   0       0     173     0     3.2     2  2    3\n",
            "628   38   1  3      120  231   0       1     182     1     3.8     1  0    3\n",
            "631   45   1  3      110  264   0       1     132     0     1.2     1  0    3\n",
            "632   49   1  1      130  266   0       1     171     0     0.6     2  0    2\n",
            "633   45   0  1      130  234   0       0     175     0     0.6     1  0    2\n",
            "635   52   1  0      125  212   0       1     168     0     1.0     2  2    3\n",
            "636   53   0  0      130  264   0       0     143     0     0.4     1  0    2\n",
            "637   59   0  0      174  249   0       1     143     1     0.0     1  0    2\n",
            "638   58   0  2      120  340   0       1     172     0     0.0     2  0    2\n",
            "639   65   1  3      138  282   1       0     174     0     1.4     1  1    2\n",
            "640   58   0  0      130  197   0       1     131     0     0.6     1  0    2\n",
            "641   46   0  0      138  243   0       0     152     1     0.0     1  0    2\n",
            "642   56   0  0      134  409   0       0     150     1     1.9     1  2    3\n",
            "643   64   1  0      128  263   0       1     105     1     0.2     1  1    3\n",
            "645   44   1  2      120  226   0       1     169     0     0.0     2  0    2\n",
            "646   50   1  0      150  243   0       0     128     0     2.6     1  0    3\n",
            "647   47   1  2      108  243   0       1     152     0     0.0     2  0    2\n",
            "648   64   0  0      130  303   0       1     122     0     2.0     1  2    2\n",
            "649   71   0  0      112  149   0       1     125     0     1.6     1  0    2\n",
            "650   45   0  1      130  234   0       0     175     0     0.6     1  0    2\n",
            "651   62   1  0      120  267   0       1      99     1     1.8     1  2    3\n",
            "652   41   1  1      120  157   0       1     182     0     0.0     2  0    2\n",
            "654   56   1  0      130  283   1       0     103     1     1.6     0  0    3\n",
            "655   41   0  1      126  306   0       1     163     0     0.0     2  0    2\n",
            "656   41   1  1      110  235   0       1     153     0     0.0     2  0    2\n",
            "657   57   0  1      130  236   0       0     174     0     0.0     1  1    2\n",
            "658   39   0  2      138  220   0       1     152     0     0.0     1  0    2\n",
            "659   64   1  2      125  309   0       1     131     1     1.8     1  0    3\n",
            "660   59   1  0      138  271   0       0     182     0     0.0     2  0    2\n",
            "661   61   1  0      138  166   0       0     125     1     3.6     1  1    2\n",
            "662   58   1  0      114  318   0       2     140     0     4.4     0  3    1\n",
            "663   47   1  0      112  204   0       1     143     0     0.1     2  0    2\n",
            "664   58   0  0      100  248   0       0     122     0     1.0     1  0    2\n",
            "665   66   0  3      150  226   0       1     114     0     2.6     0  0    2\n",
            "666   65   0  2      140  417   1       0     157     0     0.8     2  1    2\n",
            "667   35   1  1      122  192   0       1     174     0     0.0     2  0    2\n",
            "668   57   1  1      124  261   0       1     141     0     0.3     2  0    3\n",
            "669   29   1  1      130  204   0       0     202     0     0.0     2  0    2\n",
            "670   66   1  1      160  246   0       1     120     1     0.0     1  3    1\n",
            "671   61   0  0      130  330   0       0     169     0     0.0     2  0    2\n",
            "672   52   1  0      125  212   0       1     168     0     1.0     2  2    3\n",
            "673   68   1  2      118  277   0       1     151     0     1.0     2  1    3\n",
            "674   54   1  2      120  258   0       0     147     0     0.4     1  0    3\n",
            "675   63   1  0      130  330   1       0     132     1     1.8     2  3    3\n",
            "676   58   1  0      100  234   0       1     156     0     0.1     2  1    3\n",
            "677   60   1  0      130  253   0       1     144     1     1.4     2  1    3\n",
            "678   63   1  0      130  254   0       0     147     0     1.4     1  1    3\n",
            "679   41   0  2      112  268   0       0     172     1     0.0     2  0    2\n",
            "680   68   1  2      180  274   1       0     150     1     1.6     1  0    3\n",
            "681   42   1  1      120  295   0       1     162     0     0.0     2  0    2\n",
            "682   59   1  0      170  326   0       0     140     1     3.4     0  0    3\n",
            "683   59   1  0      164  176   1       0      90     0     1.0     1  2    1\n",
            "684   43   1  0      120  177   0       0     120     1     2.5     1  0    3\n",
            "685   60   1  2      140  185   0       0     155     0     3.0     1  0    2\n",
            "686   63   0  0      150  407   0       0     154     0     4.0     1  3    3\n",
            "687   52   1  0      128  204   1       1     156     1     1.0     1  0    0\n",
            "688   58   1  0      125  300   0       0     171     0     0.0     2  2    3\n",
            "689   56   0  0      200  288   1       0     133     1     4.0     0  2    3\n",
            "690   54   0  2      135  304   1       1     170     0     0.0     2  0    2\n",
            "691   58   1  2      105  240   0       0     154     1     0.6     1  0    3\n",
            "693   53   1  0      140  203   1       0     155     1     3.1     0  0    3\n",
            "694   63   0  1      140  195   0       1     179     0     0.0     2  2    2\n",
            "696   35   1  0      126  282   0       0     156     1     0.0     2  0    3\n",
            "697   50   0  2      120  219   0       1     158     0     1.6     1  0    2\n",
            "698   67   1  2      152  212   0       0     150     0     0.8     1  0    3\n",
            "699   66   1  0      112  212   0       0     132     1     0.1     2  1    2\n",
            "700   35   1  0      126  282   0       0     156     1     0.0     2  0    3\n",
            "701   41   1  2      130  214   0       0     168     0     2.0     1  0    2\n",
            "702   35   1  0      120  198   0       1     130     1     1.6     1  0    3\n",
            "703   71   0  1      160  302   0       1     162     0     0.4     2  2    2\n",
            "704   57   1  0      110  201   0       1     126     1     1.5     1  0    1\n",
            "705   51   1  2       94  227   0       1     154     1     0.0     2  1    3\n",
            "706   58   1  0      128  216   0       0     131     1     2.2     1  3    3\n",
            "707   57   1  2      128  229   0       0     150     0     0.4     1  1    3\n",
            "708   56   0  1      140  294   0       0     153     0     1.3     1  0    2\n",
            "710   45   1  3      110  264   0       1     132     0     1.2     1  0    3\n",
            "711   56   1  1      130  221   0       0     163     0     0.0     2  0    3\n",
            "712   35   1  0      120  198   0       1     130     1     1.6     1  0    3\n",
            "713   45   0  1      112  160   0       1     138     0     0.0     1  0    2\n",
            "714   66   0  3      150  226   0       1     114     0     2.6     0  0    2\n",
            "715   51   1  3      125  213   0       0     125     1     1.4     2  1    2\n",
            "716   70   1  1      156  245   0       0     143     0     0.0     2  0    2\n",
            "717   55   0  0      128  205   0       2     130     1     2.0     1  1    3\n",
            "718   56   1  2      130  256   1       0     142     1     0.6     1  1    1\n",
            "719   55   0  1      135  250   0       0     161     0     1.4     1  0    2\n",
            "722   45   1  0      115  260   0       0     185     0     0.0     2  0    2\n",
            "723   67   0  2      152  277   0       1     172     0     0.0     2  1    2\n",
            "725   74   0  1      120  269   0       0     121     1     0.2     2  1    2\n",
            "726   60   0  0      150  258   0       0     157     0     2.6     1  2    3\n",
            "727   48   1  0      124  274   0       0     166     0     0.5     1  0    3\n",
            "728   56   1  1      130  221   0       0     163     0     0.0     2  0    3\n",
            "729   46   1  0      140  311   0       1     120     1     1.8     1  2    3\n",
            "730   55   0  1      135  250   0       0     161     0     1.4     1  0    2\n",
            "731   44   1  1      120  220   0       1     170     0     0.0     2  0    2\n",
            "732   52   1  0      112  230   0       1     160     0     0.0     2  1    2\n",
            "733   51   1  2       94  227   0       1     154     1     0.0     2  1    3\n",
            "735   52   1  0      128  204   1       1     156     1     1.0     1  0    0\n",
            "736   50   1  2      129  196   0       1     163     0     0.0     2  0    2\n",
            "737   59   1  0      110  239   0       0     142     1     1.2     1  1    3\n",
            "738   67   1  0      120  229   0       0     129     1     2.6     1  2    3\n",
            "739   58   1  0      125  300   0       0     171     0     0.0     2  2    3\n",
            "741   44   1  2      140  235   0       0     180     0     0.0     2  0    2\n",
            "742   41   0  2      112  268   0       0     172     1     0.0     2  0    2\n",
            "743   63   1  0      130  330   1       0     132     1     1.8     2  3    3\n",
            "744   58   1  1      125  220   0       1     144     0     0.4     1  4    3\n",
            "745   60   0  2      102  318   0       1     160     0     0.0     2  1    2\n",
            "746   51   1  2      100  222   0       1     143     1     1.2     1  0    2\n",
            "747   64   1  2      140  335   0       1     158     0     0.0     2  0    2\n",
            "748   60   1  0      117  230   1       1     160     1     1.4     2  2    3\n",
            "749   44   1  2      120  226   0       1     169     0     0.0     2  0    2\n",
            "750   58   1  1      125  220   0       1     144     0     0.4     1  4    3\n",
            "751   55   1  1      130  262   0       1     155     0     0.0     2  0    2\n",
            "752   65   0  2      160  360   0       0     151     0     0.8     2  0    2\n",
            "753   48   1  1      130  245   0       0     180     0     0.2     1  0    2\n",
            "754   65   1  0      120  177   0       1     140     0     0.4     2  0    3\n",
            "755   51   0  2      130  256   0       0     149     0     0.5     2  0    2\n",
            "756   48   1  2      124  255   1       1     175     0     0.0     2  2    2\n",
            "757   64   1  0      120  246   0       0      96     1     2.2     0  1    2\n",
            "758   66   1  0      160  228   0       0     138     0     2.3     2  0    1\n",
            "759   46   0  1      105  204   0       1     172     0     0.0     2  0    2\n",
            "760   61   0  0      130  330   0       0     169     0     0.0     2  0    2\n",
            "761   57   1  0      150  276   0       0     112     1     0.6     1  1    1\n",
            "762   49   0  0      130  269   0       1     163     0     0.0     2  0    2\n",
            "763   56   1  1      130  221   0       0     163     0     0.0     2  0    3\n",
            "764   58   0  3      150  283   1       0     162     0     1.0     2  0    2\n",
            "765   63   1  0      140  187   0       0     144     1     4.0     2  2    3\n",
            "766   57   1  0      110  335   0       1     143     1     3.0     1  1    3\n",
            "767   57   1  0      110  335   0       1     143     1     3.0     1  1    3\n",
            "768   68   1  0      144  193   1       1     141     0     3.4     1  2    3\n",
            "769   46   1  1      101  197   1       1     156     0     0.0     2  0    3\n",
            "770   71   0  2      110  265   1       0     130     0     0.0     2  1    2\n",
            "771   41   1  1      135  203   0       1     132     0     0.0     1  0    1\n",
            "772   45   0  0      138  236   0       0     152     1     0.2     1  0    2\n",
            "773   62   0  0      150  244   0       1     154     1     1.4     1  0    2\n",
            "774   65   0  0      150  225   0       0     114     0     1.0     1  3    3\n",
            "775   48   0  2      130  275   0       1     139     0     0.2     2  0    2\n",
            "776   51   1  2      100  222   0       1     143     1     1.2     1  0    2\n",
            "777   61   0  0      145  307   0       0     146     1     1.0     1  0    3\n",
            "778   53   1  0      123  282   0       1      95     1     2.0     1  2    3\n",
            "779   59   1  3      134  204   0       1     162     0     0.8     2  2    2\n",
            "780   34   0  1      118  210   0       1     192     0     0.7     2  0    2\n",
            "781   44   1  0      120  169   0       1     144     1     2.8     0  0    1\n",
            "782   58   1  0      146  218   0       1     105     0     2.0     1  1    3\n",
            "783   64   0  0      130  303   0       1     122     0     2.0     1  2    2\n",
            "784   56   1  1      120  240   0       1     169     0     0.0     0  0    2\n",
            "785   54   1  2      150  232   0       0     165     0     1.6     2  0    3\n",
            "786   55   1  0      160  289   0       0     145     1     0.8     1  1    3\n",
            "787   67   1  0      125  254   1       1     163     0     0.2     1  2    3\n",
            "788   51   1  0      140  298   0       1     122     1     4.2     1  3    3\n",
            "789   62   0  0      138  294   1       1     106     0     1.9     1  3    2\n",
            "790   62   1  1      120  281   0       0     103     0     1.4     1  1    3\n",
            "791   54   1  0      110  239   0       1     126     1     2.8     1  1    3\n",
            "792   54   1  0      110  239   0       1     126     1     2.8     1  1    3\n",
            "793   68   1  0      144  193   1       1     141     0     3.4     1  2    3\n",
            "794   60   0  2      120  178   1       1      96     0     0.0     2  0    2\n",
            "795   61   1  3      134  234   0       1     145     0     2.6     1  2    2\n",
            "796   62   1  1      128  208   1       0     140     0     0.0     2  0    2\n",
            "797   41   1  1      135  203   0       1     132     0     0.0     1  0    1\n",
            "798   65   0  0      150  225   0       0     114     0     1.0     1  3    3\n",
            "799   59   1  3      170  288   0       0     159     0     0.2     1  0    3\n",
            "800   43   1  0      115  303   0       1     181     0     1.2     1  0    2\n",
            "801   67   1  0      120  229   0       0     129     1     2.6     1  2    3\n",
            "802   63   1  3      145  233   1       0     150     0     2.3     0  0    1\n",
            "803   63   0  0      124  197   0       1     136     1     0.0     1  0    2\n",
            "804   52   1  0      112  230   0       1     160     0     0.0     2  1    2\n",
            "805   58   0  0      130  197   0       1     131     0     0.6     1  0    2\n",
            "806   53   1  0      142  226   0       0     111     1     0.0     2  0    3\n",
            "807   57   1  0      150  276   0       0     112     1     0.6     1  1    1\n",
            "808   44   1  2      130  233   0       1     179     1     0.4     2  0    2\n",
            "809   51   1  2       94  227   0       1     154     1     0.0     2  1    3\n",
            "810   54   0  2      110  214   0       1     158     0     1.6     1  0    2\n",
            "811   40   1  0      110  167   0       0     114     1     2.0     1  0    3\n",
            "812   57   1  1      124  261   0       1     141     0     0.3     2  0    3\n",
            "813   62   0  0      140  268   0       0     160     0     3.6     0  2    2\n",
            "814   53   1  0      140  203   1       0     155     1     3.1     0  0    3\n",
            "815   62   1  1      128  208   1       0     140     0     0.0     2  0    2\n",
            "816   58   1  2      105  240   0       0     154     1     0.6     1  0    3\n",
            "817   70   1  1      156  245   0       0     143     0     0.0     2  0    2\n",
            "818   45   1  0      115  260   0       0     185     0     0.0     2  0    2\n",
            "819   42   1  3      148  244   0       0     178     0     0.8     2  2    2\n",
            "820   58   0  0      170  225   1       0     146     1     2.8     1  2    1\n",
            "821   61   1  0      140  207   0       0     138     1     1.9     2  1    3\n",
            "822   62   0  0      140  268   0       0     160     0     3.6     0  2    2\n",
            "823   60   1  0      130  253   0       1     144     1     1.4     2  1    3\n",
            "824   54   1  0      140  239   0       1     160     0     1.2     2  0    2\n",
            "825   61   1  0      138  166   0       0     125     1     3.6     1  1    2\n",
            "826   63   0  2      135  252   0       0     172     0     0.0     2  0    2\n",
            "827   42   1  2      130  180   0       1     150     0     0.0     2  0    2\n",
            "828   57   1  2      128  229   0       0     150     0     0.4     1  1    3\n",
            "829   44   1  2      130  233   0       1     179     1     0.4     2  0    2\n",
            "830   54   1  0      124  266   0       0     109     1     2.2     1  1    3\n",
            "831   51   1  2      100  222   0       1     143     1     1.2     1  0    2\n",
            "832   58   1  1      125  220   0       1     144     0     0.4     1  4    3\n",
            "833   68   1  2      118  277   0       1     151     0     1.0     2  1    3\n",
            "834   55   1  0      140  217   0       1     111     1     5.6     0  0    3\n",
            "835   42   1  0      136  315   0       1     125     1     1.8     1  0    1\n",
            "836   49   1  2      118  149   0       0     126     0     0.8     2  3    2\n",
            "837   53   0  0      138  234   0       0     160     0     0.0     2  0    2\n",
            "838   52   1  2      172  199   1       1     162     0     0.5     2  0    3\n",
            "839   51   1  3      125  213   0       0     125     1     1.4     2  1    2\n",
            "840   51   1  0      140  261   0       0     186     1     0.0     2  0    2\n",
            "841   70   1  0      145  174   0       1     125     1     2.6     0  0    3\n",
            "842   35   0  0      138  183   0       1     182     0     1.4     2  0    2\n",
            "843   58   1  2      112  230   0       0     165     0     2.5     1  1    3\n",
            "845   60   1  0      140  293   0       0     170     0     1.2     1  2    3\n",
            "846   56   1  0      132  184   0       0     105     1     2.1     1  1    1\n",
            "847   35   0  0      138  183   0       1     182     0     1.4     2  0    2\n",
            "848   61   1  0      138  166   0       0     125     1     3.6     1  1    2\n",
            "849   58   0  3      150  283   1       0     162     0     1.0     2  0    2\n",
            "850   52   1  0      128  255   0       1     161     1     0.0     2  1    3\n",
            "851   58   1  1      120  284   0       0     160     0     1.8     1  0    2\n",
            "852   37   1  2      130  250   0       1     187     0     3.5     0  0    2\n",
            "853   52   1  0      128  255   0       1     161     1     0.0     2  1    3\n",
            "854   67   1  0      120  229   0       0     129     1     2.6     1  2    3\n",
            "855   65   1  3      138  282   1       0     174     0     1.4     1  1    2\n",
            "856   46   1  1      101  197   1       1     156     0     0.0     2  0    3\n",
            "857   68   0  2      120  211   0       0     115     0     1.5     1  0    2\n",
            "858   43   1  0      115  303   0       1     181     0     1.2     1  0    2\n",
            "859   68   0  2      120  211   0       0     115     0     1.5     1  0    2\n",
            "860   51   1  0      140  299   0       1     173     1     1.6     2  0    3\n",
            "861   52   1  0      112  230   0       1     160     0     0.0     2  1    2\n",
            "862   64   1  2      140  335   0       1     158     0     0.0     2  0    2\n",
            "863   59   1  3      170  288   0       0     159     0     0.2     1  0    3\n",
            "864   52   1  0      125  212   0       1     168     0     1.0     2  2    3\n",
            "865   59   1  3      160  273   0       0     125     0     0.0     2  0    2\n",
            "866   60   0  3      150  240   0       1     171     0     0.9     2  0    2\n",
            "867   41   1  2      112  250   0       1     179     0     0.0     2  0    2\n",
            "868   41   1  1      110  235   0       1     153     0     0.0     2  0    2\n",
            "869   56   1  1      120  240   0       1     169     0     0.0     0  0    2\n",
            "870   56   1  1      120  236   0       1     178     0     0.8     2  0    2\n",
            "871   48   0  2      130  275   0       1     139     0     0.2     2  0    2\n",
            "872   39   1  2      140  321   0       0     182     0     0.0     2  0    2\n",
            "873   64   1  3      170  227   0       0     155     0     0.6     1  0    3\n",
            "874   57   1  0      140  192   0       1     148     0     0.4     1  0    1\n",
            "875   59   1  3      160  273   0       0     125     0     0.0     2  0    2\n",
            "876   60   1  0      130  206   0       0     132     1     2.4     1  2    3\n",
            "877   61   1  0      140  207   0       0     138     1     1.9     2  1    3\n",
            "878   43   0  2      122  213   0       1     165     0     0.2     1  0    2\n",
            "880   59   1  0      138  271   0       0     182     0     0.0     2  0    2\n",
            "881   57   1  0      132  207   0       1     168     1     0.0     2  0    3\n",
            "882   57   1  1      154  232   0       0     164     0     0.0     2  1    2\n",
            "883   57   1  0      130  131   0       1     115     1     1.2     1  1    3\n",
            "884   48   1  0      124  274   0       0     166     0     0.5     1  0    3\n",
            "885   70   1  0      145  174   0       1     125     1     2.6     0  0    3\n",
            "886   57   1  0      165  289   1       0     124     0     1.0     1  3    3\n",
            "887   61   1  0      120  260   0       1     140     1     3.6     1  1    3\n",
            "888   57   1  0      110  201   0       1     126     1     1.5     1  0    1\n",
            "889   60   0  0      150  258   0       0     157     0     2.6     1  2    3\n",
            "890   63   0  0      150  407   0       0     154     0     4.0     1  3    3\n",
            "891   55   0  0      128  205   0       2     130     1     2.0     1  1    3\n",
            "892   64   0  0      180  325   0       1     154     1     0.0     2  0    2\n",
            "893   54   1  0      110  239   0       1     126     1     2.8     1  1    3\n",
            "894   52   1  0      128  204   1       1     156     1     1.0     1  0    0\n",
            "895   51   1  0      140  299   0       1     173     1     1.6     2  0    3\n",
            "896   62   0  2      130  263   0       1      97     0     1.2     1  1    3\n",
            "897   59   1  3      178  270   0       0     145     0     4.2     0  0    3\n",
            "898   52   1  1      134  201   0       1     158     0     0.8     2  1    2\n",
            "899   42   0  0      102  265   0       0     122     0     0.6     1  0    2\n",
            "900   59   1  0      135  234   0       1     161     0     0.5     1  0    3\n",
            "901   61   1  3      134  234   0       1     145     0     2.6     1  2    2\n",
            "902   42   0  0      102  265   0       0     122     0     0.6     1  0    2\n",
            "903   62   0  0      140  268   0       0     160     0     3.6     0  2    2\n",
            "904   59   1  2      126  218   1       1     134     0     2.2     1  1    1\n",
            "905   55   1  1      130  262   0       1     155     0     0.0     2  0    2\n",
            "906   64   1  0      120  246   0       0      96     1     2.2     0  1    2\n",
            "907   42   1  0      140  226   0       1     178     0     0.0     2  0    2\n",
            "908   50   0  1      120  244   0       1     162     0     1.1     2  0    2\n",
            "909   62   1  0      120  267   0       1      99     1     1.8     1  2    3\n",
            "910   50   1  0      144  200   0       0     126     1     0.9     1  0    3\n",
            "911   50   1  2      140  233   0       1     163     0     0.6     1  1    3\n",
            "912   58   0  1      136  319   1       0     152     0     0.0     2  2    2\n",
            "913   35   1  0      120  198   0       1     130     1     1.6     1  0    3\n",
            "914   45   1  0      104  208   0       0     148     1     3.0     1  0    2\n",
            "915   66   1  0      112  212   0       0     132     1     0.1     2  1    2\n",
            "916   46   1  0      120  249   0       0     144     0     0.8     2  0    3\n",
            "917   65   1  0      135  254   0       0     127     0     2.8     1  1    3\n",
            "918   47   1  2      130  253   0       1     179     0     0.0     2  0    2\n",
            "919   59   1  3      134  204   0       1     162     0     0.8     2  2    2\n",
            "920   38   1  3      120  231   0       1     182     1     3.8     1  0    3\n",
            "921   39   1  0      118  219   0       1     140     0     1.2     1  0    3\n",
            "922   58   1  0      146  218   0       1     105     0     2.0     1  1    3\n",
            "923   44   1  1      120  263   0       1     173     0     0.0     2  0    3\n",
            "924   54   1  0      140  239   0       1     160     0     1.2     2  0    2\n",
            "925   61   0  0      130  330   0       0     169     0     0.0     2  0    2\n",
            "926   57   1  0      130  131   0       1     115     1     1.2     1  1    3\n",
            "927   54   1  0      110  206   0       0     108     1     0.0     1  1    2\n",
            "928   42   1  2      120  240   1       1     194     0     0.8     0  0    3\n",
            "929   54   1  0      124  266   0       0     109     1     2.2     1  1    3\n",
            "930   60   1  0      130  206   0       0     132     1     2.4     1  2    3\n",
            "931   65   1  0      135  254   0       0     127     0     2.8     1  1    3\n",
            "932   40   1  0      152  223   0       1     181     0     0.0     2  0    3\n",
            "933   51   0  2      140  308   0       0     142     0     1.5     2  1    2\n",
            "934   38   1  3      120  231   0       1     182     1     3.8     1  0    3\n",
            "935   42   1  2      130  180   0       1     150     0     0.0     2  0    2\n",
            "936   56   1  1      120  240   0       1     169     0     0.0     0  0    2\n",
            "937   43   1  2      130  315   0       1     162     0     1.9     2  1    2\n",
            "938   64   1  2      140  335   0       1     158     0     0.0     2  0    2\n",
            "939   53   1  0      142  226   0       0     111     1     0.0     2  0    3\n",
            "940   49   0  1      134  271   0       1     162     0     0.0     1  0    2\n",
            "941   57   0  0      140  241   0       1     123     1     0.2     1  0    3\n",
            "942   52   0  2      136  196   0       0     169     0     0.1     1  0    2\n",
            "943   69   0  3      140  239   0       1     151     0     1.8     2  2    2\n",
            "944   65   1  0      120  177   0       1     140     0     0.4     2  0    3\n",
            "945   66   0  0      178  228   1       1     165     1     1.0     1  2    3\n",
            "946   56   1  3      120  193   0       0     162     0     1.9     1  0    3\n",
            "947   67   0  2      152  277   0       1     172     0     0.0     2  1    2\n",
            "948   54   0  2      160  201   0       1     163     0     0.0     2  1    2\n",
            "949   70   1  0      145  174   0       1     125     1     2.6     0  0    3\n",
            "950   57   1  0      132  207   0       1     168     1     0.0     2  0    3\n",
            "951   67   1  0      160  286   0       0     108     1     1.5     1  3    2\n",
            "952   62   0  2      130  263   0       1      97     0     1.2     1  1    3\n",
            "953   54   0  2      135  304   1       1     170     0     0.0     2  0    2\n",
            "954   45   0  0      138  236   0       0     152     1     0.2     1  0    2\n",
            "955   53   0  0      130  264   0       0     143     0     0.4     1  0    2\n",
            "956   62   1  2      130  231   0       1     146     0     1.8     1  3    3\n",
            "957   49   0  0      130  269   0       1     163     0     0.0     2  0    2\n",
            "958   50   1  2      140  233   0       1     163     0     0.6     1  1    3\n",
            "959   65   0  2      140  417   1       0     157     0     0.8     2  1    2\n",
            "960   69   0  3      140  239   0       1     151     0     1.8     2  2    2\n",
            "961   52   0  2      136  196   0       0     169     0     0.1     1  0    2\n",
            "962   58   0  0      100  248   0       0     122     0     1.0     1  0    2\n",
            "963   52   1  0      108  233   1       1     147     0     0.1     2  3    3\n",
            "964   57   0  0      140  241   0       1     123     1     0.2     1  0    3\n",
            "965   44   0  2      108  141   0       1     175     0     0.6     1  0    2\n",
            "966   76   0  2      140  197   0       2     116     0     1.1     1  0    2\n",
            "967   58   1  0      128  259   0       0     130     1     3.0     1  2    3\n",
            "968   60   0  2      120  178   1       1      96     0     0.0     2  0    2\n",
            "969   53   1  0      140  203   1       0     155     1     3.1     0  0    3\n",
            "970   52   1  1      120  325   0       1     172     0     0.2     2  0    2\n",
            "971   38   1  2      138  175   0       1     173     0     0.0     2  4    2\n",
            "972   52   1  2      172  199   1       1     162     0     0.5     2  0    3\n",
            "973   52   1  3      118  186   0       0     190     0     0.0     1  0    1\n",
            "974   51   1  2      125  245   1       0     166     0     2.4     1  0    2\n",
            "975   43   1  0      110  211   0       1     161     0     0.0     2  0    3\n",
            "976   39   1  0      118  219   0       1     140     0     1.2     1  0    3\n",
            "977   63   0  0      108  269   0       1     169     1     1.8     1  2    2\n",
            "978   52   1  1      128  205   1       1     184     0     0.0     2  0    2\n",
            "979   44   1  0      110  197   0       0     177     0     0.0     2  1    2\n",
            "980   45   1  0      142  309   0       0     147     1     0.0     1  3    3\n",
            "981   57   1  0      140  192   0       1     148     0     0.4     1  0    1\n",
            "982   39   1  0      118  219   0       1     140     0     1.2     1  0    3\n",
            "983   67   0  0      106  223   0       1     142     0     0.3     2  2    2\n",
            "984   64   1  0      128  263   0       1     105     1     0.2     1  1    3\n",
            "985   59   1  0      135  234   0       1     161     0     0.5     1  0    3\n",
            "986   62   1  2      130  231   0       1     146     0     1.8     1  3    3\n",
            "987   55   0  0      180  327   0       2     117     1     3.4     1  0    2\n",
            "988   57   1  1      154  232   0       0     164     0     0.0     2  1    2\n",
            "989   60   1  0      140  293   0       0     170     0     1.2     1  2    3\n",
            "990   71   0  1      160  302   0       1     162     0     0.4     2  2    2\n",
            "991   56   1  1      120  236   0       1     178     0     0.8     2  0    2\n",
            "992   60   1  0      117  230   1       1     160     1     1.4     2  2    3\n",
            "993   50   0  0      110  254   0       0     159     0     0.0     2  0    2\n",
            "994   43   1  0      132  247   1       0     143     1     0.1     1  4    3\n",
            "995   59   1  0      110  239   0       0     142     1     1.2     1  1    3\n",
            "996   44   1  1      120  263   0       1     173     0     0.0     2  0    3\n",
            "997   56   0  0      134  409   0       0     150     1     1.9     1  2    3\n",
            "998   54   1  0      120  188   0       1     113     0     1.4     1  1    3\n",
            "999   42   1  0      136  315   0       1     125     1     1.8     1  0    1\n",
            "1000  67   1  0      125  254   1       1     163     0     0.2     1  2    3\n",
            "1001  64   1  0      145  212   0       0     132     0     2.0     1  2    1\n",
            "1002  42   1  0      140  226   0       1     178     0     0.0     2  0    2\n",
            "1003  66   1  0      112  212   0       0     132     1     0.1     2  1    2\n",
            "1004  52   1  0      108  233   1       1     147     0     0.1     2  3    3\n",
            "1005  51   0  2      140  308   0       0     142     0     1.5     2  1    2\n",
            "1006  55   0  0      128  205   0       2     130     1     2.0     1  1    3\n",
            "1007  58   1  2      140  211   1       0     165     0     0.0     2  0    2\n",
            "1008  56   1  3      120  193   0       0     162     0     1.9     1  0    3\n",
            "1009  42   1  1      120  295   0       1     162     0     0.0     2  0    2\n",
            "1010  40   1  0      152  223   0       1     181     0     0.0     2  0    3\n",
            "1011  51   1  0      140  299   0       1     173     1     1.6     2  0    3\n",
            "1012  45   1  1      128  308   0       0     170     0     0.0     2  0    2\n",
            "1013  48   1  1      110  229   0       1     168     0     1.0     0  0    3\n",
            "1014  58   1  0      114  318   0       2     140     0     4.4     0  3    1\n",
            "1015  44   0  2      108  141   0       1     175     0     0.6     1  0    2\n",
            "1016  58   1  0      128  216   0       0     131     1     2.2     1  3    3\n",
            "1017  65   1  3      138  282   1       0     174     0     1.4     1  1    2\n",
            "1018  53   1  0      123  282   0       1      95     1     2.0     1  2    3\n",
            "1019  41   1  0      110  172   0       0     158     0     0.0     2  0    3\n",
            "1020  47   1  0      112  204   0       1     143     0     0.1     2  0    2\n",
            "1021  59   1  1      140  221   0       1     164     1     0.0     2  0    2\n",
            "1022  60   1  0      125  258   0       0     141     1     2.8     1  1    3\n",
            "1023  47   1  0      110  275   0       0     118     1     1.0     1  1    2\n",
            "1024  50   0  0      110  254   0       0     159     0     0.0     2  0    2\n",
            "1025  54   1  0      120  188   0       1     113     0     1.4     1  1    3\n",
            "     target\n",
            "16        1\n",
            "32        1\n",
            "44        0\n",
            "56        0\n",
            "62        1\n",
            "65        1\n",
            "80        1\n",
            "83        0\n",
            "84        1\n",
            "85        1\n",
            "87        1\n",
            "93        0\n",
            "94        0\n",
            "104       1\n",
            "113       0\n",
            "116       0\n",
            "119       1\n",
            "121       1\n",
            "122       0\n",
            "128       1\n",
            "131       1\n",
            "133       1\n",
            "134       1\n",
            "135       1\n",
            "137       1\n",
            "139       1\n",
            "151       0\n",
            "154       1\n",
            "156       1\n",
            "158       1\n",
            "163       0\n",
            "165       0\n",
            "166       0\n",
            "177       0\n",
            "179       0\n",
            "181       0\n",
            "187       0\n",
            "188       0\n",
            "189       0\n",
            "193       1\n",
            "196       1\n",
            "201       1\n",
            "202       1\n",
            "203       1\n",
            "205       1\n",
            "207       0\n",
            "208       1\n",
            "209       1\n",
            "210       0\n",
            "212       0\n",
            "214       1\n",
            "215       1\n",
            "218       1\n",
            "220       0\n",
            "222       0\n",
            "223       1\n",
            "224       1\n",
            "227       0\n",
            "230       0\n",
            "231       0\n",
            "236       1\n",
            "237       0\n",
            "239       0\n",
            "242       0\n",
            "243       1\n",
            "244       0\n",
            "247       0\n",
            "248       0\n",
            "250       1\n",
            "251       0\n",
            "252       1\n",
            "254       0\n",
            "258       1\n",
            "260       1\n",
            "262       1\n",
            "264       1\n",
            "265       0\n",
            "266       1\n",
            "267       0\n",
            "273       1\n",
            "274       0\n",
            "276       0\n",
            "278       1\n",
            "279       0\n",
            "284       1\n",
            "285       0\n",
            "286       1\n",
            "290       0\n",
            "291       1\n",
            "294       1\n",
            "295       0\n",
            "296       0\n",
            "297       0\n",
            "299       1\n",
            "303       1\n",
            "304       0\n",
            "307       1\n",
            "308       1\n",
            "309       0\n",
            "311       0\n",
            "312       0\n",
            "313       0\n",
            "315       1\n",
            "316       1\n",
            "317       1\n",
            "318       1\n",
            "319       0\n",
            "325       1\n",
            "326       1\n",
            "327       0\n",
            "330       1\n",
            "331       1\n",
            "336       0\n",
            "337       1\n",
            "339       0\n",
            "341       1\n",
            "342       1\n",
            "345       1\n",
            "346       0\n",
            "347       0\n",
            "348       1\n",
            "351       1\n",
            "352       0\n",
            "353       0\n",
            "355       0\n",
            "358       0\n",
            "360       1\n",
            "361       1\n",
            "363       1\n",
            "365       0\n",
            "366       1\n",
            "371       0\n",
            "372       0\n",
            "373       1\n",
            "376       1\n",
            "379       0\n",
            "380       1\n",
            "382       0\n",
            "384       0\n",
            "386       1\n",
            "387       1\n",
            "388       0\n",
            "389       0\n",
            "391       0\n",
            "393       1\n",
            "394       0\n",
            "395       0\n",
            "396       1\n",
            "398       0\n",
            "399       1\n",
            "400       1\n",
            "401       0\n",
            "402       1\n",
            "404       1\n",
            "405       0\n",
            "406       0\n",
            "407       1\n",
            "408       0\n",
            "409       1\n",
            "410       0\n",
            "411       1\n",
            "412       0\n",
            "413       0\n",
            "414       0\n",
            "415       0\n",
            "416       1\n",
            "417       1\n",
            "418       1\n",
            "419       1\n",
            "420       1\n",
            "421       1\n",
            "423       1\n",
            "424       0\n",
            "425       0\n",
            "429       0\n",
            "431       0\n",
            "433       1\n",
            "434       1\n",
            "436       1\n",
            "437       0\n",
            "440       0\n",
            "441       0\n",
            "442       0\n",
            "443       0\n",
            "444       1\n",
            "445       1\n",
            "446       1\n",
            "447       1\n",
            "448       0\n",
            "449       1\n",
            "453       0\n",
            "454       1\n",
            "455       0\n",
            "456       1\n",
            "457       0\n",
            "458       1\n",
            "459       1\n",
            "460       1\n",
            "462       1\n",
            "463       1\n",
            "464       1\n",
            "465       1\n",
            "466       1\n",
            "467       1\n",
            "468       0\n",
            "469       1\n",
            "470       0\n",
            "471       1\n",
            "472       1\n",
            "475       0\n",
            "476       1\n",
            "477       0\n",
            "478       0\n",
            "479       1\n",
            "481       0\n",
            "482       0\n",
            "483       0\n",
            "484       1\n",
            "485       0\n",
            "486       0\n",
            "487       0\n",
            "488       0\n",
            "489       1\n",
            "490       1\n",
            "491       1\n",
            "492       1\n",
            "493       0\n",
            "494       0\n",
            "495       1\n",
            "497       0\n",
            "498       0\n",
            "500       1\n",
            "501       1\n",
            "502       1\n",
            "503       1\n",
            "504       1\n",
            "505       0\n",
            "506       1\n",
            "507       0\n",
            "508       1\n",
            "509       0\n",
            "510       0\n",
            "511       1\n",
            "512       0\n",
            "514       0\n",
            "515       1\n",
            "516       0\n",
            "517       0\n",
            "518       1\n",
            "519       0\n",
            "520       0\n",
            "521       0\n",
            "524       0\n",
            "525       0\n",
            "526       1\n",
            "527       0\n",
            "528       1\n",
            "530       1\n",
            "532       1\n",
            "533       0\n",
            "535       1\n",
            "536       1\n",
            "538       1\n",
            "539       0\n",
            "540       1\n",
            "541       0\n",
            "543       1\n",
            "544       0\n",
            "545       1\n",
            "546       0\n",
            "547       0\n",
            "548       1\n",
            "549       1\n",
            "551       0\n",
            "552       0\n",
            "553       0\n",
            "554       1\n",
            "555       0\n",
            "557       0\n",
            "558       1\n",
            "559       1\n",
            "560       0\n",
            "561       1\n",
            "562       1\n",
            "563       1\n",
            "564       0\n",
            "565       0\n",
            "566       1\n",
            "568       1\n",
            "569       1\n",
            "570       1\n",
            "572       0\n",
            "573       1\n",
            "574       0\n",
            "575       0\n",
            "576       1\n",
            "577       1\n",
            "578       0\n",
            "579       1\n",
            "580       0\n",
            "582       1\n",
            "584       0\n",
            "585       0\n",
            "586       1\n",
            "587       0\n",
            "588       0\n",
            "589       0\n",
            "590       0\n",
            "591       1\n",
            "592       0\n",
            "593       0\n",
            "594       0\n",
            "596       0\n",
            "597       1\n",
            "598       1\n",
            "599       0\n",
            "601       0\n",
            "602       0\n",
            "603       1\n",
            "604       1\n",
            "605       1\n",
            "606       1\n",
            "608       0\n",
            "609       0\n",
            "610       0\n",
            "611       0\n",
            "613       0\n",
            "614       0\n",
            "615       0\n",
            "616       1\n",
            "618       1\n",
            "619       1\n",
            "620       0\n",
            "621       0\n",
            "622       0\n",
            "623       0\n",
            "624       0\n",
            "625       1\n",
            "626       0\n",
            "627       0\n",
            "628       0\n",
            "631       0\n",
            "632       1\n",
            "633       1\n",
            "635       0\n",
            "636       1\n",
            "637       0\n",
            "638       1\n",
            "639       0\n",
            "640       1\n",
            "641       1\n",
            "642       0\n",
            "643       1\n",
            "645       1\n",
            "646       0\n",
            "647       0\n",
            "648       1\n",
            "649       1\n",
            "650       1\n",
            "651       0\n",
            "652       1\n",
            "654       0\n",
            "655       1\n",
            "656       1\n",
            "657       0\n",
            "658       1\n",
            "659       0\n",
            "660       1\n",
            "661       0\n",
            "662       0\n",
            "663       1\n",
            "664       1\n",
            "665       1\n",
            "666       1\n",
            "667       1\n",
            "668       0\n",
            "669       1\n",
            "670       0\n",
            "671       0\n",
            "672       0\n",
            "673       1\n",
            "674       1\n",
            "675       0\n",
            "676       0\n",
            "677       0\n",
            "678       0\n",
            "679       1\n",
            "680       0\n",
            "681       1\n",
            "682       0\n",
            "683       0\n",
            "684       0\n",
            "685       0\n",
            "686       0\n",
            "687       0\n",
            "688       0\n",
            "689       0\n",
            "690       1\n",
            "691       1\n",
            "693       0\n",
            "694       1\n",
            "696       0\n",
            "697       1\n",
            "698       0\n",
            "699       0\n",
            "700       0\n",
            "701       1\n",
            "702       0\n",
            "703       1\n",
            "704       1\n",
            "705       1\n",
            "706       0\n",
            "707       0\n",
            "708       1\n",
            "710       0\n",
            "711       1\n",
            "712       0\n",
            "713       1\n",
            "714       1\n",
            "715       1\n",
            "716       1\n",
            "717       0\n",
            "718       0\n",
            "719       1\n",
            "722       1\n",
            "723       1\n",
            "725       1\n",
            "726       0\n",
            "727       0\n",
            "728       1\n",
            "729       0\n",
            "730       1\n",
            "731       1\n",
            "732       0\n",
            "733       1\n",
            "735       0\n",
            "736       1\n",
            "737       0\n",
            "738       0\n",
            "739       0\n",
            "741       1\n",
            "742       1\n",
            "743       0\n",
            "744       1\n",
            "745       1\n",
            "746       1\n",
            "747       0\n",
            "748       0\n",
            "749       1\n",
            "750       1\n",
            "751       1\n",
            "752       1\n",
            "753       1\n",
            "754       1\n",
            "755       1\n",
            "756       1\n",
            "757       0\n",
            "758       1\n",
            "759       1\n",
            "760       0\n",
            "761       0\n",
            "762       1\n",
            "763       1\n",
            "764       1\n",
            "765       0\n",
            "766       0\n",
            "767       0\n",
            "768       0\n",
            "769       1\n",
            "770       1\n",
            "771       1\n",
            "772       1\n",
            "773       0\n",
            "774       0\n",
            "775       1\n",
            "776       1\n",
            "777       0\n",
            "778       0\n",
            "779       0\n",
            "780       1\n",
            "781       0\n",
            "782       0\n",
            "783       1\n",
            "784       1\n",
            "785       1\n",
            "786       0\n",
            "787       0\n",
            "788       0\n",
            "789       0\n",
            "790       0\n",
            "791       0\n",
            "792       0\n",
            "793       0\n",
            "794       1\n",
            "795       0\n",
            "796       1\n",
            "797       1\n",
            "798       0\n",
            "799       0\n",
            "800       1\n",
            "801       0\n",
            "802       1\n",
            "803       0\n",
            "804       0\n",
            "805       1\n",
            "806       1\n",
            "807       0\n",
            "808       1\n",
            "809       1\n",
            "810       1\n",
            "811       0\n",
            "812       0\n",
            "813       0\n",
            "814       0\n",
            "815       1\n",
            "816       1\n",
            "817       1\n",
            "818       1\n",
            "819       1\n",
            "820       0\n",
            "821       0\n",
            "822       0\n",
            "823       0\n",
            "824       1\n",
            "825       0\n",
            "826       1\n",
            "827       1\n",
            "828       0\n",
            "829       1\n",
            "830       0\n",
            "831       1\n",
            "832       1\n",
            "833       1\n",
            "834       0\n",
            "835       0\n",
            "836       0\n",
            "837       1\n",
            "838       1\n",
            "839       1\n",
            "840       1\n",
            "841       0\n",
            "842       1\n",
            "843       0\n",
            "845       0\n",
            "846       0\n",
            "847       1\n",
            "848       0\n",
            "849       1\n",
            "850       0\n",
            "851       0\n",
            "852       1\n",
            "853       0\n",
            "854       0\n",
            "855       0\n",
            "856       1\n",
            "857       1\n",
            "858       1\n",
            "859       1\n",
            "860       0\n",
            "861       0\n",
            "862       0\n",
            "863       0\n",
            "864       0\n",
            "865       0\n",
            "866       1\n",
            "867       1\n",
            "868       1\n",
            "869       1\n",
            "870       1\n",
            "871       1\n",
            "872       1\n",
            "873       1\n",
            "874       1\n",
            "875       0\n",
            "876       0\n",
            "877       0\n",
            "878       1\n",
            "880       1\n",
            "881       1\n",
            "882       0\n",
            "883       0\n",
            "884       0\n",
            "885       0\n",
            "886       0\n",
            "887       0\n",
            "888       1\n",
            "889       0\n",
            "890       0\n",
            "891       0\n",
            "892       1\n",
            "893       0\n",
            "894       0\n",
            "895       0\n",
            "896       0\n",
            "897       1\n",
            "898       1\n",
            "899       1\n",
            "900       1\n",
            "901       0\n",
            "902       1\n",
            "903       0\n",
            "904       0\n",
            "905       1\n",
            "906       0\n",
            "907       1\n",
            "908       1\n",
            "909       0\n",
            "910       0\n",
            "911       0\n",
            "912       0\n",
            "913       0\n",
            "914       1\n",
            "915       0\n",
            "916       0\n",
            "917       0\n",
            "918       1\n",
            "919       0\n",
            "920       0\n",
            "921       0\n",
            "922       0\n",
            "923       1\n",
            "924       1\n",
            "925       0\n",
            "926       0\n",
            "927       0\n",
            "928       1\n",
            "929       0\n",
            "930       0\n",
            "931       0\n",
            "932       0\n",
            "933       1\n",
            "934       0\n",
            "935       1\n",
            "936       1\n",
            "937       1\n",
            "938       0\n",
            "939       1\n",
            "940       1\n",
            "941       0\n",
            "942       1\n",
            "943       1\n",
            "944       1\n",
            "945       0\n",
            "946       1\n",
            "947       1\n",
            "948       1\n",
            "949       0\n",
            "950       1\n",
            "951       0\n",
            "952       0\n",
            "953       1\n",
            "954       1\n",
            "955       1\n",
            "956       1\n",
            "957       1\n",
            "958       0\n",
            "959       1\n",
            "960       1\n",
            "961       1\n",
            "962       1\n",
            "963       1\n",
            "964       0\n",
            "965       1\n",
            "966       1\n",
            "967       0\n",
            "968       1\n",
            "969       0\n",
            "970       1\n",
            "971       1\n",
            "972       1\n",
            "973       1\n",
            "974       1\n",
            "975       1\n",
            "976       0\n",
            "977       0\n",
            "978       1\n",
            "979       0\n",
            "980       0\n",
            "981       1\n",
            "982       0\n",
            "983       1\n",
            "984       1\n",
            "985       1\n",
            "986       1\n",
            "987       0\n",
            "988       0\n",
            "989       0\n",
            "990       1\n",
            "991       1\n",
            "992       0\n",
            "993       1\n",
            "994       0\n",
            "995       0\n",
            "996       1\n",
            "997       0\n",
            "998       0\n",
            "999       0\n",
            "1000      0\n",
            "1001      0\n",
            "1002      1\n",
            "1003      0\n",
            "1004      1\n",
            "1005      1\n",
            "1006      0\n",
            "1007      1\n",
            "1008      1\n",
            "1009      1\n",
            "1010      0\n",
            "1011      0\n",
            "1012      1\n",
            "1013      0\n",
            "1014      0\n",
            "1015      1\n",
            "1016      0\n",
            "1017      0\n",
            "1018      0\n",
            "1019      0\n",
            "1020      1\n",
            "1021      1\n",
            "1022      0\n",
            "1023      0\n",
            "1024      1\n",
            "1025      0\n"
          ]
        }
      ],
      "source": [
        "# Check for duplicate rows\n",
        "duplicate_rows <- heart_data[duplicated(heart_data), ]\n",
        "\n",
        "# Display the number of duplicate rows\n",
        "num_duplicates <- nrow(duplicate_rows)\n",
        "cat(\"Number of duplicate rows:\", num_duplicates, \"\\n\")\n",
        "\n",
        "# If there are any duplicates, display them\n",
        "if (num_duplicates > 0) {\n",
        "  print(duplicate_rows)\n",
        "}"
      ]
    },
    {
      "cell_type": "markdown",
      "metadata": {},
      "source": [
        "**Remove duplicate rows**"
      ]
    },
    {
      "cell_type": "code",
      "execution_count": 6,
      "metadata": {
        "vscode": {
          "languageId": "r"
        }
      },
      "outputs": [
        {
          "name": "stdout",
          "output_type": "stream",
          "text": [
            "Number of duplicate rows after removal: 0 \n"
          ]
        }
      ],
      "source": [
        "# Remove duplicate rows\n",
        "heart_data <- heart_data[!duplicated(heart_data), ]\n",
        "\n",
        "# Verify that duplicates are removed\n",
        "num_duplicates_after <- nrow(heart_data[duplicated(heart_data), ])\n",
        "cat(\"Number of duplicate rows after removal:\", num_duplicates_after, \"\\n\")"
      ]
    },
    {
      "cell_type": "code",
      "execution_count": 7,
      "metadata": {
        "vscode": {
          "languageId": "r"
        }
      },
      "outputs": [
        {
          "data": {
            "text/html": [
              "<table class=\"dataframe\">\n",
              "<caption>A data.frame: 302 × 14</caption>\n",
              "<thead>\n",
              "\t<tr><th></th><th scope=col>age</th><th scope=col>sex</th><th scope=col>cp</th><th scope=col>trestbps</th><th scope=col>chol</th><th scope=col>fbs</th><th scope=col>restecg</th><th scope=col>thalach</th><th scope=col>exang</th><th scope=col>oldpeak</th><th scope=col>slope</th><th scope=col>ca</th><th scope=col>thal</th><th scope=col>target</th></tr>\n",
              "\t<tr><th></th><th scope=col>&lt;int&gt;</th><th scope=col>&lt;int&gt;</th><th scope=col>&lt;int&gt;</th><th scope=col>&lt;int&gt;</th><th scope=col>&lt;int&gt;</th><th scope=col>&lt;int&gt;</th><th scope=col>&lt;int&gt;</th><th scope=col>&lt;int&gt;</th><th scope=col>&lt;int&gt;</th><th scope=col>&lt;dbl&gt;</th><th scope=col>&lt;int&gt;</th><th scope=col>&lt;int&gt;</th><th scope=col>&lt;int&gt;</th><th scope=col>&lt;int&gt;</th></tr>\n",
              "</thead>\n",
              "<tbody>\n",
              "\t<tr><th scope=row>1</th><td>52</td><td>1</td><td>0</td><td>125</td><td>212</td><td>0</td><td>1</td><td>168</td><td>0</td><td>1.0</td><td>2</td><td>2</td><td>3</td><td>0</td></tr>\n",
              "\t<tr><th scope=row>2</th><td>53</td><td>1</td><td>0</td><td>140</td><td>203</td><td>1</td><td>0</td><td>155</td><td>1</td><td>3.1</td><td>0</td><td>0</td><td>3</td><td>0</td></tr>\n",
              "\t<tr><th scope=row>3</th><td>70</td><td>1</td><td>0</td><td>145</td><td>174</td><td>0</td><td>1</td><td>125</td><td>1</td><td>2.6</td><td>0</td><td>0</td><td>3</td><td>0</td></tr>\n",
              "\t<tr><th scope=row>4</th><td>61</td><td>1</td><td>0</td><td>148</td><td>203</td><td>0</td><td>1</td><td>161</td><td>0</td><td>0.0</td><td>2</td><td>1</td><td>3</td><td>0</td></tr>\n",
              "\t<tr><th scope=row>5</th><td>62</td><td>0</td><td>0</td><td>138</td><td>294</td><td>1</td><td>1</td><td>106</td><td>0</td><td>1.9</td><td>1</td><td>3</td><td>2</td><td>0</td></tr>\n",
              "\t<tr><th scope=row>6</th><td>58</td><td>0</td><td>0</td><td>100</td><td>248</td><td>0</td><td>0</td><td>122</td><td>0</td><td>1.0</td><td>1</td><td>0</td><td>2</td><td>1</td></tr>\n",
              "\t<tr><th scope=row>7</th><td>58</td><td>1</td><td>0</td><td>114</td><td>318</td><td>0</td><td>2</td><td>140</td><td>0</td><td>4.4</td><td>0</td><td>3</td><td>1</td><td>0</td></tr>\n",
              "\t<tr><th scope=row>8</th><td>55</td><td>1</td><td>0</td><td>160</td><td>289</td><td>0</td><td>0</td><td>145</td><td>1</td><td>0.8</td><td>1</td><td>1</td><td>3</td><td>0</td></tr>\n",
              "\t<tr><th scope=row>9</th><td>46</td><td>1</td><td>0</td><td>120</td><td>249</td><td>0</td><td>0</td><td>144</td><td>0</td><td>0.8</td><td>2</td><td>0</td><td>3</td><td>0</td></tr>\n",
              "\t<tr><th scope=row>10</th><td>54</td><td>1</td><td>0</td><td>122</td><td>286</td><td>0</td><td>0</td><td>116</td><td>1</td><td>3.2</td><td>1</td><td>2</td><td>2</td><td>0</td></tr>\n",
              "\t<tr><th scope=row>11</th><td>71</td><td>0</td><td>0</td><td>112</td><td>149</td><td>0</td><td>1</td><td>125</td><td>0</td><td>1.6</td><td>1</td><td>0</td><td>2</td><td>1</td></tr>\n",
              "\t<tr><th scope=row>12</th><td>43</td><td>0</td><td>0</td><td>132</td><td>341</td><td>1</td><td>0</td><td>136</td><td>1</td><td>3.0</td><td>1</td><td>0</td><td>3</td><td>0</td></tr>\n",
              "\t<tr><th scope=row>13</th><td>34</td><td>0</td><td>1</td><td>118</td><td>210</td><td>0</td><td>1</td><td>192</td><td>0</td><td>0.7</td><td>2</td><td>0</td><td>2</td><td>1</td></tr>\n",
              "\t<tr><th scope=row>14</th><td>51</td><td>1</td><td>0</td><td>140</td><td>298</td><td>0</td><td>1</td><td>122</td><td>1</td><td>4.2</td><td>1</td><td>3</td><td>3</td><td>0</td></tr>\n",
              "\t<tr><th scope=row>15</th><td>52</td><td>1</td><td>0</td><td>128</td><td>204</td><td>1</td><td>1</td><td>156</td><td>1</td><td>1.0</td><td>1</td><td>0</td><td>0</td><td>0</td></tr>\n",
              "\t<tr><th scope=row>17</th><td>51</td><td>0</td><td>2</td><td>140</td><td>308</td><td>0</td><td>0</td><td>142</td><td>0</td><td>1.5</td><td>2</td><td>1</td><td>2</td><td>1</td></tr>\n",
              "\t<tr><th scope=row>18</th><td>54</td><td>1</td><td>0</td><td>124</td><td>266</td><td>0</td><td>0</td><td>109</td><td>1</td><td>2.2</td><td>1</td><td>1</td><td>3</td><td>0</td></tr>\n",
              "\t<tr><th scope=row>19</th><td>50</td><td>0</td><td>1</td><td>120</td><td>244</td><td>0</td><td>1</td><td>162</td><td>0</td><td>1.1</td><td>2</td><td>0</td><td>2</td><td>1</td></tr>\n",
              "\t<tr><th scope=row>20</th><td>58</td><td>1</td><td>2</td><td>140</td><td>211</td><td>1</td><td>0</td><td>165</td><td>0</td><td>0.0</td><td>2</td><td>0</td><td>2</td><td>1</td></tr>\n",
              "\t<tr><th scope=row>21</th><td>60</td><td>1</td><td>2</td><td>140</td><td>185</td><td>0</td><td>0</td><td>155</td><td>0</td><td>3.0</td><td>1</td><td>0</td><td>2</td><td>0</td></tr>\n",
              "\t<tr><th scope=row>22</th><td>67</td><td>0</td><td>0</td><td>106</td><td>223</td><td>0</td><td>1</td><td>142</td><td>0</td><td>0.3</td><td>2</td><td>2</td><td>2</td><td>1</td></tr>\n",
              "\t<tr><th scope=row>23</th><td>45</td><td>1</td><td>0</td><td>104</td><td>208</td><td>0</td><td>0</td><td>148</td><td>1</td><td>3.0</td><td>1</td><td>0</td><td>2</td><td>1</td></tr>\n",
              "\t<tr><th scope=row>24</th><td>63</td><td>0</td><td>2</td><td>135</td><td>252</td><td>0</td><td>0</td><td>172</td><td>0</td><td>0.0</td><td>2</td><td>0</td><td>2</td><td>1</td></tr>\n",
              "\t<tr><th scope=row>25</th><td>42</td><td>0</td><td>2</td><td>120</td><td>209</td><td>0</td><td>1</td><td>173</td><td>0</td><td>0.0</td><td>1</td><td>0</td><td>2</td><td>1</td></tr>\n",
              "\t<tr><th scope=row>26</th><td>61</td><td>0</td><td>0</td><td>145</td><td>307</td><td>0</td><td>0</td><td>146</td><td>1</td><td>1.0</td><td>1</td><td>0</td><td>3</td><td>0</td></tr>\n",
              "\t<tr><th scope=row>27</th><td>44</td><td>1</td><td>2</td><td>130</td><td>233</td><td>0</td><td>1</td><td>179</td><td>1</td><td>0.4</td><td>2</td><td>0</td><td>2</td><td>1</td></tr>\n",
              "\t<tr><th scope=row>28</th><td>58</td><td>0</td><td>1</td><td>136</td><td>319</td><td>1</td><td>0</td><td>152</td><td>0</td><td>0.0</td><td>2</td><td>2</td><td>2</td><td>0</td></tr>\n",
              "\t<tr><th scope=row>29</th><td>56</td><td>1</td><td>2</td><td>130</td><td>256</td><td>1</td><td>0</td><td>142</td><td>1</td><td>0.6</td><td>1</td><td>1</td><td>1</td><td>0</td></tr>\n",
              "\t<tr><th scope=row>30</th><td>55</td><td>0</td><td>0</td><td>180</td><td>327</td><td>0</td><td>2</td><td>117</td><td>1</td><td>3.4</td><td>1</td><td>0</td><td>2</td><td>0</td></tr>\n",
              "\t<tr><th scope=row>31</th><td>44</td><td>1</td><td>0</td><td>120</td><td>169</td><td>0</td><td>1</td><td>144</td><td>1</td><td>2.8</td><td>0</td><td>0</td><td>1</td><td>0</td></tr>\n",
              "\t<tr><th scope=row>⋮</th><td>⋮</td><td>⋮</td><td>⋮</td><td>⋮</td><td>⋮</td><td>⋮</td><td>⋮</td><td>⋮</td><td>⋮</td><td>⋮</td><td>⋮</td><td>⋮</td><td>⋮</td><td>⋮</td></tr>\n",
              "\t<tr><th scope=row>531</th><td>60</td><td>0</td><td>0</td><td>150</td><td>258</td><td>0</td><td>0</td><td>157</td><td>0</td><td>2.6</td><td>1</td><td>2</td><td>3</td><td>0</td></tr>\n",
              "\t<tr><th scope=row>534</th><td>53</td><td>0</td><td>0</td><td>138</td><td>234</td><td>0</td><td>0</td><td>160</td><td>0</td><td>0.0</td><td>2</td><td>0</td><td>2</td><td>1</td></tr>\n",
              "\t<tr><th scope=row>537</th><td>50</td><td>0</td><td>2</td><td>120</td><td>219</td><td>0</td><td>1</td><td>158</td><td>0</td><td>1.6</td><td>1</td><td>0</td><td>2</td><td>1</td></tr>\n",
              "\t<tr><th scope=row>542</th><td>44</td><td>1</td><td>2</td><td>140</td><td>235</td><td>0</td><td>0</td><td>180</td><td>0</td><td>0.0</td><td>2</td><td>0</td><td>2</td><td>1</td></tr>\n",
              "\t<tr><th scope=row>550</th><td>68</td><td>1</td><td>2</td><td>118</td><td>277</td><td>0</td><td>1</td><td>151</td><td>0</td><td>1.0</td><td>2</td><td>1</td><td>3</td><td>1</td></tr>\n",
              "\t<tr><th scope=row>556</th><td>67</td><td>1</td><td>0</td><td>125</td><td>254</td><td>1</td><td>1</td><td>163</td><td>0</td><td>0.2</td><td>1</td><td>2</td><td>3</td><td>0</td></tr>\n",
              "\t<tr><th scope=row>567</th><td>50</td><td>0</td><td>0</td><td>110</td><td>254</td><td>0</td><td>0</td><td>159</td><td>0</td><td>0.0</td><td>2</td><td>0</td><td>2</td><td>1</td></tr>\n",
              "\t<tr><th scope=row>571</th><td>54</td><td>0</td><td>2</td><td>135</td><td>304</td><td>1</td><td>1</td><td>170</td><td>0</td><td>0.0</td><td>2</td><td>0</td><td>2</td><td>1</td></tr>\n",
              "\t<tr><th scope=row>581</th><td>46</td><td>1</td><td>1</td><td>101</td><td>197</td><td>1</td><td>1</td><td>156</td><td>0</td><td>0.0</td><td>2</td><td>0</td><td>3</td><td>1</td></tr>\n",
              "\t<tr><th scope=row>583</th><td>55</td><td>1</td><td>1</td><td>130</td><td>262</td><td>0</td><td>1</td><td>155</td><td>0</td><td>0.0</td><td>2</td><td>0</td><td>2</td><td>1</td></tr>\n",
              "\t<tr><th scope=row>595</th><td>64</td><td>1</td><td>0</td><td>145</td><td>212</td><td>0</td><td>0</td><td>132</td><td>0</td><td>2.0</td><td>1</td><td>2</td><td>1</td><td>0</td></tr>\n",
              "\t<tr><th scope=row>600</th><td>63</td><td>0</td><td>1</td><td>140</td><td>195</td><td>0</td><td>1</td><td>179</td><td>0</td><td>0.0</td><td>2</td><td>2</td><td>2</td><td>1</td></tr>\n",
              "\t<tr><th scope=row>607</th><td>66</td><td>1</td><td>0</td><td>112</td><td>212</td><td>0</td><td>0</td><td>132</td><td>1</td><td>0.1</td><td>2</td><td>1</td><td>2</td><td>0</td></tr>\n",
              "\t<tr><th scope=row>612</th><td>55</td><td>0</td><td>0</td><td>128</td><td>205</td><td>0</td><td>2</td><td>130</td><td>1</td><td>2.0</td><td>1</td><td>1</td><td>3</td><td>0</td></tr>\n",
              "\t<tr><th scope=row>617</th><td>43</td><td>1</td><td>0</td><td>115</td><td>303</td><td>0</td><td>1</td><td>181</td><td>0</td><td>1.2</td><td>1</td><td>0</td><td>2</td><td>1</td></tr>\n",
              "\t<tr><th scope=row>629</th><td>69</td><td>0</td><td>3</td><td>140</td><td>239</td><td>0</td><td>1</td><td>151</td><td>0</td><td>1.8</td><td>2</td><td>2</td><td>2</td><td>1</td></tr>\n",
              "\t<tr><th scope=row>630</th><td>65</td><td>1</td><td>3</td><td>138</td><td>282</td><td>1</td><td>0</td><td>174</td><td>0</td><td>1.4</td><td>1</td><td>1</td><td>2</td><td>0</td></tr>\n",
              "\t<tr><th scope=row>634</th><td>61</td><td>1</td><td>0</td><td>138</td><td>166</td><td>0</td><td>0</td><td>125</td><td>1</td><td>3.6</td><td>1</td><td>1</td><td>2</td><td>0</td></tr>\n",
              "\t<tr><th scope=row>644</th><td>65</td><td>1</td><td>0</td><td>120</td><td>177</td><td>0</td><td>1</td><td>140</td><td>0</td><td>0.4</td><td>2</td><td>0</td><td>3</td><td>1</td></tr>\n",
              "\t<tr><th scope=row>653</th><td>66</td><td>0</td><td>3</td><td>150</td><td>226</td><td>0</td><td>1</td><td>114</td><td>0</td><td>2.6</td><td>0</td><td>0</td><td>2</td><td>1</td></tr>\n",
              "\t<tr><th scope=row>692</th><td>55</td><td>0</td><td>1</td><td>135</td><td>250</td><td>0</td><td>0</td><td>161</td><td>0</td><td>1.4</td><td>1</td><td>0</td><td>2</td><td>1</td></tr>\n",
              "\t<tr><th scope=row>695</th><td>39</td><td>1</td><td>0</td><td>118</td><td>219</td><td>0</td><td>1</td><td>140</td><td>0</td><td>1.2</td><td>1</td><td>0</td><td>3</td><td>0</td></tr>\n",
              "\t<tr><th scope=row>709</th><td>60</td><td>0</td><td>2</td><td>120</td><td>178</td><td>1</td><td>1</td><td> 96</td><td>0</td><td>0.0</td><td>2</td><td>0</td><td>2</td><td>1</td></tr>\n",
              "\t<tr><th scope=row>720</th><td>52</td><td>1</td><td>0</td><td>108</td><td>233</td><td>1</td><td>1</td><td>147</td><td>0</td><td>0.1</td><td>2</td><td>3</td><td>3</td><td>1</td></tr>\n",
              "\t<tr><th scope=row>721</th><td>64</td><td>1</td><td>2</td><td>140</td><td>335</td><td>0</td><td>1</td><td>158</td><td>0</td><td>0.0</td><td>2</td><td>0</td><td>2</td><td>0</td></tr>\n",
              "\t<tr><th scope=row>724</th><td>68</td><td>0</td><td>2</td><td>120</td><td>211</td><td>0</td><td>0</td><td>115</td><td>0</td><td>1.5</td><td>1</td><td>0</td><td>2</td><td>1</td></tr>\n",
              "\t<tr><th scope=row>734</th><td>44</td><td>0</td><td>2</td><td>108</td><td>141</td><td>0</td><td>1</td><td>175</td><td>0</td><td>0.6</td><td>1</td><td>0</td><td>2</td><td>1</td></tr>\n",
              "\t<tr><th scope=row>740</th><td>52</td><td>1</td><td>0</td><td>128</td><td>255</td><td>0</td><td>1</td><td>161</td><td>1</td><td>0.0</td><td>2</td><td>1</td><td>3</td><td>0</td></tr>\n",
              "\t<tr><th scope=row>844</th><td>59</td><td>1</td><td>3</td><td>160</td><td>273</td><td>0</td><td>0</td><td>125</td><td>0</td><td>0.0</td><td>2</td><td>0</td><td>2</td><td>0</td></tr>\n",
              "\t<tr><th scope=row>879</th><td>54</td><td>1</td><td>0</td><td>120</td><td>188</td><td>0</td><td>1</td><td>113</td><td>0</td><td>1.4</td><td>1</td><td>1</td><td>3</td><td>0</td></tr>\n",
              "</tbody>\n",
              "</table>\n"
            ],
            "text/latex": [
              "A data.frame: 302 × 14\n",
              "\\begin{tabular}{r|llllllllllllll}\n",
              "  & age & sex & cp & trestbps & chol & fbs & restecg & thalach & exang & oldpeak & slope & ca & thal & target\\\\\n",
              "  & <int> & <int> & <int> & <int> & <int> & <int> & <int> & <int> & <int> & <dbl> & <int> & <int> & <int> & <int>\\\\\n",
              "\\hline\n",
              "\t1 & 52 & 1 & 0 & 125 & 212 & 0 & 1 & 168 & 0 & 1.0 & 2 & 2 & 3 & 0\\\\\n",
              "\t2 & 53 & 1 & 0 & 140 & 203 & 1 & 0 & 155 & 1 & 3.1 & 0 & 0 & 3 & 0\\\\\n",
              "\t3 & 70 & 1 & 0 & 145 & 174 & 0 & 1 & 125 & 1 & 2.6 & 0 & 0 & 3 & 0\\\\\n",
              "\t4 & 61 & 1 & 0 & 148 & 203 & 0 & 1 & 161 & 0 & 0.0 & 2 & 1 & 3 & 0\\\\\n",
              "\t5 & 62 & 0 & 0 & 138 & 294 & 1 & 1 & 106 & 0 & 1.9 & 1 & 3 & 2 & 0\\\\\n",
              "\t6 & 58 & 0 & 0 & 100 & 248 & 0 & 0 & 122 & 0 & 1.0 & 1 & 0 & 2 & 1\\\\\n",
              "\t7 & 58 & 1 & 0 & 114 & 318 & 0 & 2 & 140 & 0 & 4.4 & 0 & 3 & 1 & 0\\\\\n",
              "\t8 & 55 & 1 & 0 & 160 & 289 & 0 & 0 & 145 & 1 & 0.8 & 1 & 1 & 3 & 0\\\\\n",
              "\t9 & 46 & 1 & 0 & 120 & 249 & 0 & 0 & 144 & 0 & 0.8 & 2 & 0 & 3 & 0\\\\\n",
              "\t10 & 54 & 1 & 0 & 122 & 286 & 0 & 0 & 116 & 1 & 3.2 & 1 & 2 & 2 & 0\\\\\n",
              "\t11 & 71 & 0 & 0 & 112 & 149 & 0 & 1 & 125 & 0 & 1.6 & 1 & 0 & 2 & 1\\\\\n",
              "\t12 & 43 & 0 & 0 & 132 & 341 & 1 & 0 & 136 & 1 & 3.0 & 1 & 0 & 3 & 0\\\\\n",
              "\t13 & 34 & 0 & 1 & 118 & 210 & 0 & 1 & 192 & 0 & 0.7 & 2 & 0 & 2 & 1\\\\\n",
              "\t14 & 51 & 1 & 0 & 140 & 298 & 0 & 1 & 122 & 1 & 4.2 & 1 & 3 & 3 & 0\\\\\n",
              "\t15 & 52 & 1 & 0 & 128 & 204 & 1 & 1 & 156 & 1 & 1.0 & 1 & 0 & 0 & 0\\\\\n",
              "\t17 & 51 & 0 & 2 & 140 & 308 & 0 & 0 & 142 & 0 & 1.5 & 2 & 1 & 2 & 1\\\\\n",
              "\t18 & 54 & 1 & 0 & 124 & 266 & 0 & 0 & 109 & 1 & 2.2 & 1 & 1 & 3 & 0\\\\\n",
              "\t19 & 50 & 0 & 1 & 120 & 244 & 0 & 1 & 162 & 0 & 1.1 & 2 & 0 & 2 & 1\\\\\n",
              "\t20 & 58 & 1 & 2 & 140 & 211 & 1 & 0 & 165 & 0 & 0.0 & 2 & 0 & 2 & 1\\\\\n",
              "\t21 & 60 & 1 & 2 & 140 & 185 & 0 & 0 & 155 & 0 & 3.0 & 1 & 0 & 2 & 0\\\\\n",
              "\t22 & 67 & 0 & 0 & 106 & 223 & 0 & 1 & 142 & 0 & 0.3 & 2 & 2 & 2 & 1\\\\\n",
              "\t23 & 45 & 1 & 0 & 104 & 208 & 0 & 0 & 148 & 1 & 3.0 & 1 & 0 & 2 & 1\\\\\n",
              "\t24 & 63 & 0 & 2 & 135 & 252 & 0 & 0 & 172 & 0 & 0.0 & 2 & 0 & 2 & 1\\\\\n",
              "\t25 & 42 & 0 & 2 & 120 & 209 & 0 & 1 & 173 & 0 & 0.0 & 1 & 0 & 2 & 1\\\\\n",
              "\t26 & 61 & 0 & 0 & 145 & 307 & 0 & 0 & 146 & 1 & 1.0 & 1 & 0 & 3 & 0\\\\\n",
              "\t27 & 44 & 1 & 2 & 130 & 233 & 0 & 1 & 179 & 1 & 0.4 & 2 & 0 & 2 & 1\\\\\n",
              "\t28 & 58 & 0 & 1 & 136 & 319 & 1 & 0 & 152 & 0 & 0.0 & 2 & 2 & 2 & 0\\\\\n",
              "\t29 & 56 & 1 & 2 & 130 & 256 & 1 & 0 & 142 & 1 & 0.6 & 1 & 1 & 1 & 0\\\\\n",
              "\t30 & 55 & 0 & 0 & 180 & 327 & 0 & 2 & 117 & 1 & 3.4 & 1 & 0 & 2 & 0\\\\\n",
              "\t31 & 44 & 1 & 0 & 120 & 169 & 0 & 1 & 144 & 1 & 2.8 & 0 & 0 & 1 & 0\\\\\n",
              "\t⋮ & ⋮ & ⋮ & ⋮ & ⋮ & ⋮ & ⋮ & ⋮ & ⋮ & ⋮ & ⋮ & ⋮ & ⋮ & ⋮ & ⋮\\\\\n",
              "\t531 & 60 & 0 & 0 & 150 & 258 & 0 & 0 & 157 & 0 & 2.6 & 1 & 2 & 3 & 0\\\\\n",
              "\t534 & 53 & 0 & 0 & 138 & 234 & 0 & 0 & 160 & 0 & 0.0 & 2 & 0 & 2 & 1\\\\\n",
              "\t537 & 50 & 0 & 2 & 120 & 219 & 0 & 1 & 158 & 0 & 1.6 & 1 & 0 & 2 & 1\\\\\n",
              "\t542 & 44 & 1 & 2 & 140 & 235 & 0 & 0 & 180 & 0 & 0.0 & 2 & 0 & 2 & 1\\\\\n",
              "\t550 & 68 & 1 & 2 & 118 & 277 & 0 & 1 & 151 & 0 & 1.0 & 2 & 1 & 3 & 1\\\\\n",
              "\t556 & 67 & 1 & 0 & 125 & 254 & 1 & 1 & 163 & 0 & 0.2 & 1 & 2 & 3 & 0\\\\\n",
              "\t567 & 50 & 0 & 0 & 110 & 254 & 0 & 0 & 159 & 0 & 0.0 & 2 & 0 & 2 & 1\\\\\n",
              "\t571 & 54 & 0 & 2 & 135 & 304 & 1 & 1 & 170 & 0 & 0.0 & 2 & 0 & 2 & 1\\\\\n",
              "\t581 & 46 & 1 & 1 & 101 & 197 & 1 & 1 & 156 & 0 & 0.0 & 2 & 0 & 3 & 1\\\\\n",
              "\t583 & 55 & 1 & 1 & 130 & 262 & 0 & 1 & 155 & 0 & 0.0 & 2 & 0 & 2 & 1\\\\\n",
              "\t595 & 64 & 1 & 0 & 145 & 212 & 0 & 0 & 132 & 0 & 2.0 & 1 & 2 & 1 & 0\\\\\n",
              "\t600 & 63 & 0 & 1 & 140 & 195 & 0 & 1 & 179 & 0 & 0.0 & 2 & 2 & 2 & 1\\\\\n",
              "\t607 & 66 & 1 & 0 & 112 & 212 & 0 & 0 & 132 & 1 & 0.1 & 2 & 1 & 2 & 0\\\\\n",
              "\t612 & 55 & 0 & 0 & 128 & 205 & 0 & 2 & 130 & 1 & 2.0 & 1 & 1 & 3 & 0\\\\\n",
              "\t617 & 43 & 1 & 0 & 115 & 303 & 0 & 1 & 181 & 0 & 1.2 & 1 & 0 & 2 & 1\\\\\n",
              "\t629 & 69 & 0 & 3 & 140 & 239 & 0 & 1 & 151 & 0 & 1.8 & 2 & 2 & 2 & 1\\\\\n",
              "\t630 & 65 & 1 & 3 & 138 & 282 & 1 & 0 & 174 & 0 & 1.4 & 1 & 1 & 2 & 0\\\\\n",
              "\t634 & 61 & 1 & 0 & 138 & 166 & 0 & 0 & 125 & 1 & 3.6 & 1 & 1 & 2 & 0\\\\\n",
              "\t644 & 65 & 1 & 0 & 120 & 177 & 0 & 1 & 140 & 0 & 0.4 & 2 & 0 & 3 & 1\\\\\n",
              "\t653 & 66 & 0 & 3 & 150 & 226 & 0 & 1 & 114 & 0 & 2.6 & 0 & 0 & 2 & 1\\\\\n",
              "\t692 & 55 & 0 & 1 & 135 & 250 & 0 & 0 & 161 & 0 & 1.4 & 1 & 0 & 2 & 1\\\\\n",
              "\t695 & 39 & 1 & 0 & 118 & 219 & 0 & 1 & 140 & 0 & 1.2 & 1 & 0 & 3 & 0\\\\\n",
              "\t709 & 60 & 0 & 2 & 120 & 178 & 1 & 1 &  96 & 0 & 0.0 & 2 & 0 & 2 & 1\\\\\n",
              "\t720 & 52 & 1 & 0 & 108 & 233 & 1 & 1 & 147 & 0 & 0.1 & 2 & 3 & 3 & 1\\\\\n",
              "\t721 & 64 & 1 & 2 & 140 & 335 & 0 & 1 & 158 & 0 & 0.0 & 2 & 0 & 2 & 0\\\\\n",
              "\t724 & 68 & 0 & 2 & 120 & 211 & 0 & 0 & 115 & 0 & 1.5 & 1 & 0 & 2 & 1\\\\\n",
              "\t734 & 44 & 0 & 2 & 108 & 141 & 0 & 1 & 175 & 0 & 0.6 & 1 & 0 & 2 & 1\\\\\n",
              "\t740 & 52 & 1 & 0 & 128 & 255 & 0 & 1 & 161 & 1 & 0.0 & 2 & 1 & 3 & 0\\\\\n",
              "\t844 & 59 & 1 & 3 & 160 & 273 & 0 & 0 & 125 & 0 & 0.0 & 2 & 0 & 2 & 0\\\\\n",
              "\t879 & 54 & 1 & 0 & 120 & 188 & 0 & 1 & 113 & 0 & 1.4 & 1 & 1 & 3 & 0\\\\\n",
              "\\end{tabular}\n"
            ],
            "text/markdown": [
              "\n",
              "A data.frame: 302 × 14\n",
              "\n",
              "| <!--/--> | age &lt;int&gt; | sex &lt;int&gt; | cp &lt;int&gt; | trestbps &lt;int&gt; | chol &lt;int&gt; | fbs &lt;int&gt; | restecg &lt;int&gt; | thalach &lt;int&gt; | exang &lt;int&gt; | oldpeak &lt;dbl&gt; | slope &lt;int&gt; | ca &lt;int&gt; | thal &lt;int&gt; | target &lt;int&gt; |\n",
              "|---|---|---|---|---|---|---|---|---|---|---|---|---|---|---|\n",
              "| 1 | 52 | 1 | 0 | 125 | 212 | 0 | 1 | 168 | 0 | 1.0 | 2 | 2 | 3 | 0 |\n",
              "| 2 | 53 | 1 | 0 | 140 | 203 | 1 | 0 | 155 | 1 | 3.1 | 0 | 0 | 3 | 0 |\n",
              "| 3 | 70 | 1 | 0 | 145 | 174 | 0 | 1 | 125 | 1 | 2.6 | 0 | 0 | 3 | 0 |\n",
              "| 4 | 61 | 1 | 0 | 148 | 203 | 0 | 1 | 161 | 0 | 0.0 | 2 | 1 | 3 | 0 |\n",
              "| 5 | 62 | 0 | 0 | 138 | 294 | 1 | 1 | 106 | 0 | 1.9 | 1 | 3 | 2 | 0 |\n",
              "| 6 | 58 | 0 | 0 | 100 | 248 | 0 | 0 | 122 | 0 | 1.0 | 1 | 0 | 2 | 1 |\n",
              "| 7 | 58 | 1 | 0 | 114 | 318 | 0 | 2 | 140 | 0 | 4.4 | 0 | 3 | 1 | 0 |\n",
              "| 8 | 55 | 1 | 0 | 160 | 289 | 0 | 0 | 145 | 1 | 0.8 | 1 | 1 | 3 | 0 |\n",
              "| 9 | 46 | 1 | 0 | 120 | 249 | 0 | 0 | 144 | 0 | 0.8 | 2 | 0 | 3 | 0 |\n",
              "| 10 | 54 | 1 | 0 | 122 | 286 | 0 | 0 | 116 | 1 | 3.2 | 1 | 2 | 2 | 0 |\n",
              "| 11 | 71 | 0 | 0 | 112 | 149 | 0 | 1 | 125 | 0 | 1.6 | 1 | 0 | 2 | 1 |\n",
              "| 12 | 43 | 0 | 0 | 132 | 341 | 1 | 0 | 136 | 1 | 3.0 | 1 | 0 | 3 | 0 |\n",
              "| 13 | 34 | 0 | 1 | 118 | 210 | 0 | 1 | 192 | 0 | 0.7 | 2 | 0 | 2 | 1 |\n",
              "| 14 | 51 | 1 | 0 | 140 | 298 | 0 | 1 | 122 | 1 | 4.2 | 1 | 3 | 3 | 0 |\n",
              "| 15 | 52 | 1 | 0 | 128 | 204 | 1 | 1 | 156 | 1 | 1.0 | 1 | 0 | 0 | 0 |\n",
              "| 17 | 51 | 0 | 2 | 140 | 308 | 0 | 0 | 142 | 0 | 1.5 | 2 | 1 | 2 | 1 |\n",
              "| 18 | 54 | 1 | 0 | 124 | 266 | 0 | 0 | 109 | 1 | 2.2 | 1 | 1 | 3 | 0 |\n",
              "| 19 | 50 | 0 | 1 | 120 | 244 | 0 | 1 | 162 | 0 | 1.1 | 2 | 0 | 2 | 1 |\n",
              "| 20 | 58 | 1 | 2 | 140 | 211 | 1 | 0 | 165 | 0 | 0.0 | 2 | 0 | 2 | 1 |\n",
              "| 21 | 60 | 1 | 2 | 140 | 185 | 0 | 0 | 155 | 0 | 3.0 | 1 | 0 | 2 | 0 |\n",
              "| 22 | 67 | 0 | 0 | 106 | 223 | 0 | 1 | 142 | 0 | 0.3 | 2 | 2 | 2 | 1 |\n",
              "| 23 | 45 | 1 | 0 | 104 | 208 | 0 | 0 | 148 | 1 | 3.0 | 1 | 0 | 2 | 1 |\n",
              "| 24 | 63 | 0 | 2 | 135 | 252 | 0 | 0 | 172 | 0 | 0.0 | 2 | 0 | 2 | 1 |\n",
              "| 25 | 42 | 0 | 2 | 120 | 209 | 0 | 1 | 173 | 0 | 0.0 | 1 | 0 | 2 | 1 |\n",
              "| 26 | 61 | 0 | 0 | 145 | 307 | 0 | 0 | 146 | 1 | 1.0 | 1 | 0 | 3 | 0 |\n",
              "| 27 | 44 | 1 | 2 | 130 | 233 | 0 | 1 | 179 | 1 | 0.4 | 2 | 0 | 2 | 1 |\n",
              "| 28 | 58 | 0 | 1 | 136 | 319 | 1 | 0 | 152 | 0 | 0.0 | 2 | 2 | 2 | 0 |\n",
              "| 29 | 56 | 1 | 2 | 130 | 256 | 1 | 0 | 142 | 1 | 0.6 | 1 | 1 | 1 | 0 |\n",
              "| 30 | 55 | 0 | 0 | 180 | 327 | 0 | 2 | 117 | 1 | 3.4 | 1 | 0 | 2 | 0 |\n",
              "| 31 | 44 | 1 | 0 | 120 | 169 | 0 | 1 | 144 | 1 | 2.8 | 0 | 0 | 1 | 0 |\n",
              "| ⋮ | ⋮ | ⋮ | ⋮ | ⋮ | ⋮ | ⋮ | ⋮ | ⋮ | ⋮ | ⋮ | ⋮ | ⋮ | ⋮ | ⋮ |\n",
              "| 531 | 60 | 0 | 0 | 150 | 258 | 0 | 0 | 157 | 0 | 2.6 | 1 | 2 | 3 | 0 |\n",
              "| 534 | 53 | 0 | 0 | 138 | 234 | 0 | 0 | 160 | 0 | 0.0 | 2 | 0 | 2 | 1 |\n",
              "| 537 | 50 | 0 | 2 | 120 | 219 | 0 | 1 | 158 | 0 | 1.6 | 1 | 0 | 2 | 1 |\n",
              "| 542 | 44 | 1 | 2 | 140 | 235 | 0 | 0 | 180 | 0 | 0.0 | 2 | 0 | 2 | 1 |\n",
              "| 550 | 68 | 1 | 2 | 118 | 277 | 0 | 1 | 151 | 0 | 1.0 | 2 | 1 | 3 | 1 |\n",
              "| 556 | 67 | 1 | 0 | 125 | 254 | 1 | 1 | 163 | 0 | 0.2 | 1 | 2 | 3 | 0 |\n",
              "| 567 | 50 | 0 | 0 | 110 | 254 | 0 | 0 | 159 | 0 | 0.0 | 2 | 0 | 2 | 1 |\n",
              "| 571 | 54 | 0 | 2 | 135 | 304 | 1 | 1 | 170 | 0 | 0.0 | 2 | 0 | 2 | 1 |\n",
              "| 581 | 46 | 1 | 1 | 101 | 197 | 1 | 1 | 156 | 0 | 0.0 | 2 | 0 | 3 | 1 |\n",
              "| 583 | 55 | 1 | 1 | 130 | 262 | 0 | 1 | 155 | 0 | 0.0 | 2 | 0 | 2 | 1 |\n",
              "| 595 | 64 | 1 | 0 | 145 | 212 | 0 | 0 | 132 | 0 | 2.0 | 1 | 2 | 1 | 0 |\n",
              "| 600 | 63 | 0 | 1 | 140 | 195 | 0 | 1 | 179 | 0 | 0.0 | 2 | 2 | 2 | 1 |\n",
              "| 607 | 66 | 1 | 0 | 112 | 212 | 0 | 0 | 132 | 1 | 0.1 | 2 | 1 | 2 | 0 |\n",
              "| 612 | 55 | 0 | 0 | 128 | 205 | 0 | 2 | 130 | 1 | 2.0 | 1 | 1 | 3 | 0 |\n",
              "| 617 | 43 | 1 | 0 | 115 | 303 | 0 | 1 | 181 | 0 | 1.2 | 1 | 0 | 2 | 1 |\n",
              "| 629 | 69 | 0 | 3 | 140 | 239 | 0 | 1 | 151 | 0 | 1.8 | 2 | 2 | 2 | 1 |\n",
              "| 630 | 65 | 1 | 3 | 138 | 282 | 1 | 0 | 174 | 0 | 1.4 | 1 | 1 | 2 | 0 |\n",
              "| 634 | 61 | 1 | 0 | 138 | 166 | 0 | 0 | 125 | 1 | 3.6 | 1 | 1 | 2 | 0 |\n",
              "| 644 | 65 | 1 | 0 | 120 | 177 | 0 | 1 | 140 | 0 | 0.4 | 2 | 0 | 3 | 1 |\n",
              "| 653 | 66 | 0 | 3 | 150 | 226 | 0 | 1 | 114 | 0 | 2.6 | 0 | 0 | 2 | 1 |\n",
              "| 692 | 55 | 0 | 1 | 135 | 250 | 0 | 0 | 161 | 0 | 1.4 | 1 | 0 | 2 | 1 |\n",
              "| 695 | 39 | 1 | 0 | 118 | 219 | 0 | 1 | 140 | 0 | 1.2 | 1 | 0 | 3 | 0 |\n",
              "| 709 | 60 | 0 | 2 | 120 | 178 | 1 | 1 |  96 | 0 | 0.0 | 2 | 0 | 2 | 1 |\n",
              "| 720 | 52 | 1 | 0 | 108 | 233 | 1 | 1 | 147 | 0 | 0.1 | 2 | 3 | 3 | 1 |\n",
              "| 721 | 64 | 1 | 2 | 140 | 335 | 0 | 1 | 158 | 0 | 0.0 | 2 | 0 | 2 | 0 |\n",
              "| 724 | 68 | 0 | 2 | 120 | 211 | 0 | 0 | 115 | 0 | 1.5 | 1 | 0 | 2 | 1 |\n",
              "| 734 | 44 | 0 | 2 | 108 | 141 | 0 | 1 | 175 | 0 | 0.6 | 1 | 0 | 2 | 1 |\n",
              "| 740 | 52 | 1 | 0 | 128 | 255 | 0 | 1 | 161 | 1 | 0.0 | 2 | 1 | 3 | 0 |\n",
              "| 844 | 59 | 1 | 3 | 160 | 273 | 0 | 0 | 125 | 0 | 0.0 | 2 | 0 | 2 | 0 |\n",
              "| 879 | 54 | 1 | 0 | 120 | 188 | 0 | 1 | 113 | 0 | 1.4 | 1 | 1 | 3 | 0 |\n",
              "\n"
            ],
            "text/plain": [
              "    age sex cp trestbps chol fbs restecg thalach exang oldpeak slope ca thal\n",
              "1   52  1   0  125      212  0   1       168     0     1.0     2     2  3   \n",
              "2   53  1   0  140      203  1   0       155     1     3.1     0     0  3   \n",
              "3   70  1   0  145      174  0   1       125     1     2.6     0     0  3   \n",
              "4   61  1   0  148      203  0   1       161     0     0.0     2     1  3   \n",
              "5   62  0   0  138      294  1   1       106     0     1.9     1     3  2   \n",
              "6   58  0   0  100      248  0   0       122     0     1.0     1     0  2   \n",
              "7   58  1   0  114      318  0   2       140     0     4.4     0     3  1   \n",
              "8   55  1   0  160      289  0   0       145     1     0.8     1     1  3   \n",
              "9   46  1   0  120      249  0   0       144     0     0.8     2     0  3   \n",
              "10  54  1   0  122      286  0   0       116     1     3.2     1     2  2   \n",
              "11  71  0   0  112      149  0   1       125     0     1.6     1     0  2   \n",
              "12  43  0   0  132      341  1   0       136     1     3.0     1     0  3   \n",
              "13  34  0   1  118      210  0   1       192     0     0.7     2     0  2   \n",
              "14  51  1   0  140      298  0   1       122     1     4.2     1     3  3   \n",
              "15  52  1   0  128      204  1   1       156     1     1.0     1     0  0   \n",
              "17  51  0   2  140      308  0   0       142     0     1.5     2     1  2   \n",
              "18  54  1   0  124      266  0   0       109     1     2.2     1     1  3   \n",
              "19  50  0   1  120      244  0   1       162     0     1.1     2     0  2   \n",
              "20  58  1   2  140      211  1   0       165     0     0.0     2     0  2   \n",
              "21  60  1   2  140      185  0   0       155     0     3.0     1     0  2   \n",
              "22  67  0   0  106      223  0   1       142     0     0.3     2     2  2   \n",
              "23  45  1   0  104      208  0   0       148     1     3.0     1     0  2   \n",
              "24  63  0   2  135      252  0   0       172     0     0.0     2     0  2   \n",
              "25  42  0   2  120      209  0   1       173     0     0.0     1     0  2   \n",
              "26  61  0   0  145      307  0   0       146     1     1.0     1     0  3   \n",
              "27  44  1   2  130      233  0   1       179     1     0.4     2     0  2   \n",
              "28  58  0   1  136      319  1   0       152     0     0.0     2     2  2   \n",
              "29  56  1   2  130      256  1   0       142     1     0.6     1     1  1   \n",
              "30  55  0   0  180      327  0   2       117     1     3.4     1     0  2   \n",
              "31  44  1   0  120      169  0   1       144     1     2.8     0     0  1   \n",
              "⋮   ⋮   ⋮   ⋮  ⋮        ⋮    ⋮   ⋮       ⋮       ⋮     ⋮       ⋮     ⋮  ⋮   \n",
              "531 60  0   0  150      258  0   0       157     0     2.6     1     2  3   \n",
              "534 53  0   0  138      234  0   0       160     0     0.0     2     0  2   \n",
              "537 50  0   2  120      219  0   1       158     0     1.6     1     0  2   \n",
              "542 44  1   2  140      235  0   0       180     0     0.0     2     0  2   \n",
              "550 68  1   2  118      277  0   1       151     0     1.0     2     1  3   \n",
              "556 67  1   0  125      254  1   1       163     0     0.2     1     2  3   \n",
              "567 50  0   0  110      254  0   0       159     0     0.0     2     0  2   \n",
              "571 54  0   2  135      304  1   1       170     0     0.0     2     0  2   \n",
              "581 46  1   1  101      197  1   1       156     0     0.0     2     0  3   \n",
              "583 55  1   1  130      262  0   1       155     0     0.0     2     0  2   \n",
              "595 64  1   0  145      212  0   0       132     0     2.0     1     2  1   \n",
              "600 63  0   1  140      195  0   1       179     0     0.0     2     2  2   \n",
              "607 66  1   0  112      212  0   0       132     1     0.1     2     1  2   \n",
              "612 55  0   0  128      205  0   2       130     1     2.0     1     1  3   \n",
              "617 43  1   0  115      303  0   1       181     0     1.2     1     0  2   \n",
              "629 69  0   3  140      239  0   1       151     0     1.8     2     2  2   \n",
              "630 65  1   3  138      282  1   0       174     0     1.4     1     1  2   \n",
              "634 61  1   0  138      166  0   0       125     1     3.6     1     1  2   \n",
              "644 65  1   0  120      177  0   1       140     0     0.4     2     0  3   \n",
              "653 66  0   3  150      226  0   1       114     0     2.6     0     0  2   \n",
              "692 55  0   1  135      250  0   0       161     0     1.4     1     0  2   \n",
              "695 39  1   0  118      219  0   1       140     0     1.2     1     0  3   \n",
              "709 60  0   2  120      178  1   1        96     0     0.0     2     0  2   \n",
              "720 52  1   0  108      233  1   1       147     0     0.1     2     3  3   \n",
              "721 64  1   2  140      335  0   1       158     0     0.0     2     0  2   \n",
              "724 68  0   2  120      211  0   0       115     0     1.5     1     0  2   \n",
              "734 44  0   2  108      141  0   1       175     0     0.6     1     0  2   \n",
              "740 52  1   0  128      255  0   1       161     1     0.0     2     1  3   \n",
              "844 59  1   3  160      273  0   0       125     0     0.0     2     0  2   \n",
              "879 54  1   0  120      188  0   1       113     0     1.4     1     1  3   \n",
              "    target\n",
              "1   0     \n",
              "2   0     \n",
              "3   0     \n",
              "4   0     \n",
              "5   0     \n",
              "6   1     \n",
              "7   0     \n",
              "8   0     \n",
              "9   0     \n",
              "10  0     \n",
              "11  1     \n",
              "12  0     \n",
              "13  1     \n",
              "14  0     \n",
              "15  0     \n",
              "17  1     \n",
              "18  0     \n",
              "19  1     \n",
              "20  1     \n",
              "21  0     \n",
              "22  1     \n",
              "23  1     \n",
              "24  1     \n",
              "25  1     \n",
              "26  0     \n",
              "27  1     \n",
              "28  0     \n",
              "29  0     \n",
              "30  0     \n",
              "31  0     \n",
              "⋮   ⋮     \n",
              "531 0     \n",
              "534 1     \n",
              "537 1     \n",
              "542 1     \n",
              "550 1     \n",
              "556 0     \n",
              "567 1     \n",
              "571 1     \n",
              "581 1     \n",
              "583 1     \n",
              "595 0     \n",
              "600 1     \n",
              "607 0     \n",
              "612 0     \n",
              "617 1     \n",
              "629 1     \n",
              "630 0     \n",
              "634 0     \n",
              "644 1     \n",
              "653 1     \n",
              "692 1     \n",
              "695 0     \n",
              "709 1     \n",
              "720 1     \n",
              "721 0     \n",
              "724 1     \n",
              "734 1     \n",
              "740 0     \n",
              "844 0     \n",
              "879 0     "
            ]
          },
          "metadata": {},
          "output_type": "display_data"
        }
      ],
      "source": [
        "heart_data"
      ]
    },
    {
      "cell_type": "markdown",
      "metadata": {},
      "source": [
        "<hr>"
      ]
    },
    {
      "cell_type": "markdown",
      "metadata": {
        "id": "KQbRmJCrBWbi"
      },
      "source": [
        "### <span style='color:#2ECC71; font-family: \"Arial\", sans-serif; font-size: 1.3em; font-weight: bold;'>Question 1</span>\n",
        "\n",
        "<span style='font-family: \"Segoe UI\", Tahoma, Geneva, Verdana, sans-serif; font-size: 1.2em; font-weight: bold;'>\n",
        "Consider two categorical variables in your dataset for which at least one of \n",
        "them has more than two levels. Using these, follow these steps: \n",
        "\n",
        "</span>\n",
        "\n"
      ]
    },
    {
      "cell_type": "markdown",
      "metadata": {
        "id": "ScxC6X7XBWbi"
      },
      "source": [
        "#### <span style='color:#E74C3C; font-family: \"Arial\", sans-serif; font-size: 1.1em; font-weight: bold;'>Answer</span>"
      ]
    },
    {
      "cell_type": "markdown",
      "metadata": {},
      "source": [
        "I choose `sex` and `cp` as categorical variables."
      ]
    },
    {
      "cell_type": "markdown",
      "metadata": {},
      "source": [
        "##### <span style='color:#3498DB; font-family: \"Helvetica\", Arial, sans-serif; font-size: 1.2em; font-weight: bold;'>Part A:</span>\n",
        "\n",
        "<span style='font-family: \"Segoe UI\", Tahoma, Geneva, Verdana, sans-serif; font-size: 1.2em; font-weight: bold;'>\n",
        "     Derive  a  95%  confidence  interval  for  the  difference  of  these  two \n",
        "variables and interpret it. \n",
        "</span>\n",
        "\n",
        "\n"
      ]
    },
    {
      "cell_type": "markdown",
      "metadata": {},
      "source": [
        "**Because my dataset have very low number data so I use all of data and dont use sampling**"
      ]
    },
    {
      "cell_type": "markdown",
      "metadata": {},
      "source": [
        "**Now for each level we check the conditions: (CLT condition)**"
      ]
    },
    {
      "cell_type": "markdown",
      "metadata": {},
      "source": [
        "\n",
        "\n",
        "\n",
        "1. **Independence:**\n",
        "   - **Within Groups:** The number of samples for each `sex` category is less than 10% of the estimated population, indicating independence within groups.\n",
        "   - **Between Groups:** Samples from different categories (`sex` and `cp`) are not dependent.\n",
        "\n",
        "2. **Sample Size/Skew:**\n",
        "   - Each sample meets the success-failure condition if `success_failure_condition` is `TRUE` for each row in the `results` data frame.\n",
        "\n"
      ]
    },
    {
      "cell_type": "markdown",
      "metadata": {},
      "source": [
        "**Check Sample Size/Skew**"
      ]
    },
    {
      "cell_type": "code",
      "execution_count": 8,
      "metadata": {
        "vscode": {
          "languageId": "r"
        }
      },
      "outputs": [
        {
          "name": "stdout",
          "output_type": "stream",
          "text": [
            "\u001b[90m# A tibble: 2 × 2\u001b[39m\n",
            "    sex count\n",
            "  \u001b[3m\u001b[90m<int>\u001b[39m\u001b[23m \u001b[3m\u001b[90m<int>\u001b[39m\u001b[23m\n",
            "\u001b[90m1\u001b[39m     0    96\n",
            "\u001b[90m2\u001b[39m     1   206\n",
            "\u001b[90m# A tibble: 2 × 3\u001b[39m\n",
            "    sex count less_than_10_percent\n",
            "  \u001b[3m\u001b[90m<int>\u001b[39m\u001b[23m \u001b[3m\u001b[90m<int>\u001b[39m\u001b[23m \u001b[3m\u001b[90m<lgl>\u001b[39m\u001b[23m               \n",
            "\u001b[90m1\u001b[39m     0    96 TRUE                \n",
            "\u001b[90m2\u001b[39m     1   206 TRUE                \n"
          ]
        }
      ],
      "source": [
        "# Calculate the total number of samples\n",
        "total_samples <- nrow(heart_data)\n",
        "\n",
        "# Check the number of samples for each sex\n",
        "samples_per_sex <- heart_data %>%\n",
        "  group_by(sex) %>%\n",
        "  summarize(count = n())\n",
        "\n",
        "# Print the number of samples for each sex\n",
        "print(samples_per_sex)\n",
        "\n",
        "# Check if the number of samples is less than 10% of the population\n",
        "population_estimate <- 10000  # Assuming a hypothetical population of 10,000\n",
        "samples_per_sex <- samples_per_sex %>%\n",
        "  mutate(less_than_10_percent = count < (0.1 * population_estimate))\n",
        "\n",
        "# Print the result\n",
        "print(samples_per_sex)"
      ]
    },
    {
      "cell_type": "markdown",
      "metadata": {},
      "source": [
        "**Check Independence**"
      ]
    },
    {
      "cell_type": "code",
      "execution_count": 9,
      "metadata": {
        "vscode": {
          "languageId": "r"
        }
      },
      "outputs": [
        {
          "name": "stdout",
          "output_type": "stream",
          "text": [
            "\u001b[90m# A tibble: 8 × 5\u001b[39m\n",
            "\u001b[90m# Rowwise: \u001b[39m\n",
            "    sex cp_type proportion sample_size success_failure_condition\n",
            "  \u001b[3m\u001b[90m<dbl>\u001b[39m\u001b[23m   \u001b[3m\u001b[90m<int>\u001b[39m\u001b[23m      \u001b[3m\u001b[90m<dbl>\u001b[39m\u001b[23m       \u001b[3m\u001b[90m<int>\u001b[39m\u001b[23m \u001b[3m\u001b[90m<lgl>\u001b[39m\u001b[23m                    \n",
            "\u001b[90m1\u001b[39m     0       1     0.406           96 TRUE                     \n",
            "\u001b[90m2\u001b[39m     0       2     0.505           96 TRUE                     \n",
            "\u001b[90m3\u001b[39m     0       3     0.188           96 TRUE                     \n",
            "\u001b[90m4\u001b[39m     0       4     0.155           96 TRUE                     \n",
            "\u001b[90m5\u001b[39m     1       1     0.365          206 TRUE                     \n",
            "\u001b[90m6\u001b[39m     1       2     0.248          206 TRUE                     \n",
            "\u001b[90m7\u001b[39m     1       3     0.041\u001b[4m7\u001b[24m         206 FALSE                    \n",
            "\u001b[90m8\u001b[39m     1       4     0.092\u001b[4m2\u001b[24m         206 TRUE                     \n"
          ]
        }
      ],
      "source": [
        "# Calculate the proportions for each category\n",
        "prop_table <- table(heart_data$sex, heart_data$cp)\n",
        "prop_table <- prop.table(prop_table, margin = 1)  # Proportions within sex\n",
        "\n",
        "# Function to check the success-failure condition\n",
        "check_success_failure <- function(n, p) {\n",
        "  successes <- n * p\n",
        "  failures <- n * (1 - p)\n",
        "  return(successes > 10 && failures > 10)\n",
        "}\n",
        "\n",
        "# Check success-failure condition for each category\n",
        "results <- data.frame(\n",
        "  sex = rep(c(0, 1), each = 4),\n",
        "  cp_type = rep(1:4, times = 2),\n",
        "  proportion = as.vector(prop_table),\n",
        "  sample_size = rep(samples_per_sex$count, each = 4)\n",
        ")\n",
        "\n",
        "results <- results %>%\n",
        "  rowwise() %>%\n",
        "  mutate(success_failure_condition = check_success_failure(sample_size, proportion))\n",
        "\n",
        "# Print the results\n",
        "print(results)\n"
      ]
    },
    {
      "cell_type": "markdown",
      "metadata": {},
      "source": [
        "**All conditions are met approximately (in one case we have error but I ignored it)**"
      ]
    },
    {
      "cell_type": "markdown",
      "metadata": {},
      "source": [
        "For each chest pain type $cp$:\n",
        "\n",
        "$\\text{CI} = (p_{male_{cp}} - p_{female_{cp}}) \\pm Z \\sqrt{\\frac{p_{male_{cp}}(1 - p_{male_{cp}})}{n_{male}} + \\frac{p_{female_{cp}}(1 - p_{female_{cp}})}{n_{female}}}$\n",
        "\n",
        "Where:\n",
        "- $p_{male_{cp}}$ is the proportion of males with chest pain type $cp$.\n",
        "- $p_{female_{cp}}$ is the proportion of females with chest pain type $cp$.\n",
        "- $n_{male}$ is the number of males in the dataset.\n",
        "- $n_{female}$ is the number of females in the dataset.\n",
        "- $Z$ is the Z-value for a 95% confidence level (approximately 1.96).\n",
        "\n"
      ]
    },
    {
      "cell_type": "code",
      "execution_count": 10,
      "metadata": {
        "vscode": {
          "languageId": "r"
        }
      },
      "outputs": [
        {
          "data": {
            "text/plain": [
              "   \n",
              "             0          1          2          3\n",
              "  0 0.40625000 0.18750000 0.36458333 0.04166667\n",
              "  1 0.50485437 0.15533981 0.24757282 0.09223301"
            ]
          },
          "metadata": {},
          "output_type": "display_data"
        }
      ],
      "source": [
        "# Calculate the proportions\n",
        "prop_table <- table(heart_data$sex, heart_data$cp)\n",
        "prop_table <- prop.table(prop_table, margin = 1)  # Proportions within sex\n",
        "\n",
        "# View the proportion table\n",
        "prop_table"
      ]
    },
    {
      "cell_type": "code",
      "execution_count": 11,
      "metadata": {
        "vscode": {
          "languageId": "r"
        }
      },
      "outputs": [
        {
          "name": "stdout",
          "output_type": "stream",
          "text": [
            "Chest Pain Type: 1 \n",
            "Proportion of Males: 0.40625 \n",
            "Proportion of Females: 0.5048544 \n",
            "95% CI for Difference in Proportions: ( -0.2182439 ,  0.02103521 )\n",
            "\n",
            "Chest Pain Type: 2 \n",
            "Proportion of Males: 0.1875 \n",
            "Proportion of Females: 0.1553398 \n",
            "95% CI for Difference in Proportions: ( -0.06026728 ,  0.1245877 )\n",
            "\n",
            "Chest Pain Type: 3 \n",
            "Proportion of Males: 0.3645833 \n",
            "Proportion of Females: 0.2475728 \n",
            "95% CI for Difference in Proportions: ( 0.004122316 ,  0.2298987 )\n",
            "\n",
            "Chest Pain Type: 4 \n",
            "Proportion of Males: 0.04166667 \n",
            "Proportion of Females: 0.09223301 \n",
            "95% CI for Difference in Proportions: ( -0.1067726 ,  0.005639894 )\n",
            "\n"
          ]
        }
      ],
      "source": [
        "# Define the function to calculate the 95% confidence interval for the difference in proportions\n",
        "calculate_ci <- function(prop_male, prop_female, n_male, n_female) {\n",
        "  # Calculate the difference in proportions\n",
        "  diff_prop <- prop_male - prop_female\n",
        "  \n",
        "  # Calculate the standard error\n",
        "  se <- sqrt((prop_male * (1 - prop_male) / n_male) + (prop_female * (1 - prop_female) / n_female))\n",
        "  \n",
        "  # Calculate the 95% confidence interval\n",
        "  z_score <- qnorm(0.975)  # 1.96 for 95% CI\n",
        "  ci_lower <- diff_prop - z_score * se\n",
        "  ci_upper <- diff_prop + z_score * se\n",
        "  \n",
        "  return(c(ci_lower, ci_upper))\n",
        "}\n",
        "\n",
        "# Calculate sample sizes\n",
        "n_male <- sum(heart_data$sex == 0)\n",
        "n_female <- sum(heart_data$sex == 1)\n",
        "\n",
        "# Initialize a list to store the results\n",
        "results <- list()\n",
        "\n",
        "# Loop over each chest pain type (assuming cp values are 1, 2, 3, and 4)\n",
        "for (cp_type in 1:4) {\n",
        "  prop_male_cp <- prop_table[1, cp_type]\n",
        "  prop_female_cp <- prop_table[2, cp_type]\n",
        "  \n",
        "  # Calculate the 95% confidence interval\n",
        "  ci <- calculate_ci(prop_male_cp, prop_female_cp, n_male, n_female)\n",
        "  \n",
        "  # Store the results\n",
        "  results[[cp_type]] <- list(\n",
        "    cp_type = cp_type,\n",
        "    prop_male = prop_male_cp,\n",
        "    prop_female = prop_female_cp,\n",
        "    ci_lower = ci[1],\n",
        "    ci_upper = ci[2]\n",
        "  )\n",
        "}\n",
        "\n",
        "# Print the results\n",
        "for (res in results) {\n",
        "  cat(\"Chest Pain Type:\", res$cp_type, \"\\n\")\n",
        "  cat(\"Proportion of Males:\", res$prop_male, \"\\n\")\n",
        "  cat(\"Proportion of Females:\", res$prop_female, \"\\n\")\n",
        "  cat(\"95% CI for Difference in Proportions: (\", res$ci_lower, \", \", res$ci_upper, \")\\n\\n\")\n",
        "}\n"
      ]
    },
    {
      "cell_type": "markdown",
      "metadata": {},
      "source": [
        "\n",
        "\n",
        "1. **Chest Pain Type 1**: \n",
        "   - Proportion of males: 40.6%\n",
        "   - Proportion of females: 50.5%\n",
        "   - The 95% confidence interval for the difference in proportions is between -21.8% and 2.1%, suggesting that there is no significant difference between males and females for this chest pain type.(because 0 is in the interval)\n",
        "\n",
        "2. **Chest Pain Type 2**: \n",
        "   - Proportion of males: 18.8%\n",
        "   - Proportion of females: 15.5%\n",
        "   - The 95% confidence interval for the difference in proportions is between -6.0% and 12.5%, suggesting no significant difference between males and females for this chest pain type.(because 0 is in the interval)\n",
        "\n",
        "3. **Chest Pain Type 3**: \n",
        "   - Proportion of males: 36.5%\n",
        "   - Proportion of females: 24.8%\n",
        "   - The 95% confidence interval for the difference in proportions is between 0.4% and 23.0%, indicating that males are more likely to have this chest pain type compared to females.\n",
        "\n",
        "4. **Chest Pain Type 4**: \n",
        "   - Proportion of males: 4.2%\n",
        "   - Proportion of females: 9.2%\n",
        "   - The 95% confidence interval for the difference in proportions is between -10.7% and 0.6%, suggesting that there is no significant difference between males and females for this chest pain type.(because 0 is in the interval)"
      ]
    },
    {
      "cell_type": "markdown",
      "metadata": {},
      "source": [
        "##### <span style='color:#3498DB; font-family: \"Helvetica\", Arial, sans-serif; font-size: 1.2em; font-weight: bold;'>Part B:</span>\n",
        "\n",
        "<span style='font-family: \"Segoe UI\", Tahoma, Geneva, Verdana, sans-serif; font-size: 1.2em; font-weight: bold;'>\n",
        "     By hypothesis testing, determine if the two variables are independent \n",
        "or not. \n",
        "</span>\n",
        "\n",
        "\n"
      ]
    },
    {
      "cell_type": "markdown",
      "metadata": {},
      "source": [
        "**Summary of Conditions Check:**\n",
        "\n",
        "- **Independence**:\n",
        "  - The data have been assigned randomly. (we check this condition in previous part)\n",
        "  - The number of samples is less than 10% of the total population. (we check this condition in previous part)\n",
        "  - Each sample contributes to only one cell in the contingency table. (this condition met)\n",
        "\n",
        "- **Sample Size**:\n",
        "  - Each cell in the contingency table must have at least 5 expected cases. The minimum expected count will be checked and confirmed.(this condition met)"
      ]
    },
    {
      "cell_type": "markdown",
      "metadata": {},
      "source": [
        "**Chi-Square Test of Independence**\n",
        "\n",
        "**State the Hypotheses**:\n",
        "\n",
        "   - **$H_0$**: `sex` and `cp` are independent.\n",
        "   - **$H_1$**: `sex` and `cp` are not independent.\n",
        "\n"
      ]
    },
    {
      "cell_type": "code",
      "execution_count": 12,
      "metadata": {
        "vscode": {
          "languageId": "r"
        }
      },
      "outputs": [
        {
          "name": "stdout",
          "output_type": "stream",
          "text": [
            "   \n",
            "      0   1   2   3\n",
            "  0  39  18  35   4\n",
            "  1 104  32  51  19\n",
            "\n",
            "\tPearson's Chi-squared test\n",
            "\n",
            "data:  contingency_table\n",
            "X-squared = 7.1006, df = 3, p-value = 0.06876\n",
            "\n",
            "The p-value of the chi-square test is: 0.06875893 \n",
            "The p-value is greater than 0.05, indicating that we fail to reject the null hypothesis. Therefore, there is no significant association between sex and chest pain type (cp).\n"
          ]
        }
      ],
      "source": [
        "# Create contingency table\n",
        "contingency_table <- table(heart_data$sex, heart_data$cp)\n",
        "\n",
        "# View the contingency table\n",
        "print(contingency_table)\n",
        "\n",
        "# Perform chi-square test of independence\n",
        "chi_square_test <- chisq.test(contingency_table)\n",
        "\n",
        "# View the test result\n",
        "print(chi_square_test)\n",
        "\n",
        "# Print the p-value\n",
        "cat(\"The p-value of the chi-square test is:\", chi_square_test$p.value, \"\\n\")\n",
        "\n",
        "# Interpret the result\n",
        "if (chi_square_test$p.value < 0.05) {\n",
        "  cat(\"The p-value is less than 0.05, indicating that we reject the null hypothesis. Therefore, there is a significant association between sex and chest pain type (cp).\\n\")\n",
        "} else {\n",
        "  cat(\"The p-value is greater than 0.05, indicating that we fail to reject the null hypothesis. Therefore, there is no significant association between sex and chest pain type (cp).\\n\")\n",
        "}\n"
      ]
    },
    {
      "cell_type": "markdown",
      "metadata": {},
      "source": [
        "\n",
        "\n",
        "**The chi-square test result shows that there is no significant association between sex and chest pain type (cp). The p-value is 0.06876, which is greater than the threshold of 0.05. This means we fail to reject the null hypothesis and conclude that gender and chest pain type are not related in the dataset.**"
      ]
    },
    {
      "cell_type": "markdown",
      "metadata": {
        "id": "sulw4lP5BWcO"
      },
      "source": [
        "<hr>"
      ]
    },
    {
      "cell_type": "markdown",
      "metadata": {
        "id": "u4gFy0JTBWcO"
      },
      "source": [
        "### <span style='color:#2ECC71; font-family: \"Arial\", sans-serif; font-size: 1.3em; font-weight: bold;'>Question 2</span>\n",
        "\n",
        "<span style='font-family: \"Segoe UI\", Tahoma, Geneva, Verdana, sans-serif; font-size: 1.2em; font-weight: bold;'>\n",
        "\n",
        "Choose a binary categorical variable and randomly select a small sample of \n",
        "your data (small sample size, e.g., n ≤ 15). Then, perform a hypothesis test for \n",
        "the variable’s success rate by means of the Simulation method.\n",
        "\n",
        "</span>"
      ]
    },
    {
      "cell_type": "markdown",
      "metadata": {},
      "source": [
        "I choose `fbs` column."
      ]
    },
    {
      "cell_type": "markdown",
      "metadata": {
        "id": "GPJcgozFBWcP"
      },
      "source": [
        "#### <span style='color:#E74C3C; font-family: \"Arial\", sans-serif; font-size: 1.1em; font-weight: bold;'>Answer</span>"
      ]
    },
    {
      "cell_type": "markdown",
      "metadata": {},
      "source": [
        "**Hypothesis:**\n",
        "\n",
        "- **Null Hypothesis $H_0$**: $p = 0.5$ (The success rate is 50%) for `fbs` column.\n",
        "- **Alternative Hypothesis $H_A$**: $p \\neq 0.5$ (The success rate is different from 50%) for `fbs` column.\n",
        "\n",
        "**Simulation Method:**\n",
        "\n",
        "1. Simulate a large number of samples (10,000) under the null hypothesis.\n",
        "2. Calculate the proportion of samples where the simulated success rate is as extreme or more extreme than the observed success rate."
      ]
    },
    {
      "cell_type": "code",
      "execution_count": 14,
      "metadata": {
        "vscode": {
          "languageId": "r"
        }
      },
      "outputs": [
        {
          "data": {
            "text/html": [
              "0.133333333333333"
            ],
            "text/latex": [
              "0.133333333333333"
            ],
            "text/markdown": [
              "0.133333333333333"
            ],
            "text/plain": [
              "[1] 0.1333333"
            ]
          },
          "metadata": {},
          "output_type": "display_data"
        },
        {
          "data": {
            "text/html": [
              "0.0082"
            ],
            "text/latex": [
              "0.0082"
            ],
            "text/markdown": [
              "0.0082"
            ],
            "text/plain": [
              "[1] 0.0082"
            ]
          },
          "metadata": {},
          "output_type": "display_data"
        },
        {
          "name": "stderr",
          "output_type": "stream",
          "text": [
            "Warning message:\n",
            "\"\u001b[1m\u001b[22mUsing `size` aesthetic for lines was deprecated in ggplot2 3.4.0.\n",
            "\u001b[36mℹ\u001b[39m Please use `linewidth` instead.\"\n"
          ]
        },
        {
          "name": "stdout",
          "output_type": "stream",
          "text": [
            "The observed proportion of successes (fbs = 1) in the small sample is: 0.1333333 \n",
            "The p-value from the simulation method is: 0.0082 \n",
            "The p-value is less than 0.05, indicating that we reject the null hypothesis. Therefore, the success rate of fbs is significantly different from the assumed population proportion.\n"
          ]
        },
        {
          "data": {
            "image/png": "[encoded data removed]",
            "text/plain": [
              "plot without title"
            ]
          },
          "metadata": {
            "image/png": {
              "height": 420,
              "width": 420
            }
          },
          "output_type": "display_data"
        }
      ],
      "source": [
        "# Set seed for reproducibility\n",
        "set.seed(42)\n",
        "\n",
        "# Define sample size\n",
        "sample_size <- 15\n",
        "\n",
        "# Take a small sample and select the 'fbs' column\n",
        "small_sample <- heart_data %>%\n",
        "  sample_n(sample_size) %>%\n",
        "  dplyr::select(fbs)\n",
        "\n",
        "# Calculate the observed proportion of successes (fbs = 1) in the small sample\n",
        "observed_proportion <- mean(small_sample$fbs)\n",
        "observed_proportion\n",
        "\n",
        "# Set the assumed population proportion for the null hypothesis\n",
        "population_proportion <- 0.5\n",
        "\n",
        "# Number of simulations\n",
        "num_simulations <- 10000\n",
        "simulated_proportions <- numeric(num_simulations)\n",
        "\n",
        "# Perform the simulation\n",
        "set.seed(123)  # For reproducibility\n",
        "for (i in 1:num_simulations) {\n",
        "  simulated_sample <- rbinom(sample_size, 1, population_proportion)\n",
        "  simulated_proportions[i] <- mean(simulated_sample)\n",
        "}\n",
        "\n",
        "# Calculate the p-value\n",
        "p_value <- mean(abs(simulated_proportions - population_proportion) >= abs(observed_proportion - population_proportion))\n",
        "p_value\n",
        "\n",
        "# Plot the distribution of the simulated proportions\n",
        "simulated_data <- data.frame(simulated_proportions)\n",
        "ggplot(simulated_data, aes(x = simulated_proportions)) +\n",
        "  geom_histogram(binwidth = 0.02, color = \"black\", fill = \"skyblue\", alpha = 0.7) +\n",
        "  geom_vline(aes(xintercept = observed_proportion), color = \"red\", linetype = \"dashed\", size = 1) +\n",
        "  labs(title = \"Distribution of Simulated Proportions\",\n",
        "       x = \"Simulated Proportion of Successes (fbs = 1)\",\n",
        "       y = \"Frequency\") +\n",
        "  theme_minimal()\n",
        "\n",
        "# Interpret the result\n",
        "cat(\"The observed proportion of successes (fbs = 1) in the small sample is:\", observed_proportion, \"\\n\")\n",
        "cat(\"The p-value from the simulation method is:\", p_value, \"\\n\")\n",
        "\n",
        "if (p_value < 0.05) {\n",
        "  cat(\"The p-value is less than 0.05, indicating that we reject the null hypothesis. Therefore, the success rate of fbs is significantly different from the assumed population proportion.\\n\")\n",
        "} else {\n",
        "  cat(\"The p-value is greater than 0.05, indicating that we fail to reject the null hypothesis. Therefore, there is no significant difference in the success rate of fbs compared to the assumed population proportion.\\n\")\n",
        "}\n"
      ]
    },
    {
      "cell_type": "markdown",
      "metadata": {},
      "source": [
        "\n",
        "\n",
        "**Since the p-value is less than 0.05, we reject the null hypothesis. This indicates that the success rate of `fbs` in our small sample is significantly different from the assumed population proportion of 0.5. The observed proportion of successes (fbs = 1) in the small sample is 0.133, and the p-value from the simulation method is 0.0082.**"
      ]
    },
    {
      "cell_type": "markdown",
      "metadata": {
        "id": "Ng5AP3DABWcQ"
      },
      "source": [
        "<hr>"
      ]
    },
    {
      "cell_type": "markdown",
      "metadata": {
        "id": "VrLL7kfNBWcQ"
      },
      "source": [
        "### <span style='color:#2ECC71; font-family: \"Arial\", sans-serif; font-size: 1.3em; font-weight: bold;'>Question 3</span>\n",
        "\n",
        "<span style='font-family: \"Segoe UI\", Tahoma, Geneva, Verdana, sans-serif; font-size: 1.2em; font-weight: bold;'>\n",
        "\n",
        "Answer the following questions:  (Note:  To answer the following questions, first \n",
        "implement them by yourself in `R` and then use `R` functions to solve them.) \n",
        "</span>"
      ]
    },
    {
      "cell_type": "markdown",
      "metadata": {
        "id": "ZlAUWUm_BWcR"
      },
      "source": [
        "#### <span style='color:#E74C3C; font-family: \"Arial\", sans-serif; font-size: 1.1em; font-weight: bold;'>Answer</span>"
      ]
    },
    {
      "cell_type": "markdown",
      "metadata": {},
      "source": [
        "I choose `cp` as my categorical variable."
      ]
    },
    {
      "cell_type": "markdown",
      "metadata": {},
      "source": [
        "##### <span style='color:#3498DB; font-family: \"Helvetica\", Arial, sans-serif; font-size: 1.2em; font-weight: bold;'>Part A:</span>\n",
        "\n",
        "<span style='font-family: \"Segoe UI\", Tahoma, Geneva, Verdana, sans-serif; font-size: 1.2em; font-weight: bold;'>\n",
        "     Choose a categorical variable that has more than two levels, calculate \n",
        "its probability distribution. Then choose two samples of size 100 from \n",
        "your dataset. One of the samples should be randomly selected and the \n",
        "other should be biased on purpose. Compare each sample with the real \n",
        "distribution using 𝜒2 (goodness of fit) and interpret your results. (be sure \n",
        "to  check  the  requirements  for  the  test  and  write  them  down  in  your \n",
        "answer.)\n",
        "</span>\n",
        "\n",
        "\n"
      ]
    },
    {
      "cell_type": "markdown",
      "metadata": {},
      "source": [
        "**Calculate the Probability Distribution**"
      ]
    },
    {
      "cell_type": "markdown",
      "metadata": {},
      "source": [
        "**Compare Each Sample with the Real Distribution Using $\\chi^2$ Goodness of Fit Test**"
      ]
    },
    {
      "cell_type": "markdown",
      "metadata": {},
      "source": [
        "Manually Implementing $\\chi^2$ Test\n",
        "\n",
        "The $\\chi^2$ statistic is calculated as:\n",
        "$$\n",
        "\\chi^2 = \\sum \\frac{(O_i - E_i)^2}{E_i}\n",
        "$$\n",
        "where $O_i$ are the observed frequencies and $E_i$ are the expected frequencies."
      ]
    },
    {
      "cell_type": "markdown",
      "metadata": {},
      "source": [
        "**Requirements for the $\\chi^2$ Test:**\n",
        "1. **Independence**: Each observation should contribute to only one cell.\n",
        "   - **Check**: Both samples are independently selected.\n",
        "2. **Expected Frequency**: Each expected frequency should be at least 5.\n",
        "   - **Check**: We ensured this condition by reindexing the sample distributions to match the population distribution and ensuring a sample size of 100."
      ]
    },
    {
      "cell_type": "markdown",
      "metadata": {},
      "source": [
        "**Calculate the Probability Distribution of `cp`**"
      ]
    },
    {
      "cell_type": "code",
      "execution_count": 15,
      "metadata": {
        "vscode": {
          "languageId": "r"
        }
      },
      "outputs": [
        {
          "data": {
            "text/plain": [
              "\n",
              "         0          1          2          3 \n",
              "0.47350993 0.16556291 0.28476821 0.07615894 "
            ]
          },
          "metadata": {},
          "output_type": "display_data"
        }
      ],
      "source": [
        "# Calculate the probability distribution of `cp`\n",
        "cp_distribution <- prop.table(table(heart_data$cp))\n",
        "cp_distribution"
      ]
    },
    {
      "cell_type": "markdown",
      "metadata": {},
      "source": [
        "**Choose Two Samples of Size 100**"
      ]
    },
    {
      "cell_type": "code",
      "execution_count": 22,
      "metadata": {
        "vscode": {
          "languageId": "r"
        }
      },
      "outputs": [],
      "source": [
        "# Set seed for reproducibility\n",
        "set.seed(42)\n",
        "\n",
        "# Random sample of size 100\n",
        "random_sample <- heart_data %>%\n",
        "  sample_n(100) %>%\n",
        "  dplyr::select(cp)\n",
        "\n",
        "# Biased sample of size 100 (purposefully bias towards `cp` = 1)\n",
        "biased_sample <- heart_data %>%\n",
        "  filter(cp == 1) %>%\n",
        "  sample_n(100, replace = TRUE) %>%\n",
        "  bind_rows(heart_data %>% filter(cp != 1) %>% sample_n(50)) %>%\n",
        "  slice(1:100) %>%\n",
        "  dplyr::select(cp)\n"
      ]
    },
    {
      "cell_type": "markdown",
      "metadata": {},
      "source": [
        "**Manually Perform the Chi-Square Goodness of Fit Test**"
      ]
    },
    {
      "cell_type": "code",
      "execution_count": 24,
      "metadata": {
        "vscode": {
          "languageId": "r"
        }
      },
      "outputs": [
        {
          "name": "stdout",
          "output_type": "stream",
          "text": [
            "Random Sample Chi-Square Test:\n",
            "Observed counts:\n",
            "\n",
            " 0  1  2  3 \n",
            "43 20 28  9 \n",
            "Expected counts:\n",
            "\n",
            "        0         1         2         3 \n",
            "47.350993 16.556291 28.476821  7.615894 \n",
            "Chi-square statistic: 1.375626 \n",
            "Degrees of freedom: 3 \n",
            "P-value: 0.7112579 \n",
            "\n",
            "Biased Sample Chi-Square Test:\n",
            "Observed counts:\n",
            "\n",
            " 0  1  2  3 \n",
            "29 50 19  2 \n",
            "Expected counts:\n",
            "\n",
            "        0         1         2         3 \n",
            "47.350993 16.556291 28.476821  7.615894 \n",
            "Chi-square statistic: 81.96317 \n",
            "Degrees of freedom: 3 \n",
            "P-value: 0 \n"
          ]
        }
      ],
      "source": [
        "\n",
        "set.seed(42)  # For reproducibility\n",
        "\n",
        "# Random sample of size 100\n",
        "random_sample <- heart_data %>%\n",
        "  sample_n(100) %>%\n",
        "  dplyr::select(cp)\n",
        "\n",
        "# Biased sample of size 100 (purposefully bias towards `cp` = 1)\n",
        "biased_sample <- heart_data %>%\n",
        "  filter(cp == 1) %>%\n",
        "  sample_n(50, replace = TRUE) %>%\n",
        "  bind_rows(heart_data %>% filter(cp != 1) %>% sample_n(50)) %>%\n",
        "  dplyr::select(cp)\n",
        "\n",
        "# Observed counts for the random sample\n",
        "observed_random <- table(random_sample$cp)\n",
        "\n",
        "# Expected counts for the random sample\n",
        "expected_random <- cp_distribution * 100\n",
        "\n",
        "# Chi-square test statistic for the random sample\n",
        "chi_square_stat_random <- sum((observed_random - expected_random)^2 / expected_random)\n",
        "\n",
        "\n",
        "# Degrees of freedom\n",
        "df <- length(observed_random) - 1\n",
        "\n",
        "# P-value for the random sample\n",
        "p_value_random <- 1 - pchisq(chi_square_stat_random, df)\n",
        "\n",
        "\n",
        "cat(\"Random Sample Chi-Square Test:\\n\")\n",
        "cat(\"Observed counts:\\n\")\n",
        "print(observed_random)\n",
        "cat(\"Expected counts:\\n\")\n",
        "print(expected_random)\n",
        "cat(\"Chi-square statistic:\", chi_square_stat_random, \"\\n\")\n",
        "cat(\"Degrees of freedom:\", df, \"\\n\")\n",
        "cat(\"P-value:\", p_value_random, \"\\n\\n\")\n",
        "\n",
        "# Observed counts for the biased sample\n",
        "observed_biased <- table(factor(biased_sample$cp, levels = levels(factor(heart_data$cp))))\n",
        "expected_biased <- cp_distribution * 100\n",
        "\n",
        "# Chi-square test statistic for the biased sample\n",
        "chi_square_stat_biased <- sum((observed_biased - expected_biased)^2 / expected_biased)\n",
        "\n",
        "\n",
        "# P-value for the biased sample\n",
        "p_value_biased <- 1 - pchisq(chi_square_stat_biased, df)\n",
        "\n",
        "\n",
        "cat(\"Biased Sample Chi-Square Test:\\n\")\n",
        "cat(\"Observed counts:\\n\")\n",
        "print(observed_biased)\n",
        "cat(\"Expected counts:\\n\")\n",
        "print(expected_biased)\n",
        "cat(\"Chi-square statistic:\", chi_square_stat_biased, \"\\n\")\n",
        "cat(\"Degrees of freedom:\", df, \"\\n\")\n",
        "cat(\"P-value:\", p_value_biased, \"\\n\")"
      ]
    },
    {
      "cell_type": "markdown",
      "metadata": {},
      "source": [
        "**Use R Function for Chi-Square Goodness of Fit Test**"
      ]
    },
    {
      "cell_type": "code",
      "execution_count": 25,
      "metadata": {
        "vscode": {
          "languageId": "r"
        }
      },
      "outputs": [
        {
          "data": {
            "text/plain": [
              "\n",
              "\tChi-squared test for given probabilities\n",
              "\n",
              "data:  observed_random\n",
              "X-squared = 1.3756, df = 3, p-value = 0.7113\n"
            ]
          },
          "metadata": {},
          "output_type": "display_data"
        },
        {
          "data": {
            "text/plain": [
              "\n",
              "\tChi-squared test for given probabilities\n",
              "\n",
              "data:  observed_biased\n",
              "X-squared = 81.963, df = 3, p-value < 2.2e-16\n"
            ]
          },
          "metadata": {},
          "output_type": "display_data"
        },
        {
          "data": {
            "image/png": "[encoded data removed]",
            "text/plain": [
              "plot without title"
            ]
          },
          "metadata": {
            "image/png": {
              "height": 420,
              "width": 420
            }
          },
          "output_type": "display_data"
        },
        {
          "data": {
            "image/png": "[encoded data removed]",
            "text/plain": [
              "plot without title"
            ]
          },
          "metadata": {
            "image/png": {
              "height": 420,
              "width": 420
            }
          },
          "output_type": "display_data"
        }
      ],
      "source": [
        "# Chi-Square Test for Random Sample\n",
        "chi_square_random <- chisq.test(observed_random, p = cp_distribution)\n",
        "chi_square_random\n",
        "\n",
        "# Chi-Square Test for Biased Sample\n",
        "chi_square_biased <- chisq.test(observed_biased, p = cp_distribution)\n",
        "chi_square_biased\n",
        "\n",
        "# Plotting the distributions for visualization\n",
        "# Convert tables to data frames for plotting\n",
        "random_df <- as.data.frame(observed_random)\n",
        "biased_df <- as.data.frame(observed_biased)\n",
        "cp_dist_df <- as.data.frame(cp_distribution * 100)\n",
        "\n",
        "# Rename columns for clarity\n",
        "names(random_df) <- c(\"cp\", \"count\")\n",
        "names(biased_df) <- c(\"cp\", \"count\")\n",
        "names(cp_dist_df) <- c(\"cp\", \"count\")\n",
        "\n",
        "# Plot the distributions\n",
        "ggplot() +\n",
        "  geom_bar(data = cp_dist_df, aes(x = cp, y = count), stat = \"identity\", fill = \"blue\", alpha = 0.5) +\n",
        "  geom_bar(data = random_df, aes(x = cp, y = count), stat = \"identity\", fill = \"red\", alpha = 0.5) +\n",
        "  labs(title = \"Distribution Comparison: Real vs Random Sample\", x = \"Chest Pain Type\", y = \"Count\")\n",
        "\n",
        "ggplot() +\n",
        "  geom_bar(data = cp_dist_df, aes(x = cp, y = count), stat = \"identity\", fill = \"blue\", alpha = 0.5) +\n",
        "  geom_bar(data = biased_df, aes(x = cp, y = count), stat = \"identity\", fill = \"green\", alpha = 0.5) +\n",
        "  labs(title = \"Distribution Comparison: Real vs Biased Sample\", x = \"Chest Pain Type\", y = \"Count\")"
      ]
    },
    {
      "cell_type": "markdown",
      "metadata": {},
      "source": [
        "\n",
        "\n",
        "1. **Random Sample**:\n",
        "   - The chi-square test statistic is 1.376.\n",
        "   - The p-value is 0.7113.\n",
        "   - Since the p-value is much greater than 0.05, we fail to reject the null hypothesis. This means the distribution of chest pain types in the random sample is similar to the real distribution.\n",
        "\n",
        "2. **Biased Sample**:\n",
        "   - The chi-square test statistic is 81.963.\n",
        "   - The p-value is less than 2.2e-16.\n",
        "   - Since the p-value is much less than 0.05, we reject the null hypothesis. This means the distribution of chest pain types in the biased sample is significantly different from the real distribution.\n",
        "\n",
        "- The random sample's distribution matches the real distribution of chest pain types.\n",
        "- The biased sample's distribution does not match the real distribution, showing a significant difference."
      ]
    },
    {
      "cell_type": "markdown",
      "metadata": {},
      "source": [
        "##### <span style='color:#3498DB; font-family: \"Helvetica\", Arial, sans-serif; font-size: 1.2em; font-weight: bold;'>Part B:</span>\n",
        "\n",
        "<span style='font-family: \"Segoe UI\", Tahoma, Geneva, Verdana, sans-serif; font-size: 1.2em; font-weight: bold;'>\n",
        "     Pick  up  another  categorical  variable  and  compare  it  to  the  one  you \n",
        "chose  in  part  (a).  Using  the  𝜒2  test,  check  if  the  two  variables  are \n",
        "independent or not. \n",
        "</span>\n",
        "\n",
        "\n"
      ]
    },
    {
      "cell_type": "markdown",
      "metadata": {},
      "source": [
        "I choose `thal` as my second variable."
      ]
    },
    {
      "cell_type": "markdown",
      "metadata": {},
      "source": [
        "**Because the data is very less so I doesn't use random sampling in this step.**"
      ]
    },
    {
      "cell_type": "code",
      "execution_count": 26,
      "metadata": {
        "vscode": {
          "languageId": "r"
        }
      },
      "outputs": [
        {
          "name": "stdout",
          "output_type": "stream",
          "text": [
            "   \n",
            "     0  1  2  3\n",
            "  0  1 12 52 78\n",
            "  1  0  2 39  9\n",
            "  2  1  2 61 22\n",
            "  3  0  2 13  8\n"
          ]
        }
      ],
      "source": [
        "# Create a contingency table for `cp` and `thal`\n",
        "contingency_table <- table(heart_data$cp, heart_data$thal)\n",
        "\n",
        "# View the contingency table\n",
        "print(contingency_table)"
      ]
    },
    {
      "cell_type": "markdown",
      "metadata": {},
      "source": [
        "in some case we see some of `Chi-Square` Test Conditions(For example : each expected frequency should be at least 5.) not met(I ignored these)"
      ]
    },
    {
      "cell_type": "markdown",
      "metadata": {},
      "source": [
        "**Use the $\\chi^2$ Test to Check for Independence Manually**"
      ]
    },
    {
      "cell_type": "code",
      "execution_count": 27,
      "metadata": {
        "vscode": {
          "languageId": "r"
        }
      },
      "outputs": [
        {
          "data": {
            "text/html": [
              "<table class=\"dataframe\">\n",
              "<caption>A matrix: 4 × 4 of type dbl</caption>\n",
              "<thead>\n",
              "\t<tr><th></th><th scope=col>0</th><th scope=col>1</th><th scope=col>2</th><th scope=col>3</th></tr>\n",
              "</thead>\n",
              "<tbody>\n",
              "\t<tr><th scope=row>0</th><td>0.9470199</td><td>8.523179</td><td>78.12914</td><td>55.400662</td></tr>\n",
              "\t<tr><th scope=row>1</th><td>0.3311258</td><td>2.980132</td><td>27.31788</td><td>19.370861</td></tr>\n",
              "\t<tr><th scope=row>2</th><td>0.5695364</td><td>5.125828</td><td>46.98675</td><td>33.317881</td></tr>\n",
              "\t<tr><th scope=row>3</th><td>0.1523179</td><td>1.370861</td><td>12.56623</td><td> 8.910596</td></tr>\n",
              "</tbody>\n",
              "</table>\n"
            ],
            "text/latex": [
              "A matrix: 4 × 4 of type dbl\n",
              "\\begin{tabular}{r|llll}\n",
              "  & 0 & 1 & 2 & 3\\\\\n",
              "\\hline\n",
              "\t0 & 0.9470199 & 8.523179 & 78.12914 & 55.400662\\\\\n",
              "\t1 & 0.3311258 & 2.980132 & 27.31788 & 19.370861\\\\\n",
              "\t2 & 0.5695364 & 5.125828 & 46.98675 & 33.317881\\\\\n",
              "\t3 & 0.1523179 & 1.370861 & 12.56623 &  8.910596\\\\\n",
              "\\end{tabular}\n"
            ],
            "text/markdown": [
              "\n",
              "A matrix: 4 × 4 of type dbl\n",
              "\n",
              "| <!--/--> | 0 | 1 | 2 | 3 |\n",
              "|---|---|---|---|---|\n",
              "| 0 | 0.9470199 | 8.523179 | 78.12914 | 55.400662 |\n",
              "| 1 | 0.3311258 | 2.980132 | 27.31788 | 19.370861 |\n",
              "| 2 | 0.5695364 | 5.125828 | 46.98675 | 33.317881 |\n",
              "| 3 | 0.1523179 | 1.370861 | 12.56623 |  8.910596 |\n",
              "\n"
            ],
            "text/plain": [
              "  0         1        2        3        \n",
              "0 0.9470199 8.523179 78.12914 55.400662\n",
              "1 0.3311258 2.980132 27.31788 19.370861\n",
              "2 0.5695364 5.125828 46.98675 33.317881\n",
              "3 0.1523179 1.370861 12.56623  8.910596"
            ]
          },
          "metadata": {},
          "output_type": "display_data"
        },
        {
          "name": "stdout",
          "output_type": "stream",
          "text": [
            "Manual Chi-Square Test of Independence:\n",
            "Chi-square statistic: 41.3847 \n",
            "Degrees of freedom: 9 \n",
            "P-value: 4.256611e-06 \n"
          ]
        }
      ],
      "source": [
        "# Calculate the expected frequencies\n",
        "expected <- outer(rowSums(contingency_table), colSums(contingency_table)) / sum(contingency_table)\n",
        "expected\n",
        "# Calculate the chi-square test statistic\n",
        "observed <- as.matrix(contingency_table)\n",
        "chi_square_stat <- sum((observed - expected)^2 / expected)\n",
        "\n",
        "# Degrees of freedom\n",
        "df <- (nrow(contingency_table) - 1) * (ncol(contingency_table) - 1)\n",
        "\n",
        "# P-value\n",
        "p_value <- 1 - pchisq(chi_square_stat, df)\n",
        "\n",
        "# Print the results\n",
        "cat(\"Manual Chi-Square Test of Independence:\\n\")\n",
        "cat(\"Chi-square statistic:\", chi_square_stat, \"\\n\")\n",
        "cat(\"Degrees of freedom:\", df, \"\\n\")\n",
        "cat(\"P-value:\", p_value, \"\\n\")"
      ]
    },
    {
      "cell_type": "markdown",
      "metadata": {},
      "source": [
        "**Use the $\\chi^2$ Test to Check for Independence Using `R` libraries**"
      ]
    },
    {
      "cell_type": "code",
      "execution_count": 28,
      "metadata": {
        "vscode": {
          "languageId": "r"
        }
      },
      "outputs": [
        {
          "name": "stderr",
          "output_type": "stream",
          "text": [
            "Warning message in chisq.test(contingency_table):\n",
            "\"Chi-squared approximation may be incorrect\"\n"
          ]
        },
        {
          "name": "stdout",
          "output_type": "stream",
          "text": [
            "\n",
            "\tPearson's Chi-squared test\n",
            "\n",
            "data:  contingency_table\n",
            "X-squared = 41.385, df = 9, p-value = 4.257e-06\n",
            "\n",
            "The p-value of the chi-square test is: 4.256611e-06 \n",
            "The p-value is less than 0.05, indicating that we reject the null hypothesis. Therefore, there is a significant association between cp and thal.\n"
          ]
        }
      ],
      "source": [
        "# Perform the chi-square test of independence using chisq.test\n",
        "chi_square_test <- chisq.test(contingency_table)\n",
        "\n",
        "# Print the test result\n",
        "print(chi_square_test)\n",
        "\n",
        "# Print the p-value\n",
        "cat(\"The p-value of the chi-square test is:\", chi_square_test$p.value, \"\\n\")\n",
        "\n",
        "# Interpret the result\n",
        "if (chi_square_test$p.value < 0.05) {\n",
        "  cat(\"The p-value is less than 0.05, indicating that we reject the null hypothesis. Therefore, there is a significant association between cp and thal.\\n\")\n",
        "} else {\n",
        "  cat(\"The p-value is greater than 0.05, indicating that we fail to reject the null hypothesis. Therefore, there is no significant association between cp and thal.\\n\")\n",
        "}\n"
      ]
    },
    {
      "cell_type": "markdown",
      "metadata": {},
      "source": [
        "\n",
        "\n",
        "**The chi-square test results show a test statistic of 41.385 with 9 degrees of freedom, and a p-value of approximately 4.257e-06, which is much less than 0.05. This means we reject the null hypothesis, indicating a significant association between chest pain type (`cp`) and thalassemia (`thal`). Therefore, `cp` and `thal` are not independent; they are related in the dataset.**\n",
        "\n"
      ]
    },
    {
      "cell_type": "markdown",
      "metadata": {},
      "source": [
        "In this question we use `R` for my calculation.\n",
        "\n",
        "but I can use Manually calculation sam as below :\n",
        "\n"
      ]
    },
    {
      "cell_type": "markdown",
      "metadata": {},
      "source": [
        "1. **Observed Frequencies**: We created a contingency table from the dataset, which displays the observed frequencies for each combination of `cp` and `thal`.\n",
        "   \n",
        "2. **Expected Frequencies**: The expected frequencies were calculated using the formula:\n",
        "   \n",
        "   $$\n",
        "   E_{ij} = \\frac{(R_i \\cdot C_j)}{N}\n",
        "   $$\n",
        "\n",
        "   where:\n",
        "   - $E_{ij}$ is the expected frequency for cell $(i,j)$.\n",
        "   - $R_i$ is the sum of the row totals for row $i$.\n",
        "   - $C_j$ is the sum of the column totals for column $j$.\n",
        "   - $N$ is the total number of observations.\n",
        "\n",
        "3. **Chi-Square Test Statistic**: The chi-square test statistic was calculated using the formula:\n",
        "   \n",
        "   $$\n",
        "   \\chi^2 = \\sum \\frac{(O_{ij} - E_{ij})^2}{E_{ij}}\n",
        "   $$\n",
        "\n",
        "   where:\n",
        "   - $O_{ij}$ is the observed frequency for cell $(i,j)$.\n",
        "   - $E_{ij}$ is the expected frequency for cell $(i,j)$.\n",
        "\n",
        "4. **Degrees of Freedom**: The degrees of freedom for the test were calculated using the formula:\n",
        "   \n",
        "   $$\n",
        "   \\text{df} = (r - 1) \\cdot (c - 1)\n",
        "   $$\n",
        "\n",
        "   where:\n",
        "   - $r$ is the number of rows in the contingency table.\n",
        "   - $c$ is the number of columns in the contingency table.\n",
        "\n",
        "5. **P-Value**: The p-value was determined using the chi-square distribution with the calculated degrees of freedom."
      ]
    },
    {
      "cell_type": "markdown",
      "metadata": {
        "id": "rS47X12qBWcT"
      },
      "source": [
        "<hr>"
      ]
    },
    {
      "cell_type": "markdown",
      "metadata": {
        "id": "_UUYPnglBWcU"
      },
      "source": [
        "### <span style='color:#2ECC71; font-family: \"Arial\", sans-serif; font-size: 1.3em; font-weight: bold;'>Question 4</span>\n",
        "\n",
        "<span style='font-family: \"Segoe UI\", Tahoma, Geneva, Verdana, sans-serif; font-size: 1.2em; font-weight: bold;'>\n",
        "From your dataset choose a numerical variable that predicts its future value \n",
        "is meaningful within the context of your dataset. Next, choose two \n",
        "explanatory  variables  which  you  believe  are  the  best  predictors  for  your \n",
        "response variable: \n",
        "</span>"
      ]
    },
    {
      "cell_type": "markdown",
      "metadata": {},
      "source": [
        "I choose `chol`.\n",
        "\n",
        "I choose `age` and `tresttps` as my Explanatory Variables."
      ]
    },
    {
      "cell_type": "markdown",
      "metadata": {
        "id": "5duhcY3OBWcU"
      },
      "source": [
        "#### <span style='color:#E74C3C; font-family: \"Arial\", sans-serif; font-size: 1.1em; font-weight: bold;'>Answer</span>"
      ]
    },
    {
      "cell_type": "markdown",
      "metadata": {},
      "source": [
        "##### <span style='color:#3498DB; font-family: \"Helvetica\", Arial, sans-serif; font-size: 1.2em; font-weight: bold;'>Part A:</span>\n",
        "\n",
        "<span style='font-family: \"Segoe UI\", Tahoma, Geneva, Verdana, sans-serif; font-size: 1.2em; font-weight: bold;'>\n",
        "     Without building a model yet, which explanatory variable do you guess \n",
        "is  the  more  significant  predictor  and  why?  (use  your  knowledge  from \n",
        "phase 1)\n",
        "</span>\n",
        "\n",
        "\n"
      ]
    },
    {
      "attachments": {
        "image.png": {
          "image/png": "[encoded data removed]"
        }
      },
      "cell_type": "markdown",
      "metadata": {},
      "source": [
        "![image.png](attachment:image.png)"
      ]
    },
    {
      "cell_type": "markdown",
      "metadata": {},
      "source": [
        "Based Correlation Matrix we have in previous part `age` and `tresttps` have the most `corr` with this variable."
      ]
    },
    {
      "cell_type": "markdown",
      "metadata": {},
      "source": [
        "##### <span style='color:#3498DB; font-family: \"Helvetica\", Arial, sans-serif; font-size: 1.2em; font-weight: bold;'>Part B:</span>\n",
        "\n",
        "<span style='font-family: \"Segoe UI\", Tahoma, Geneva, Verdana, sans-serif; font-size: 1.2em; font-weight: bold;'>\n",
        "     for each explanatory variable: \n",
        "     <li>a.  Check  the  Linearity,  Nearly  Normal  Residuals,  and  Constant Variability conditions in R.</li> \n",
        "     <li>b.  Compute the least squares regression.</li> \n",
        "     <li>c.  Write  the  predictive  equation  for  the  response  variable  and interpret its parameters.</li> \n",
        "     <li>d.  Draw  a  scatter  plot  of  the  relation  between  these  two  variables overlaid with this least-squares fit as a dashed line.</li> \n",
        "</span>\n",
        "\n",
        "\n"
      ]
    },
    {
      "cell_type": "markdown",
      "metadata": {},
      "source": [
        "**Analysis for `age` as the Explanatory Variable**"
      ]
    },
    {
      "cell_type": "markdown",
      "metadata": {},
      "source": [
        "**a. Check the Linearity, Nearly Normal Residuals, and Constant Variability Conditions**"
      ]
    },
    {
      "cell_type": "code",
      "execution_count": 29,
      "metadata": {
        "vscode": {
          "languageId": "r"
        }
      },
      "outputs": [
        {
          "name": "stderr",
          "output_type": "stream",
          "text": [
            "\u001b[1m\u001b[22m`geom_smooth()` using formula = 'y ~ x'\n"
          ]
        },
        {
          "data": {
            "image/png": "[encoded data removed]",
            "text/plain": [
              "plot without title"
            ]
          },
          "metadata": {
            "image/png": {
              "height": 420,
              "width": 420
            }
          },
          "output_type": "display_data"
        },
        {
          "data": {
            "image/png": "[encoded data removed]",
            "text/plain": [
              "Plot with title \"Normal Q-Q Plot\""
            ]
          },
          "metadata": {
            "image/png": {
              "height": 420,
              "width": 420
            }
          },
          "output_type": "display_data"
        },
        {
          "data": {
            "image/png": "[encoded data removed]",
            "text/plain": [
              "Plot with title \"Residuals vs Fitted\""
            ]
          },
          "metadata": {
            "image/png": {
              "height": 420,
              "width": 420
            }
          },
          "output_type": "display_data"
        }
      ],
      "source": [
        "# Linear model for age and chol\n",
        "model_age <- lm(chol ~ age, data = heart_data)\n",
        "\n",
        "# Linearity check: Scatter plot with regression line\n",
        "ggplot(heart_data, aes(x = age, y = chol)) +\n",
        "  geom_point() +\n",
        "  geom_smooth(method = \"lm\", se = FALSE, color = \"red\", linetype = \"dashed\") +\n",
        "  labs(title = \"Cholesterol vs Age\", x = \"Age\", y = \"Cholesterol\")\n",
        "\n",
        "# Residuals analysis\n",
        "residuals_age <- model_age$residuals\n",
        "fitted_values_age <- model_age$fitted.values\n",
        "\n",
        "# Nearly normal residuals: Histogram and Q-Q plot\n",
        "par(mfrow = c(1, 2))\n",
        "hist(residuals_age, main = \"Histogram of Residuals\", xlab = \"Residuals\")\n",
        "qqnorm(residuals_age)\n",
        "qqline(residuals_age, col = \"red\")\n",
        "par(mfrow = c(1, 1))\n",
        "\n",
        "# Constant variability: Residuals vs Fitted plot\n",
        "plot(fitted_values_age, residuals_age, main = \"Residuals vs Fitted\", xlab = \"Fitted Values\", ylab = \"Residuals\")\n",
        "abline(h = 0, col = \"red\", lty = 2)"
      ]
    },
    {
      "cell_type": "markdown",
      "metadata": {},
      "source": [
        "**Linearity**\n",
        "\n",
        "The scatter plot shows a slightly increasing trend between `age` and `chol`, indicating a weak linear relationship. The red dashed line represents the least-squares regression line, suggesting a positive slope.\n",
        "\n",
        "**Nearly Normal Residuals**\n",
        "\n",
        "The histogram of the residuals appears to be approximately normally distributed, with most residuals centered around zero. The Q-Q plot also indicates that the residuals follow a normal distribution, as the points lie along the red line.\n",
        "\n",
        "**Constant Variability**\n",
        "\n",
        "The Residuals vs Fitted plot shows that the residuals are spread randomly around the horizontal line at zero, with no clear pattern. This suggests that the variability of the residuals is constant across different fitted values."
      ]
    },
    {
      "cell_type": "markdown",
      "metadata": {},
      "source": [
        "**b. Compute the Least Squares Regression**"
      ]
    },
    {
      "cell_type": "code",
      "execution_count": 30,
      "metadata": {
        "vscode": {
          "languageId": "r"
        }
      },
      "outputs": [
        {
          "data": {
            "text/plain": [
              "\n",
              "Call:\n",
              "lm(formula = chol ~ age, data = heart_data)\n",
              "\n",
              "Residuals:\n",
              "     Min       1Q   Median       3Q      Max \n",
              "-123.557  -32.492   -6.093   28.249  302.590 \n",
              "\n",
              "Coefficients:\n",
              "            Estimate Std. Error t value Pr(>|t|)    \n",
              "(Intercept) 181.9980    17.8222  10.212  < 2e-16 ***\n",
              "age           1.1853     0.3231   3.669 0.000288 ***\n",
              "---\n",
              "Signif. codes:  0 '***' 0.001 '**' 0.01 '*' 0.05 '.' 0.1 ' ' 1\n",
              "\n",
              "Residual standard error: 50.71 on 300 degrees of freedom\n",
              "Multiple R-squared:  0.04294,\tAdjusted R-squared:  0.03975 \n",
              "F-statistic: 13.46 on 1 and 300 DF,  p-value: 0.0002884\n"
            ]
          },
          "metadata": {},
          "output_type": "display_data"
        }
      ],
      "source": [
        "summary(model_age)\n"
      ]
    },
    {
      "cell_type": "markdown",
      "metadata": {},
      "source": [
        "**c. Write the Predictive Equation for the Response Variable and Interpret its Parameters**"
      ]
    },
    {
      "cell_type": "markdown",
      "metadata": {},
      "source": [
        "\n",
        "\n",
        "\n",
        "- **Intercept $\\beta_0$**: 181.998\n",
        "- **Slope $\\beta_1$**: 1.1853\n",
        "- **P-value for the slope**: 0.000288\n",
        "\n",
        "**Predictive Equation**\n",
        "\n",
        "The predictive equation for cholesterol (`chol`) based on age (`age`) is:\n",
        "\n",
        "$\\text{chol} = 181.998 + 1.1853 \\times \\text{age}$\n",
        "\n",
        "**Interpretation of Parameters**\n",
        "\n",
        "- **Intercept (181.998)**: This is the estimated cholesterol level when age is 0. While it's not realistic to have an age of 0 in this context, it serves as a baseline value in the model.\n",
        "  \n",
        "- **Slope (1.1853)**: For each additional year of age, the cholesterol level is expected to increase by approximately 1.1853 units. This indicates a positive relationship between age and cholesterol.\n",
        "\n",
        "**Significance**\n",
        "\n",
        "- The p-value for the slope $\\beta_1$ is 0.000288, which is much less than 0.05. This means that age is a statistically significant predictor of cholesterol level.\n",
        "\n"
      ]
    },
    {
      "cell_type": "markdown",
      "metadata": {},
      "source": [
        "**d. Scatter Plot with Least-Squares Fit**"
      ]
    },
    {
      "cell_type": "code",
      "execution_count": 31,
      "metadata": {
        "vscode": {
          "languageId": "r"
        }
      },
      "outputs": [
        {
          "name": "stderr",
          "output_type": "stream",
          "text": [
            "\u001b[1m\u001b[22m`geom_smooth()` using formula = 'y ~ x'\n"
          ]
        },
        {
          "data": {
            "image/png": "[encoded data removed]",
            "text/plain": [
              "plot without title"
            ]
          },
          "metadata": {
            "image/png": {
              "height": 420,
              "width": 420
            }
          },
          "output_type": "display_data"
        }
      ],
      "source": [
        "ggplot(heart_data, aes(x = age, y = chol)) +\n",
        "  geom_point() +\n",
        "  geom_smooth(method = \"lm\", se = FALSE, color = \"red\", linetype = \"dashed\") +\n",
        "  labs(title = \"Cholesterol vs Age with Least-Squares Fit\", x = \"Age\", y = \"Cholesterol\")"
      ]
    },
    {
      "cell_type": "markdown",
      "metadata": {},
      "source": [
        "**a. Check the Linearity, Nearly Normal Residuals, and Constant Variability Conditions**"
      ]
    },
    {
      "cell_type": "code",
      "execution_count": 32,
      "metadata": {
        "vscode": {
          "languageId": "r"
        }
      },
      "outputs": [
        {
          "name": "stderr",
          "output_type": "stream",
          "text": [
            "\u001b[1m\u001b[22m`geom_smooth()` using formula = 'y ~ x'\n"
          ]
        },
        {
          "data": {
            "image/png": "[encoded data removed]",
            "text/plain": [
              "plot without title"
            ]
          },
          "metadata": {
            "image/png": {
              "height": 420,
              "width": 420
            }
          },
          "output_type": "display_data"
        },
        {
          "data": {
            "image/png": "[encoded data removed]",
            "text/plain": [
              "Plot with title \"Normal Q-Q Plot\""
            ]
          },
          "metadata": {
            "image/png": {
              "height": 420,
              "width": 420
            }
          },
          "output_type": "display_data"
        },
        {
          "data": {
            "image/png": "[encoded data removed]",
            "text/plain": [
              "Plot with title \"Residuals vs Fitted\""
            ]
          },
          "metadata": {
            "image/png": {
              "height": 420,
              "width": 420
            }
          },
          "output_type": "display_data"
        }
      ],
      "source": [
        "# Linear model for trestbps and chol\n",
        "model_trestbps <- lm(chol ~ trestbps, data = heart_data)\n",
        "\n",
        "# Linearity check: Scatter plot with regression line\n",
        "ggplot(heart_data, aes(x = trestbps, y = chol)) +\n",
        "  geom_point() +\n",
        "  geom_smooth(method = \"lm\", se = FALSE, color = \"red\", linetype = \"dashed\") +\n",
        "  labs(title = \"Cholesterol vs Resting Blood Pressure\", x = \"Resting Blood Pressure\", y = \"Cholesterol\")\n",
        "\n",
        "# Residuals analysis\n",
        "residuals_trestbps <- model_trestbps$residuals\n",
        "fitted_values_trestbps <- model_trestbps$fitted.values\n",
        "\n",
        "# Nearly normal residuals: Histogram and Q-Q plot\n",
        "par(mfrow = c(1, 2))\n",
        "hist(residuals_trestbps, main = \"Histogram of Residuals\", xlab = \"Residuals\")\n",
        "qqnorm(residuals_trestbps)\n",
        "qqline(residuals_trestbps, col = \"red\")\n",
        "par(mfrow = c(1, 1))\n",
        "\n",
        "# Constant variability: Residuals vs Fitted plot\n",
        "plot(fitted_values_trestbps, residuals_trestbps, main = \"Residuals vs Fitted\", xlab = \"Fitted Values\", ylab = \"Residuals\")\n",
        "abline(h = 0, col = \"red\", lty = 2)\n"
      ]
    },
    {
      "cell_type": "markdown",
      "metadata": {},
      "source": [
        "**Linearity**\n",
        "\n",
        "The scatter plot shows a slightly increasing trend between `trestbps` (resting blood pressure) and `chol`, indicating a weak linear relationship. The red dashed line represents the least-squares regression line, suggesting a positive slope.\n",
        "\n",
        "**Nearly Normal Residuals**\n",
        "\n",
        "The histogram of the residuals appears to be approximately normally distributed, with most residuals centered around zero. The Q-Q plot also indicates that the residuals follow a normal distribution, as the points lie along the red line.\n",
        "\n",
        "**Constant Variability**\n",
        "\n",
        "The Residuals vs Fitted plot shows that the residuals are spread randomly around the horizontal line at zero, with no clear pattern. This suggests that the variability of the residuals is constant across different fitted values."
      ]
    },
    {
      "cell_type": "markdown",
      "metadata": {},
      "source": [
        "**b. Compute the Least Squares Regression**"
      ]
    },
    {
      "cell_type": "code",
      "execution_count": 33,
      "metadata": {
        "vscode": {
          "languageId": "r"
        }
      },
      "outputs": [
        {
          "data": {
            "text/plain": [
              "\n",
              "Call:\n",
              "lm(formula = chol ~ trestbps, data = heart_data)\n",
              "\n",
              "Residuals:\n",
              "    Min      1Q  Median      3Q     Max \n",
              "-127.29  -33.52   -5.74   28.38  323.63 \n",
              "\n",
              "Coefficients:\n",
              "            Estimate Std. Error t value Pr(>|t|)    \n",
              "(Intercept) 197.9270    22.4090   8.832   <2e-16 ***\n",
              "trestbps      0.3691     0.1688   2.187   0.0295 *  \n",
              "---\n",
              "Signif. codes:  0 '***' 0.001 '**' 0.01 '*' 0.05 '.' 0.1 ' ' 1\n",
              "\n",
              "Residual standard error: 51.43 on 300 degrees of freedom\n",
              "Multiple R-squared:  0.01569,\tAdjusted R-squared:  0.01241 \n",
              "F-statistic: 4.782 on 1 and 300 DF,  p-value: 0.02953\n"
            ]
          },
          "metadata": {},
          "output_type": "display_data"
        }
      ],
      "source": [
        "summary(model_trestbps)\n"
      ]
    },
    {
      "cell_type": "markdown",
      "metadata": {},
      "source": [
        "**c. Write the Predictive Equation for the Response Variable and Interpret its Parameters**"
      ]
    },
    {
      "cell_type": "markdown",
      "metadata": {},
      "source": [
        "- **Intercept $\\beta_0$**: 197.927\n",
        "- **Slope $\\beta_1$**: 0.3691\n",
        "- **P-value for the slope**: 0.0295\n",
        "\n",
        "**Predictive Equation**\n",
        "\n",
        "The predictive equation for cholesterol (`chol`) based on resting blood pressure (`trestbps`) is:\n",
        "\n",
        "$\\text{chol} = 197.927 + 0.3691 \\times \\text{trestbps}$\n",
        "\n",
        "**Interpretation of Parameters**\n",
        "\n",
        "- **Intercept (197.927)**: This is the estimated cholesterol level when resting blood pressure is 0. While it's not realistic to have a resting blood pressure of 0 in this context, it serves as a baseline value in the model.\n",
        "  \n",
        "- **Slope (0.3691)**: For each additional unit of resting blood pressure, the cholesterol level is expected to increase by approximately 0.3691 units. This indicates a positive relationship between resting blood pressure and cholesterol.\n",
        "\n",
        "**Significance**\n",
        "\n",
        "- The p-value for the slope $\\beta_1$ is 0.0295, which is less than 0.05. This means that resting blood pressure is a statistically significant predictor of cholesterol level."
      ]
    },
    {
      "cell_type": "markdown",
      "metadata": {},
      "source": [
        "**d. Scatter Plot with Least-Squares Fit**"
      ]
    },
    {
      "cell_type": "code",
      "execution_count": 34,
      "metadata": {
        "vscode": {
          "languageId": "r"
        }
      },
      "outputs": [
        {
          "name": "stderr",
          "output_type": "stream",
          "text": [
            "\u001b[1m\u001b[22m`geom_smooth()` using formula = 'y ~ x'\n"
          ]
        },
        {
          "data": {
            "image/png": "[encoded data removed]",
            "text/plain": [
              "plot without title"
            ]
          },
          "metadata": {
            "image/png": {
              "height": 420,
              "width": 420
            }
          },
          "output_type": "display_data"
        }
      ],
      "source": [
        "ggplot(heart_data, aes(x = trestbps, y = chol)) +\n",
        "  geom_point() +\n",
        "  geom_smooth(method = \"lm\", se = FALSE, color = \"red\", linetype = \"dashed\") +\n",
        "  labs(title = \"Cholesterol vs Resting Blood Pressure with Least-Squares Fit\", x = \"Resting Blood Pressure\", y = \"Cholesterol\")\n"
      ]
    },
    {
      "cell_type": "markdown",
      "metadata": {},
      "source": [
        "##### <span style='color:#3498DB; font-family: \"Helvetica\", Arial, sans-serif; font-size: 1.2em; font-weight: bold;'>Part C:</span>\n",
        "\n",
        "<span style='font-family: \"Segoe UI\", Tahoma, Geneva, Verdana, sans-serif; font-size: 1.2em; font-weight: bold;'>\n",
        "     By  using  the  previous  part  results,  try  to  explain  which  explanatory \n",
        "variable is the more significant predictor. \n",
        "</span>\n",
        "\n",
        "\n"
      ]
    },
    {
      "cell_type": "markdown",
      "metadata": {},
      "source": [
        "Based on the p-values, R-squared values, and the slopes, `age` appears to be the more significant predictor of cholesterol levels compared to resting blood pressure (`trestbps`). The relationship between `age` and `chol` is statistically stronger and explains more of the variation in cholesterol levels than the relationship between `trestbps` and `chol`. "
      ]
    },
    {
      "cell_type": "markdown",
      "metadata": {},
      "source": [
        "##### <span style='color:#3498DB; font-family: \"Helvetica\", Arial, sans-serif; font-size: 1.2em; font-weight: bold;'>Part D:</span>\n",
        "\n",
        "<span style='font-family: \"Segoe UI\", Tahoma, Geneva, Verdana, sans-serif; font-size: 1.2em; font-weight: bold;'>\n",
        "     Now, Compare your models, once using adjusted R2 and another time \n",
        "by ANOVA table. Explain results.  \n",
        "</span>\n",
        "\n",
        "\n"
      ]
    },
    {
      "cell_type": "markdown",
      "metadata": {},
      "source": [
        "\n",
        "**Adjusted R-squared**\n",
        "\n",
        "- **Age Model**:\n",
        "  - Adjusted R-squared: 0.03975\n",
        "- **Resting Blood Pressure (trestbps) Model**:\n",
        "  - Adjusted R-squared: 0.01241\n",
        "\n",
        "The model using `age` has a higher adjusted R-squared value (0.03975) compared to the model using `trestbps` (0.01241). This indicates that the `age` model explains a greater proportion of the variability in cholesterol levels, adjusted for the number of predictors in the model.\n",
        "\n",
        "\n"
      ]
    },
    {
      "cell_type": "code",
      "execution_count": 35,
      "metadata": {
        "vscode": {
          "languageId": "r"
        }
      },
      "outputs": [
        {
          "name": "stdout",
          "output_type": "stream",
          "text": [
            "ANOVA Table for Age Model:\n",
            "Analysis of Variance Table\n",
            "\n",
            "Response: chol\n",
            "           Df Sum Sq Mean Sq F value    Pr(>F)    \n",
            "age         1  34617   34617  13.459 0.0002884 ***\n",
            "Residuals 300 771588    2572                      \n",
            "---\n",
            "Signif. codes:  0 '***' 0.001 '**' 0.01 '*' 0.05 '.' 0.1 ' ' 1\n",
            "\n",
            "ANOVA Table for Trestbps Model:\n",
            "Analysis of Variance Table\n",
            "\n",
            "Response: chol\n",
            "           Df Sum Sq Mean Sq F value  Pr(>F)  \n",
            "trestbps    1  12649 12648.7  4.7818 0.02953 *\n",
            "Residuals 300 793557  2645.2                  \n",
            "---\n",
            "Signif. codes:  0 '***' 0.001 '**' 0.01 '*' 0.05 '.' 0.1 ' ' 1\n"
          ]
        }
      ],
      "source": [
        "# Perform ANOVA for each model\n",
        "anova_model_age <- anova(model_age)\n",
        "anova_model_trestbps <- anova(model_trestbps)\n",
        "\n",
        "# Print the ANOVA tables\n",
        "cat(\"ANOVA Table for Age Model:\\n\")\n",
        "print(anova_model_age)\n",
        "\n",
        "cat(\"\\nANOVA Table for Trestbps Model:\\n\")\n",
        "print(anova_model_trestbps)"
      ]
    },
    {
      "cell_type": "markdown",
      "metadata": {},
      "source": [
        "1. **F value**:\n",
        "   - The F value for the `age` model is 13.459, which is higher than the F value for the `trestbps` model (4.7818). A higher F value indicates that the variable is a better predictor of the response variable.\n",
        "\n",
        "2. **P-value**:\n",
        "   - The p-value for the `age` model (0.0002884) is much lower than the p-value for the `trestbps` model (0.02953). Both p-values are less than 0.05, indicating that both predictors are statistically significant. However, the lower p-value for `age` suggests it is a more significant predictor compared to `trestbps`.\n",
        "\n",
        "3. **Sum of Squares**:\n",
        "   - The Sum of Squares for `age` (34,617) is higher than that for `trestbps` (12,649), indicating that `age` explains more variation in cholesterol levels compared to `trestbps`.\n",
        "\n",
        "\n",
        "Based on the ANOVA results, the `age` model is a more significant predictor of cholesterol (`chol`) compared to the `trestbps` model. "
      ]
    },
    {
      "cell_type": "markdown",
      "metadata": {},
      "source": [
        "##### <span style='color:#3498DB; font-family: \"Helvetica\", Arial, sans-serif; font-size: 1.2em; font-weight: bold;'>Part E:</span>\n",
        "\n",
        "<span style='font-family: \"Segoe UI\", Tahoma, Geneva, Verdana, sans-serif; font-size: 1.2em; font-weight: bold;'>\n",
        "      According  to  the  results  that  you  found  in  the  previous  parts,  list  the \n",
        "features of a good predictor. \n",
        "</span>\n",
        "\n",
        "\n"
      ]
    },
    {
      "cell_type": "markdown",
      "metadata": {},
      "source": [
        "1. **Statistical Significance (P-value)**:\n",
        "   - A good predictor should have a low p-value (typically less than 0.05), indicating that the predictor is statistically significant. In our analysis, both `age` and `trestbps` had p-values less than 0.05, but `age` had a much lower p-value, indicating higher significance.\n",
        "\n",
        "2. **High F value**:\n",
        "   - A higher F value in the ANOVA table indicates that the predictor explains a significant amount of variability in the response variable. The `age` model had a higher F value compared to the `trestbps` model.\n",
        "\n",
        "3. **High R-squared and Adjusted R-squared**:\n",
        "   - R-squared measures the proportion of variance in the response variable that is explained by the predictor. A higher R-squared value indicates a better fit. Adjusted R-squared takes into account the number of predictors in the model, providing a more accurate measure. The `age` model had a higher adjusted R-squared value than the `trestbps` model.\n",
        "\n",
        "4. **Strong Linear Relationship**:\n",
        "   - A good predictor should have a strong linear relationship with the response variable, as indicated by the scatter plot and the regression line. While both `age` and `trestbps` showed a weak linear relationship with `chol`, the slope of `age` was higher, indicating a stronger relationship.\n",
        "\n",
        "5. **Consistency in Residuals**:\n",
        "   - The residuals (differences between observed and predicted values) should be approximately normally distributed and exhibit constant variability (homoscedasticity). This ensures that the model assumptions are met, leading to reliable predictions. Both models showed approximately normal residuals and constant variability.\n",
        "\n",
        "6. **Explained Variance (Sum of Squares)**:\n",
        "   - A good predictor should explain a significant portion of the variance in the response variable. In the ANOVA table, the `Sum of Squares` for the predictor indicates how much variance it explains. The `age` predictor explained more variance in `chol` than `trestbps`.\n",
        "\n"
      ]
    },
    {
      "cell_type": "markdown",
      "metadata": {},
      "source": [
        "##### <span style='color:#3498DB; font-family: \"Helvetica\", Arial, sans-serif; font-size: 1.2em; font-weight: bold;'>Part F:</span>\n",
        "\n",
        "<span style='font-family: \"Segoe UI\", Tahoma, Geneva, Verdana, sans-serif; font-size: 1.2em; font-weight: bold;'>\n",
        "     for each explanatory variable: \n",
        "     <li> By 90 percent of data, Build two Linear Regression models and \n",
        "design hypothesis tests to see if these explanatory variables are \n",
        "a significant predictor of the response variable or not.</li> \n",
        "     <li>b.  Calculate the 95% confidence interval for the slope of the \n",
        "relationship between response variable and explanatory \n",
        "variables. Interpret these CIs.</li> \n",
        "     <li>c.  Use  your  models  to  predict  the  values  of  the  response  variable \n",
        "for the remaining percent of samples.</li> \n",
        "     <li>d.  Compare the predicted values with actuals. Report success rate.</li> \n",
        "</span>\n",
        "\n",
        "\n"
      ]
    },
    {
      "cell_type": "code",
      "execution_count": 36,
      "metadata": {
        "vscode": {
          "languageId": "r"
        }
      },
      "outputs": [
        {
          "data": {
            "text/plain": [
              "\n",
              "Call:\n",
              "lm(formula = chol ~ age, data = train_data)\n",
              "\n",
              "Residuals:\n",
              "     Min       1Q   Median       3Q      Max \n",
              "-123.449  -32.987   -6.055   28.437  302.127 \n",
              "\n",
              "Coefficients:\n",
              "            Estimate Std. Error t value Pr(>|t|)    \n",
              "(Intercept) 178.6343    19.0315   9.386  < 2e-16 ***\n",
              "age           1.2424     0.3429   3.623 0.000347 ***\n",
              "---\n",
              "Signif. codes:  0 '***' 0.001 '**' 0.01 '*' 0.05 '.' 0.1 ' ' 1\n",
              "\n",
              "Residual standard error: 51.54 on 272 degrees of freedom\n",
              "Multiple R-squared:  0.04604,\tAdjusted R-squared:  0.04253 \n",
              "F-statistic: 13.13 on 1 and 272 DF,  p-value: 0.0003471\n"
            ]
          },
          "metadata": {},
          "output_type": "display_data"
        },
        {
          "data": {
            "text/plain": [
              "\n",
              "Call:\n",
              "lm(formula = chol ~ trestbps, data = train_data)\n",
              "\n",
              "Residuals:\n",
              "    Min      1Q  Median      3Q     Max \n",
              "-126.94  -34.10   -6.18   28.30  323.34 \n",
              "\n",
              "Coefficients:\n",
              "            Estimate Std. Error t value Pr(>|t|)    \n",
              "(Intercept) 200.3143    24.5200   8.169 1.18e-14 ***\n",
              "trestbps      0.3508     0.1841   1.906   0.0577 .  \n",
              "---\n",
              "Signif. codes:  0 '***' 0.001 '**' 0.01 '*' 0.05 '.' 0.1 ' ' 1\n",
              "\n",
              "Residual standard error: 52.42 on 272 degrees of freedom\n",
              "Multiple R-squared:  0.01318,\tAdjusted R-squared:  0.009553 \n",
              "F-statistic: 3.633 on 1 and 272 DF,  p-value: 0.05769\n"
            ]
          },
          "metadata": {},
          "output_type": "display_data"
        },
        {
          "name": "stdout",
          "output_type": "stream",
          "text": [
            "Hypothesis test for age model:\n",
            "P-value: 0.0003471189 \n",
            "Hypothesis test for trestbps model:\n",
            "P-value: 0.05769014 \n",
            "95% Confidence Interval for age model slope:\n",
            "                  2.5 %     97.5 %\n",
            "(Intercept) 141.1665589 216.102122\n",
            "age           0.5673093   1.917419\n",
            "95% Confidence Interval for trestbps model slope:\n",
            "                   2.5 %      97.5 %\n",
            "(Intercept) 152.04122829 248.5873492\n",
            "trestbps     -0.01152532   0.7132181\n",
            "MAE for age model predictions: 34.01949 \n",
            "RMSE for age model predictions: 41.90896 \n",
            "MAE for trestbps model predictions: 33.27077 \n",
            "RMSE for trestbps model predictions: 40.61568 \n"
          ]
        }
      ],
      "source": [
        "# Split the data into training (90%) and testing (10%) sets\n",
        "set.seed(42)  # For reproducibility\n",
        "train_index <- createDataPartition(heart_data$chol, p = 0.9, list = FALSE)\n",
        "train_data <- heart_data[train_index, ]\n",
        "test_data <- heart_data[-train_index, ]\n",
        "\n",
        "# Build linear regression models using the training data\n",
        "model_age <- lm(chol ~ age, data = train_data)\n",
        "model_trestbps <- lm(chol ~ trestbps, data = train_data)\n",
        "\n",
        "# Summary of the models to check significance of predictors\n",
        "summary(model_age)\n",
        "summary(model_trestbps)\n",
        "\n",
        "# Hypothesis tests\n",
        "cat(\"Hypothesis test for age model:\\n\")\n",
        "cat(\"P-value:\", summary(model_age)$coefficients[2, 4], \"\\n\")\n",
        "cat(\"Hypothesis test for trestbps model:\\n\")\n",
        "cat(\"P-value:\", summary(model_trestbps)$coefficients[2, 4], \"\\n\")\n",
        "\n",
        "# Calculate the 95% confidence interval for the slopes\n",
        "ci_age <- confint(model_age, level = 0.95)\n",
        "ci_trestbps <- confint(model_trestbps, level = 0.95)\n",
        "\n",
        "cat(\"95% Confidence Interval for age model slope:\\n\")\n",
        "print(ci_age)\n",
        "cat(\"95% Confidence Interval for trestbps model slope:\\n\")\n",
        "print(ci_trestbps)\n",
        "\n",
        "# Predict the values of the response variable for the test data\n",
        "predictions_age <- predict(model_age, newdata = test_data)\n",
        "predictions_trestbps <- predict(model_trestbps, newdata = test_data)\n",
        "\n",
        "# Actual values\n",
        "actuals <- test_data$chol\n",
        "\n",
        "# Calculate MAE and RMSE for both models\n",
        "mae_age <- mae(actuals, predictions_age)\n",
        "rmse_age <- rmse(actuals, predictions_age)\n",
        "mae_trestbps <- mae(actuals, predictions_trestbps)\n",
        "rmse_trestbps <- rmse(actuals, predictions_trestbps)\n",
        "\n",
        "cat(\"MAE for age model predictions:\", mae_age, \"\\n\")\n",
        "cat(\"RMSE for age model predictions:\", rmse_age, \"\\n\")\n",
        "cat(\"MAE for trestbps model predictions:\", mae_trestbps, \"\\n\")\n",
        "cat(\"RMSE for trestbps model predictions:\", rmse_trestbps, \"\\n\")\n"
      ]
    },
    {
      "cell_type": "markdown",
      "metadata": {},
      "source": [
        "**1. Significance of Predictors**\n",
        "\n",
        "**Age Model**:\n",
        "- **P-value**: 0.000347\n",
        "  - This is much less than 0.05, meaning `age` is a statistically significant predictor of `cholesterol`.\n",
        "\n",
        "**Trestbps Model**:\n",
        "- **P-value**: 0.0577\n",
        "  - This is slightly greater than 0.05, meaning `trestbps` is not a statistically significant predictor of `cholesterol`.\n",
        "\n",
        "**2. Confidence Intervals for the Slopes**\n",
        "\n",
        "**Age Model**:\n",
        "- **95% Confidence Interval for the slope**: (0.567, 1.917)\n",
        "  - This interval does not include 0, confirming that `age` is a significant predictor of `cholesterol`.\n",
        "\n",
        "**Trestbps Model**:\n",
        "- **95% Confidence Interval for the slope**: (-0.012, 0.713)\n",
        "  - This interval includes 0, suggesting that `trestbps` is not a significant predictor of `cholesterol`.\n",
        "\n",
        "**3. Prediction Accuracy (MAE and RMSE)**\n",
        "\n",
        "**Age Model**:\n",
        "- **MAE**: 34.01949\n",
        "  - The mean absolute error indicates the average absolute difference between the predicted and actual values.\n",
        "- **RMSE**: 41.90896\n",
        "  - The root mean squared error measures the standard deviation of the residuals (prediction errors).\n",
        "\n",
        "**Trestbps Model**:\n",
        "- **MAE**: 33.27077\n",
        "  - The mean absolute error for the `trestbps` model is slightly lower than that of the `age` model.\n",
        "- **RMSE**: 40.61568\n",
        "  - The root mean squared error for the `trestbps` model is also slightly lower than that of the `age` model.\n",
        "\n",
        "**Conclusion**\n",
        "\n",
        "1. **Significance of Predictors**:\n",
        "   - **Age** is a statistically significant predictor of cholesterol levels, as indicated by the low p-value and confidence interval that does not include zero.\n",
        "   - **Trestbps** is not a statistically significant predictor of cholesterol levels, as indicated by the p-value greater than 0.05 and confidence interval that includes zero.\n",
        "\n",
        "2. **Prediction Accuracy**:\n",
        "   - Despite `trestbps` not being a statistically significant predictor, it has slightly better prediction accuracy than `age`, as indicated by lower MAE and RMSE values.\n",
        "\n",
        "\n",
        "- **Age** is a significant predictor of cholesterol but has slightly higher prediction errors compared to `trestbps`.\n",
        "- **Trestbps** is not a statistically significant predictor of cholesterol but provides slightly more accurate predictions based on MAE and RMSE.\n",
        "\n",
        "In conclusion, while `age` is a significant predictor, `trestbps` provides better prediction accuracy. This highlights the importance of considering both statistical significance and prediction accuracy when evaluating predictive models."
      ]
    },
    {
      "cell_type": "markdown",
      "metadata": {
        "id": "1UFyn2V8BWcV"
      },
      "source": [
        "<hr>"
      ]
    },
    {
      "cell_type": "markdown",
      "metadata": {},
      "source": [
        "### <span style='color:#2ECC71; font-family: \"Arial\", sans-serif; font-size: 1.3em; font-weight: bold;'>Question 5</span>\n",
        "\n",
        "<span style='font-family: \"Segoe UI\", Tahoma, Geneva, Verdana, sans-serif; font-size: 1.2em; font-weight: bold;'>\n",
        "Consider  the  response  variable  you  selected  in  the  previous  question.  You \n",
        "can use as many explanatory variables as you deem necessary: \n",
        "</span>"
      ]
    },
    {
      "cell_type": "markdown",
      "metadata": {},
      "source": [
        "#### <span style='color:#E74C3C; font-family: \"Arial\", sans-serif; font-size: 1.1em; font-weight: bold;'>Answer</span>"
      ]
    },
    {
      "cell_type": "markdown",
      "metadata": {},
      "source": [
        "##### <span style='color:#3498DB; font-family: \"Helvetica\", Arial, sans-serif; font-size: 1.2em; font-weight: bold;'>Part A:</span>\n",
        "\n",
        "<span style='font-family: \"Segoe UI\", Tahoma, Geneva, Verdana, sans-serif; font-size: 1.2em; font-weight: bold;'>\n",
        "     Plot a correlogram for explanatory variables and discuss the correlation \n",
        "between them. Could you find which explanatory variable plays a more \n",
        "significant role in prediction\n",
        "</span>\n",
        "\n",
        "\n"
      ]
    },
    {
      "cell_type": "code",
      "execution_count": 38,
      "metadata": {
        "vscode": {
          "languageId": "r"
        }
      },
      "outputs": [
        {
          "data": {
            "image/png": "[encoded data removed]",
            "text/plain": [
              "plot without title"
            ]
          },
          "metadata": {
            "image/png": {
              "height": 420,
              "width": 420
            }
          },
          "output_type": "display_data"
        }
      ],
      "source": [
        "# Select relevant features for the correlogram\n",
        "features <- heart_data %>%\n",
        "  dplyr::select(age, sex, cp, trestbps, chol, fbs, restecg, thalach, exang, oldpeak, slope, ca, thal)\n",
        "\n",
        "# Plot correlogram\n",
        "correlation_matrix <- cor(features, use = \"complete.obs\")\n",
        "ggcorrplot(correlation_matrix, hc.order = TRUE, type = \"lower\",\n",
        "           lab = TRUE, lab_size = 3, method = \"circle\", \n",
        "           colors = c(\"tomato2\", \"white\", \"springgreen3\"), \n",
        "           title = \"Correlogram of Heart Disease Dataset Features\", \n",
        "           ggtheme = theme_bw)"
      ]
    },
    {
      "cell_type": "markdown",
      "metadata": {},
      "source": [
        "`age` , `sex` , `restecg` and `trestbps` are have higher correlation betwen other features with `chol` feature.\n",
        "\n",
        "so we make new model with these features."
      ]
    },
    {
      "cell_type": "markdown",
      "metadata": {},
      "source": [
        "##### <span style='color:#3498DB; font-family: \"Helvetica\", Arial, sans-serif; font-size: 1.2em; font-weight: bold;'>Part B:</span>\n",
        "\n",
        "<span style='font-family: \"Segoe UI\", Tahoma, Geneva, Verdana, sans-serif; font-size: 1.2em; font-weight: bold;'>\n",
        "     Develop  a  multiple  linear  regression  model  for  the  response  variable \n",
        "using explanatory variables you found in part A.\n",
        "</span>\n",
        "\n",
        "\n"
      ]
    },
    {
      "cell_type": "code",
      "execution_count": 39,
      "metadata": {
        "vscode": {
          "languageId": "r"
        }
      },
      "outputs": [
        {
          "data": {
            "text/plain": [
              "\n",
              "Call:\n",
              "lm(formula = chol ~ age + trestbps + restecg + sex, data = heart_data)\n",
              "\n",
              "Residuals:\n",
              "     Min       1Q   Median       3Q      Max \n",
              "-117.250  -32.952   -2.788   27.330  287.656 \n",
              "\n",
              "Coefficients:\n",
              "            Estimate Std. Error t value Pr(>|t|)    \n",
              "(Intercept) 197.0275    26.2278   7.512 6.87e-13 ***\n",
              "age           0.9112     0.3315   2.749  0.00635 ** \n",
              "trestbps      0.1589     0.1703   0.933  0.35165    \n",
              "restecg     -13.2623     5.4990  -2.412  0.01648 *  \n",
              "sex         -20.5795     6.1701  -3.335  0.00096 ***\n",
              "---\n",
              "Signif. codes:  0 '***' 0.001 '**' 0.01 '*' 0.05 '.' 0.1 ' ' 1\n",
              "\n",
              "Residual standard error: 49.54 on 297 degrees of freedom\n",
              "Multiple R-squared:  0.09593,\tAdjusted R-squared:  0.08376 \n",
              "F-statistic: 7.879 on 4 and 297 DF,  p-value: 4.776e-06\n"
            ]
          },
          "metadata": {},
          "output_type": "display_data"
        }
      ],
      "source": [
        "# Build the multiple linear regression model\n",
        "model_multiple <- lm(chol ~ age + trestbps + restecg + sex, data = heart_data)\n",
        "\n",
        "# Summary of the model to check significance of predictors\n",
        "summary(model_multiple)"
      ]
    },
    {
      "cell_type": "markdown",
      "metadata": {},
      "source": [
        "##### <span style='color:#3498DB; font-family: \"Helvetica\", Arial, sans-serif; font-size: 1.2em; font-weight: bold;'>Part C:</span>\n",
        "\n",
        "<span style='font-family: \"Segoe UI\", Tahoma, Geneva, Verdana, sans-serif; font-size: 1.2em; font-weight: bold;'>\n",
        "     How well do you think your model fits the data?\n",
        "</span>\n",
        "\n",
        "\n"
      ]
    },
    {
      "cell_type": "markdown",
      "metadata": {},
      "source": [
        "1. **Residuals**:\n",
        "   - The residuals show a wide range from -117.250 to 287.656, suggesting some large deviations between the observed and predicted values. The median residual is close to zero, indicating that the model does not systematically overestimate or underestimate cholesterol levels.\n",
        "\n",
        "2. **Coefficients**:\n",
        "   - The coefficients for the intercept and predictors show varying levels of significance:\n",
        "     - **(Intercept)**: Highly significant $p < 0.001$, indicating a strong baseline effect.\n",
        "     - **age**: Significant $p < 0.01$, with a positive association with cholesterol levels.\n",
        "     - **trestbps**: Not significant $p = 0.35165$, indicating no clear relationship with cholesterol levels.\n",
        "     - **restecg**: Significant $p < 0.05$, with a negative association with cholesterol levels.\n",
        "     - **sex**: Highly significant $p < 0.001$, indicating a strong effect on cholesterol levels, with males likely having lower cholesterol compared to females (assuming `sex` is coded such that male = 1).\n",
        "\n",
        "3. **Model Fit**:\n",
        "   - **Multiple R-squared**: 0.09593\n",
        "     - This indicates that approximately 9.59% of the variability in cholesterol levels is explained by the model. This is relatively low, suggesting that the model does not explain a large portion of the variance in cholesterol levels.\n",
        "   - **Adjusted R-squared**: 0.08376\n",
        "     - The adjusted R-squared is slightly lower than the multiple R-squared, accounting for the number of predictors in the model. This further indicates that the model has a limited explanatory power.\n",
        "   - **F-statistic**: 7.879 on 4 and 297 DF, with a p-value of 4.776e-06\n",
        "     - The F-statistic and its corresponding p-value indicate that the model as a whole is statistically significant. This means that at least one of the predictors is significantly associated with cholesterol levels.\n",
        "\n",
        "4. **Residual Standard Error (RSE)**: 49.54\n",
        "   - The RSE provides a measure of the average distance that the observed values fall from the regression line. A lower RSE would indicate a better fit. In this case, an RSE of 49.54 suggests a moderate level of error in the predictions.\n",
        "\n",
        "\n",
        "The model has some statistically significant predictors (age, restecg, and sex), but overall it does not explain a large portion of the variance in cholesterol levels (R-squared ~ 9.59%)."
      ]
    },
    {
      "cell_type": "markdown",
      "metadata": {},
      "source": [
        "##### <span style='color:#3498DB; font-family: \"Helvetica\", Arial, sans-serif; font-size: 1.2em; font-weight: bold;'>Part D:</span>\n",
        "\n",
        "<span style='font-family: \"Segoe UI\", Tahoma, Geneva, Verdana, sans-serif; font-size: 1.2em; font-weight: bold;'>\n",
        "     Develop the “best” possible multiple linear regression model for the \n",
        "response variable using different approaches and metrics.\n",
        "</span>\n",
        "\n",
        "\n"
      ]
    },
    {
      "cell_type": "markdown",
      "metadata": {},
      "source": [
        "In this part we use 2 techniques (`Backward elimination` and `Forward elimination`) for develope best model."
      ]
    },
    {
      "cell_type": "markdown",
      "metadata": {},
      "source": [
        "**Define the Full Model**"
      ]
    },
    {
      "cell_type": "code",
      "execution_count": 40,
      "metadata": {
        "vscode": {
          "languageId": "r"
        }
      },
      "outputs": [],
      "source": [
        "# Define the full model\n",
        "full_model <- lm(chol ~ age + trestbps + restecg + sex, data = heart_data)"
      ]
    },
    {
      "cell_type": "markdown",
      "metadata": {},
      "source": [
        "**Backward Elimination**\n",
        "\n",
        "Backward elimination starts with the full model and iteratively removes the least significant predictor until all remaining predictors are significant."
      ]
    },
    {
      "cell_type": "code",
      "execution_count": 41,
      "metadata": {
        "vscode": {
          "languageId": "r"
        }
      },
      "outputs": [
        {
          "name": "stdout",
          "output_type": "stream",
          "text": [
            "Start:  AIC=2362.22\n",
            "chol ~ age + trestbps + restecg + sex\n",
            "\n",
            "           Df Sum of Sq    RSS    AIC\n",
            "- trestbps  1    2135.6 731001 2361.1\n",
            "<none>                  728865 2362.2\n",
            "- restecg   1   14274.8 743140 2366.1\n",
            "- age       1   18543.3 747408 2367.8\n",
            "- sex       1   27300.7 756166 2371.3\n",
            "\n",
            "Step:  AIC=2361.11\n",
            "chol ~ age + restecg + sex\n",
            "\n",
            "          Df Sum of Sq    RSS    AIC\n",
            "<none>                 731001 2361.1\n",
            "- restecg  1     15418 746419 2365.4\n",
            "- age      1     23808 754809 2368.8\n",
            "- sex      1     27938 758939 2370.4\n"
          ]
        },
        {
          "data": {
            "text/plain": [
              "\n",
              "Call:\n",
              "lm(formula = chol ~ age + restecg + sex, data = heart_data)\n",
              "\n",
              "Residuals:\n",
              "     Min       1Q   Median       3Q      Max \n",
              "-121.676  -31.684   -2.967   26.838  283.575 \n",
              "\n",
              "Coefficients:\n",
              "            Estimate Std. Error t value Pr(>|t|)    \n",
              "(Intercept) 213.8029    19.0882  11.201  < 2e-16 ***\n",
              "age           0.9944     0.3192   3.115 0.002016 ** \n",
              "restecg     -13.7265     5.4752  -2.507 0.012707 *  \n",
              "sex         -20.8026     6.1641  -3.375 0.000837 ***\n",
              "---\n",
              "Signif. codes:  0 '***' 0.001 '**' 0.01 '*' 0.05 '.' 0.1 ' ' 1\n",
              "\n",
              "Residual standard error: 49.53 on 298 degrees of freedom\n",
              "Multiple R-squared:  0.09328,\tAdjusted R-squared:  0.08415 \n",
              "F-statistic: 10.22 on 3 and 298 DF,  p-value: 2.004e-06\n"
            ]
          },
          "metadata": {},
          "output_type": "display_data"
        }
      ],
      "source": [
        "# Perform backward elimination\n",
        "backward_model <- step(full_model, direction = \"backward\")\n",
        "summary(backward_model)"
      ]
    },
    {
      "cell_type": "markdown",
      "metadata": {},
      "source": [
        "**Forward Selection**\n",
        "\n",
        "Forward selection starts with no predictors and adds the most significant predictor at each step until no significant predictors are left."
      ]
    },
    {
      "cell_type": "code",
      "execution_count": 42,
      "metadata": {
        "vscode": {
          "languageId": "r"
        }
      },
      "outputs": [
        {
          "name": "stdout",
          "output_type": "stream",
          "text": [
            "Start:  AIC=2384.68\n",
            "chol ~ 1\n",
            "\n",
            "           Df Sum of Sq    RSS    AIC\n",
            "+ age       1     34617 771588 2373.4\n",
            "+ sex       1     30836 775370 2374.9\n",
            "+ restecg   1     17564 788641 2380.0\n",
            "+ trestbps  1     12649 793557 2381.9\n",
            "<none>                  806206 2384.7\n",
            "\n",
            "Step:  AIC=2373.43\n",
            "chol ~ age\n",
            "\n",
            "           Df Sum of Sq    RSS    AIC\n",
            "+ sex       1   25169.9 746419 2365.4\n",
            "+ restecg   1   12649.6 758939 2370.4\n",
            "<none>                  771588 2373.4\n",
            "+ trestbps  1    3886.3 767702 2373.9\n",
            "\n",
            "Step:  AIC=2365.41\n",
            "chol ~ age + sex\n",
            "\n",
            "           Df Sum of Sq    RSS    AIC\n",
            "+ restecg   1   15417.7 731001 2361.1\n",
            "<none>                  746419 2365.4\n",
            "+ trestbps  1    3278.6 743140 2366.1\n",
            "\n",
            "Step:  AIC=2361.11\n",
            "chol ~ age + sex + restecg\n",
            "\n",
            "           Df Sum of Sq    RSS    AIC\n",
            "<none>                  731001 2361.1\n",
            "+ trestbps  1    2135.6 728865 2362.2\n"
          ]
        },
        {
          "data": {
            "text/plain": [
              "\n",
              "Call:\n",
              "lm(formula = chol ~ age + sex + restecg, data = heart_data)\n",
              "\n",
              "Residuals:\n",
              "     Min       1Q   Median       3Q      Max \n",
              "-121.676  -31.684   -2.967   26.838  283.575 \n",
              "\n",
              "Coefficients:\n",
              "            Estimate Std. Error t value Pr(>|t|)    \n",
              "(Intercept) 213.8029    19.0882  11.201  < 2e-16 ***\n",
              "age           0.9944     0.3192   3.115 0.002016 ** \n",
              "sex         -20.8026     6.1641  -3.375 0.000837 ***\n",
              "restecg     -13.7265     5.4752  -2.507 0.012707 *  \n",
              "---\n",
              "Signif. codes:  0 '***' 0.001 '**' 0.01 '*' 0.05 '.' 0.1 ' ' 1\n",
              "\n",
              "Residual standard error: 49.53 on 298 degrees of freedom\n",
              "Multiple R-squared:  0.09328,\tAdjusted R-squared:  0.08415 \n",
              "F-statistic: 10.22 on 3 and 298 DF,  p-value: 2.004e-06\n"
            ]
          },
          "metadata": {},
          "output_type": "display_data"
        }
      ],
      "source": [
        "# Define the null model (intercept only)\n",
        "null_model <- lm(chol ~ 1, data = heart_data)\n",
        "\n",
        "# Perform forward selection\n",
        "forward_model <- step(null_model, scope = list(lower = null_model, upper = full_model), direction = \"forward\")\n",
        "summary(forward_model)"
      ]
    },
    {
      "cell_type": "markdown",
      "metadata": {},
      "source": [
        "**Interpretation**\n",
        "\n",
        "- **Model Fit**: Both approaches converge to the same final model: `chol ~ age + sex + restecg`.\n",
        "- **Coefficients**: The coefficients and their significance levels are identical in both models.\n",
        "- **AIC**: The AIC value is the same (2361.11) for the final model in both approaches.\n",
        "- **Predictive Power**: The R-squared value (0.09328) indicates that the model explains about 9.33% of the variability in `chol`, which is relatively low.\n",
        "- **Significance**:\n",
        "  - `age` and `sex` are highly significant predictors.\n",
        "  - `restecg` is also a significant predictor, but with a slightly higher p-value.\n",
        "\n",
        "Both stepwise selection approaches lead to the same final model. This model suggests that `age`, `sex`, and `restecg` are significant predictors of cholesterol levels (`chol`). However, the overall fit of the model is modest, indicating that there may be other important predictors not included in the model."
      ]
    },
    {
      "cell_type": "markdown",
      "metadata": {},
      "source": [
        "##### <span style='color:#3498DB; font-family: \"Helvetica\", Arial, sans-serif; font-size: 1.2em; font-weight: bold;'>Part E:</span>\n",
        "\n",
        "<span style='font-family: \"Segoe UI\", Tahoma, Geneva, Verdana, sans-serif; font-size: 1.2em; font-weight: bold;'>\n",
        "     Use 5-fold cross-validation and compare the model’s RMSE (part B and \n",
        "C). How do you interpret these values? \n",
        "</span>\n",
        "\n",
        "\n"
      ]
    },
    {
      "cell_type": "code",
      "execution_count": 43,
      "metadata": {
        "vscode": {
          "languageId": "r"
        }
      },
      "outputs": [
        {
          "name": "stdout",
          "output_type": "stream",
          "text": [
            "Model A RMSE: 49.71638 \n",
            "Model B RMSE: 49.53163 \n"
          ]
        }
      ],
      "source": [
        "# Set seed for reproducibility\n",
        "set.seed(42)\n",
        "\n",
        "# Prepare the data\n",
        "data <- heart_data %>%\n",
        "  dplyr::select(chol, age, trestbps, restecg, sex)\n",
        "\n",
        "# Define the models\n",
        "model_a <- chol ~ age + trestbps + restecg + sex\n",
        "model_b <- chol ~ age + sex + restecg\n",
        "\n",
        "# Set up 5-fold cross-validation\n",
        "train_control <- trainControl(method = \"cv\", number = 5)\n",
        "\n",
        "# Train model A using 5-fold cross-validation\n",
        "model_a_cv <- train(model_a, data = data, method = \"lm\", trControl = train_control, metric = \"RMSE\")\n",
        "\n",
        "# Train model B using 5-fold cross-validation\n",
        "model_b_cv <- train(model_b, data = data, method = \"lm\", trControl = train_control, metric = \"RMSE\")\n",
        "\n",
        "# Extract the RMSE for each model\n",
        "rmse_a <- model_a_cv$results$RMSE\n",
        "rmse_b <- model_b_cv$results$RMSE\n",
        "\n",
        "# Print the RMSE for each model\n",
        "cat(\"Model A RMSE:\", rmse_a, \"\\n\")\n",
        "cat(\"Model B RMSE:\", rmse_b, \"\\n\")"
      ]
    },
    {
      "cell_type": "markdown",
      "metadata": {},
      "source": [
        "Based on the results from the 5-fold cross-validation:\n",
        "\n",
        "- **Model A** (which includes age, trestbps, restecg, and sex) has an RMSE of 49.71638.\n",
        "- **Model B** (which includes age, restecg, and sex) has an RMSE of 49.53163.\n",
        "\n",
        "Both models have similar RMSE values, indicating their performance is quite close. However, Model B has a slightly lower RMSE than Model A. This means that Model B, which uses fewer predictors (excluding trestbps), has a marginally better predictive accuracy for cholesterol levels in this dataset."
      ]
    },
    {
      "cell_type": "markdown",
      "metadata": {},
      "source": [
        "##### <span style='color:#3498DB; font-family: \"Helvetica\", Arial, sans-serif; font-size: 1.2em; font-weight: bold;'>Part F:</span>\n",
        "\n",
        "<span style='font-family: \"Segoe UI\", Tahoma, Geneva, Verdana, sans-serif; font-size: 1.2em; font-weight: bold;'>\n",
        "     Check  diagnostics  for  your  model  in  part  C  (Three  conditions:  1. \n",
        "Linearity,  2.  Nearly  normal  residuals,  and  3.  Constant  variability)  and \n",
        "explain if this is a reliable model or not.\n",
        "</span>\n",
        "\n",
        "\n"
      ]
    },
    {
      "cell_type": "code",
      "execution_count": 48,
      "metadata": {
        "vscode": {
          "languageId": "r"
        }
      },
      "outputs": [
        {
          "name": "stderr",
          "output_type": "stream",
          "text": [
            "Warning message in rlm.default(x, y, weights, method = method, wt.method = wt.method, :\n",
            "\"'rlm' failed to converge in 20 steps\"\n"
          ]
        },
        {
          "data": {
            "image/png": "[encoded data removed]",
            "text/plain": [
              "Plot with title \"Residuals vs Fitted\""
            ]
          },
          "metadata": {
            "image/png": {
              "height": 420,
              "width": 420
            }
          },
          "output_type": "display_data"
        },
        {
          "data": {
            "text/html": [
              "<style>\n",
              ".dl-inline {width: auto; margin:0; padding: 0}\n",
              ".dl-inline>dt, .dl-inline>dd {float: none; width: auto; display: inline-block}\n",
              ".dl-inline>dt::after {content: \":\\0020\"; padding-right: .5ex}\n",
              ".dl-inline>dt:not(:first-of-type) {padding-left: .5ex}\n",
              "</style><dl class=dl-inline><dt>159</dt><dd>129</dd><dt>180</dt><dd>145</dd></dl>\n"
            ],
            "text/latex": [
              "\\begin{description*}\n",
              "\\item[159] 129\n",
              "\\item[180] 145\n",
              "\\end{description*}\n"
            ],
            "text/markdown": [
              "159\n",
              ":   129180\n",
              ":   145\n",
              "\n"
            ],
            "text/plain": [
              "159 180 \n",
              "129 145 "
            ]
          },
          "metadata": {},
          "output_type": "display_data"
        },
        {
          "data": {
            "image/png": "[encoded data removed]",
            "text/plain": [
              "Plot with title \"Q-Q Plot\""
            ]
          },
          "metadata": {
            "image/png": {
              "height": 420,
              "width": 420
            }
          },
          "output_type": "display_data"
        },
        {
          "data": {
            "image/png": "[encoded data removed]",
            "text/plain": [
              "Plot with title \"Scale-Location Plot\""
            ]
          },
          "metadata": {
            "image/png": {
              "height": 420,
              "width": 420
            }
          },
          "output_type": "display_data"
        }
      ],
      "source": [
        "# Fit the full model\n",
        "model_a <- lm(chol ~ age + trestbps + restecg + sex, data = heart_data)\n",
        "\n",
        "# 1. Linearity: Plot residuals vs. fitted values\n",
        "plot(model_a, which = 1, main = \"Residuals vs Fitted\")\n",
        "\n",
        "# 2. Nearly normal residuals: Plot histogram of residuals and Q-Q plot\n",
        "par(mfrow = c(1, 2))\n",
        "hist(residuals(model_a), main = \"Histogram of Residuals\", xlab = \"Residuals\")\n",
        "qqPlot(model_a, main = \"Q-Q Plot\")\n",
        "\n",
        "# 3. Constant variability: Plot scale-location plot\n",
        "plot(model_a, which = 3, main = \"Scale-Location Plot\")\n",
        "\n",
        "# Reset plotting layout\n",
        "par(mfrow = c(1, 1))"
      ]
    },
    {
      "cell_type": "markdown",
      "metadata": {},
      "source": [
        "- **Linearity**: The model seems to meet the linearity condition because the residuals vs. fitted values plot does not show any clear pattern.\n",
        "\n",
        "- **Normality of Residuals**: The residuals look roughly normally distributed with some minor differences.\n",
        "\n",
        "- **Constant Variability**: The residuals have about the same spread across all fitted values, with only small differences."
      ]
    },
    {
      "cell_type": "markdown",
      "metadata": {},
      "source": [
        "##### <span style='color:#3498DB; font-family: \"Helvetica\", Arial, sans-serif; font-size: 1.2em; font-weight: bold;'>Part G:</span>\n",
        "\n",
        "<span style='font-family: \"Segoe UI\", Tahoma, Geneva, Verdana, sans-serif; font-size: 1.2em; font-weight: bold;'>\n",
        "     What percent of the variation in the response variable is explained by \n",
        "the model (part B and C)?\n",
        "</span>\n",
        "\n",
        "\n"
      ]
    },
    {
      "cell_type": "code",
      "execution_count": 50,
      "metadata": {
        "vscode": {
          "languageId": "r"
        }
      },
      "outputs": [
        {
          "name": "stdout",
          "output_type": "stream",
          "text": [
            "Model A R-squared: 0.09593122 \n",
            "Model B R-squared: 0.09328224 \n",
            "Model A explains 9.593122 % of the variation in the response variable.\n",
            "Model B explains 9.328224 % of the variation in the response variable.\n"
          ]
        }
      ],
      "source": [
        "# Load necessary libraries\n",
        "library(dplyr)\n",
        "\n",
        "# Fit Model A\n",
        "model_a <- lm(chol ~ age + trestbps + restecg + sex, data = heart_data)\n",
        "\n",
        "# Fit Model B\n",
        "model_b <- lm(chol ~ age + sex + restecg, data = heart_data)\n",
        "\n",
        "# Get R-squared values\n",
        "r_squared_a <- summary(model_a)$r.squared\n",
        "r_squared_b <- summary(model_b)$r.squared\n",
        "\n",
        "# Print R-squared values\n",
        "cat(\"Model A R-squared:\", r_squared_a, \"\\n\")\n",
        "cat(\"Model B R-squared:\", r_squared_b, \"\\n\")\n",
        "\n",
        "# Convert R-squared to percentage\n",
        "percent_explained_a <- r_squared_a * 100\n",
        "percent_explained_b <- r_squared_b * 100\n",
        "\n",
        "# Print percentages\n",
        "cat(\"Model A explains\", percent_explained_a, \"% of the variation in the response variable.\\n\")\n",
        "cat(\"Model B explains\", percent_explained_b, \"% of the variation in the response variable.\\n\")"
      ]
    },
    {
      "cell_type": "markdown",
      "metadata": {},
      "source": [
        "**Model A explains about 9.59% of the variation in cholesterol levels. Model B explains about 9.33% of the variation in cholesterol levels. Both models explain a similar amount of variation, with Model A being slightly better.**"
      ]
    },
    {
      "cell_type": "markdown",
      "metadata": {},
      "source": [
        "<hr>"
      ]
    },
    {
      "cell_type": "markdown",
      "metadata": {},
      "source": [
        "### <span style='color:#2ECC71; font-family: \"Arial\", sans-serif; font-size: 1.3em; font-weight: bold;'>Question 6</span>\n",
        "\n",
        "<span style='font-family: \"Segoe UI\", Tahoma, Geneva, Verdana, sans-serif; font-size: 1.2em; font-weight: bold;'>\n",
        "Choose a binary categorical variable from your dataset as a response variable \n",
        "and choose several categorical and numerical variables which you think can \n",
        "best explain the response variable. \n",
        "</span>"
      ]
    },
    {
      "cell_type": "markdown",
      "metadata": {},
      "source": [
        "#### <span style='color:#E74C3C; font-family: \"Arial\", sans-serif; font-size: 1.1em; font-weight: bold;'>Answer</span>"
      ]
    },
    {
      "cell_type": "markdown",
      "metadata": {},
      "source": [
        "I choose `target` column as binary categorical feature."
      ]
    },
    {
      "cell_type": "markdown",
      "metadata": {},
      "source": [
        "##### <span style='color:#3498DB; font-family: \"Helvetica\", Arial, sans-serif; font-size: 1.2em; font-weight: bold;'>Part A:</span>\n",
        "\n",
        "<span style='font-family: \"Segoe UI\", Tahoma, Geneva, Verdana, sans-serif; font-size: 1.2em; font-weight: bold;'>\n",
        "     Construct  a  logistic  regression  model  and  interpret  the  intercept  and \n",
        "the slopes in terms of log odds and log odds ratio.\n",
        "</span>\n",
        "\n",
        "\n"
      ]
    },
    {
      "cell_type": "code",
      "execution_count": 55,
      "metadata": {
        "vscode": {
          "languageId": "r"
        }
      },
      "outputs": [
        {
          "data": {
            "image/png": "[encoded data removed]",
            "text/plain": [
              "Plot with title \"\""
            ]
          },
          "metadata": {
            "image/png": {
              "height": 420,
              "width": 420
            }
          },
          "output_type": "display_data"
        }
      ],
      "source": [
        "# Calculate the correlation matrix\n",
        "cor_matrix <- cor(heart_data, use = \"complete.obs\")\n",
        "\n",
        "# Plot the correlation matrix\n",
        "corrplot(cor_matrix, method = \"color\", type = \"upper\", tl.cex = 0.7, number.cex = 0.7, addCoef.col = \"black\")"
      ]
    },
    {
      "cell_type": "markdown",
      "metadata": {},
      "source": [
        "**Based on above correlation matrix :**\n",
        "\n",
        "*I choose these variables (that have high `corr` (positive or negative)) :*\n",
        "\n",
        "- `cp`\n",
        "- `thalach`\n",
        "- `exang`\n",
        "- `oldpeak`\n",
        "- `slope`\n",
        "- `ca`\n",
        "- `thal`\n"
      ]
    },
    {
      "cell_type": "code",
      "execution_count": 57,
      "metadata": {
        "vscode": {
          "languageId": "r"
        }
      },
      "outputs": [
        {
          "data": {
            "text/plain": [
              "\n",
              "Call:\n",
              "glm(formula = formula, family = binomial, data = heart_data)\n",
              "\n",
              "Coefficients:\n",
              "             Estimate Std. Error z value Pr(>|z|)    \n",
              "(Intercept)  0.269009   1.419246   0.190 0.849667    \n",
              "cp           0.742332   0.173198   4.286 1.82e-05 ***\n",
              "thalach      0.016292   0.008474   1.923 0.054534 .  \n",
              "exang       -1.024624   0.379585  -2.699 0.006948 ** \n",
              "oldpeak     -0.637511   0.206251  -3.091 0.001995 ** \n",
              "slope        0.480563   0.329745   1.457 0.145012    \n",
              "ca          -0.866477   0.188250  -4.603 4.17e-06 ***\n",
              "thal        -1.045664   0.275352  -3.798 0.000146 ***\n",
              "---\n",
              "Signif. codes:  0 '***' 0.001 '**' 0.01 '*' 0.05 '.' 0.1 ' ' 1\n",
              "\n",
              "(Dispersion parameter for binomial family taken to be 1)\n",
              "\n",
              "    Null deviance: 416.42  on 301  degrees of freedom\n",
              "Residual deviance: 232.90  on 294  degrees of freedom\n",
              "AIC: 248.9\n",
              "\n",
              "Number of Fisher Scoring iterations: 5\n"
            ]
          },
          "metadata": {},
          "output_type": "display_data"
        }
      ],
      "source": [
        "# Create formula for the model using selected features\n",
        "selected_features <- c(\"cp\", \"thalach\", \"exang\", \"oldpeak\", \"slope\", \"ca\", \"thal\")\n",
        "formula <- as.formula(paste(\"target ~\", paste(selected_features, collapse = \" + \")))\n",
        "\n",
        "# Fit the logistic regression model\n",
        "final_model <- glm(formula, data = heart_data, family = binomial)\n",
        "\n",
        "# Summary of the final model\n",
        "summary(final_model)"
      ]
    },
    {
      "cell_type": "markdown",
      "metadata": {},
      "source": [
        "$\\log\\left(\\frac{P(Y=1)}{P(Y=0)}\\right) = \\beta_0 + \\beta_1 X_1 + \\beta_2 X_2 + \\cdots + \\beta_k X_k$\n",
        "\n",
        "**Intercept $\\beta_0$**\n",
        "\n",
        "The intercept $\\beta_0 = 0.269009$ represents the log odds of the target variable being 1 when all predictor variables are zero. In terms of odds, it means:\n",
        "\n",
        "$\\text{Odds} = e^{\\beta_0} = e^{0.269009} \\approx 1.308$\n",
        "\n",
        "This indicates that when all predictor variables are zero, the odds of the target being 1 are approximately 1.308 to 1.\n",
        "\n",
        "**Coefficients (Slopes)**\n",
        "\n",
        "Each coefficient represents the change in the log odds of the target variable being 1 for a one-unit increase in the predictor variable, holding all other variables constant.\n",
        "\n",
        "**$\\beta_1$ (cp)**\n",
        "\n",
        "$\\beta_1 = 0.742332$\n",
        "\n",
        "For each one-unit increase in `cp`, the log odds of the target variable being 1 increases by 0.742332. In terms of odds ratio:\n",
        "\n",
        "$\\text{Odds Ratio} = e^{0.742332} \\approx 2.100$\n",
        "\n",
        "This means that for each one-unit increase in `cp`, the odds of the target being 1 are approximately 2.1 times higher, holding all other variables constant.\n",
        "\n",
        "**$\\beta_2$ (thalach)**\n",
        "\n",
        "$\\beta_2 = 0.016292$\n",
        "\n",
        "For each one-unit increase in `thalach`, the log odds of the target variable being 1 increases by 0.016292. In terms of odds ratio:\n",
        "\n",
        "$\\text{Odds Ratio} = e^{0.016292} \\approx 1.016$\n",
        "\n",
        "This means that for each one-unit increase in `thalach`, the odds of the target being 1 are approximately 1.016 times higher, holding all other variables constant.\n",
        "\n",
        "**$\\beta_3$ (exang)**\n",
        "\n",
        "$\\beta_3 = -1.024624$\n",
        "\n",
        "For each one-unit increase in `exang`, the log odds of the target variable being 1 decreases by 1.024624. In terms of odds ratio:\n",
        "\n",
        "$\\text{Odds Ratio} = e^{-1.024624} \\approx 0.359$\n",
        "\n",
        "This means that for each one-unit increase in `exang`, the odds of the target being 1 are approximately 0.359 times lower (or 64.1% lower), holding all other variables constant.\n",
        "\n",
        "**$\\beta_4$ (oldpeak)**\n",
        "\n",
        "$\\beta_4 = -0.637511$\n",
        "\n",
        "For each one-unit increase in `oldpeak`, the log odds of the target variable being 1 decreases by 0.637511. In terms of odds ratio:\n",
        "\n",
        "$\\text{Odds Ratio} = e^{-0.637511} \\approx 0.529$\n",
        "\n",
        "This means that for each one-unit increase in `oldpeak`, the odds of the target being 1 are approximately 0.529 times lower (or 47.1% lower), holding all other variables constant.\n",
        "\n",
        "**$\\beta_5$ (slope)**\n",
        "\n",
        "$\\beta_5 = 0.480563$\n",
        "\n",
        "For each one-unit increase in `slope`, the log odds of the target variable being 1 increases by 0.480563. In terms of odds ratio:\n",
        "\n",
        "$\\text{Odds Ratio} = e^{0.480563} \\approx 1.617$\n",
        "\n",
        "This means that for each one-unit increase in `slope`, the odds of the target being 1 are approximately 1.617 times higher, holding all other variables constant.\n",
        "\n",
        "**$\\beta_6$ (ca)**\n",
        "\n",
        "$\\beta_6 = -0.866477$\n",
        "\n",
        "For each one-unit increase in `ca`, the log odds of the target variable being 1 decreases by 0.866477. In terms of odds ratio:\n",
        "\n",
        "$\\text{Odds Ratio} = e^{-0.866477} \\approx 0.420$\n",
        "\n",
        "This means that for each one-unit increase in `ca`, the odds of the target being 1 are approximately 0.420 times lower (or 58% lower), holding all other variables constant.\n",
        "\n",
        "**$\\beta_7$ (thal)**\n",
        "\n",
        "$\\beta_7 = -1.045664$\n",
        "\n",
        "For each one-unit increase in `thal`, the log odds of the target variable being 1 decreases by 1.045664. In terms of odds ratio:\n",
        "\n",
        "$\\text{Odds Ratio} = e^{-1.045664} \\approx 0.352$\n",
        "\n",
        "This means that for each one-unit increase in `thal`, the odds of the target being 1 are approximately 0.352 times lower (or 64.8% lower), holding all other variables constant.\n",
        "\n",
        "\n",
        "**The significance of each coefficient is indicated by its p-value. For example, `cp`, `exang`, `oldpeak`, `ca`, and `thal` have significant effects on the log odds of the target variable, while `thalach` and `slope` are less significant.**"
      ]
    },
    {
      "cell_type": "markdown",
      "metadata": {},
      "source": [
        "##### <span style='color:#3498DB; font-family: \"Helvetica\", Arial, sans-serif; font-size: 1.2em; font-weight: bold;'>Part B:</span>\n",
        "\n",
        "<span style='font-family: \"Segoe UI\", Tahoma, Geneva, Verdana, sans-serif; font-size: 1.2em; font-weight: bold;'>\n",
        "     Draw  the  ROC  curve  for  the  model.  What  does  this  diagram  signify? \n",
        "Discuss the goodness of the model based on the AUC.\n",
        "</span>\n",
        "\n",
        "\n"
      ]
    },
    {
      "cell_type": "code",
      "execution_count": 63,
      "metadata": {
        "vscode": {
          "languageId": "r"
        }
      },
      "outputs": [
        {
          "name": "stderr",
          "output_type": "stream",
          "text": [
            "Setting levels: control = 0, case = 1\n",
            "\n",
            "Setting direction: controls < cases\n",
            "\n"
          ]
        },
        {
          "data": {
            "image/png": "[encoded data removed]",
            "text/plain": [
              "Plot with title \"ROC Curve\""
            ]
          },
          "metadata": {
            "image/png": {
              "height": 420,
              "width": 420
            }
          },
          "output_type": "display_data"
        }
      ],
      "source": [
        "# Convert target variable to a factor\n",
        "heart_data$target <- as.factor(heart_data$target)\n",
        "\n",
        "# Selected features\n",
        "selected_features <- c(\"cp\", \"thalach\", \"exang\", \"oldpeak\", \"slope\", \"ca\", \"thal\")\n",
        "\n",
        "# Create formula for the model using selected features\n",
        "formula <- as.formula(paste(\"target ~\", paste(selected_features, collapse = \" + \")))\n",
        "\n",
        "# Fit the logistic regression model on the entire dataset\n",
        "final_model <- glm(formula, data = heart_data, family = binomial)\n",
        "\n",
        "# Predict probabilities on the entire dataset\n",
        "pred_probs <- predict(final_model, newdata = heart_data, type = \"response\")\n",
        "\n",
        "# Create the ROC curve\n",
        "roc_curve <- roc(heart_data$target, pred_probs)\n",
        "\n",
        "# Plot the ROC curve\n",
        "plot(roc_curve, main=\"ROC Curve\", col=\"blue\", lwd=2)\n",
        "abline(a=0, b=1, lty=2, col=\"red\")\n",
        "\n",
        "# Add AUC to the plot\n",
        "auc_value <- auc(roc_curve)\n",
        "legend(\"bottomright\", legend=paste(\"AUC =\", round(auc_value, 2)), col=\"blue\", lwd=2)"
      ]
    },
    {
      "cell_type": "markdown",
      "metadata": {},
      "source": [
        "**Based on the ROC curve and the AUC value of 0.9, we can conclude that the logistic regression model is very good at distinguishing between the positive and negative classes in this dataset. This indicates a high level of accuracy and reliability in the model's predictions.**"
      ]
    },
    {
      "cell_type": "markdown",
      "metadata": {},
      "source": [
        "##### <span style='color:#3498DB; font-family: \"Helvetica\", Arial, sans-serif; font-size: 1.2em; font-weight: bold;'>Part C:</span>\n",
        "\n",
        "<span style='font-family: \"Segoe UI\", Tahoma, Geneva, Verdana, sans-serif; font-size: 1.2em; font-weight: bold;'>\n",
        "     Choose  a  categorical  variable  in  your  model  among  the  explanatory \n",
        "variables  and  plot  the  odds  ratio  curve  for  that  variable.  Interpret  the \n",
        "plot.\n",
        "</span>\n",
        "\n",
        "\n"
      ]
    },
    {
      "cell_type": "markdown",
      "metadata": {},
      "source": [
        "I choose `cp`"
      ]
    },
    {
      "cell_type": "code",
      "execution_count": 69,
      "metadata": {
        "vscode": {
          "languageId": "r"
        }
      },
      "outputs": [
        {
          "data": {
            "text/plain": [
              "\n",
              "Call:\n",
              "glm(formula = formula, family = binomial, data = heart_data)\n",
              "\n",
              "Coefficients:\n",
              "             Estimate Std. Error z value Pr(>|z|)    \n",
              "(Intercept)  0.146022   1.427263   0.102 0.918511    \n",
              "cp1          1.149006   0.509655   2.254 0.024166 *  \n",
              "cp2          1.845598   0.424801   4.345 1.40e-05 ***\n",
              "cp3          1.651674   0.603384   2.737 0.006194 ** \n",
              "thalach      0.015311   0.008556   1.790 0.073530 .  \n",
              "exang       -0.946358   0.385319  -2.456 0.014048 *  \n",
              "oldpeak     -0.570725   0.212653  -2.684 0.007278 ** \n",
              "slope        0.506652   0.334284   1.516 0.129613    \n",
              "ca          -0.877836   0.189405  -4.635 3.57e-06 ***\n",
              "thal        -1.026805   0.275825  -3.723 0.000197 ***\n",
              "---\n",
              "Signif. codes:  0 '***' 0.001 '**' 0.01 '*' 0.05 '.' 0.1 ' ' 1\n",
              "\n",
              "(Dispersion parameter for binomial family taken to be 1)\n",
              "\n",
              "    Null deviance: 416.42  on 301  degrees of freedom\n",
              "Residual deviance: 230.11  on 292  degrees of freedom\n",
              "AIC: 250.11\n",
              "\n",
              "Number of Fisher Scoring iterations: 5\n"
            ]
          },
          "metadata": {},
          "output_type": "display_data"
        },
        {
          "name": "stderr",
          "output_type": "stream",
          "text": [
            "Waiting for profiling to be done...\n",
            "\n"
          ]
        },
        {
          "name": "stdout",
          "output_type": "stream",
          "text": [
            "    cp odds_ratio lower_ci upper_ci\n",
            "cp1  1   3.155056 1.192399  8.94744\n",
            "cp2  2   6.331885 2.816847 15.02895\n",
            "cp3  3   5.215706 1.662750 18.14936\n"
          ]
        },
        {
          "data": {
            "image/png": "[encoded data removed]",
            "text/plain": [
              "plot without title"
            ]
          },
          "metadata": {
            "image/png": {
              "height": 420,
              "width": 420
            }
          },
          "output_type": "display_data"
        }
      ],
      "source": [
        "# Convert target variable to a factor\n",
        "heart_data$target <- as.factor(heart_data$target)\n",
        "heart_data$cp <- as.factor(heart_data$cp)  \n",
        "\n",
        "# Selected features\n",
        "selected_features <- c(\"cp\", \"thalach\", \"exang\", \"oldpeak\", \"slope\", \"ca\", \"thal\")\n",
        "\n",
        "# Create formula for the model using selected features\n",
        "formula <- as.formula(paste(\"target ~\", paste(selected_features, collapse = \" + \")))\n",
        "\n",
        "# Fit the logistic regression model on the entire dataset\n",
        "final_model <- glm(formula, data = heart_data, family = binomial)\n",
        "\n",
        "# Summary of the model\n",
        "summary(final_model)\n",
        "\n",
        "# Extract coefficients for each level of cp\n",
        "coefficients <- coef(summary(final_model))\n",
        "coeff_names <- rownames(coefficients)\n",
        "\n",
        "# Extract relevant coefficients and confidence intervals for cp levels\n",
        "cp_coeffs <- coefficients[grep(\"cp\", coeff_names), \"Estimate\"]\n",
        "cp_conf_int <- confint(final_model, parm = grep(\"cp\", coeff_names))\n",
        "\n",
        "# Calculate odds ratios and confidence intervals for each level of cp\n",
        "odds_ratios <- exp(cp_coeffs)\n",
        "conf_int <- exp(cp_conf_int)\n",
        "\n",
        "# Create a data frame for plotting\n",
        "cp_plot_data <- data.frame(\n",
        "  cp = levels(heart_data$cp)[-1],  # Exclude the reference level\n",
        "  odds_ratio = odds_ratios,\n",
        "  lower_ci = conf_int[, 1],\n",
        "  upper_ci = conf_int[, 2]\n",
        ")\n",
        "\n",
        "# Print the odds ratios and confidence intervals\n",
        "print(cp_plot_data)\n",
        "\n",
        "# Plot the odds ratio curve with customization to mimic the example plot\n",
        "ggplot(cp_plot_data, aes(x = cp, y = odds_ratio)) +\n",
        "  geom_point(size = 3, color = \"red\") +\n",
        "  geom_errorbar(aes(ymin = lower_ci, ymax = upper_ci), width = 0.2, color = \"red\") +\n",
        "  labs(title = \"Odds Ratio (OR) Curve for Chest Pain Type (cp)\",\n",
        "       x = \"Chest Pain Type\",\n",
        "       y = \"P(Heart Disease | Chest Pain Type)\") +\n",
        "  scale_y_continuous(trans = 'log10', limits = c(0.1, 10), breaks = c(0.1, 0.5, 1, 2, 5, 10), labels = scales::percent_format()) +\n",
        "  scale_x_discrete(labels = levels(heart_data$cp)[-1]) +\n",
        "  theme_minimal() +\n",
        "  theme(plot.title = element_text(hjust = 0.5))"
      ]
    },
    {
      "cell_type": "markdown",
      "metadata": {},
      "source": [
        "The plot shows the odds ratios for different types of chest pain (`cp`) compared to the reference type (not shown). The red dots represent the odds ratios, and the error bars show the 95% confidence intervals.\n",
        "\n",
        "- Type 1 chest pain has a high odds ratio with wide confidence intervals, indicating a significant but uncertain increase in the risk of heart disease.\n",
        "- Type 2 chest pain has a higher and more certain increase in the risk of heart disease.\n",
        "- Type 3 chest pain also has an increased risk with a reliable confidence interval.\n",
        "\n",
        "Overall, these chest pain types are associated with a higher risk of heart disease compared to the reference type."
      ]
    },
    {
      "cell_type": "markdown",
      "metadata": {},
      "source": [
        "##### <span style='color:#3498DB; font-family: \"Helvetica\", Arial, sans-serif; font-size: 1.2em; font-weight: bold;'>Part D:</span>\n",
        "\n",
        "<span style='font-family: \"Segoe UI\", Tahoma, Geneva, Verdana, sans-serif; font-size: 1.2em; font-weight: bold;'>\n",
        "     Calculate a 95% confidence interval for the odds ratio\n",
        "</span>\n",
        "\n",
        "\n"
      ]
    },
    {
      "cell_type": "code",
      "execution_count": 70,
      "metadata": {
        "vscode": {
          "languageId": "r"
        }
      },
      "outputs": [
        {
          "name": "stdout",
          "output_type": "stream",
          "text": [
            "    cp odds_ratio lower_ci upper_ci\n",
            "cp1  1   3.155056 1.192399  8.94744\n",
            "cp2  2   6.331885 2.816847 15.02895\n",
            "cp3  3   5.215706 1.662750 18.14936\n"
          ]
        }
      ],
      "source": [
        "print(cp_plot_data)"
      ]
    },
    {
      "cell_type": "markdown",
      "metadata": {},
      "source": [
        "**For chest pain type 1 (cp1), the odds of having heart disease are about 3.16 times higher, with a 95% confidence interval from 1.19 to 8.95. For chest pain type 2 (cp2), the odds are about 6.33 times higher, with a confidence interval from 2.82 to 15.03. For chest pain type 3 (cp3), the odds are about 5.22 times higher, with a confidence interval from 1.66 to 18.15. This means all three types of chest pain significantly increase the risk of heart disease compared to the reference type.**"
      ]
    },
    {
      "cell_type": "markdown",
      "metadata": {},
      "source": [
        "<hr>"
      ]
    },
    {
      "cell_type": "markdown",
      "metadata": {},
      "source": [
        "### <span style='color:#2ECC71; font-family: \"Arial\", sans-serif; font-size: 1.3em; font-weight: bold;'>Question 7</span>\n",
        "\n",
        "<span style='font-family: \"Segoe UI\", Tahoma, Geneva, Verdana, sans-serif; font-size: 1.2em; font-weight: bold;'>\n",
        "Please answer the following questions in respect to the model in the previous \n",
        "question. \n",
        "</span>"
      ]
    },
    {
      "cell_type": "markdown",
      "metadata": {},
      "source": [
        "#### <span style='color:#E74C3C; font-family: \"Arial\", sans-serif; font-size: 1.1em; font-weight: bold;'>Answer</span>"
      ]
    },
    {
      "cell_type": "markdown",
      "metadata": {},
      "source": [
        "##### <span style='color:#3498DB; font-family: \"Helvetica\", Arial, sans-serif; font-size: 1.2em; font-weight: bold;'>Part A:</span>\n",
        "\n",
        "<span style='font-family: \"Segoe UI\", Tahoma, Geneva, Verdana, sans-serif; font-size: 1.2em; font-weight: bold;'>\n",
        "     Which explanatory variable in the model plays the most significant role \n",
        "in the prediction? Why?\n",
        "</span>\n",
        "\n",
        "\n"
      ]
    },
    {
      "cell_type": "markdown",
      "metadata": {},
      "source": [
        "**Chest pain type (`cp`)** is the most important predictor of heart disease in the model because it has a very low p-value and high odds ratios. This means different types of chest pain are strongly linked to the risk of heart disease, making `cp` a key factor in predicting heart disease."
      ]
    },
    {
      "cell_type": "markdown",
      "metadata": {},
      "source": [
        "##### <span style='color:#3498DB; font-family: \"Helvetica\", Arial, sans-serif; font-size: 1.2em; font-weight: bold;'>Part B:</span>\n",
        "\n",
        "<span style='font-family: \"Segoe UI\", Tahoma, Geneva, Verdana, sans-serif; font-size: 1.2em; font-weight: bold;'>\n",
        "     Select another categorical variable except the response variable from \n",
        "the model, draw the OR (odd ratio) curve for this categorical variable \n",
        "and interpret the plot.\n",
        "</span>\n",
        "\n",
        "\n"
      ]
    },
    {
      "cell_type": "markdown",
      "metadata": {},
      "source": [
        "I select `slope`"
      ]
    },
    {
      "cell_type": "code",
      "execution_count": 77,
      "metadata": {
        "vscode": {
          "languageId": "r"
        }
      },
      "outputs": [
        {
          "data": {
            "text/plain": [
              "\n",
              "Call:\n",
              "glm(formula = formula, family = binomial, data = heart_data)\n",
              "\n",
              "Coefficients:\n",
              "             Estimate Std. Error z value Pr(>|z|)    \n",
              "(Intercept) -1.357974   2.509726  -0.541   0.5884    \n",
              "cp1          0.932390   0.537830   1.734   0.0830 .  \n",
              "cp2          1.772088   0.446167   3.972 7.13e-05 ***\n",
              "cp3          1.502482   0.607714   2.472   0.0134 *  \n",
              "thalach      0.010791   0.009122   1.183   0.2368    \n",
              "exang       -0.803640   0.403948  -1.989   0.0466 *  \n",
              "oldpeak     -0.546398   0.220292  -2.480   0.0131 *  \n",
              "slope1      -0.708870   0.801975  -0.884   0.3767    \n",
              "slope2       0.078514   0.874698   0.090   0.9285    \n",
              "ca          -0.882737   0.202356  -4.362 1.29e-05 ***\n",
              "thal1        0.950637   2.099369   0.453   0.6507    \n",
              "thal2        1.605213   2.011930   0.798   0.4250    \n",
              "thal3       -0.221276   2.013028  -0.110   0.9125    \n",
              "---\n",
              "Signif. codes:  0 '***' 0.001 '**' 0.01 '*' 0.05 '.' 0.1 ' ' 1\n",
              "\n",
              "(Dispersion parameter for binomial family taken to be 1)\n",
              "\n",
              "    Null deviance: 416.42  on 301  degrees of freedom\n",
              "Residual deviance: 215.90  on 289  degrees of freedom\n",
              "AIC: 241.9\n",
              "\n",
              "Number of Fisher Scoring iterations: 6\n"
            ]
          },
          "metadata": {},
          "output_type": "display_data"
        },
        {
          "name": "stderr",
          "output_type": "stream",
          "text": [
            "Waiting for profiling to be done...\n",
            "\n"
          ]
        },
        {
          "data": {
            "text/html": [
              "3"
            ],
            "text/latex": [
              "3"
            ],
            "text/markdown": [
              "3"
            ],
            "text/plain": [
              "[1] 3"
            ]
          },
          "metadata": {},
          "output_type": "display_data"
        },
        {
          "data": {
            "text/html": [
              "2"
            ],
            "text/latex": [
              "2"
            ],
            "text/markdown": [
              "2"
            ],
            "text/plain": [
              "[1] 2"
            ]
          },
          "metadata": {},
          "output_type": "display_data"
        },
        {
          "name": "stdout",
          "output_type": "stream",
          "text": [
            "       slope odds_ratio   lower_ci upper_ci\n",
            "slope1     1  0.4921999 0.09844912 2.287173\n",
            "slope2     2  1.0816783 0.18398218 5.707837\n"
          ]
        },
        {
          "data": {
            "image/png": "[encoded data removed]",
            "text/plain": [
              "plot without title"
            ]
          },
          "metadata": {
            "image/png": {
              "height": 420,
              "width": 420
            }
          },
          "output_type": "display_data"
        }
      ],
      "source": [
        "# Convert target and `slope` variable to factors\n",
        "heart_data$target <- as.factor(heart_data$target)\n",
        "heart_data$slope <- as.factor(heart_data$slope)\n",
        "\n",
        "# Selected features\n",
        "selected_features <- c(\"cp\", \"thalach\", \"exang\", \"oldpeak\", \"slope\", \"ca\", \"thal\")\n",
        "\n",
        "# Create formula for the model using selected features\n",
        "formula <- as.formula(paste(\"target ~\", paste(selected_features, collapse = \" + \")))\n",
        "\n",
        "# Fit the logistic regression model on the entire dataset\n",
        "final_model <- glm(formula, data = heart_data, family = binomial)\n",
        "\n",
        "# Summary of the model\n",
        "summary(final_model)\n",
        "\n",
        "# Extract coefficients for each level of slope\n",
        "coefficients <- coef(summary(final_model))\n",
        "coeff_names <- rownames(coefficients)\n",
        "\n",
        "# Extract relevant coefficients and confidence intervals for slope levels\n",
        "slope_coeff_indices <- grep(\"slope\", coeff_names)\n",
        "slope_levels <- levels(heart_data$slope)\n",
        "\n",
        "# Calculate odds ratios and confidence intervals for each level of slope\n",
        "slope_coeffs <- coefficients[slope_coeff_indices, \"Estimate\"]\n",
        "slope_conf_int <- confint(final_model, parm = slope_coeff_indices)\n",
        "slope_odds_ratios <- exp(slope_coeffs)\n",
        "slope_conf_int <- exp(slope_conf_int)\n",
        "\n",
        "# Check the number of levels in slope\n",
        "length(slope_levels) \n",
        "length(slope_coeffs)  \n",
        "\n",
        "# Create a data frame for plotting\n",
        "# Adjust for reference level, which is not included in the coefficients\n",
        "if (length(slope_levels) - 1 != length(slope_coeffs)) {\n",
        "  stop(\"The number of slope levels and coefficients do not match.\")\n",
        "}\n",
        "\n",
        "slope_plot_data <- data.frame(\n",
        "  slope = slope_levels[-1],  # Exclude the reference level\n",
        "  odds_ratio = slope_odds_ratios,\n",
        "  lower_ci = slope_conf_int[, 1],\n",
        "  upper_ci = slope_conf_int[, 2]\n",
        ")\n",
        "\n",
        "# Print the odds ratios and confidence intervals\n",
        "print(slope_plot_data)\n",
        "\n",
        "# Plot the odds ratio curve with customization to mimic the example plot\n",
        "ggplot(slope_plot_data, aes(x = slope, y = odds_ratio)) +\n",
        "  geom_point(size = 3, color = \"red\") +\n",
        "  geom_errorbar(aes(ymin = lower_ci, ymax = upper_ci), width = 0.2, color = \"red\") +\n",
        "  labs(title = \"Odds Ratio (OR) Curve for Slope of the Peak Exercise ST Segment (slope)\",\n",
        "       x = \"Slope Type\",\n",
        "       y = \"P(Heart Disease | Slope Type)\") +\n",
        "  scale_y_continuous(trans = 'log10', limits = c(0.1, 10), breaks = c(0.1, 0.5, 1, 2, 5, 10), labels = scales::percent_format()) +\n",
        "  scale_x_discrete(labels = slope_levels[-1]) +\n",
        "  theme_minimal() +\n",
        "  theme(plot.title = element_text(hjust = 0.5))"
      ]
    },
    {
      "cell_type": "markdown",
      "metadata": {},
      "source": [
        "**The plot shows the odds ratios for different types of the slope of the peak exercise ST segment compared to the reference type. For slope type 1, the odds ratio is around 50%, meaning it is less likely to predict heart disease compared to the reference. For slope type 2, the odds ratio is higher, indicating an increased likelihood of predicting heart disease. The error bars show the 95% confidence intervals, illustrating the range within which the true odds ratios are likely to fall.**"
      ]
    },
    {
      "cell_type": "markdown",
      "metadata": {},
      "source": [
        "##### <span style='color:#3498DB; font-family: \"Helvetica\", Arial, sans-serif; font-size: 1.2em; font-weight: bold;'>Part C:</span>\n",
        "\n",
        "<span style='font-family: \"Segoe UI\", Tahoma, Geneva, Verdana, sans-serif; font-size: 1.2em; font-weight: bold;'>\n",
        "      Select explanatory variables with the most meaningful roles in the \n",
        "model prediction, and construct the new Logistic Regression model, \n",
        "and then interpret the result.\n",
        "</span>\n",
        "\n",
        "\n"
      ]
    },
    {
      "cell_type": "markdown",
      "metadata": {},
      "source": [
        "Based on the previous model summary, `cp`, `ca`, and `thal` are among the most significant predictors."
      ]
    },
    {
      "cell_type": "code",
      "execution_count": 78,
      "metadata": {
        "vscode": {
          "languageId": "r"
        }
      },
      "outputs": [
        {
          "data": {
            "text/plain": [
              "\n",
              "Call:\n",
              "glm(formula = new_formula, family = binomial, data = heart_data)\n",
              "\n",
              "Coefficients:\n",
              "            Estimate Std. Error z value Pr(>|z|)    \n",
              "(Intercept) -1.12846    1.65978  -0.680 0.496578    \n",
              "cp1          1.92391    0.49425   3.893 9.92e-05 ***\n",
              "cp2          2.25692    0.43685   5.166 2.39e-07 ***\n",
              "cp3          1.58151    0.54344   2.910 0.003612 ** \n",
              "ca1         -2.07093    0.42363  -4.888 1.02e-06 ***\n",
              "ca2         -2.41697    0.58027  -4.165 3.11e-05 ***\n",
              "ca3         -2.63871    0.78129  -3.377 0.000732 ***\n",
              "ca4          0.37822    1.52686   0.248 0.804360    \n",
              "thal1        0.75505    1.76471   0.428 0.668752    \n",
              "thal2        2.18930    1.67885   1.304 0.192219    \n",
              "thal3       -0.09057    1.67532  -0.054 0.956887    \n",
              "---\n",
              "Signif. codes:  0 '***' 0.001 '**' 0.01 '*' 0.05 '.' 0.1 ' ' 1\n",
              "\n",
              "(Dispersion parameter for binomial family taken to be 1)\n",
              "\n",
              "    Null deviance: 416.42  on 301  degrees of freedom\n",
              "Residual deviance: 230.27  on 291  degrees of freedom\n",
              "AIC: 252.27\n",
              "\n",
              "Number of Fisher Scoring iterations: 5\n"
            ]
          },
          "metadata": {},
          "output_type": "display_data"
        }
      ],
      "source": [
        "# Convert target and relevant explanatory variables to factors\n",
        "heart_data$target <- as.factor(heart_data$target)\n",
        "heart_data$cp <- as.factor(heart_data$cp)\n",
        "heart_data$ca <- as.factor(heart_data$ca)\n",
        "heart_data$thal <- as.factor(heart_data$thal)\n",
        "\n",
        "# Selected best features\n",
        "selected_features <- c(\"cp\", \"ca\", \"thal\")\n",
        "\n",
        "# Create formula for the new model using selected features\n",
        "new_formula <- as.formula(paste(\"target ~\", paste(selected_features, collapse = \" + \")))\n",
        "\n",
        "# Fit the new logistic regression model on the entire dataset\n",
        "new_model <- glm(new_formula, data = heart_data, family = binomial)\n",
        "\n",
        "# Summary of the new model\n",
        "summary(new_model)"
      ]
    },
    {
      "cell_type": "markdown",
      "metadata": {},
      "source": [
        "1. **Chest Pain Type (cp):**\n",
        "   - `cp1`, `cp2`, and `cp3` have positive coefficients and very low p-values, indicating they significantly increase the odds of heart disease. \n",
        "   - For example, `cp2` has a coefficient of 2.26, meaning it greatly increases the risk of heart disease.\n",
        "\n",
        "2. **Number of Major Vessels Colored by Fluoroscopy (ca):**\n",
        "   - `ca1`, `ca2`, and `ca3` have negative coefficients with very low p-values, indicating they significantly decrease the odds of heart disease.\n",
        "   - For instance, `ca2` has a coefficient of -2.42, meaning it greatly reduces the risk of heart disease.\n",
        "\n",
        "3. **Thalassemia (thal):**\n",
        "   - None of the `thal` levels are statistically significant (high p-values), suggesting that `thal` may not be a strong predictor in this model.\n",
        "\n",
        "4. **Intercept:**\n",
        "   - The intercept is not significant, indicating that the baseline log-odds are not meaningful without considering the predictors.\n",
        "\n",
        "**In summary, chest pain type (`cp`) and the number of major vessels (`ca`) are significant predictors of heart disease, while thalassemia (`thal`) is not.**"
      ]
    },
    {
      "cell_type": "markdown",
      "metadata": {},
      "source": [
        "##### <span style='color:#3498DB; font-family: \"Helvetica\", Arial, sans-serif; font-size: 1.2em; font-weight: bold;'>Part D:</span>\n",
        "\n",
        "<span style='font-family: \"Segoe UI\", Tahoma, Geneva, Verdana, sans-serif; font-size: 1.2em; font-weight: bold;'>\n",
        "     Draw the utility curve for the model you’ve created in part C (define the \n",
        "utility of different outcomes yourself). What is the best threshold for this \n",
        "model?\n",
        "</span>\n",
        "\n",
        "\n"
      ]
    },
    {
      "cell_type": "code",
      "execution_count": 96,
      "metadata": {
        "vscode": {
          "languageId": "r"
        }
      },
      "outputs": [
        {
          "name": "stderr",
          "output_type": "stream",
          "text": [
            "Warning message in geom_point(aes(x = best_threshold, y = best_utility), color = \"red\", :\n",
            "\"\u001b[1m\u001b[22mAll aesthetics have length 1, but the data has 101 rows.\n",
            "\u001b[36mℹ\u001b[39m Please consider using `annotate()` or provide this layer with data containing\n",
            "  a single row.\"\n"
          ]
        },
        {
          "name": "stdout",
          "output_type": "stream",
          "text": [
            "[1] \"Best Threshold: 0.31\"\n",
            "[1] \"Maximum Utility: 995\"\n"
          ]
        },
        {
          "data": {
            "image/png": "[encoded data removed]",
            "text/plain": [
              "plot without title"
            ]
          },
          "metadata": {
            "image/png": {
              "height": 420,
              "width": 420
            }
          },
          "output_type": "display_data"
        }
      ],
      "source": [
        "# Convert target and relevant explanatory variables to factors\n",
        "heart_data$target <- as.factor(heart_data$target)\n",
        "heart_data$cp <- as.factor(heart_data$cp)\n",
        "heart_data$ca <- as.factor(heart_data$ca)\n",
        "heart_data$thal <- as.factor(heart_data$thal)\n",
        "\n",
        "# Selected best features\n",
        "selected_features <- c(\"cp\", \"ca\", \"thal\")\n",
        "\n",
        "# Create formula for the new model using selected features\n",
        "new_formula <- as.formula(paste(\"target ~\", paste(selected_features, collapse = \" + \")))\n",
        "\n",
        "# Fit the new logistic regression model on the entire dataset\n",
        "new_model <- glm(new_formula, data = heart_data, family = binomial)\n",
        "\n",
        "# Calculate predicted probabilities\n",
        "pred_probs <- predict(new_model, type = \"response\")\n",
        "\n",
        "# Define utility values\n",
        "utility_values <- list(TP = 10, TN = 5, FP = -20, FN = -30)\n",
        "\n",
        "# Initialize a data frame to store utilities for different thresholds\n",
        "thresholds <- seq(0, 1, by = 0.01)\n",
        "utility_data <- data.frame(threshold = thresholds, utility = NA)\n",
        "\n",
        "# Function to calculate utility\n",
        "calculate_utility <- function(threshold, pred_probs, true_labels, utility_values) {\n",
        "  predicted <- ifelse(pred_probs > threshold, 1, 0)\n",
        "  \n",
        "  # Confusion matrix\n",
        "  confusion <- table(predicted, true_labels)\n",
        "  \n",
        "  # Initialize counts\n",
        "  TP <- TN <- FP <- FN <- 0\n",
        "  \n",
        "  if (\"1\" %in% rownames(confusion) && \"1\" %in% colnames(confusion)) {\n",
        "    TP <- confusion[\"1\", \"1\"]\n",
        "  }\n",
        "  if (\"0\" %in% rownames(confusion) && \"0\" %in% colnames(confusion)) {\n",
        "    TN <- confusion[\"0\", \"0\"]\n",
        "  }\n",
        "  if (\"1\" %in% rownames(confusion) && \"0\" %in% colnames(confusion)) {\n",
        "    FP <- confusion[\"1\", \"0\"]\n",
        "  }\n",
        "  if (\"0\" %in% rownames(confusion) && \"1\" %in% colnames(confusion)) {\n",
        "    FN <- confusion[\"0\", \"1\"]\n",
        "  }\n",
        "  \n",
        "  # Calculate total utility\n",
        "  total_utility <- (TP * utility_values$TP) + (TN * utility_values$TN) + (FP * utility_values$FP) + (FN * utility_values$FN)\n",
        "  return(total_utility)\n",
        "}\n",
        "\n",
        "# Calculate utility for each threshold\n",
        "for (i in seq_along(thresholds)) {\n",
        "  threshold <- thresholds[i]\n",
        "  utility_data$utility[i] <- calculate_utility(threshold, pred_probs, heart_data$target, utility_values)\n",
        "}\n",
        "\n",
        "# Find the best threshold (maximum utility)\n",
        "best_threshold <- utility_data$threshold[which.max(utility_data$utility)]\n",
        "best_utility <- max(utility_data$utility)\n",
        "\n",
        "# Plot the utility curve\n",
        "ggplot(utility_data, aes(x = threshold, y = utility)) +\n",
        "  geom_line(color = \"blue\") +\n",
        "  geom_point(aes(x = best_threshold, y = best_utility), color = \"red\", size = 3) +\n",
        "  labs(title = \"Utility Curve for Logistic Regression Model\",\n",
        "       x = \"Threshold\",\n",
        "       y = \"Utility\") +\n",
        "  theme_minimal()\n",
        "\n",
        "# Print the best threshold and its utility\n",
        "print(paste(\"Best Threshold:\", best_threshold))\n",
        "print(paste(\"Maximum Utility:\", best_utility))"
      ]
    },
    {
      "cell_type": "markdown",
      "metadata": {},
      "source": [
        "- **Best Threshold (0.31):**\n",
        "  - When the predicted probability of heart disease is greater than 0.31, the model classifies the individual as having heart disease.\n",
        "  - This threshold maximizes the total utility, meaning it provides the best trade-off between predicting true positives (correctly identifying heart disease) and avoiding false positives (incorrectly predicting heart disease).\n",
        "\n",
        "- **Maximum Utility (995):**\n",
        "  - The utility value of 995 indicates the net benefit achieved by the model at the best threshold.\n",
        "  - This value is calculated by assigning positive utility to true positives and true negatives, and negative utility to false positives and false negatives, according to the defined utility values:\n",
        "    - True Positive (TP): +10\n",
        "    - True Negative (TN): +5\n",
        "    - False Positive (FP): -20\n",
        "    - False Negative (FN): -30"
      ]
    }
  ],
  "metadata": {
    "colab": {
      "collapsed_sections": [
        "KQbRmJCrBWbi",
        "u4gFy0JTBWcO",
        "VrLL7kfNBWcQ",
        "_UUYPnglBWcU",
        "J2GKlfrIBWcV",
        "e2wZ3uNABWcb",
        "KnCCjZmwBWcg",
        "i7EvPYL5BWch"
      ],
      "provenance": [],
      "toc_visible": true
    },
    "kernelspec": {
      "display_name": "R",
      "language": "R",
      "name": "ir"
    },
    "language_info": {
      "codemirror_mode": "r",
      "file_extension": ".r",
      "mimetype": "text/x-r-source",
      "name": "R",
      "pygments_lexer": "r",
      "version": "4.4.1"
    }
  },
  "nbformat": 4,
  "nbformat_minor": 0
}
