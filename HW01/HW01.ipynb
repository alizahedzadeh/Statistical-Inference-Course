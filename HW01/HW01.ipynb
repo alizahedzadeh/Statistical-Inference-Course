{
  "cells": [
    {
      "cell_type": "markdown",
      "metadata": {
        "id": "BcCCabvWBWbd"
      },
      "source": [
        "# <span style='font-family: \"Georgia\", Times, \"Times New Roman\", serif; color:#3498DB;'>**Statistical Inference Course (Spring 2024)**</span>\n",
        "\n",
        "## <span style='font-family: \"Helvetica Neue\", Helvetica, Arial, sans-serif; color:#2E86C1;'>**Homework 1**</span>\n",
        "\n",
        "<hr>\n",
        "\n",
        "### <span style='font-family: \"Courier New\", Courier, monospace; color:#27AE30;'>**Professor**</span>\n",
        "\n",
        "*   **Dr. Behnam Bahrak**\n",
        "\n",
        "### <span style='font-family: \"Courier New\", Courier, monospace; color:#E67E22;'>**Student**</span>\n",
        "\n",
        "*   **Ali Zahedzadeh**\n"
      ]
    },
    {
      "cell_type": "markdown",
      "metadata": {
        "id": "cdqq_CHkBWbh"
      },
      "source": [
        "<hr>"
      ]
    },
    {
      "cell_type": "markdown",
      "metadata": {
        "id": "KQbRmJCrBWbi"
      },
      "source": [
        "### <span style='color:#2ECC71; font-family: \"Arial\", sans-serif; font-size: 1.3em; font-weight: bold;'>Question 1</span>\n",
        "\n",
        "<span style='font-family: \"Segoe UI\", Tahoma, Geneva, Verdana, sans-serif; font-size: 1.2em; font-weight: bold;'>\n",
        "    A teacher wants to determine which of the following methods can be effective for students to\n",
        "enhance their learning experience in class:\n",
        "\n",
        "- a. study with instrumental music\n",
        "- b. study with vocal music\n",
        "- c. study without music\n",
        "\n",
        "Design an experimental study to help the teacher answer his research question.\n",
        "\n",
        "</span>\n",
        "\n"
      ]
    },
    {
      "cell_type": "markdown",
      "metadata": {
        "id": "ScxC6X7XBWbi"
      },
      "source": [
        "#### <span style='color:#E74C3C; font-family: \"Arial\", sans-serif; font-size: 1.1em; font-weight: bold;'>Answer</span>"
      ]
    },
    {
      "cell_type": "markdown",
      "metadata": {
        "id": "kF0c6Fb8BWbi"
      },
      "source": [
        "First I look to our `Research Question` :\n",
        "\n",
        "**Research Question:**\n",
        "\n",
        "What impact does the presence and type of music (instrumental, vocal, or none) have on students' learning experience in a class ?\n",
        "\n",
        "We need to use `Random Assignment` because we need to get a causal conclusion\n",
        "\n",
        "**Participants:**\n",
        "\n",
        "- `Participants:` College students enrolled in a specific course.\n",
        "\n",
        "- `Random Assignment:` Divide participants randomly into three groups: `instrumental music`, `vocal music`, and `no music`.\n",
        "\n",
        "**Variables:**\n",
        "\n",
        "- `Independent Variable:`\n",
        "Type of music during the study session.\n",
        "- `Dependent Variable:`\n",
        "Learning experience, assessed through surveys and objective performance metrics (such as test scores), will serve as key indicators in this study.\n",
        "\n",
        "**Experimental Design:**\n",
        "\n",
        "`Control Group:`\n",
        "- No music group serves as the baseline for comparison.\n",
        "\n",
        "`Experimental Groups:`\n",
        "- Instrumental music group\n",
        "- Vocal music group\n",
        "\n",
        "**Experimental Procedure:**\n",
        "1. **Preparation:**\n",
        "   - Develop consistent study materials and duration for all groups.\n",
        "   - Ensure that the study environment is the same for each group, except for the type of music.\n",
        "\n",
        "2. **Random Assignment:**\n",
        "   - Randomly assign participants to one of the three groups to control for individual differences.\n",
        "\n",
        "3. **Study Session:**\n",
        "   - Each group studies the same material related to the course content.\n",
        "   - The instrumental music group listens to instrumental music.\n",
        "   - The vocal music group listens to vocal music.\n",
        "   - The no music group studies in silence.\n",
        "\n",
        "4. **Data Collection:**\n",
        "   - Use surveys to collect subjective data on participants' perceptions of focus, comprehension, and enjoyment.\n",
        "   - Collect objective data through test scores or other performance metrics.\n",
        "\n",
        "5. **Post-Study Feedback:**\n",
        "   - Gather participants' feedback on their learning experience immediately after the study session."
      ]
    },
    {
      "cell_type": "markdown",
      "metadata": {
        "id": "sulw4lP5BWcO"
      },
      "source": [
        "<hr>"
      ]
    },
    {
      "cell_type": "markdown",
      "metadata": {
        "id": "u4gFy0JTBWcO"
      },
      "source": [
        "### <span style='color:#2ECC71; font-family: \"Arial\", sans-serif; font-size: 1.3em; font-weight: bold;'>Question 2</span>\n",
        "\n",
        "<span style='font-family: \"Segoe UI\", Tahoma, Geneva, Verdana, sans-serif; font-size: 1.2em; font-weight: bold;'>\n",
        "\n",
        "Answer the following questions and explain your reasons.\n",
        "</span>"
      ]
    },
    {
      "cell_type": "markdown",
      "metadata": {
        "id": "GPJcgozFBWcP"
      },
      "source": [
        "#### <span style='color:#E74C3C; font-family: \"Arial\", sans-serif; font-size: 1.1em; font-weight: bold;'>Answer</span>"
      ]
    },
    {
      "cell_type": "markdown",
      "metadata": {
        "id": "AmdCRxV1BWcP"
      },
      "source": [
        "##### <span style='color:#3498DB; font-family: \"Helvetica\", Arial, sans-serif; font-size: 1.2em; font-weight: bold;'>Part a:</span>\n",
        "\n",
        "<span style='font-family: \"Segoe UI\", Tahoma, Geneva, Verdana, sans-serif; font-size: 1.2em; font-weight: bold;'>\n",
        "    The sales team of a sunglasses company is trying to test their sunglasses’ effectiveness by examining the annual sales of sunglasses. In 2017, the company sold 3,000 sunglasses. In 2018, they sold 2,500 sunglasses. They assume that their sunglasses are less effective, which is why sales have decreased. Does  this  experiment  have  a  potential  confounding  variable?  If  the  answer  is  yes, find at least one confounding factor.\n",
        "</span>\n",
        "\n",
        "\n"
      ]
    },
    {
      "cell_type": "markdown",
      "metadata": {
        "id": "l_26xcKLBWcP"
      },
      "source": [
        "Yes, for example, we can mention a few examples:\n",
        "\n",
        "The `weather` in the relevant year means that the number of sunny days may decrease in the following year and cause the company's sales to decrease. (that is, it is possible that the quality of the products is not effective in this reduction)\n",
        "\n",
        "The `amount and quality of advertising` of the relevant company in the new year, that is, it is possible that wrong advertising policies in the new year have caused the amount of sales to decrease accordingly.\n",
        "\n",
        "`Change in economic` conditions in that relevant year: It is possible that due to the increase in inflation and economic recession in the relevant year, the companies have suffered a decline in this respect."
      ]
    },
    {
      "cell_type": "markdown",
      "metadata": {
        "id": "XX2ldxy8BWcQ"
      },
      "source": [
        "##### <span style='color:#3498DB; font-family: \"Helvetica\", Arial, sans-serif; font-size: 1.2em; font-weight: bold;'>Part b:</span>\n",
        "\n",
        "<span style='font-family: \"Segoe UI\", Tahoma, Geneva, Verdana, sans-serif; font-size: 1.2em; font-weight: bold;'>\n",
        "Down syndrome occurs when an individual is born with three copies of chromosome 21 instead  of  the  normal  two  copies.  One  can  demonstrate  that  the  frequency  of  Down syndrome increases with birth order, with a frequency of about 57 per 100,000 live births\n",
        "in  1st  born  children  rising  to  about  164  per  100,000  in  5th  born  children.  However,  the frequency  of  Down  syndrome  also  increases  with  maternal  age,  starting  at  about  40  per 100,000 live births in mothers under the age of 20 and rising slowly at first until age 35-39  when  the  frequency  is  about  270  per  100,000  live  births,  and  then  jumping  to  about 855  per  100,000  live  births  in  mothers  40  years  of  age  or  older.  It  is  certainly  not surprising  that  the  increase  in  birth  order  correlates  with  an  increase  in  maternal  age.\n",
        "Mothers  giving  birth  to  their firstborn  will  have  a  younger  age  distribution  compared  to those giving birth to their fifth child.\n",
        "</span>\n",
        "\n",
        "---\n",
        "\n",
        "<span style='font-family: \"Segoe UI\", Tahoma, Geneva, Verdana, sans-serif; font-size: 1.2em; font-weight: bold;'>\n",
        "Considering the figure, explain which of them is more important. Birth order or  maternal  age?  Is  the  association  between  birth  order  and  Down  syndrome confounded  by  maternal  age?  Or  is  the  association  between  Down  syndrome  and maternal age confounded by birth order?\n",
        "</span>\n",
        "\n",
        "![1.png](./figs/1.png)"
      ]
    },
    {
      "cell_type": "markdown",
      "metadata": {},
      "source": [
        "Based on the information provided in the text and figue, `maternal age` appears to be more important than `birth order` in relation to the prevalence of Down syndrome. The association between `birth order` and Down syndrome is confounded by `maternal age`. When the data is stratified by both birth order and maternal age, it becomes evident that birth order does not have an independent effect on the frequency of Down syndrome.\n",
        "\n",
        "In other words, the initial association between `birth order` and Down syndrome was misleading, as it was influenced by `maternal age`. When controlling for `maternal age`, the apparent association with birth order disappears, indicating that birth order itself is not a significant factor in the prevalence of Down syndrome. On the contrary, the strong association between `maternal age` and Down syndrome persists even when considering birth order, reinforcing the importance of maternal age in influencing the likelihood of Down syndrome."
      ]
    },
    {
      "cell_type": "markdown",
      "metadata": {
        "id": "3Gc1cqWKBWcQ"
      },
      "source": [
        "##### <span style='color:#3498DB; font-family: \"Helvetica\", Arial, sans-serif; font-size: 1.2em; font-weight: bold;'>Part c:</span>\n",
        "\n",
        "<span style='font-family: \"Segoe UI\", Tahoma, Geneva, Verdana, sans-serif; font-size: 1.2em; font-weight: bold;'>\n",
        "A teacher believes that using a new software can  help  students  to  get  higher  scores  on their  exams.  To  test  this  hypothesis, she  encourages students  to  use  the  software  on school  computers  for  one  hour  after  their  class  finishes. The  teacher  concludes  that  the\n",
        "software  is  actually  effective  because  students  who  use  them  obtain  higher  scores  in comparison to their peers.\n",
        "</span>\n",
        "\n",
        "---\n",
        "\n",
        "<span style='font-family: \"Segoe UI\", Tahoma, Geneva, Verdana, sans-serif; font-size: 1.2em; font-weight: bold;'>\n",
        "What is the confounding variable in this study? How the confounding variables should be controlled?\n",
        "</span>"
      ]
    },
    {
      "cell_type": "markdown",
      "metadata": {
        "id": "smPURtrhBWcQ"
      },
      "source": [
        "In the study described, the confounding variable is likely to be the students' level of motivation or academic inclination. Since the students are self-selecting into the group that uses the software, there is a risk that those who choose to use the software may be more motivated, diligent, or academically focused than those who choose not to use it. These inherent differences in motivation and academic inclination could contribute to the observed differences in exam scores, rather than the software itself.\n",
        "\n",
        "To control for confounding variables in this study, the teacher should implement a more rigorous research design. Here are some suggestions:\n",
        "\n",
        "1. **Random Assignment:**\n",
        "   - Instead of allowing students to self-select into the software usage group, the teacher should randomly assign students to either the group using the software or a control group not using the software. Random assignment helps ensure that any differences in motivation or academic inclination are evenly distributed between the groups.\n",
        "\n",
        "2. **Matched Groups:**\n",
        "   - If random assignment is not feasible, the teacher could create matched groups by pairing students with similar levels of motivation or academic inclination. This matching process aims to balance the groups on relevant characteristics, reducing the likelihood of confounding.\n",
        "\n",
        "3. **Control Group:**\n",
        "   - Establishing a control group that does not use the software allows for a comparison against a baseline. This helps isolate the effects of the software from other factors that might influence exam scores.\n",
        "\n",
        "4. **Blinding:**\n",
        "   - If possible, implement a double-blind study where both the students and the teacher evaluating the exam scores are unaware of which group each student belongs to. This minimizes the risk of bias in the evaluation process."
      ]
    },
    {
      "cell_type": "markdown",
      "metadata": {
        "id": "een4b_DnBWcQ"
      },
      "source": [
        "##### <span style='color:#3498DB; font-family: \"Helvetica\", Arial, sans-serif; font-size: 1.2em; font-weight: bold;'>Part d:</span>\n",
        "\n",
        "<span style='font-family: \"Segoe UI\", Tahoma, Geneva, Verdana, sans-serif; font-size: 1.2em; font-weight: bold;'>\n",
        "In an observational study, more than 50 people who previously worked for an international  organization  applied  for  a  position  and  were  asked  to  get  a  letter  of recommendation from their previous employers. It was observed that letters of recommendation containing more detail were much more persuasive and acceptable than those containing less detail.\n",
        "</span>\n",
        "\n",
        "---\n",
        "\n",
        "<span style='font-family: \"Segoe UI\", Tahoma, Geneva, Verdana, sans-serif; font-size: 1.2em; font-weight: bold;'>\n",
        "Is there a confounding variable in this study? If the answer is  positive, explain.\n",
        "</span>"
      ]
    },
    {
      "cell_type": "markdown",
      "metadata": {
        "id": "19btkkS1BWcQ"
      },
      "source": [
        "Yes In this study we have a confounding variable `Requirements and qualification of the applicant` :\n",
        "\n",
        "Maybe it was noticed that letters of recommendation with more detail were more persuasive and accepted than those with less detail. However, a potential confounding variable in the study could be the qualifications or performance of the applicants. If those receiving detailed letters were already more qualified or performed better in their previous roles, it might be their inherent qualifications, not just the detailed recommendation letters, that influenced the observed outcomes. To address this, a more controlled study design with random assignment or matching based on qualifications could provide clearer insights into the impact of recommendation letter details."
      ]
    },
    {
      "cell_type": "markdown",
      "metadata": {
        "id": "Ng5AP3DABWcQ"
      },
      "source": [
        "<hr>"
      ]
    },
    {
      "cell_type": "markdown",
      "metadata": {
        "id": "VrLL7kfNBWcQ"
      },
      "source": [
        "### <span style='color:#2ECC71; font-family: \"Arial\", sans-serif; font-size: 1.3em; font-weight: bold;'>Question 3</span>\n",
        "\n",
        "<span style='font-family: \"Segoe UI\", Tahoma, Geneva, Verdana, sans-serif; font-size: 1.2em; font-weight: bold;'>\n",
        "\n",
        "Which type of sampling is used for each of the following instances? Why?\n",
        "</span>"
      ]
    },
    {
      "cell_type": "markdown",
      "metadata": {
        "id": "ZlAUWUm_BWcR"
      },
      "source": [
        "#### <span style='color:#E74C3C; font-family: \"Arial\", sans-serif; font-size: 1.1em; font-weight: bold;'>Answer</span>"
      ]
    },
    {
      "cell_type": "markdown",
      "metadata": {
        "id": "o1K65IfKBWcR"
      },
      "source": [
        "##### <span style='color:#3498DB; font-family: \"Helvetica\", Arial, sans-serif; font-size: 1.2em; font-weight: bold;'>Part a:</span>\n",
        "\n",
        "<span style='font-family: \"Segoe UI\", Tahoma, Geneva, Verdana, sans-serif; font-size: 1.2em; font-weight: bold;'>\n",
        "Surveying every passenger in five flights on a particularly selected day at an airline company.\n",
        "</span>"
      ]
    },
    {
      "cell_type": "markdown",
      "metadata": {
        "id": "KY7bergqBWcR"
      },
      "source": [
        "**Sampling Method:** Cluster Sampling\n",
        "   - **Explanation:** The population (passengers) is divided into strata (flights), and a random sample is taken from each stratum. This allows for representation from each flight."
      ]
    },
    {
      "cell_type": "markdown",
      "metadata": {
        "id": "fG_oRXLiBWcT"
      },
      "source": [
        "##### <span style='color:#3498DB; font-family: \"Helvetica\", Arial, sans-serif; font-size: 1.2em; font-weight: bold;'>Part b:</span>\n",
        "\n",
        "<span style='font-family: \"Segoe UI\", Tahoma, Geneva, Verdana, sans-serif; font-size: 1.2em; font-weight: bold;'>\n",
        "Putting names of all employees in a bowl and choosing one of the names without looking into the bowl.\n",
        "</span>"
      ]
    },
    {
      "cell_type": "markdown",
      "metadata": {
        "id": "HKr3ssvCBWcT"
      },
      "source": [
        "**Sampling Method:** Simple Random Sampling (SRS)\n",
        "   - **Explanation:** Every employee has an equal chance of being selected, and each draw is independent of the others, making it a simple random sampling method."
      ]
    },
    {
      "cell_type": "markdown",
      "metadata": {
        "id": "WOx9-F2KBWcT"
      },
      "source": [
        "##### <span style='color:#3498DB; font-family: \"Helvetica\", Arial, sans-serif; font-size: 1.2em; font-weight: bold;'>Part c:</span>\n",
        "\n",
        "<span style='font-family: \"Segoe UI\", Tahoma, Geneva, Verdana, sans-serif; font-size: 1.2em; font-weight: bold;'>\n",
        "Surveying 100 students by getting random samples of 25 seniors, 25 sophomores, 25 juniors, and 25 freshmen.\n",
        "</span>"
      ]
    },
    {
      "cell_type": "markdown",
      "metadata": {
        "id": "aFmYA3FMBWcT"
      },
      "source": [
        "**Sampling Method:** Stratified Sampling\n",
        "   - **Explanation:** The population (students) is divided into strata (class levels), and a simple random sample is taken from each stratum, ensuring representation from each class level."
      ]
    },
    {
      "cell_type": "markdown",
      "metadata": {
        "id": "8P9BK4BKBWcT"
      },
      "source": [
        "##### <span style='color:#3498DB; font-family: \"Helvetica\", Arial, sans-serif; font-size: 1.2em; font-weight: bold;'>Part d:</span>\n",
        "\n",
        "<span style='font-family: \"Segoe UI\", Tahoma, Geneva, Verdana, sans-serif; font-size: 1.2em; font-weight: bold;'>\n",
        "Taking the last phone number of each page in the registration book of a competition to announce the winners of the competition.\n",
        "</span>"
      ]
    },
    {
      "cell_type": "markdown",
      "metadata": {
        "id": "94VofevtBWcT"
      },
      "source": [
        "**Sampling Method:** Multistage Sampling\n",
        "   - **Explanation:** The last phone number on each page is systematically selected at a regular interval, representing a systematic sampling method. It can be considered a form of multistage sampling if the pages themselves are selected in a prior stage."
      ]
    },
    {
      "cell_type": "markdown",
      "metadata": {
        "id": "rS47X12qBWcT"
      },
      "source": [
        "<hr>"
      ]
    },
    {
      "cell_type": "markdown",
      "metadata": {
        "id": "_UUYPnglBWcU"
      },
      "source": [
        "### <span style='color:#2ECC71; font-family: \"Arial\", sans-serif; font-size: 1.3em; font-weight: bold;'>Question 4</span>\n",
        "\n",
        "<span style='font-family: \"Segoe UI\", Tahoma, Geneva, Verdana, sans-serif; font-size: 1.2em; font-weight: bold;'>\n",
        "\n",
        "A survey was conducted on 193 Yale University undergraduate students who took Statistical Inference  course  in  2016. This  survey  asked  the  students  about  their  GPA,  which  can range between 0 and 4 points, and number of hours they studied per week. The relationship between these two variables is shown in scatterplot below:\n",
        "</span>\n",
        "\n",
        "![2.png](./figs/2.png)\n"
      ]
    },
    {
      "cell_type": "markdown",
      "metadata": {
        "id": "5duhcY3OBWcU"
      },
      "source": [
        "#### <span style='color:#E74C3C; font-family: \"Arial\", sans-serif; font-size: 1.1em; font-weight: bold;'>Answer</span>"
      ]
    },
    {
      "cell_type": "markdown",
      "metadata": {
        "id": "42g9miuGBWcU"
      },
      "source": [
        "##### <span style='color:#3498DB; font-family: \"Helvetica\", Arial, sans-serif; font-size: 1.2em; font-weight: bold;'>Part a:</span>\n",
        "\n",
        "<span style='font-family: \"Segoe UI\", Tahoma, Geneva, Verdana, sans-serif; font-size: 1.2em; font-weight: bold;'>\n",
        "What is the explanatory variable and what is the response variable?\n",
        "</span>"
      ]
    },
    {
      "cell_type": "markdown",
      "metadata": {
        "id": "kiqOTn4KBWcU"
      },
      "source": [
        "In a scatterplot, the explanatory variable is typically represented on the x-axis, and the response variable is represented on the y-axis.\n",
        "\n",
        "1. **Explanatory Variable:** The number of hours students studied per week. This variable is typically placed on the x-axis as it is considered to be the independent variable that may explain or influence changes in the other variable.\n",
        "\n",
        "2. **Response Variable:** The students' GPA. This variable is typically placed on the y-axis as it is considered to be the dependent variable responding to changes in the explanatory variable."
      ]
    },
    {
      "cell_type": "markdown",
      "metadata": {
        "id": "eN39_S-5BWcU"
      },
      "source": [
        "##### <span style='color:#3498DB; font-family: \"Helvetica\", Arial, sans-serif; font-size: 1.2em; font-weight: bold;'>Part b:</span>\n",
        "\n",
        "<span style='font-family: \"Segoe UI\", Tahoma, Geneva, Verdana, sans-serif; font-size: 1.2em; font-weight: bold;'>\n",
        "Describe the relationship between these two variables. Make sure to discuss unusual observations, if any.\n",
        "</span>"
      ]
    },
    {
      "cell_type": "markdown",
      "metadata": {
        "id": "-SHMZDdiBWcU"
      },
      "source": [
        "From the scatterplot, we can observe the following:\n",
        "\n",
        "1. **Distribution of Data Points**: The data points are mostly concentrated in the area where the number of study hours ranges from roughly 0 to 40 hours per week and the GPA ranges from about 2.5 to 4.0. There is a sparse distribution of points beyond 40 study hours per week.\n",
        "\n",
        "2. **Trend**: There does not appear to be a strong or clear trend indicating a direct correlation between the number of study hours per week and GPA. The points are somewhat diffused across the plot which suggests a weak or no apparent linear relationship.\n",
        "\n",
        "3. **Unusual Observations**: There are a few potential outliers or unusual observations that can be noted:\n",
        "   - There are students with a GPA close to 4.0 regardless of the number of study hours, including some who report studying very few hours per week(High GPA with Few Study Hours) Maybe it has such reasons:\n",
        "   \n",
        "      - Some students get nearly perfect GPAs (close to 4.0) even if they don't study much.\n",
        "      - Possible reasons: Quick understanding, effective study methods, or prior knowledge.\n",
        "   \n",
        "   - Conversely, there are students who report studying a high number of hours (close to 60 hours per week) but have a GPA around the lower range (close to 2.5)(High Study Hours with Lower GPA) Maybe it has such reasons:\n",
        "\n",
        "      - Certain students study a lot (around 60 hours per week) but end up with lower GPAs (around 2.5).\n",
        "      - Possible reasons: Ineffective study habits, overcommitment, or difficulty with the course material.\n",
        "\n",
        "4. **Variability**: The variability in GPA seems to decrease as the number of study hours increases; however, this is not a definitive pattern and would require further statistical analysis to confirm.\n",
        "\n",
        "Overall, based on this scatterplot alone, it is difficult to draw a firm conclusion about the relationship between GPA and study hours per week. A more detailed analysis, potentially including other variables or statistical measures, would be needed to better understand the dynamics at play."
      ]
    },
    {
      "cell_type": "markdown",
      "metadata": {
        "id": "3TsGIAprBWcU"
      },
      "source": [
        "##### <span style='color:#3498DB; font-family: \"Helvetica\", Arial, sans-serif; font-size: 1.2em; font-weight: bold;'>Part c:</span>\n",
        "\n",
        "<span style='font-family: \"Segoe UI\", Tahoma, Geneva, Verdana, sans-serif; font-size: 1.2em; font-weight: bold;'>\n",
        "Is this an experimental or an observational study?\n",
        "</span>"
      ]
    },
    {
      "cell_type": "markdown",
      "metadata": {
        "id": "QugpabNRBWcV"
      },
      "source": [
        "**observational study**\n",
        "\n",
        "In an observational study, researchers observe and gather information about individuals without manipulating any variables. In this case, the researchers surveyed the students and collected data on their GPA and the number of hours they studied per week. The researchers did not intervene or assign specific study hours to students they simply observed and recorded the existing behaviors and characteristics."
      ]
    },
    {
      "cell_type": "markdown",
      "metadata": {
        "id": "mM87qitgBWcV"
      },
      "source": [
        "##### <span style='color:#3498DB; font-family: \"Helvetica\", Arial, sans-serif; font-size: 1.2em; font-weight: bold;'>Part d:</span>\n",
        "\n",
        "<span style='font-family: \"Segoe UI\", Tahoma, Geneva, Verdana, sans-serif; font-size: 1.2em; font-weight: bold;'>\n",
        "Can we conclude that studying longer hours leads to higher GPAs?\n",
        "</span>"
      ]
    },
    {
      "cell_type": "markdown",
      "metadata": {
        "id": "YWVRN3xOBWcV"
      },
      "source": [
        "No, we cannot, because it is not always possible to draw a causal conclusion from the correlation relationship. For example, in this graph, there are people who have 60 hours of study and above, but they are not necessarily among the highest GPA. It ranges from 0 to 20, but it has the highest GPA overall.\n",
        "\n",
        "There are a few reasons for this:\n",
        "\n",
        "1. **Confounding Variables:** Other factors influencing both study hours and GPAs might be present, making it hard to pinpoint the true cause.\n",
        "\n",
        "2. **Direction of Causation:** It could be that higher GPAs lead to less studying, or there might be another factor affecting both study habits and grades.\n",
        "\n",
        "3. **Unconsidered Variables:** There might be other important factors not considered in the study affecting both study time and GPAs.\n",
        "\n",
        "4. **Limited Applicability:** The findings might only apply to Yale students in a specific course in 2016, making it risky to generalize to other situations.\n",
        "\n",
        "To confirm a cause-and-effect link, controlled experiments with random assignment to study hours would be necessary. Without that, we can only describe the observed correlation without inferring causation."
      ]
    },
    {
      "cell_type": "markdown",
      "metadata": {
        "id": "1UFyn2V8BWcV"
      },
      "source": [
        "<hr>"
      ]
    },
    {
      "cell_type": "markdown",
      "metadata": {
        "id": "J2GKlfrIBWcV"
      },
      "source": [
        "### <span style='color:#2ECC71; font-family: \"Arial\", sans-serif; font-size: 1.3em; font-weight: bold;'>Question 5</span>\n",
        "\n",
        "<span style='font-family: \"Segoe UI\", Tahoma, Geneva, Verdana, sans-serif; font-size: 1.2em; font-weight: bold;'>\n",
        "The histogram and box plots below show the distribution of finishing times for male and female winners of the New York Marathon between 1970 and 1999.\n",
        "</span>\n",
        "\n",
        "![3.png](./figs/3.png)"
      ]
    },
    {
      "cell_type": "markdown",
      "metadata": {
        "id": "H_Jp-9_uBWcZ"
      },
      "source": [
        "#### <span style='color:#E74C3C; font-family: \"Arial\", sans-serif; font-size: 1.1em; font-weight: bold;'>Answer</span>"
      ]
    },
    {
      "cell_type": "markdown",
      "metadata": {
        "id": "fLKOlwKLBWcZ"
      },
      "source": [
        "##### <span style='color:#3498DB; font-family: \"Helvetica\", Arial, sans-serif; font-size: 1.2em; font-weight: bold;'>Part a:</span>\n",
        "\n",
        "<span style='font-family: \"Segoe UI\", Tahoma, Geneva, Verdana, sans-serif; font-size: 1.2em; font-weight: bold;'>\n",
        "What features of the distribution are apparent in the histogram and not the box plot?\n",
        "\n",
        "What features are apparent in the box plot but not in the histogram?\n",
        "</span>"
      ]
    },
    {
      "cell_type": "markdown",
      "metadata": {
        "id": "GIE8BLvEBWcZ"
      },
      "source": [
        "The histogram clearly shows a bimodal distribution, with two peaks representing two different ranges of finishing times that were most common. This feature is not apparent in the box plot, which instead gives a summary of the distribution's quartiles, median, and potential outliers."
      ]
    },
    {
      "cell_type": "markdown",
      "metadata": {
        "id": "kkZfO7CzBWca"
      },
      "source": [
        "##### <span style='color:#3498DB; font-family: \"Helvetica\", Arial, sans-serif; font-size: 1.2em; font-weight: bold;'>Part b:</span>\n",
        "\n",
        "<span style='font-family: \"Segoe UI\", Tahoma, Geneva, Verdana, sans-serif; font-size: 1.2em; font-weight: bold;'>\n",
        "What may be the reason for the bimodal distribution? Explain.\n",
        "</span>"
      ]
    },
    {
      "cell_type": "markdown",
      "metadata": {
        "id": "iygW8xDRBWca"
      },
      "source": [
        "The bimodal distribution may be due to the separation of finishing times between male and female winners. It is common for male marathon winners to have faster finishing times compared to female winners, which could lead to two distinct groups of finishing times, hence the bimodal pattern."
      ]
    },
    {
      "cell_type": "markdown",
      "metadata": {
        "id": "yqfpVXMSBWca"
      },
      "source": [
        "##### <span style='color:#3498DB; font-family: \"Helvetica\", Arial, sans-serif; font-size: 1.2em; font-weight: bold;'>Part c:</span>\n",
        "\n",
        "<span style='font-family: \"Segoe UI\", Tahoma, Geneva, Verdana, sans-serif; font-size: 1.2em; font-weight: bold;'>\n",
        "Compare the distribution of marathon times for men and women based on the box plot shown below.\n",
        "</span>\n",
        "\n",
        "![4.png](./figs/4.png)"
      ]
    },
    {
      "cell_type": "markdown",
      "metadata": {
        "id": "wNs-77umBWca"
      },
      "source": [
        "Based on the box plots, it is evident that the distribution of marathon times for men is generally faster than for women. The median finishing time for men is lower than for women, and the interquartile range (IQR) for men is narrower, indicating less variability in the finishing times. Additionally, the women's box plot shows a higher range of finishing times and potential outliers, suggesting that there is more variability in the women's finishing times."
      ]
    },
    {
      "cell_type": "markdown",
      "metadata": {
        "id": "Jd-TonKIBWca"
      },
      "source": [
        "##### <span style='color:#3498DB; font-family: \"Helvetica\", Arial, sans-serif; font-size: 1.2em; font-weight: bold;'>Part d:</span>\n",
        "\n",
        "<span style='font-family: \"Segoe UI\", Tahoma, Geneva, Verdana, sans-serif; font-size: 1.2em; font-weight: bold;'>\n",
        "What is the explanatory variable and what is the response variable?\n",
        "</span>\n",
        "\n",
        "![5.png](./figs/5.png)"
      ]
    },
    {
      "cell_type": "markdown",
      "metadata": {
        "id": "Vcfza09NBWcb"
      },
      "source": [
        "The time series plot provides a temporal perspective, showing how the finishing times have changed over the years. This plot reveals trends and patterns over time, such as improvements in finishing times or particular years where times were significantly faster or slower. These temporal trends are not visible in the histogram or box plots, which summarise the distribution of times without accounting for the year the marathon was run."
      ]
    },
    {
      "cell_type": "markdown",
      "metadata": {
        "id": "ygFPK-nSBWcb"
      },
      "source": [
        "<hr>"
      ]
    },
    {
      "cell_type": "markdown",
      "metadata": {
        "id": "e2wZ3uNABWcb"
      },
      "source": [
        "### <span style='color:#2ECC71; font-family: \"Arial\", sans-serif; font-size: 1.3em; font-weight: bold;'>Question 6</span>\n",
        "\n",
        "<span style='font-family: \"Segoe UI\", Tahoma, Geneva, Verdana, sans-serif; font-size: 1.2em; font-weight: bold;'>\n",
        "\n",
        "Test scores for a college statistics class held during the day are:\n",
        "- 99,56,78,55.5,32,90,80,81,56,59,45,77,84.5,84,70,72,68,32,79,90\n",
        "\n",
        "Test scores for a college statistics class held during the evening are:\n",
        "- 98,78,68,83,81,89,88,76,65,45,98,90,80,84.5,85,79,78,98,90,79,81,25.5\n",
        "</span>\n",
        "\n"
      ]
    },
    {
      "cell_type": "markdown",
      "metadata": {
        "id": "kjmjouO2BWcb"
      },
      "source": [
        "#### <span style='color:#E74C3C; font-family: \"Arial\", sans-serif; font-size: 1.1em; font-weight: bold;'>Answer</span>"
      ]
    },
    {
      "cell_type": "markdown",
      "metadata": {
        "id": "GUGow9Q2BWcb"
      },
      "source": [
        "##### <span style='color:#3498DB; font-family: \"Helvetica\", Arial, sans-serif; font-size: 1.2em; font-weight: bold;'>Part a:</span>\n",
        "\n",
        "<span style='font-family: \"Segoe UI\", Tahoma, Geneva, Verdana, sans-serif; font-size: 1.2em; font-weight: bold;'>\n",
        "    Find the smallest and largest values, the median, and the first and third quartile for the day class and night class.\n",
        "</span>\n"
      ]
    },
    {
      "cell_type": "code",
      "execution_count": 12,
      "metadata": {
        "id": "XKZFVwRsBWcb",
        "outputId": "d0463724-0042-412b-92c3-1736273e0b3b",
        "vscode": {
          "languageId": "r"
        }
      },
      "outputs": [
        {
          "name": "stdout",
          "output_type": "stream",
          "text": [
            "Day Class Statistics:\n",
            "Smallest Value :  32 \n",
            "Largest Value :  99 \n",
            "Median :  74.5 \n",
            "First Quartile (Q1).25% :  56 \n",
            "Third Quartile (Q3).75% :  81.75 \n",
            "\n",
            "Night Class Statistics:\n",
            "Smallest Value :  25.5 \n",
            "Largest Value :  98 \n",
            "Median :  81 \n",
            "First Quartile (Q1).25% :  78 \n",
            "Third Quartile (Q3).75% :  88.75 \n"
          ]
        }
      ],
      "source": [
        "# Day class scores\n",
        "day_scores <- c(99,56,78,55.5,32,90,80,81,56,59,45,77,84.5,84,70,72,68,32,79,90)\n",
        "\n",
        "# Night class scores\n",
        "night_scores <- c(98,78,68,83,81,89,88,76,65,45,98,90,80,84.5,85,79,78,98,90,79,81,25.5)\n",
        "\n",
        "# Calculate statistics\n",
        "day_statistics <- summary(day_scores)\n",
        "night_statistics <- summary(night_scores)\n",
        "\n",
        "# Extract specific statistics\n",
        "day_results <- c(\n",
        "  \"Smallest Value\" = min(day_scores),\n",
        "  \"Largest Value\" = max(day_scores),\n",
        "  \"Median\" = median(day_scores),\n",
        "  \"First Quartile (Q1)\" = quantile(day_scores, 0.25),\n",
        "  \"Third Quartile (Q3)\" = quantile(day_scores, 0.75)\n",
        ")\n",
        "\n",
        "night_results <- c(\n",
        "  \"Smallest Value\" = min(night_scores),\n",
        "  \"Largest Value\" = max(night_scores),\n",
        "  \"Median\" = median(night_scores),\n",
        "  \"First Quartile (Q1)\" = quantile(night_scores, 0.25),\n",
        "  \"Third Quartile (Q3)\" = quantile(night_scores, 0.75)\n",
        ")\n",
        "\n",
        "# Display results\n",
        "cat(\"Day Class Statistics:\\n\")\n",
        "cat(paste(names(day_results), \": \", day_results, \"\\n\"), sep = \"\")\n",
        "\n",
        "cat(\"\\nNight Class Statistics:\\n\")\n",
        "cat(paste(names(night_results), \": \", night_results, \"\\n\"), sep = \"\")\n"
      ]
    },
    {
      "cell_type": "markdown",
      "metadata": {
        "id": "TcrMjp8cBWcd"
      },
      "source": [
        "##### <span style='color:#3498DB; font-family: \"Helvetica\", Arial, sans-serif; font-size: 1.2em; font-weight: bold;'>Part b:</span>\n",
        "\n",
        "<span style='font-family: \"Segoe UI\", Tahoma, Geneva, Verdana, sans-serif; font-size: 1.2em; font-weight: bold;'>\n",
        "Are there any outliers in any group? What are the exact values? Show the calculation of detecting outliers.\n",
        "</span>\n"
      ]
    },
    {
      "cell_type": "markdown",
      "metadata": {
        "id": "6H6qqlhrBWce"
      },
      "source": [
        "To detect outliers in each group, we can use the interquartile range (IQR) method. Outliers are typically defined as values that fall below :\n",
        "\n",
        "\n",
        "$$\n",
        "(IQR = Q3 - Q1)\n",
        "$$\n",
        "$$\n",
        "(Q1 = \\text{First Quartile})\n",
        "$$\n",
        "$$\n",
        "(Q3 = \\text{Third Quartile})\n",
        "$$\n",
        "$$\n",
        "Outlier Boundaries:\n",
        "$$\n",
        "$$\n",
        "Lower Bound = (Q1 - 1.5 \\times IQR)\n",
        "$$\n",
        "$$\n",
        "Upper Bound = (Q3 + 1.5 \\times IQR)\n",
        "$$"
      ]
    },
    {
      "cell_type": "markdown",
      "metadata": {
        "id": "TQsln55zBWce"
      },
      "source": [
        "Yes we can see the result below that we just have 2 outliers in `Night Data`. (I show this in data and using boxplot)\n",
        "\n",
        "We don't have any outliers in `Day Data`"
      ]
    },
    {
      "cell_type": "code",
      "execution_count": 13,
      "metadata": {
        "id": "bmTXDu_KBWce",
        "outputId": "fc9ecd54-8926-444d-f5ce-666721a459a3",
        "vscode": {
          "languageId": "r"
        }
      },
      "outputs": [
        {
          "name": "stdout",
          "output_type": "stream",
          "text": [
            "Outliers in Day Class:\n",
            " \n",
            "\n",
            "Outliers in Night Class:\n",
            "45 25.5 \n"
          ]
        }
      ],
      "source": [
        "# Function to detect outliers using IQR method\n",
        "detect_outliers <- function(data) {\n",
        "  q <- quantile(data, c(0.25, 0.75))\n",
        "  iqr <- IQR(data)\n",
        "  lower_bound <- q[1] - 1.5 * iqr\n",
        "  upper_bound <- q[2] + 1.5 * iqr\n",
        "\n",
        "  outliers <- data[data < lower_bound | data > upper_bound]\n",
        "\n",
        "  return(outliers)\n",
        "}\n",
        "\n",
        "# Detect outliers in day class scores\n",
        "day_outliers <- detect_outliers(day_scores)\n",
        "\n",
        "# Detect outliers in night class scores\n",
        "night_outliers <- detect_outliers(night_scores)\n",
        "\n",
        "# Display results\n",
        "cat(\"Outliers in Day Class:\\n\")\n",
        "cat(day_outliers, \"\\n\")\n",
        "\n",
        "cat(\"\\nOutliers in Night Class:\\n\")\n",
        "cat(night_outliers, \"\\n\")"
      ]
    },
    {
      "cell_type": "code",
      "execution_count": 14,
      "metadata": {
        "id": "GVTeI2ScBWce",
        "outputId": "bd596fdf-d571-4dca-bfc1-44c3ca8276e1",
        "vscode": {
          "languageId": "r"
        }
      },
      "outputs": [
        {
          "data": {
            "image/png": "[encoded data removed]",
            "text/plain": [
              "Plot with title \"Boxplot of Day and Night Class Scores\""
            ]
          },
          "metadata": {
            "image/png": {
              "height": 420,
              "width": 420
            }
          },
          "output_type": "display_data"
        }
      ],
      "source": [
        "# Combine data into a list\n",
        "combined_data <- list(day_scores, night_scores)\n",
        "\n",
        "# Create a boxplot\n",
        "boxplot(combined_data, names=c(\"Day Class\", \"Night Class\"), main=\"Boxplot of Day and Night Class Scores\", ylab=\"Scores\")"
      ]
    },
    {
      "cell_type": "markdown",
      "metadata": {
        "id": "bh4fcDy-BWcf"
      },
      "source": [
        "##### <span style='color:#3498DB; font-family: \"Helvetica\", Arial, sans-serif; font-size: 1.2em; font-weight: bold;'>Part c:</span>\n",
        "\n",
        "<span style='font-family: \"Segoe UI\", Tahoma, Geneva, Verdana, sans-serif; font-size: 1.2em; font-weight: bold;'>\n",
        "Should we always remove outliers from datasets?\n",
        "</span>\n"
      ]
    },
    {
      "cell_type": "markdown",
      "metadata": {
        "id": "6vQpJHTMBWcf"
      },
      "source": [
        "No, we should not always do this and it completely depends on the problem and the type of our outlier data. Sometimes these outlier data give us good information about the problem and need further investigation, but on the contrary, in some other cases, these data are of no use to us. We don't have it and we can leave them aside\n",
        "\n",
        "The decision to remove outliers depends on the specific characteristics of the data and the objectives of the analysis. It's essential to approach outlier handling with care, considering the impact on the interpretation of results and the overall integrity of the analysis."
      ]
    },
    {
      "cell_type": "markdown",
      "metadata": {
        "id": "rExF8A-7BWcf"
      },
      "source": [
        "##### <span style='color:#3498DB; font-family: \"Helvetica\", Arial, sans-serif; font-size: 1.2em; font-weight: bold;'>Part d:</span>\n",
        "\n",
        "<span style='font-family: \"Segoe UI\", Tahoma, Geneva, Verdana, sans-serif; font-size: 1.2em; font-weight: bold;'>\n",
        "\n",
        "Create  a  box  plot for  each  set  of  data.  Use  one  number line  for  both  box  plots(in  a single plot).\n",
        "\n",
        "- i. For each set, based on the plot, would you expect the mean of the values to be smaller or larger than the median? Explain your reasoning.\n",
        "\n",
        "- ii. Which box plot has the widest spread for the middle 50% of the data(the data between  the  first  and  third  quartiles)?  What  does  this  mean  for  that  set  of data in comparison to the other set of data?\n",
        "</span>\n"
      ]
    },
    {
      "cell_type": "markdown",
      "metadata": {
        "id": "GIr_JB12BWcf"
      },
      "source": [
        "**i.**"
      ]
    },
    {
      "cell_type": "code",
      "execution_count": 15,
      "metadata": {
        "id": "RS9qS4wJBWcf",
        "outputId": "f790cdce-de21-4fd7-b3b4-2af16ae78ad2",
        "vscode": {
          "languageId": "r"
        }
      },
      "outputs": [
        {
          "data": {
            "image/png": "[encoded data removed]",
            "text/plain": [
              "Plot with title \"Boxplot of Day and Night Class Scores\""
            ]
          },
          "metadata": {
            "image/png": {
              "height": 420,
              "width": 420
            }
          },
          "output_type": "display_data"
        }
      ],
      "source": [
        "# Combine data into a list\n",
        "combined_data <- list(day_scores, night_scores)\n",
        "\n",
        "# Create a boxplot with one number line\n",
        "boxplot(combined_data, names=c(\"Day Class\", \"Night Class\"), col=c(\"skyblue\", \"lightgreen\"), main=\"Boxplot of Day and Night Class Scores\", ylab=\"Scores\")"
      ]
    },
    {
      "cell_type": "markdown",
      "metadata": {
        "id": "qlZA-yL2BWcg"
      },
      "source": [
        "In a boxplot, the position of the median is represented by the line inside the box. The length of the box indicates the interquartile range (IQR), and the whiskers extend to the minimum and maximum values within a certain range. The position of the median and the spread of the box can provide insights into the distribution of the data.\n",
        "\n",
        "- If the median line is closer to the bottom of the box, and the box is skewed toward the lower values, it suggests that the distribution is negatively skewed. In this case, the mean be smaller than the median.\n",
        "\n",
        "- If the median line is closer to the top of the box, and the box is skewed toward the higher values, it suggests that the distribution is positively skewed. In this case, the mean be larger than the median.\n",
        "\n",
        "1. **Day Class Boxplot:**\n",
        "\n",
        "- For the day class, the mean may be smaller than the median. (because we don't have any `outliers` in this data this analysis is True)\n",
        "\n",
        "2. **Night Class Boxplot:**\n",
        "\n",
        "- For the night class, the mean may be larger than the median. (But because we have `outliers` so have a more substantial effect on the mean compared to the median. The median is resistant to extreme values, making it a more robust measure of central tendency in the presence of outliers.)\n",
        "\n",
        "![](https://www.biologyforlife.com/uploads/2/2/3/9/22392738/c101b0da6ea1a0dab31f80d9963b0368_orig.png)"
      ]
    },
    {
      "cell_type": "markdown",
      "metadata": {
        "id": "w9RR0EgbBWcg"
      },
      "source": [
        "**ii.**"
      ]
    },
    {
      "cell_type": "markdown",
      "metadata": {
        "id": "VvhQB0_3BWcg"
      },
      "source": [
        "To determine which box plot has the widest spread for the middle 50% of the data (interquartile range, IQR), we need to compare the length of the boxes in the box plots for both sets of data.\n",
        "\n",
        "In a box plot, the length of the box represents the IQR (middle 50% of the data). A longer box indicates a wider spread of values within the interquartile range.\n",
        "\n",
        "Here's a general explanation:\n",
        "\n",
        "- **Day Class Box has a longer box:**\n",
        "  - The middle 50% of the day class data has a wider spread compared to the night class. This suggests that the values within the interquartile range for the day class are more dispersed.\n",
        "\n",
        "- **Night Class Box has a shorter box:**\n",
        "  - It means that the middle 50% of the night class data is less spread out compared to the Day Class Box. This suggests that the values within the IQR for the night class are more concentrated or clustered than the values within the IQR for the day class.\n",
        "\n",
        "\n",
        "The Day Class has a wider spread for the middle 50% of the data.\n",
        "\n",
        "The Night Class has a narrower spread for the middle 50% of the data."
      ]
    },
    {
      "cell_type": "markdown",
      "metadata": {
        "id": "6wp2h84UBWcg"
      },
      "source": [
        "<hr>"
      ]
    },
    {
      "cell_type": "markdown",
      "metadata": {
        "id": "KnCCjZmwBWcg"
      },
      "source": [
        "### <span style='color:#2ECC71; font-family: \"Arial\", sans-serif; font-size: 1.3em; font-weight: bold;'>Question 7</span>\n",
        "\n",
        "<span style='font-family: \"Segoe UI\", Tahoma, Geneva, Verdana, sans-serif; font-size: 1.2em; font-weight: bold;'>\n",
        "\n",
        "In this Question, you should analyze the built-in diamond dataset. Your plots must have a proper title, x-label and y-label. Also, do not use any non-built-in R packages, e.g., ggplot2, etc. Follow the instructions:\n",
        "</span>"
      ]
    },
    {
      "cell_type": "markdown",
      "metadata": {
        "id": "i7EvPYL5BWch"
      },
      "source": [
        "#### <span style='color:#E74C3C; font-family: \"Arial\", sans-serif; font-size: 1.1em; font-weight: bold;'>Answer</span>"
      ]
    },
    {
      "cell_type": "markdown",
      "metadata": {
        "id": "1-GFxXp_BWcj"
      },
      "source": [
        "##### <span style='color:#3498DB; font-family: \"Helvetica\", Arial, sans-serif; font-size: 1.2em; font-weight: bold;'>Part a:</span>\n",
        "\n",
        "<span style='font-family: \"Segoe UI\", Tahoma, Geneva, Verdana, sans-serif; font-size: 1.2em; font-weight: bold;'>\n",
        "Identify the variables and their types.\n",
        "</span>\n"
      ]
    },
    {
      "cell_type": "markdown",
      "metadata": {
        "id": "OcwRnO6MBWcj"
      },
      "source": [
        "The `str()` function in R provides a compact display of the structure of an object. it will display information about the variables in the `diamonds` dataset, including their names and types.\n",
        "\n",
        "It shows the data types of each variable, helping identify numeric and factor variables. We can examine the output to understand the structure of the dataset and the types of variables it contains."
      ]
    },
    {
      "cell_type": "code",
      "execution_count": null,
      "metadata": {
        "id": "5QX2fs5-BWcj",
        "outputId": "b84a4e13-3a78-447b-cac3-4b41df0a3c76",
        "vscode": {
          "languageId": "r"
        }
      },
      "outputs": [
        {
          "name": "stdout",
          "output_type": "stream",
          "text": [
            "tibble [53,940 × 10] (S3: tbl_df/tbl/data.frame)\n",
            " $ carat  : num [1:53940] 0.23 0.21 0.23 0.29 0.31 0.24 0.24 0.26 0.22 0.23 ...\n",
            " $ cut    : Ord.factor w/ 5 levels \"Fair\"<\"Good\"<..: 5 4 2 4 2 3 3 3 1 3 ...\n",
            " $ color  : Ord.factor w/ 7 levels \"D\"<\"E\"<\"F\"<\"G\"<..: 2 2 2 6 7 7 6 5 2 5 ...\n",
            " $ clarity: Ord.factor w/ 8 levels \"I1\"<\"SI2\"<\"SI1\"<..: 2 3 5 4 2 6 7 3 4 5 ...\n",
            " $ depth  : num [1:53940] 61.5 59.8 56.9 62.4 63.3 62.8 62.3 61.9 65.1 59.4 ...\n",
            " $ table  : num [1:53940] 55 61 65 58 58 57 57 55 61 61 ...\n",
            " $ price  : int [1:53940] 326 326 327 334 335 336 336 337 337 338 ...\n",
            " $ x      : num [1:53940] 3.95 3.89 4.05 4.2 4.34 3.94 3.95 4.07 3.87 4 ...\n",
            " $ y      : num [1:53940] 3.98 3.84 4.07 4.23 4.35 3.96 3.98 4.11 3.78 4.05 ...\n",
            " $ z      : num [1:53940] 2.43 2.31 2.31 2.63 2.75 2.48 2.47 2.53 2.49 2.39 ...\n"
          ]
        }
      ],
      "source": [
        "str(diamonds)"
      ]
    },
    {
      "cell_type": "markdown",
      "metadata": {
        "id": "jgDtDy7eBWck"
      },
      "source": [
        "Explain of each column\n",
        "\n",
        "1. **carat (Numeric - Continuous):**\n",
        "   - Carat weight of the diamond.\n",
        "\n",
        "2. **cut (Categorical - Ordinal):**\n",
        "   - Quality of the cut, represented as a categorical variable with levels: Fair, Good, Very Good, Premium, Ideal.\n",
        "\n",
        "3. **color (Categorical - Ordinal):**\n",
        "   - Diamond color, represented as a categorical variable with levels: D (best) to J (worst).\n",
        "\n",
        "4. **clarity (Categorical - Ordinal):**\n",
        "   - Diamond clarity, represented as a categorical variable with levels: IF (Internally Flawless), VVS1, VVS2, VS1, VS2, SI1, SI2, I1 (Inclusions visible to the naked eye).\n",
        "\n",
        "5. **depth (Numeric - Continuous):**\n",
        "   - Total depth percentage, calculated as 2 * z / (x + y).\n",
        "\n",
        "6. **table (Numeric - Discrete):**\n",
        "   - Width of the top of the diamond relative to its widest point.\n",
        "\n",
        "7. **price (Numeric - Discrete):**\n",
        "   - Price of the diamond in US dollars.\n",
        "\n",
        "8. **x, y, z (Numeric - Continuous):**\n",
        "   - Dimensions of the diamond in millimeters: length (x), width (y), and depth (z).\n",
        "\n",
        "These variables have different types:\n",
        "\n",
        "- **Numeric Variables:**\n",
        "  - carat, depth, table, price, x, y, z\n",
        "\n",
        "- **Categorical Variables:**\n",
        "  - cut, color, clarity"
      ]
    },
    {
      "cell_type": "markdown",
      "metadata": {
        "id": "WGZbIKgNBWck"
      },
      "source": [
        "##### <span style='color:#3498DB; font-family: \"Helvetica\", Arial, sans-serif; font-size: 1.2em; font-weight: bold;'>Part b:</span>\n",
        "\n",
        "<span style='font-family: \"Segoe UI\", Tahoma, Geneva, Verdana, sans-serif; font-size: 1.2em; font-weight: bold;'>\n",
        "Use an appropriate diagram to visualize the number of diamonds in each clarity groups.\n",
        "</span>\n"
      ]
    },
    {
      "cell_type": "code",
      "execution_count": null,
      "metadata": {
        "id": "HtwiFvLFBWck",
        "outputId": "4c38f579-c5b2-4673-97d3-170048c05196",
        "vscode": {
          "languageId": "r"
        }
      },
      "outputs": [
        {
          "data": {
            "image/png": "[encoded data removed]",
            "text/plain": [
              "Plot with title \"Number of Diamonds in Each Clarity Group\""
            ]
          },
          "metadata": {
            "image/png": {
              "height": 420,
              "width": 420
            }
          },
          "output_type": "display_data"
        }
      ],
      "source": [
        "# Create a table of counts for each clarity group\n",
        "clarity_counts <- table(diamonds$clarity)\n",
        "\n",
        "# Create a bar plot for the number of diamonds in each clarity group\n",
        "barplot(clarity_counts,\n",
        "        main = \"Number of Diamonds in Each Clarity Group\",\n",
        "        xlab = \"Clarity\",\n",
        "        ylab = \"Number of Diamonds\",\n",
        "        col = \"orange\")\n"
      ]
    },
    {
      "cell_type": "markdown",
      "metadata": {
        "id": "vI6Qh4w0BWck"
      },
      "source": [
        "##### <span style='color:#3498DB; font-family: \"Helvetica\", Arial, sans-serif; font-size: 1.2em; font-weight: bold;'>Part c:</span>\n",
        "\n",
        "<span style='font-family: \"Segoe UI\", Tahoma, Geneva, Verdana, sans-serif; font-size: 1.2em; font-weight: bold;'>\n",
        "Plot a histogram of the distribution of ‘price’ and discuss its skewness.\n",
        "</span>\n"
      ]
    },
    {
      "cell_type": "code",
      "execution_count": null,
      "metadata": {
        "id": "lw_BnRSwBWcl",
        "outputId": "c99a79fa-c7e9-48ab-ba89-cda503cd7482",
        "vscode": {
          "languageId": "r"
        }
      },
      "outputs": [
        {
          "data": {
            "image/png": "[encoded data removed]",
            "text/plain": [
              "Plot with title \"Histogram of Diamond Prices\""
            ]
          },
          "metadata": {
            "image/png": {
              "height": 420,
              "width": 420
            }
          },
          "output_type": "display_data"
        }
      ],
      "source": [
        "# Plot a histogram of the 'price' variable\n",
        "hist(diamonds$price,\n",
        "     main = \"Histogram of Diamond Prices\",\n",
        "     xlab = \"Price\",\n",
        "     ylab = \"Frequency\",\n",
        "     col = \"#87ebaa\")\n"
      ]
    },
    {
      "cell_type": "markdown",
      "metadata": {
        "id": "TGh1wEmzBWcl"
      },
      "source": [
        "In this histogram we can see the `price` variable suggests that the distribution is right-skewed (positively skewed). In a right-skewed distribution, the tail on the right side is longer or fatter than the left side, and the majority of the data points tend to be concentrated on the left side.\n",
        "\n",
        "For the `price` distribution:\n",
        "\n",
        "- The mean is typically greater than the median.\n",
        "- There may be some higher-priced diamonds that contribute to the longer right tail."
      ]
    },
    {
      "cell_type": "markdown",
      "metadata": {
        "id": "nQ-JosQZBWcl"
      },
      "source": [
        "##### <span style='color:#3498DB; font-family: \"Helvetica\", Arial, sans-serif; font-size: 1.2em; font-weight: bold;'>Part d:</span>\n",
        "\n",
        "<span style='font-family: \"Segoe UI\", Tahoma, Geneva, Verdana, sans-serif; font-size: 1.2em; font-weight: bold;'>\n",
        "Use side-by-side boxplots to display the distribution price along with ‘clarity’. Then identify outliers for each group.\n",
        "</span>\n"
      ]
    },
    {
      "cell_type": "markdown",
      "metadata": {
        "id": "V4RAGp_xBWcl"
      },
      "source": [
        "In this part we use side-by-side boxplots to visually display the distribution of diamond prices categorized by clarity levels. The boxplots are adorned with outlier points and are plotted in a distinctive color. Additionally, after identifies and calculates outliers for each clarity group using the boxplot.stats function, storing the outlier values in the `outliers` variable for further analysis or printing."
      ]
    },
    {
      "cell_type": "code",
      "execution_count": null,
      "metadata": {
        "id": "09fuGX7wBWcl",
        "outputId": "8f9f23a3-361f-4805-f492-e8a7a500f909",
        "vscode": {
          "languageId": "r"
        }
      },
      "outputs": [
        {
          "data": {
            "image/png": "[encoded data removed]",
            "text/plain": [
              "Plot with title \"Distribution of Price by Clarity\""
            ]
          },
          "metadata": {
            "image/png": {
              "height": 420,
              "width": 420
            }
          },
          "output_type": "display_data"
        }
      ],
      "source": [
        "# Create side-by-side boxplots with outliers displayed\n",
        "\n",
        "boxplot(price ~ clarity, data = diamonds,\n",
        "        main = \"Distribution of Price by Clarity\",\n",
        "        xlab = \"Clarity\",\n",
        "        ylab = \"Price\",\n",
        "        col = \"#87ebdc\",\n",
        "        outline = TRUE)\n",
        "\n",
        "# Identify and print outliers for each clarity group\n",
        "outliers <- boxplot.stats(diamonds$price)$out"
      ]
    },
    {
      "cell_type": "code",
      "execution_count": null,
      "metadata": {
        "id": "4V-bCBbcBWcl",
        "outputId": "6450eb3c-ee7d-4d45-cb82-f35c11a2897b",
        "vscode": {
          "languageId": "r"
        }
      },
      "outputs": [
        {
          "name": "stdout",
          "output_type": "stream",
          "text": [
            "Outliers by Clarity:\n",
            "I1 :  11921, 12154, 12210, 12238, 12342, 12356, 12416, 12423, 12493, 12545, 12566, 12648, 12657, 12686, 12798, 12825, 12825, 12832, 12857, 12891, 12912, 13038, 13110, 13132, 13140, 13233, 13298, 13334, 13337, 13632, 13638, 13710, 13744, 13755, 13976, 13978, 14071, 14199, 14220, 14256, 14294, 14406, 14407, 14408, 14410, 14447, 14482, 14482, 14482, 14558, 14775, 14859, 14982, 15036, 15038, 15172, 15223, 15258, 15259, 15386, 15444, 15528, 15606, 15615, 15671, 15671, 15695, 15806, 15851, 15878, 15887, 15888, 15930, 15930, 15959, 16055, 16097, 16274, 16280, 16297, 16300, 16309, 16479, 16582, 16613, 16954, 16955, 16960, 17103, 17114, 17204, 17235, 17338, 17659, 17760, 17905, 17957, 18027, 18034, 18108, 18153, 18236, 18242, 18470, 18531, 18614, 18779 \n",
            "SI2 :  11888, 11899, 11917, 11917, 11922, 11924, 11954, 11955, 11957, 11962, 11963, 11966, 11970, 11971, 11982, 12021, 12031, 12036, 12047, 12060, 12061, 12063, 12071, 12075, 12078, 12084, 12085, 12100, 12108, 12119, 12127, 12148, 12150, 12152, 12196, 12220, 12242, 12252, 12253, 12257, 12261, 12265, 12297, 12304, 12308, 12308, 12319, 12319, 12327, 12327, 12336, 12338, 12359, 12360, 12379, 12380, 12394, 12407, 12423, 12431, 12440, 12467, 12508, 12529, 12541, 12542, 12545, 12549, 12571, 12581, 12587, 12626, 12633, 12642, 12644, 12648, 12654, 12655, 12674, 12677, 12680, 12681, 12681, 12693, 12700, 12717, 12730, 12731, 12787, 12787, 12787, 12792, 12794, 12795, 12816, 12822, 12829, 12831, 12846, 12862, 12874, 12874, 12907, 12907, 12907, 12910, 12951, 12956, 12956, 12958, 12958, 12968, 12971, 12992, 13003, 13006, 13016, 13034, 13043, 13052, 13074, 13095, 13096, 13097, 13098, 13099, 13104, 13109, 13117, 13144, 13162, 13162, 13194, 13199, 13211, 13225, 13228, 13228, 13229, 13248, 13248, 13250, 13253, 13254, 13275, 13298, 13307, 13317, 13317, 13320, 13320, 13329, 13329, 13355, 13360, 13372, 13373, 13397, 13420, 13445, 13445, 13477, 13480, 13483, 13502, 13515, 13530, 13542, 13542, 13550, 13554, 13555, 13563, 13587, 13609, 13622, 13642, 13653, 13675, 13675, 13701, 13702, 13703, 13719, 13720, 13720, 13725, 13730, 13732, 13734, 13736, 13757, 13760, 13761, 13766, 13790, 13811, 13811, 13811, 13811, 13811, 13872, 13892, 13939, 13945, 13963, 13963, 13994, 13995, 13998, 14017, 14022, 14024, 14071, 14074, 14103, 14106, 14108, 14112, 14130, 14146, 14165, 14174, 14177, 14182, 14190, 14192, 14192, 14196, 14211, 14238, 14240, 14266, 14268, 14294, 14300, 14300, 14300, 14323, 14330, 14341, 14354, 14364, 14364, 14416, 14424, 14426, 14430, 14430, 14451, 14452, 14452, 14453, 14474, 14477, 14479, 14490, 14498, 14502, 14503, 14543, 14543, 14561, 14586, 14588, 14620, 14691, 14733, 14735, 14737, 14763, 14775, 14775, 14799, 14801, 14814, 14817, 14819, 14824, 14838, 14841, 14844, 14844, 14855, 14860, 14888, 14892, 14925, 14936, 14939, 14945, 14948, 14959, 14961, 15013, 15032, 15035, 15035, 15046, 15047, 15059, 15086, 15091, 15092, 15093, 15102, 15105, 15105, 15105, 15109, 15110, 15110, 15118, 15119, 15126, 15144, 15145, 15164, 15178, 15198, 15217, 15225, 15229, 15231, 15231, 15241, 15248, 15249, 15249, 15255, 15255, 15258, 15265, 15278, 15281, 15282, 15366, 15393, 15412, 15413, 15418, 15420, 15426, 15428, 15430, 15450, 15458, 15460, 15461, 15488, 15509, 15510, 15511, 15543, 15575, 15584, 15600, 15609, 15609, 15613, 15649, 15651, 15651, 15651, 15675, 15683, 15684, 15686, 15688, 15691, 15701, 15756, 15757, 15765, 15766, 15767, 15769, 15773, 15773, 15788, 15792, 15804, 15805, 15813, 15818, 15819, 15819, 15821, 15823, 15825, 15826, 15826, 15840, 15840, 15848, 15877, 15888, 15917, 15931, 15939, 15941, 15941, 15941, 15942, 15949, 15965, 15990, 16023, 16073, 16075, 16082, 16128, 16130, 16131, 16147, 16148, 16198, 16198, 16223, 16239, 16261, 16287, 16304, 16304, 16316, 16316, 16319, 16319, 16319, 16323, 16329, 16357, 16368, 16384, 16392, 16392, 16395, 16397, 16426, 16427, 16431, 16437, 16451, 16459, 16469, 16506, 16530, 16575, 16603, 16624, 16632, 16643, 16670, 16694, 16703, 16704, 16709, 16709, 16709, 16715, 16716, 16731, 16778, 16778, 16779, 16792, 16804, 16805, 16807, 16826, 16881, 16901, 16914, 16937, 16955, 16985, 16996, 17000, 17001, 17006, 17010, 17012, 17014, 17016, 17036, 17051, 17076, 17084, 17095, 17100, 17111, 17143, 17143, 17146, 17149, 17151, 17153, 17153, 17156, 17176, 17179, 17191, 17193, 17206, 17219, 17228, 17233, 17237, 17244, 17254, 17265, 17273, 17294, 17294, 17294, 17313, 17329, 17351, 17360, 17360, 17365, 17366, 17377, 17379, 17381, 17393, 17403, 17405, 17407, 17458, 17521, 17525, 17582, 17591, 17592, 17597, 17604, 17614, 17634, 17640, 17649, 17672, 17712, 17729, 17742, 17751, 17760, 17760, 17803, 17805, 17825, 17826, 17835, 17849, 17871, 17882, 17888, 17889, 17891, 17892, 17893, 17894, 17930, 17936, 17938, 17955, 17955, 17975, 17983, 17988, 17989, 17996, 18007, 18014, 18020, 18026, 18026, 18041, 18059, 18077, 18102, 18104, 18107, 18112, 18119, 18124, 18125, 18128, 18164, 18166, 18168, 18186, 18188, 18193, 18236, 18242, 18251, 18252, 18274, 18279, 18281, 18281, 18299, 18308, 18342, 18359, 18363, 18364, 18371, 18374, 18392, 18439, 18440, 18440, 18480, 18489, 18495, 18500, 18531, 18541, 18559, 18559, 18561, 18572, 18593, 18594, 18611, 18625, 18630, 18640, 18674, 18686, 18692, 18693, 18710, 18710, 18736, 18741, 18766, 18795, 18797 \n",
            "SI1 :  11888, 11903, 11906, 11913, 11923, 11923, 11923, 11927, 11927, 11950, 11956, 11958, 11966, 11968, 11971, 11973, 11975, 11975, 11976, 11979, 11988, 11988, 11990, 11998, 11999, 12000, 12030, 12030, 12047, 12048, 12048, 12048, 12048, 12055, 12058, 12066, 12078, 12084, 12087, 12089, 12095, 12100, 12105, 12108, 12109, 12117, 12121, 12146, 12156, 12170, 12171, 12175, 12185, 12186, 12190, 12193, 12195, 12196, 12196, 12196, 12196, 12196, 12199, 12200, 12207, 12210, 12210, 12221, 12224, 12224, 12224, 12225, 12238, 12244, 12244, 12247, 12248, 12255, 12268, 12269, 12271, 12271, 12271, 12284, 12291, 12308, 12308, 12308, 12308, 12308, 12332, 12338, 12338, 12338, 12342, 12369, 12369, 12381, 12389, 12390, 12392, 12392, 12401, 12403, 12417, 12418, 12423, 12432, 12433, 12437, 12447, 12451, 12454, 12454, 12454, 12455, 12458, 12458, 12459, 12459, 12459, 12462, 12465, 12466, 12467, 12474, 12492, 12499, 12500, 12509, 12515, 12521, 12522, 12530, 12531, 12531, 12539, 12547, 12551, 12551, 12554, 12554, 12554, 12554, 12556, 12573, 12591, 12596, 12598, 12602, 12603, 12605, 12606, 12613, 12614, 12615, 12616, 12616, 12617, 12618, 12620, 12621, 12621, 12622, 12629, 12637, 12645, 12647, 12655, 12670, 12683, 12693, 12696, 12696, 12696, 12697, 12707, 12707, 12712, 12717, 12725, 12737, 12738, 12743, 12744, 12745, 12755, 12756, 12787, 12791, 12799, 12799, 12818, 12823, 12829, 12832, 12833, 12840, 12842, 12843, 12844, 12846, 12853, 12857, 12864, 12865, 12871, 12872, 12872, 12880, 12898, 12906, 12907, 12915, 12921, 12927, 12929, 12931, 12932, 12964, 12967, 12968, 12968, 12970, 12978, 12979, 12981, 12981, 12987, 12988, 12989, 13009, 13014, 13027, 13029, 13034, 13047, 13049, 13060, 13060, 13061, 13063, 13063, 13063, 13065, 13068, 13069, 13077, 13084, 13102, 13109, 13111, 13119, 13120, 13122, 13133, 13134, 13134, 13134, 13135, 13135, 13135, 13148, 13152, 13153, 13154, 13155, 13157, 13157, 13161, 13163, 13165, 13168, 13169, 13171, 13177, 13178, 13196, 13198, 13206, 13207, 13214, 13215, 13229, 13247, 13248, 13250, 13250, 13253, 13254, 13256, 13257, 13280, 13284, 13286, 13287, 13287, 13287, 13298, 13317, 13320, 13320, 13329, 13333, 13340, 13344, 13355, 13357, 13363, 13363, 13365, 13367, 13367, 13369, 13369, 13370, 13378, 13387, 13387, 13387, 13389, 13395, 13417, 13420, 13423, 13445, 13445, 13453, 13474, 13477, 13499, 13499, 13499, 13500, 13500, 13500, 13503, 13540, 13542, 13544, 13552, 13553, 13553, 13553, 13554, 13556, 13557, 13561, 13574, 13588, 13596, 13600, 13619, 13621, 13622, 13622, 13623, 13623, 13629, 13642, 13645, 13653, 13655, 13661, 13703, 13713, 13720, 13731, 13757, 13764, 13767, 13769, 13777, 13777, 13786, 13786, 13799, 13803, 13809, 13812, 13813, 13818, 13824, 13825, 13825, 13853, 13853, 13853, 13858, 13873, 13904, 13931, 13945, 13949, 13950, 13956, 13970, 13991, 13993, 13995, 14037, 14038, 14066, 14067, 14071, 14071, 14103, 14105, 14120, 14126, 14129, 14146, 14148, 14154, 14156, 14157, 14165, 14185, 14201, 14215, 14217, 14224, 14242, 14245, 14247, 14247, 14266, 14277, 14278, 14294, 14299, 14304, 14321, 14341, 14344, 14348, 14351, 14352, 14359, 14359, 14375, 14375, 14383, 14383, 14383, 14386, 14386, 14395, 14399, 14400, 14403, 14416, 14421, 14426, 14426, 14428, 14433, 14438, 14445, 14498, 14502, 14502, 14519, 14527, 14527, 14529, 14542, 14577, 14584, 14597, 14603, 14605, 14615, 14616, 14660, 14663, 14674, 14675, 14687, 14709, 14709, 14709, 14711, 14717, 14724, 14725, 14725, 14731, 14740, 14744, 14745, 14750, 14752, 14759, 14768, 14773, 14775, 14787, 14802, 14803, 14812, 14826, 14837, 14837, 14844, 14844, 14870, 14882, 14889, 14948, 14957, 14968, 14973, 15005, 15014, 15022, 15025, 15025, 15025, 15030, 15052, 15064, 15065, 15067, 15081, 15083, 15100, 15124, 15137, 15140, 15147, 15148, 15151, 15152, 15153, 15153, 15162, 15175, 15185, 15197, 15201, 15217, 15218, 15238, 15240, 15246, 15272, 15287, 15288, 15291, 15309, 15316, 15321, 15323, 15335, 15351, 15364, 15375, 15385, 15394, 15420, 15426, 15440, 15444, 15446, 15451, 15454, 15465, 15472, 15474, 15475, 15478, 15486, 15505, 15512, 15535, 15562, 15562, 15562, 15581, 15592, 15618, 15627, 15646, 15647, 15666, 15673, 15714, 15716, 15717, 15718, 15721, 15729, 15745, 15746, 15751, 15785, 15797, 15804, 15808, 15819, 15827, 15845, 15850, 15851, 15864, 15873, 15889, 15897, 15897, 15898, 15907, 15908, 15919, 15922, 15923, 15928, 15939, 15957, 15959, 15962, 15987, 15987, 15992, 16052, 16062, 16068, 16068, 16073, 16080, 16092, 16098, 16123, 16129, 16146, 16151, 16169, 16170, 16171, 16192, 16231, 16234, 16235, 16237, 16239, 16241, 16241, 16256, 16278, 16287, 16357, 16358, 16383, 16390, 16398, 16406, 16412, 16420, 16422, 16472, 16499, 16499, 16519, 16520, 16544, 16544, 16551, 16580, 16583, 16599, 16683, 16687, 16687, 16688, 16690, 16733, 16736, 16737, 16742, 16747, 16750, 16778, 16778, 16778, 16778, 16801, 16811, 16813, 16817, 16823, 16842, 16842, 16854, 16857, 16861, 16872, 16881, 16889, 16896, 16914, 16929, 16941, 16945, 16956, 16956, 16960, 16969, 16987, 17005, 17024, 17024, 17028, 17029, 17042, 17049, 17050, 17063, 17065, 17068, 17094, 17096, 17115, 17116, 17118, 17127, 17136, 17138, 17184, 17192, 17203, 17209, 17213, 17227, 17231, 17235, 17258, 17263, 17278, 17279, 17334, 17405, 17416, 17433, 17441, 17442, 17448, 17451, 17460, 17469, 17530, 17533, 17534, 17535, 17569, 17570, 17579, 17598, 17607, 17614, 17667, 17673, 17673, 17674, 17689, 17689, 17692, 17694, 17710, 17730, 17740, 17747, 17753, 17760, 17760, 17761, 17765, 17784, 17798, 17840, 17841, 17849, 17849, 17871, 17909, 17917, 17923, 17924, 17952, 18026, 18034, 18037, 18057, 18062, 18069, 18077, 18080, 18090, 18107, 18113, 18114, 18115, 18115, 18117, 18118, 18127, 18139, 18193, 18207, 18211, 18242, 18254, 18255, 18279, 18286, 18296, 18306, 18325, 18342, 18343, 18344, 18369, 18371, 18371, 18374, 18377, 18394, 18395, 18430, 18430, 18431, 18442, 18443, 18462, 18477, 18485, 18507, 18507, 18508, 18508, 18509, 18515, 18525, 18526, 18528, 18532, 18535, 18559, 18561, 18575, 18578, 18615, 18659, 18692, 18701, 18705, 18707, 18729, 18741, 18760, 18784, 18787, 18788, 18791, 18791, 18795, 18806, 18818 \n",
            "VS2 :  11897, 11904, 11925, 11935, 11939, 11951, 11957, 11965, 11968, 11969, 12032, 12035, 12038, 12052, 12063, 12068, 12069, 12071, 12071, 12079, 12081, 12081, 12082, 12085, 12092, 12098, 12098, 12099, 12111, 12112, 12121, 12140, 12148, 12152, 12153, 12156, 12157, 12161, 12165, 12168, 12174, 12179, 12179, 12179, 12182, 12182, 12183, 12196, 12206, 12207, 12209, 12209, 12215, 12226, 12228, 12236, 12285, 12286, 12288, 12291, 12295, 12308, 12308, 12314, 12320, 12342, 12342, 12342, 12343, 12345, 12349, 12361, 12364, 12369, 12373, 12375, 12377, 12377, 12378, 12379, 12380, 12388, 12392, 12392, 12396, 12400, 12401, 12401, 12409, 12416, 12437, 12443, 12450, 12477, 12483, 12494, 12494, 12495, 12499, 12499, 12502, 12512, 12539, 12543, 12551, 12554, 12555, 12559, 12561, 12565, 12576, 12592, 12607, 12607, 12608, 12610, 12617, 12617, 12617, 12621, 12622, 12631, 12639, 12654, 12671, 12681, 12690, 12698, 12713, 12714, 12716, 12720, 12720, 12725, 12736, 12737, 12738, 12738, 12748, 12753, 12755, 12756, 12756, 12770, 12771, 12779, 12787, 12788, 12800, 12810, 12811, 12812, 12814, 12821, 12828, 12829, 12829, 12829, 12839, 12840, 12848, 12851, 12872, 12891, 12895, 12896, 12897, 12905, 12906, 12923, 12931, 12937, 12947, 12978, 12981, 12985, 12985, 12985, 12990, 12992, 12996, 12996, 13001, 13006, 13034, 13037, 13037, 13046, 13047, 13065, 13068, 13069, 13075, 13088, 13092, 13127, 13156, 13160, 13178, 13182, 13200, 13203, 13212, 13232, 13242, 13248, 13267, 13282, 13289, 13291, 13292, 13293, 13298, 13312, 13320, 13325, 13325, 13351, 13375, 13376, 13377, 13379, 13387, 13393, 13403, 13421, 13439, 13464, 13464, 13465, 13474, 13485, 13485, 13485, 13486, 13488, 13495, 13498, 13506, 13508, 13531, 13532, 13536, 13537, 13539, 13543, 13560, 13564, 13578, 13579, 13582, 13587, 13587, 13598, 13599, 13605, 13606, 13607, 13610, 13615, 13624, 13653, 13654, 13659, 13660, 13665, 13669, 13680, 13681, 13693, 13701, 13714, 13726, 13733, 13735, 13737, 13737, 13753, 13756, 13757, 13764, 13768, 13771, 13790, 13800, 13812, 13820, 13827, 13828, 13828, 13831, 13833, 13839, 13844, 13844, 13846, 13849, 13850, 13853, 13864, 13867, 13873, 13882, 13884, 13903, 13908, 13908, 13912, 13912, 13917, 13942, 13948, 13993, 14014, 14027, 14027, 14028, 14065, 14071, 14080, 14095, 14095, 14137, 14150, 14165, 14180, 14184, 14188, 14199, 14199, 14199, 14199, 14199, 14224, 14229, 14231, 14234, 14236, 14236, 14249, 14256, 14258, 14277, 14279, 14292, 14300, 14328, 14338, 14386, 14412, 14414, 14414, 14414, 14424, 14426, 14428, 14456, 14476, 14488, 14494, 14500, 14505, 14507, 14507, 14507, 14525, 14540, 14542, 14542, 14548, 14574, 14579, 14581, 14581, 14581, 14593, 14593, 14603, 14618, 14623, 14624, 14625, 14634, 14637, 14637, 14638, 14639, 14648, 14650, 14654, 14660, 14662, 14666, 14666, 14667, 14674, 14674, 14719, 14720, 14777, 14779, 14790, 14790, 14795, 14847, 14893, 14900, 14918, 14918, 14920, 14931, 14947, 14952, 14956, 14976, 14982, 14998, 14998, 15007, 15011, 15017, 15025, 15026, 15030, 15031, 15032, 15053, 15055, 15064, 15076, 15081, 15092, 15102, 15111, 15116, 15134, 15134, 15140, 15143, 15147, 15169, 15169, 15184, 15185, 15185, 15188, 15210, 15210, 15226, 15235, 15246, 15261, 15303, 15306, 15312, 15312, 15318, 15320, 15322, 15330, 15334, 15338, 15348, 15354, 15365, 15365, 15370, 15377, 15378, 15392, 15394, 15395, 15398, 15415, 15415, 15424, 15433, 15451, 15451, 15464, 15475, 15485, 15485, 15497, 15505, 15515, 15531, 15540, 15544, 15563, 15568, 15584, 15585, 15589, 15601, 15602, 15619, 15649, 15665, 15680, 15707, 15708, 15708, 15710, 15729, 15730, 15745, 15762, 15773, 15776, 15776, 15792, 15792, 15801, 15801, 15814, 15824, 15829, 15832, 15836, 15837, 15840, 15841, 15842, 15847, 15847, 15851, 15897, 15919, 15919, 15920, 15934, 15937, 15938, 15966, 15968, 15970, 15983, 15984, 15984, 15984, 15991, 15992, 15992, 15992, 15992, 15993, 15996, 16003, 16004, 16018, 16021, 16031, 16037, 16043, 16048, 16049, 16059, 16062, 16086, 16086, 16100, 16104, 16111, 16149, 16149, 16169, 16171, 16183, 16187, 16187, 16189, 16193, 16195, 16198, 16206, 16220, 16231, 16235, 16242, 16256, 16286, 16287, 16290, 16291, 16294, 16295, 16336, 16337, 16339, 16340, 16369, 16378, 16407, 16427, 16427, 16439, 16442, 16446, 16450, 16462, 16465, 16485, 16492, 16507, 16512, 16513, 16545, 16547, 16558, 16582, 16589, 16617, 16626, 16626, 16629, 16629, 16636, 16641, 16642, 16643, 16694, 16700, 16704, 16707, 16716, 16716, 16717, 16718, 16718, 16723, 16733, 16733, 16733, 16779, 16783, 16783, 16787, 16793, 16793, 16797, 16803, 16819, 16820, 16874, 16878, 16879, 16904, 16914, 16914, 16915, 16922, 16931, 16934, 16957, 16988, 16992, 17028, 17039, 17049, 17057, 17062, 17068, 17073, 17078, 17081, 17099, 17141, 17160, 17168, 17179, 17182, 17186, 17191, 17197, 17209, 17218, 17219, 17220, 17221, 17223, 17224, 17240, 17250, 17263, 17294, 17297, 17312, 17313, 17317, 17323, 17323, 17327, 17329, 17343, 17353, 17353, 17358, 17365, 17374, 17392, 17393, 17400, 17403, 17403, 17414, 17425, 17436, 17447, 17473, 17485, 17496, 17534, 17545, 17581, 17590, 17605, 17608, 17642, 17650, 17663, 17666, 17676, 17685, 17723, 17724, 17759, 17776, 17805, 17811, 17816, 17820, 17864, 17869, 17887, 17892, 17898, 17904, 17916, 17934, 17995, 17999, 18017, 18026, 18034, 18077, 18124, 18128, 18149, 18152, 18172, 18176, 18178, 18183, 18186, 18193, 18206, 18231, 18236, 18239, 18242, 18242, 18295, 18310, 18312, 18318, 18318, 18320, 18325, 18340, 18358, 18398, 18421, 18426, 18426, 18430, 18432, 18435, 18447, 18447, 18458, 18462, 18468, 18483, 18487, 18493, 18557, 18565, 18571, 18604, 18653, 18663, 18678, 18678, 18680, 18691, 18706, 18718, 18777, 18803 \n",
            "VS1 :  11888, 11905, 11912, 11926, 11934, 11942, 11943, 11946, 11946, 11946, 11946, 11948, 11948, 11957, 11967, 11975, 12044, 12053, 12093, 12094, 12095, 12099, 12100, 12123, 12155, 12179, 12209, 12209, 12210, 12215, 12219, 12228, 12229, 12231, 12237, 12261, 12267, 12268, 12273, 12282, 12284, 12300, 12315, 12316, 12321, 12336, 12338, 12339, 12342, 12364, 12369, 12377, 12378, 12386, 12386, 12406, 12407, 12415, 12429, 12430, 12431, 12440, 12468, 12468, 12485, 12489, 12490, 12492, 12498, 12530, 12547, 12576, 12576, 12581, 12581, 12584, 12587, 12587, 12606, 12641, 12644, 12646, 12648, 12654, 12654, 12655, 12677, 12681, 12709, 12734, 12738, 12738, 12747, 12754, 12756, 12762, 12764, 12765, 12765, 12766, 12768, 12770, 12773, 12778, 12779, 12779, 12791, 12800, 12809, 12821, 12823, 12830, 12841, 12848, 12862, 12870, 12872, 12883, 12883, 12884, 12899, 12916, 12918, 12948, 12948, 12958, 12961, 12963, 12998, 12998, 13001, 13007, 13026, 13037, 13080, 13107, 13132, 13182, 13182, 13187, 13189, 13190, 13196, 13200, 13201, 13203, 13206, 13221, 13221, 13228, 13229, 13261, 13263, 13275, 13278, 13299, 13321, 13324, 13348, 13370, 13398, 13405, 13421, 13442, 13453, 13460, 13462, 13462, 13506, 13512, 13513, 13528, 13572, 13574, 13588, 13595, 13595, 13596, 13597, 13597, 13609, 13622, 13626, 13629, 13646, 13666, 13667, 13671, 13675, 13711, 13720, 13728, 13752, 13761, 13779, 13782, 13786, 13787, 13796, 13797, 13807, 13818, 13819, 13820, 13823, 13828, 13846, 13849, 13865, 13869, 13872, 13880, 13887, 13892, 13903, 13919, 13919, 13923, 13926, 13929, 13930, 13933, 13938, 13945, 13945, 13951, 13953, 13965, 13968, 13983, 13986, 13986, 13986, 13991, 13996, 13996, 14044, 14047, 14067, 14068, 14084, 14092, 14105, 14105, 14107, 14111, 14119, 14125, 14138, 14171, 14199, 14205, 14208, 14208, 14209, 14214, 14242, 14251, 14267, 14275, 14281, 14282, 14285, 14293, 14294, 14295, 14308, 14308, 14308, 14330, 14340, 14350, 14350, 14361, 14368, 14372, 14386, 14388, 14388, 14394, 14394, 14402, 14404, 14429, 14429, 14462, 14465, 14481, 14482, 14482, 14489, 14527, 14556, 14558, 14558, 14574, 14592, 14593, 14637, 14646, 14646, 14652, 14654, 14659, 14673, 14674, 14683, 14691, 14692, 14698, 14699, 14715, 14715, 14732, 14749, 14749, 14750, 14792, 14810, 14811, 14813, 14842, 14853, 14857, 14866, 14867, 14904, 14904, 14915, 14918, 14918, 14933, 14936, 14937, 14938, 14949, 14968, 15002, 15043, 15065, 15079, 15081, 15092, 15122, 15132, 15164, 15166, 15188, 15197, 15238, 15239, 15247, 15253, 15254, 15281, 15291, 15291, 15291, 15301, 15303, 15316, 15323, 15324, 15334, 15339, 15371, 15379, 15393, 15395, 15404, 15426, 15466, 15467, 15498, 15499, 15528, 15528, 15540, 15579, 15584, 15587, 15606, 15658, 15662, 15694, 15696, 15697, 15706, 15751, 15760, 15760, 15760, 15783, 15785, 15794, 15797, 15802, 15802, 15811, 15841, 15843, 15852, 15857, 15874, 15913, 15915, 15917, 15917, 15946, 15948, 15949, 15952, 15955, 15964, 15970, 15974, 15984, 15992, 15996, 16025, 16104, 16112, 16112, 16116, 16137, 16188, 16190, 16191, 16219, 16232, 16240, 16241, 16253, 16253, 16262, 16273, 16277, 16280, 16294, 16343, 16353, 16364, 16370, 16380, 16397, 16400, 16402, 16404, 16409, 16410, 16425, 16466, 16479, 16483, 16484, 16505, 16532, 16533, 16538, 16558, 16560, 16562, 16564, 16565, 16570, 16575, 16587, 16592, 16593, 16628, 16628, 16650, 16650, 16656, 16657, 16665, 16677, 16689, 16693, 16723, 16728, 16733, 16783, 16791, 16824, 16900, 16900, 16916, 16942, 16948, 16960, 16970, 16975, 16985, 17009, 17017, 17028, 17041, 17045, 17052, 17053, 17057, 17066, 17068, 17068, 17073, 17095, 17108, 17114, 17125, 17126, 17162, 17164, 17166, 17172, 17175, 17194, 17197, 17245, 17265, 17267, 17347, 17408, 17452, 17475, 17476, 17489, 17492, 17492, 17497, 17553, 17554, 17555, 17569, 17595, 17606, 17607, 17609, 17617, 17658, 17752, 17760, 17772, 17778, 17801, 17804, 17829, 17891, 17893, 17893, 17895, 17902, 17920, 17936, 17987, 18018, 18023, 18029, 18050, 18055, 18062, 18066, 18067, 18068, 18071, 18077, 18115, 18128, 18128, 18139, 18149, 18179, 18179, 18181, 18198, 18231, 18232, 18293, 18295, 18324, 18371, 18376, 18423, 18426, 18429, 18445, 18472, 18474, 18475, 18522, 18524, 18552, 18598, 18656, 18682, 18700, 18700, 18709, 18717, 18731, 18735, 18745, 18756, 18757, 18759, 18780, 18781, 18804, 18823 \n",
            "VVS2 :  11899, 11933, 11985, 12004, 12005, 12008, 12009, 12016, 12030, 12059, 12061, 12084, 12100, 12141, 12168, 12168, 12210, 12232, 12257, 12283, 12295, 12311, 12417, 12545, 12546, 12551, 12554, 12610, 12633, 12641, 12671, 12702, 12717, 12736, 12776, 12821, 12823, 12831, 12844, 12845, 12900, 12907, 12970, 12980, 12991, 13007, 13010, 13012, 13068, 13113, 13115, 13117, 13119, 13182, 13194, 13263, 13278, 13278, 13307, 13323, 13338, 13342, 13398, 13399, 13400, 13400, 13427, 13428, 13434, 13530, 13588, 13596, 13598, 13603, 13678, 13686, 13687, 13691, 13691, 13711, 13744, 13746, 13768, 13879, 13905, 13907, 13919, 13921, 13929, 13940, 14026, 14057, 14083, 14139, 14165, 14167, 14237, 14239, 14242, 14283, 14294, 14298, 14319, 14334, 14341, 14372, 14375, 14375, 14411, 14452, 14482, 14483, 14486, 14495, 14502, 14534, 14542, 14544, 14545, 14603, 14611, 14626, 14680, 14704, 14709, 14727, 14763, 14766, 14787, 14830, 14833, 14889, 15000, 15095, 15189, 15193, 15231, 15245, 15252, 15282, 15293, 15308, 15339, 15394, 15397, 15520, 15529, 15530, 15559, 15594, 15653, 15729, 15792, 15805, 15818, 15851, 15977, 15977, 16041, 16087, 16091, 16174, 16179, 16181, 16210, 16215, 16239, 16309, 16311, 16314, 16363, 16386, 16462, 16512, 16558, 16616, 16618, 16626, 16629, 16650, 16754, 16768, 16769, 16776, 16776, 16779, 16789, 16789, 16789, 16800, 16808, 16994, 17003, 17019, 17027, 17068, 17123, 17172, 17203, 17204, 17256, 17262, 17265, 17315, 17330, 17433, 17434, 17469, 17472, 17474, 17516, 17574, 17597, 17688, 17713, 17714, 17715, 17716, 17766, 17825, 17837, 17838, 17856, 17877, 17932, 17999, 18001, 18002, 18003, 18027, 18172, 18188, 18190, 18215, 18236, 18252, 18294, 18304, 18398, 18398, 18407, 18416, 18419, 18542, 18574, 18607, 18640, 18648 \n",
            "VVS1 :  11901, 11986, 11988, 11988, 12012, 12013, 12014, 12028, 12030, 12030, 12030, 12094, 12098, 12150, 12151, 12152, 12202, 12229, 12230, 12260, 12261, 12311, 12317, 12394, 12401, 12506, 12526, 12592, 12612, 12672, 12674, 12680, 12687, 12688, 12722, 12723, 12787, 12798, 12939, 12939, 12940, 12943, 12944, 12945, 13007, 13034, 13078, 13079, 13081, 13085, 13092, 13097, 13205, 13230, 13239, 13288, 13316, 13326, 13369, 13406, 13437, 13587, 13609, 13677, 13686, 13721, 13724, 13771, 13782, 13784, 13790, 13794, 13823, 13885, 13899, 13994, 14031, 14032, 14032, 14033, 14033, 14058, 14165, 14179, 14194, 14234, 14319, 14359, 14362, 14372, 14386, 14444, 14482, 14565, 14616, 14842, 14863, 14889, 14970, 14973, 14975, 14982, 15014, 15072, 15073, 15096, 15097, 15164, 15214, 15219, 15223, 15247, 15275, 15384, 15494, 15508, 15513, 15517, 15522, 15618, 15618, 15654, 15729, 15801, 15829, 15848, 15851, 15948, 16013, 16036, 16064, 16064, 16064, 16077, 16085, 16140, 16224, 16240, 16300, 16304, 16340, 16353, 16364, 16389, 16407, 16466, 16506, 16521, 16547, 16601, 16626, 16669, 16733, 16778, 16783, 16786, 16790, 16872, 16900, 16944, 16970, 17038, 17045, 17079, 17193, 17247, 17339, 17383, 17422, 17449, 17499, 17504, 17509, 17513, 17514, 17539, 17552, 17600, 17662, 17676, 17688, 17746, 17759, 17773, 17803, 17892, 17904, 17949, 17952, 17953, 18005, 18028, 18120, 18207, 18291, 18541, 18730 \n",
            "IF :  12226, 12257, 12261, 12305, 12334, 12341, 12361, 12713, 12870, 13015, 13109, 13112, 13219, 13234, 13630, 13631, 13846, 13919, 14039, 14040, 14042, 14042, 14042, 14061, 14065, 14127, 14185, 14220, 14220, 14578, 14745, 14775, 14935, 15395, 15690, 15740, 15874, 16126, 16169, 16316, 16518, 16611, 16921, 17051, 17168, 17214, 17216, 17357, 17403, 17455, 17515, 17522, 17523, 17548, 17849, 17986, 18029, 18055, 18120, 18159, 18257, 18259, 18275, 18276, 18405, 18481, 18599, 18741, 18768 \n"
          ]
        }
      ],
      "source": [
        "# Print outliers for each clarity group\n",
        "cat(\"Outliers by Clarity:\\n\")\n",
        "for (clr in names(outliers_by_clarity)) {\n",
        "  cat(clr, \": \", ifelse(length(outliers_by_clarity[[clr]]) == 0, \"No outliers\", toString(outliers_by_clarity[[clr]])), \"\\n\")\n",
        "}\n"
      ]
    },
    {
      "cell_type": "markdown",
      "metadata": {
        "id": "cY_Jgv9LBWcm"
      },
      "source": [
        "##### <span style='color:#3498DB; font-family: \"Helvetica\", Arial, sans-serif; font-size: 1.2em; font-weight: bold;'>Part e:</span>\n",
        "\n",
        "<span style='font-family: \"Segoe UI\", Tahoma, Geneva, Verdana, sans-serif; font-size: 1.2em; font-weight: bold;'>\n",
        "Plot a pie chart that visualizes the frequency of each color of diamonds. Each category must have a percentage and should have a unique color. Draw a legend for your pie chart.\n",
        "</span>\n"
      ]
    },
    {
      "cell_type": "markdown",
      "metadata": {
        "id": "5tF0rZ7QBWcm"
      },
      "source": [
        "In this part we make a pie chart illustrating the distribution of diamond colors from the provided dataset. It first creates a table of color frequencies, calculates the corresponding percentages rounded to two decimal places, and then uses the `pie()` function to visualize the distribution. The pie chart includes labeled percentages, a main title (\"Diamond Color Distribution\"), and a legend indicating the colors with their respective proportions. The color palette chosen is the `rainbow()` function."
      ]
    },
    {
      "cell_type": "code",
      "execution_count": null,
      "metadata": {
        "id": "p4palZ8MBWcm",
        "outputId": "a76f65dd-57ae-4c97-cf2a-c99e0bf89e1f",
        "vscode": {
          "languageId": "r"
        }
      },
      "outputs": [
        {
          "data": {
            "image/png": "[encoded data removed]",
            "text/plain": [
              "Plot with title \"Diamond Color Distribution\""
            ]
          },
          "metadata": {
            "image/png": {
              "height": 420,
              "width": 420
            }
          },
          "output_type": "display_data"
        }
      ],
      "source": [
        "# Create a table of diamond color frequencies\n",
        "color_table <- table(diamonds$color)\n",
        "\n",
        "# Calculate percentages and round to 2 decimal places\n",
        "color_percentages <- round(prop.table(color_table) * 100, 2)\n",
        "\n",
        "# Create a pie chart\n",
        "pie(color_table, labels = paste(color_percentages, \"%\", sep = \"\"), col = rainbow(length(color_table)),\n",
        "    main = \"Diamond Color Distribution\",\n",
        "    cex.main = 2)\n",
        "\n",
        "# Add a legend\n",
        "legend(\"topright\", legend = levels(diamonds$color), fill = rainbow(length(color_table)),\n",
        "       title = \"Colors\", cex = 0.8)\n"
      ]
    },
    {
      "cell_type": "markdown",
      "metadata": {
        "id": "-5pQ7VSnBWcm"
      },
      "source": [
        "##### <span style='color:#3498DB; font-family: \"Helvetica\", Arial, sans-serif; font-size: 1.2em; font-weight: bold;'>Part f:</span>\n",
        "\n",
        "<span style='font-family: \"Segoe UI\", Tahoma, Geneva, Verdana, sans-serif; font-size: 1.2em; font-weight: bold;'>\n",
        "Use a scatter plot to determine the relationship between ‘depth’ and ‘price’. Interpret your plot.\n",
        "</span>\n"
      ]
    },
    {
      "cell_type": "markdown",
      "metadata": {
        "id": "HRUF8qFbBWcn"
      },
      "source": [
        "In this part we make a scatter plot to visually analyze the potential relationship between the `depth` and `price` variables in the 'diamonds' dataset.The x-axis is labeled `Depth`, the y-axis is labeled `Price`. The scatter plot provides a quick visual assessment of how changes in `depth` may be associated with variations in `price` in the diamond dataset."
      ]
    },
    {
      "cell_type": "code",
      "execution_count": null,
      "metadata": {
        "id": "nqvZgIDrBWcn",
        "outputId": "8723d921-b4c9-4b3c-de3c-d8819a85d38d",
        "vscode": {
          "languageId": "r"
        }
      },
      "outputs": [
        {
          "data": {
            "image/png": "[encoded data removed]",
            "text/plain": [
              "Plot with title \"Scatter Plot: Depth vs. Price\""
            ]
          },
          "metadata": {
            "image/png": {
              "height": 420,
              "width": 420
            }
          },
          "output_type": "display_data"
        }
      ],
      "source": [
        "# Create a scatter plot\n",
        "plot(diamonds$depth, diamonds$price,\n",
        "     main = \"Scatter Plot: Depth vs. Price\",\n",
        "     xlab = \"Depth\",\n",
        "     ylab = \"Price\",\n",
        "     col = \"#a934db\",  # adjust color\n",
        "     pch = 16,         # Use solid dots\n",
        "     cex = 0.7)        # Adjust point size\n",
        "\n",
        "# Enhance axis labels and title\n",
        "title(main = \"Scatter Plot: Depth vs. Price\")\n",
        "title(xlab = \"Depth\")\n",
        "title(ylab = \"Price\")\n"
      ]
    },
    {
      "cell_type": "markdown",
      "metadata": {},
      "source": [
        "This scatter plot is illustrating the relationship between `Depth` on the x-axis and `Price` on the y-axis.\n",
        "\n",
        "\n",
        "1. The majority of data points are concentrated around a depth value of approximately 60 to 65, suggesting that this range of depths is the most common among the observations.\n",
        "\n",
        "2. The price values are quite varied and spread out, with a large number of data points at the lower end of the price scale, and fewer points as the price increases. This indicates that higher prices are less common.\n",
        "\n",
        "3. There is no clear linear relationship between depth and price; the data points do not form any distinct pattern or line. This suggests that depth alone may not be a strong predictor of price in this dataset.\n",
        "\n",
        "4. There are outliers in the data, particularly in price, where some data points are significantly higher than the majority of others. These outliers could represent special cases or errors in the data."
      ]
    }
  ],
  "metadata": {
    "colab": {
      "collapsed_sections": [
        "KQbRmJCrBWbi",
        "u4gFy0JTBWcO",
        "VrLL7kfNBWcQ",
        "_UUYPnglBWcU",
        "J2GKlfrIBWcV",
        "e2wZ3uNABWcb",
        "KnCCjZmwBWcg",
        "i7EvPYL5BWch"
      ],
      "provenance": [],
      "toc_visible": true
    },
    "kernelspec": {
      "display_name": "R",
      "language": "R",
      "name": "ir"
    },
    "language_info": {
      "codemirror_mode": "r",
      "file_extension": ".r",
      "mimetype": "text/x-r-source",
      "name": "R",
      "pygments_lexer": "r",
      "version": "4.2.2"
    }
  },
  "nbformat": 4,
  "nbformat_minor": 0
}
