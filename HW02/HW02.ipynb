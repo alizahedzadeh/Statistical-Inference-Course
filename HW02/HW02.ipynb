{
  "cells": [
    {
      "cell_type": "markdown",
      "metadata": {
        "id": "BcCCabvWBWbd"
      },
      "source": [
        "# <span style='font-family: \"Georgia\", Times, \"Times New Roman\", serif; color:#3498DB;'>**Statistical Inference Course (Spring 2024)**</span>\n",
        "\n",
        "## <span style='font-family: \"Helvetica Neue\", Helvetica, Arial, sans-serif; color:#2E86C1;'>**Homework 2**</span>\n",
        "\n",
        "<hr>\n",
        "\n",
        "### <span style='font-family: \"Courier New\", Courier, monospace; color:#27AE30;'>**Professor**</span>\n",
        "\n",
        "*   Dr. Behnam Bahrak\n",
        "\n",
        "### <span style='font-family: \"Courier New\", Courier, monospace; color:#E67E22;'>**Student**</span>\n",
        "\n",
        "*   Ali Zahedzadeh\n"
      ]
    },
    {
      "cell_type": "markdown",
      "metadata": {
        "id": "cdqq_CHkBWbh"
      },
      "source": [
        "<hr>"
      ]
    },
    {
      "cell_type": "markdown",
      "metadata": {
        "id": "KQbRmJCrBWbi"
      },
      "source": [
        "### <span style='color:#2ECC71; font-family: \"Arial\", sans-serif; font-size: 1.3em; font-weight: bold;'>Question 1</span>\n",
        "\n",
        "<span style='font-family: \"Segoe UI\", Tahoma, Geneva, Verdana, sans-serif; font-size: 1.2em; font-weight: bold;'>\n",
        "    Two fair dice are rolled. 𝐴 is defined as the event corresponding to “sum of two dice equals 4”, 𝐵 is the event corresponding to “sum of two dice equals 6”, and 𝐶 is the event corresponding to “at least one of the dice shows a 2”.\n",
        "\n",
        "</span>\n",
        "\n"
      ]
    },
    {
      "cell_type": "markdown",
      "metadata": {
        "id": "ScxC6X7XBWbi"
      },
      "source": [
        "#### <span style='color:#E74C3C; font-family: \"Arial\", sans-serif; font-size: 1.1em; font-weight: bold;'>Answer</span>"
      ]
    },
    {
      "cell_type": "markdown",
      "metadata": {},
      "source": [
        "##### <span style='color:#3498DB; font-family: \"Helvetica\", Arial, sans-serif; font-size: 1.2em; font-weight: bold;'>Part a:</span>\n",
        "\n",
        "<span style='font-family: \"Segoe UI\", Tahoma, Geneva, Verdana, sans-serif; font-size: 1.2em; font-weight: bold;'>\n",
        "    Calculate 𝑃(𝐴|𝐶). Are 𝐴 and 𝐶 independent?\n",
        "</span>\n",
        "\n",
        "\n"
      ]
    },
    {
      "cell_type": "markdown",
      "metadata": {},
      "source": [
        "To calculate  $P(A|C)$ , we first need to find $P(A \\cap C)$, which represents the probability of both events $(A)$ and $(C)$ occurring simultaneously.\n",
        "\n",
        "\n",
        "**Event $A$**: Sum of two dice equals 4.\n",
        "There are three ways this can happen: (1, 3), (2, 2), and (3, 1).\n",
        "\n",
        "**Event $C$**: At least one of the dice shows a 2.\n",
        "There are 11 outcomes where at least one die shows a 2:\n",
        "(1, 2), (2, 1), (2, 2), (2, 3), (2, 4), (2, 5), (2, 6), (3, 2), (4, 2), (5, 2), (6, 2).\n",
        "\n",
        "The intersection of $(A)$ and $(C)$ is when the sum of two dice equals 4 and at least one die shows a 2. The only outcome satisfying both conditions is (2, 2).\n",
        "\n",
        "So,  $P(A \\cap C) = \\frac{1}{36}$\n",
        "\n",
        "\n",
        "Event $C$ occurs if at least one of the dice shows a 2. There are 36 possible outcomes when two dice are rolled, and as previously mentioned, there are 11 outcomes where at least one die shows a 2.\n",
        "\n",
        "So, $P(C) = \\frac{11}{36}$.\n",
        "\n",
        "Now, based on conditional probability:\n",
        "\n",
        "$P(A|C) = \\frac{P(A \\cap C)}{P(C)}$\n",
        "\n",
        "$P(A|C) = \\frac{\\frac{1}{36}}{\\frac{11}{36}} = \\frac{1}{11}$\n",
        "\n",
        "This means the probability of getting a sum of 4 given that at least one die shows a 2 is $\\frac{1}{11}$.\n",
        "\n",
        "To determine if $A$ and $C$ are independent, we check if $P(A|C) = P(A)$. If they are independent, the conditional probability of $A$ given $C$ should be equal to the probability of $A$ itself. However, in this case, $P(A|C) \\neq P(A) $, so $A$ and $C$ are `dependent` events."
      ]
    },
    {
      "cell_type": "markdown",
      "metadata": {},
      "source": [
        "##### <span style='color:#3498DB; font-family: \"Helvetica\", Arial, sans-serif; font-size: 1.2em; font-weight: bold;'>Part b:</span>\n",
        "\n",
        "<span style='font-family: \"Segoe UI\", Tahoma, Geneva, Verdana, sans-serif; font-size: 1.2em; font-weight: bold;'>\n",
        "    Calculate 𝑃(𝐵|𝐶). Are 𝐵 and 𝐶 independent?\n",
        "</span>\n",
        "\n",
        "\n"
      ]
    },
    {
      "cell_type": "markdown",
      "metadata": {},
      "source": [
        "To find $P(B|C)$, we follow similar steps:\n",
        "\n",
        "**Event $B$**: Sum of two dice equals 6.\n",
        "There are five ways this can happen: (1, 5), (2, 4), (3, 3), (4, 2), and (5, 1).\n",
        "\n",
        "The intersection of $B$ and $C$ is when the sum of two dice equals 6 and at least one die shows a 2. There are two outcomes satisfying both conditions: (2, 4) and (4, 2).\n",
        "\n",
        "So, $P(B \\cap C) = \\frac{2}{36} = \\frac{1}{18}$.\n",
        "\n",
        "We already know $P(C) = \\frac{11}{36}$.\n",
        "\n",
        "Using the formula for conditional probability:\n",
        "\n",
        "$P(B|C) = \\frac{P(B \\cap C)}{P(C)} = \\frac{\\frac{1}{18}}{\\frac{11}{36}} = \\frac{2}{11}$\n",
        "\n",
        "This means the probability of getting a sum of 6 given that at least one die shows a 2 is $\\frac{2}{11}$.\n",
        "\n",
        "To check if $B$ and $C$ are independent, we compare $P(B|C)$ with $P(B)$. If they are independent, the conditional probability of $B$ given $C$ should be equal to the probability of $B$ itself. However, in this case, $P(B|C) \\neq P(B)$, so $B$ and $C$ are `dependent` events."
      ]
    },
    {
      "cell_type": "markdown",
      "metadata": {
        "id": "sulw4lP5BWcO"
      },
      "source": [
        "<hr>"
      ]
    },
    {
      "cell_type": "markdown",
      "metadata": {
        "id": "u4gFy0JTBWcO"
      },
      "source": [
        "### <span style='color:#2ECC71; font-family: \"Arial\", sans-serif; font-size: 1.3em; font-weight: bold;'>Question 2</span>\n",
        "\n",
        "<span style='font-family: \"Segoe UI\", Tahoma, Geneva, Verdana, sans-serif; font-size: 1.2em; font-weight: bold;'>\n",
        "\n",
        "Fifty-five percent of the students at a certain college are females. Eight percent of the students \n",
        "in  this  college  are  majoring  in  computer  science.  Three  percent  of  the  students  are  women \n",
        "majoring in computer science. If a student is selected at random, find the conditional probability \n",
        "that:\n",
        "</span>"
      ]
    },
    {
      "cell_type": "markdown",
      "metadata": {
        "id": "GPJcgozFBWcP"
      },
      "source": [
        "#### <span style='color:#E74C3C; font-family: \"Arial\", sans-serif; font-size: 1.1em; font-weight: bold;'>Answer</span>"
      ]
    },
    {
      "cell_type": "markdown",
      "metadata": {},
      "source": [
        "To solve this problem, let's denote the following events:\n",
        "\n",
        "- $F$: The event that the student selected is female.\n",
        "- $C$: The event that the student selected is majoring in computer science.\n",
        "\n",
        "We're given the following probabilities:\n",
        "\n",
        "$P(F) = 0.55$ (55% of students are female)\n",
        "\n",
        "$P(C) = 0.08$ (8% of students are majoring in computer science)\n",
        "\n",
        "$P(F \\cap C) = 0.03$ (3% of students are females majoring in computer science)"
      ]
    },
    {
      "cell_type": "markdown",
      "metadata": {
        "id": "AmdCRxV1BWcP"
      },
      "source": [
        "##### <span style='color:#3498DB; font-family: \"Helvetica\", Arial, sans-serif; font-size: 1.2em; font-weight: bold;'>Part a:</span>\n",
        "\n",
        "<span style='font-family: \"Segoe UI\", Tahoma, Geneva, Verdana, sans-serif; font-size: 1.2em; font-weight: bold;'>\n",
        "    The student is female given that the student is majoring in computer science. \n",
        "</span>\n",
        "\n",
        "\n"
      ]
    },
    {
      "cell_type": "markdown",
      "metadata": {},
      "source": [
        "The conditional probability that the student is female given that the student is majoring in computer science $P(F|C)$:\n",
        "\n",
        "$P(F|C) = \\frac{P(F \\cap C)}{P(C)}$\n",
        "\n",
        "$P(F|C) = \\frac{0.03}{0.08} = \\frac{3}{8}$\n",
        "\n",
        "So, the probability that the student is female given that the student is majoring in computer science is $\\frac{3}{8}$."
      ]
    },
    {
      "cell_type": "markdown",
      "metadata": {
        "id": "XX2ldxy8BWcQ"
      },
      "source": [
        "##### <span style='color:#3498DB; font-family: \"Helvetica\", Arial, sans-serif; font-size: 1.2em; font-weight: bold;'>Part b:</span>\n",
        "\n",
        "<span style='font-family: \"Segoe UI\", Tahoma, Geneva, Verdana, sans-serif; font-size: 1.2em; font-weight: bold;'>\n",
        "This student is majoring in computer science given that the student is female.\n",
        "</span>"
      ]
    },
    {
      "cell_type": "markdown",
      "metadata": {},
      "source": [
        "The conditional probability that the student is majoring in computer science given that the student is female $P(C|F) $:\n",
        "\n",
        "Again, using the formula for conditional probability:\n",
        "\n",
        "$P(C|F) = \\frac{P(F \\cap C)}{P(F)}$\n",
        "\n",
        "$P(C|F) = \\frac{0.03}{0.55} = \\frac{3}{55}$\n",
        "\n",
        "So, the probability that the student is majoring in computer science given that the student is female is approximately $\\frac{3}{55}$"
      ]
    },
    {
      "cell_type": "markdown",
      "metadata": {
        "id": "Ng5AP3DABWcQ"
      },
      "source": [
        "<hr>"
      ]
    },
    {
      "cell_type": "markdown",
      "metadata": {
        "id": "VrLL7kfNBWcQ"
      },
      "source": [
        "### <span style='color:#2ECC71; font-family: \"Arial\", sans-serif; font-size: 1.3em; font-weight: bold;'>Question 3</span>\n",
        "\n",
        "<span style='font-family: \"Segoe UI\", Tahoma, Geneva, Verdana, sans-serif; font-size: 1.2em; font-weight: bold;'>\n",
        "\n",
        "Many local polls of public opinion use samples of size 400 to 800. Consider a poll of 400 adults \n",
        "in Richmond that asks the question “Do you approve of President George W. Bush’s response \n",
        "to the World Trade Center terrorists attacks in September 2001?” Suppose we know that \n",
        "President Bush’s approval rating on this issue nationally is 92% a week after the incident.\n",
        "</span>"
      ]
    },
    {
      "cell_type": "markdown",
      "metadata": {
        "id": "ZlAUWUm_BWcR"
      },
      "source": [
        "#### <span style='color:#E74C3C; font-family: \"Arial\", sans-serif; font-size: 1.1em; font-weight: bold;'>Answer</span>"
      ]
    },
    {
      "cell_type": "markdown",
      "metadata": {
        "id": "o1K65IfKBWcR"
      },
      "source": [
        "##### <span style='color:#3498DB; font-family: \"Helvetica\", Arial, sans-serif; font-size: 1.2em; font-weight: bold;'>Part a:</span>\n",
        "\n",
        "<span style='font-family: \"Segoe UI\", Tahoma, Geneva, Verdana, sans-serif; font-size: 1.2em; font-weight: bold;'>\n",
        "What  is  the  distribution  of  random  variable  𝑋  that  model  number  of  people  who  answer \n",
        "positively to the above question? Explain.\n",
        "</span>"
      ]
    },
    {
      "cell_type": "markdown",
      "metadata": {},
      "source": [
        "The distribution of the random variable 𝑋, representing the number of people who answer positively to the question, follows a binomial distribution. \n",
        "\n",
        "In this case, each person can either approve or disapprove of President Bush's response to the Septempber 2001 attacks. Since there are only two possible outcomes (approve or disapprove) and the probability of success (approval) remains constant at 92%, it fits the conditions for a binomial distribution."
      ]
    },
    {
      "cell_type": "markdown",
      "metadata": {
        "id": "fG_oRXLiBWcT"
      },
      "source": [
        "##### <span style='color:#3498DB; font-family: \"Helvetica\", Arial, sans-serif; font-size: 1.2em; font-weight: bold;'>Part b:</span>\n",
        "\n",
        "<span style='font-family: \"Segoe UI\", Tahoma, Geneva, Verdana, sans-serif; font-size: 1.2em; font-weight: bold;'>\n",
        "Calculate the probability that at most 358 of the 400 adults in the Richmond poll answer \n",
        "“Yes” to this question.\n",
        "</span>"
      ]
    },
    {
      "cell_type": "markdown",
      "metadata": {},
      "source": [
        "To calculate the probability that at most 358 of the 400 adults answer \"Yes\" to the question, we can sum the probabilities of getting 0 to 358 \"Yes\" responses:\n",
        "\n",
        "$P(X \\leq 358) = \\sum_{x=0}^{358} \\binom{400}{x} (0.92)^x (0.08)^{400-x}$"
      ]
    },
    {
      "cell_type": "markdown",
      "metadata": {},
      "source": [
        "Use `R` for calculate probability"
      ]
    },
    {
      "cell_type": "code",
      "execution_count": 6,
      "metadata": {
        "vscode": {
          "languageId": "r"
        }
      },
      "outputs": [
        {
          "name": "stdout",
          "output_type": "stream",
          "text": [
            "P(X <= 358) = 0.04410268 \n"
          ]
        }
      ],
      "source": [
        "# Parameters\n",
        "n <- 400  # sample size\n",
        "p <- 0.92  # probability of approval\n",
        "x <- 358  # number of \"Yes\" responses\n",
        "\n",
        "# Calculate the cumulative probability\n",
        "prob_at_most_358 <- pbinom(x, size = n, prob = p)\n",
        "cat(\"P(X <= 358) =\", prob_at_most_358, \"\\n\")"
      ]
    },
    {
      "cell_type": "markdown",
      "metadata": {
        "id": "WOx9-F2KBWcT"
      },
      "source": [
        "##### <span style='color:#3498DB; font-family: \"Helvetica\", Arial, sans-serif; font-size: 1.2em; font-weight: bold;'>Part c:</span>\n",
        "\n",
        "<span style='font-family: \"Segoe UI\", Tahoma, Geneva, Verdana, sans-serif; font-size: 1.2em; font-weight: bold;'>\n",
        "Find the expected number of people in the sample who indicate approval. Find the \n",
        "standard deviation of 𝑋.\n",
        "</span>"
      ]
    },
    {
      "cell_type": "markdown",
      "metadata": {},
      "source": [
        "The expected number of people in the sample who indicate approval can be found using the expected value formula for a binomial distribution:\n",
        "\n",
        "$E(X) = np$\n",
        "\n",
        "Where $n = 400$ (sample size) and $p = 0.92$ (probability of approval).\n",
        "\n",
        "$E(X) = (400)(0.92) = 368$\n",
        "\n",
        "To find the standard deviation of $X$, we can use the formula:\n",
        "\n",
        "$\\sigma = \\sqrt{np(1-p)} = \\sqrt{(400)(0.92)(0.08)} = 5.426$"
      ]
    },
    {
      "cell_type": "markdown",
      "metadata": {},
      "source": [
        "Use `R` for calculate $E(X)$ and $\\sigma$"
      ]
    },
    {
      "cell_type": "code",
      "execution_count": 2,
      "metadata": {
        "vscode": {
          "languageId": "r"
        }
      },
      "outputs": [
        {
          "name": "stdout",
          "output_type": "stream",
          "text": [
            "E(X) = 368 \n",
            "Standard Deviation = 5.425864 \n"
          ]
        }
      ],
      "source": [
        "# Parameters\n",
        "n <- 400  # sample size\n",
        "p <- 0.92  # probability of approval\n",
        "\n",
        "# Calculate expected value\n",
        "expected_value <- n * p\n",
        "\n",
        "# Calculate standard deviation\n",
        "standard_deviation <- sqrt(n * p * (1 - p))\n",
        "\n",
        "# Print expected value and standard deviation\n",
        "cat(\"E(X) =\", expected_value, \"\\n\")\n",
        "cat(\"Standard Deviation =\", standard_deviation, \"\\n\")\n"
      ]
    },
    {
      "cell_type": "markdown",
      "metadata": {
        "id": "8P9BK4BKBWcT"
      },
      "source": [
        "##### <span style='color:#3498DB; font-family: \"Helvetica\", Arial, sans-serif; font-size: 1.2em; font-weight: bold;'>Part d:</span>\n",
        "\n",
        "<span style='font-family: \"Segoe UI\", Tahoma, Geneva, Verdana, sans-serif; font-size: 1.2em; font-weight: bold;'>\n",
        "Use a normal approximation to answer the question in (b), and compare the results of the \n",
        "exact value and the normal approximation. Is the normal approximation satisfactory?\n",
        "</span>"
      ]
    },
    {
      "cell_type": "markdown",
      "metadata": {},
      "source": [
        "To perform a normal approximation to answer the question in, we need to calculate the z-score for $X = 358$, given the mean $\\mu = 368$ and standard deviation $\\sigma = 5.426$. Then, we can use the standard normal distribution to find the probability.\n",
        "\n",
        "The z-score formula is (we use `Continuty Correction Factor` it's mentioned in our course):\n",
        "\n",
        "$Z = \\frac{X - \\mu}{\\sigma}$\n",
        "\n",
        "\n",
        "\n",
        "$P(X \\leq 358) = P(Z \\leq \\frac{358 - 368 + 0.5}{5.426}) = P(Z \\leq -1.751) = 0.04$"
      ]
    },
    {
      "cell_type": "markdown",
      "metadata": {},
      "source": [
        "Calculate above values using `R`"
      ]
    },
    {
      "cell_type": "code",
      "execution_count": 11,
      "metadata": {
        "vscode": {
          "languageId": "r"
        }
      },
      "outputs": [
        {
          "name": "stdout",
          "output_type": "stream",
          "text": [
            "P(X <= 358) - Normal = 0.03266609 \n"
          ]
        }
      ],
      "source": [
        "# Parameters\n",
        "X <- 358  # Number of \"Yes\" responses\n",
        "mu <- 368  # Mean\n",
        "sigma <- 5.426  # Standard deviation\n",
        "\n",
        "# Calculate z-score\n",
        "Z <- (X - mu) / sigma\n",
        "\n",
        "# Calculate probability using the standard normal distribution\n",
        "prob <- pnorm(Z)\n",
        "cat(\"P(X <= 358) - Normal =\", prob, \"\\n\")"
      ]
    },
    {
      "cell_type": "code",
      "execution_count": 12,
      "metadata": {
        "vscode": {
          "languageId": "r"
        }
      },
      "outputs": [
        {
          "name": "stdout",
          "output_type": "stream",
          "text": [
            "P(X <= 358) - Exact Value = 0.04410268 \n"
          ]
        }
      ],
      "source": [
        "# Exact binomial calculation\n",
        "prob_exact <- pbinom(X, size = n, prob = p)\n",
        "\n",
        "cat(\"P(X <= 358) - Exact Value =\", prob_exact, \"\\n\")"
      ]
    },
    {
      "cell_type": "markdown",
      "metadata": {},
      "source": [
        "We can see, the exact probability calculated using the binomial distribution $P(X \\leq 358) = 0.04410268$ is slightly higher than the probability obtained using the normal approximation $P(X \\leq 358) = 0.03266609$. This discrepancy suggests that the normal approximation underestimates the probability slightly in this case. \n",
        "\n",
        "The reason for this discrepancy is likely due to the fact that the binomial distribution is not perfectly symmetrical, especially when $p$ is close to 1, as in this case $p = 0.92 $. The normal approximation assumes a perfect symmetry, which might not hold true for this distribution.\n",
        "\n",
        "In conclusion, while the normal approximation gives a rough estimate, it's not as accurate as the exact binomial calculation in this scenario. (because normal distribution is a continous distribution and binomial is a discrete distbrution so it's have error - based on our course.)"
      ]
    },
    {
      "cell_type": "markdown",
      "metadata": {
        "id": "rS47X12qBWcT"
      },
      "source": [
        "<hr>"
      ]
    },
    {
      "cell_type": "markdown",
      "metadata": {
        "id": "_UUYPnglBWcU"
      },
      "source": [
        "### <span style='color:#2ECC71; font-family: \"Arial\", sans-serif; font-size: 1.3em; font-weight: bold;'>Question 4</span>\n",
        "\n",
        "<span style='font-family: \"Segoe UI\", Tahoma, Geneva, Verdana, sans-serif; font-size: 1.2em; font-weight: bold;'>\n",
        "\n",
        "You enter a chess tournament where your probability of winning a game is 0.3 against half the players (call them type 1) 0.4 against a quarter of the players (type 2) and 0.5 against the remaining quarter of the players (type 3). You play a game against a randomly chosen opponent. What is the probability of winning? \n",
        "</span>"
      ]
    },
    {
      "cell_type": "markdown",
      "metadata": {
        "id": "5duhcY3OBWcU"
      },
      "source": [
        "#### <span style='color:#E74C3C; font-family: \"Arial\", sans-serif; font-size: 1.1em; font-weight: bold;'>Answer</span>"
      ]
    },
    {
      "cell_type": "markdown",
      "metadata": {},
      "source": [
        "We use the law of total probability for finding the wining probability. \n",
        "\n",
        "\n",
        "- $P(W)$ as the probability of winning a game.\n",
        "- $P(T_1)$, $P(T_2)$, $P(T_3)$ as the probabilities of randomly selecting each type of player.\n",
        "- $P(W|T_i)$ as the probability of winning a game given that the opponent is of type $T_i$, where $i$ ranges from 1 to 3.\n",
        "\n",
        "Given the information provided:\n",
        "\n",
        "- $P(T_1) = \\frac{1}{2}$\n",
        "- $P(T_2) = P(T_3) = \\frac{1}{4}$\n",
        "\n",
        "The probabilities of winning against each type of player:\n",
        "\n",
        "- $P(W|T_1) = 0.3$\n",
        "- $P(W|T_2) = 0.4$\n",
        "- $P(W|T_3) = 0.5$\n",
        "\n",
        "the probability of winning a game :\n",
        "\n",
        "\n",
        "$P(W) = P(W|T_1) \\cdot P(T_1) + P(W|T_2) \\cdot P(T_2) + P(W|T_3) \\cdot P(T_3)$\n",
        "\n",
        "\n",
        "Substituting the values:\n",
        "\n",
        "\n",
        "$P(W) = (0.3 \\times \\frac{1}{2}) + (0.4 \\times \\frac{1}{4}) + (0.5 \\times \\frac{1}{4})$\n",
        "\n",
        "\n",
        "\n",
        "$P(W) = 0.15 + 0.1 + 0.125$\n",
        "\n",
        "\n",
        "\n",
        "$P(W) = 0.375$\n",
        "\n",
        "So, the probability of winning a game against a randomly chosen opponent is 0.375."
      ]
    },
    {
      "cell_type": "markdown",
      "metadata": {
        "id": "1UFyn2V8BWcV"
      },
      "source": [
        "<hr>"
      ]
    },
    {
      "cell_type": "markdown",
      "metadata": {
        "id": "J2GKlfrIBWcV"
      },
      "source": [
        "### <span style='color:#2ECC71; font-family: \"Arial\", sans-serif; font-size: 1.3em; font-weight: bold;'>Question 5</span>\n",
        "\n",
        "<span style='font-family: \"Segoe UI\", Tahoma, Geneva, Verdana, sans-serif; font-size: 1.2em; font-weight: bold;'>\n",
        "You write a software program over and over, and each time there is probability 𝑝 that it works correctly, independent of previous attempts. What is the mean and variance of 𝑋, the number of tries until the program works correctly?\n",
        "</span>\n",
        "\n"
      ]
    },
    {
      "cell_type": "markdown",
      "metadata": {
        "id": "H_Jp-9_uBWcZ"
      },
      "source": [
        "#### <span style='color:#E74C3C; font-family: \"Arial\", sans-serif; font-size: 1.1em; font-weight: bold;'>Answer</span>"
      ]
    },
    {
      "cell_type": "markdown",
      "metadata": {},
      "source": [
        "The number of tries until the program works correctly follows a geometric distribution, where the probability of success $p$ remains constant across each trial and each trial is independent.\n",
        "\n",
        "The mean (expected value) of a geometric distribution is given by $\\frac{1}{p}$, and the variance is given by $\\frac{1-p}{p^2}$.\n",
        "\n",
        "So, for this scenario:\n",
        "\n",
        "Mean $\\mu$ = $\\frac{1}{p}$\n",
        "\n",
        "Variance $\\sigma^2$ = $\\frac{1-p}{p^2}$"
      ]
    },
    {
      "cell_type": "markdown",
      "metadata": {
        "id": "ygFPK-nSBWcb"
      },
      "source": [
        "<hr>"
      ]
    },
    {
      "cell_type": "markdown",
      "metadata": {
        "id": "e2wZ3uNABWcb"
      },
      "source": [
        "### <span style='color:#2ECC71; font-family: \"Arial\", sans-serif; font-size: 1.3em; font-weight: bold;'>Question 6</span>\n",
        "\n",
        "<span style='font-family: \"Segoe UI\", Tahoma, Geneva, Verdana, sans-serif; font-size: 1.2em; font-weight: bold;'>\n",
        "\n",
        "The time Negar takes to cycle from home to school is normally distributed with a mean of 40 and \n",
        "a variance of 7 (minutes). If Negar wants to have 95 percent confidence that she can attend her \n",
        "class at 1 pm, what is the latest time she can leave the house? \n",
        "</span>\n",
        "\n"
      ]
    },
    {
      "cell_type": "markdown",
      "metadata": {
        "id": "kjmjouO2BWcb"
      },
      "source": [
        "#### <span style='color:#E74C3C; font-family: \"Arial\", sans-serif; font-size: 1.1em; font-weight: bold;'>Answer</span>"
      ]
    },
    {
      "cell_type": "markdown",
      "metadata": {},
      "source": [
        "To find the latest time Negar can leave the house with 95% confidence that she can attend her class at 1 pm, we need to determine the appropriate z-score corresponding to the 95th percentile of the standard normal distribution.\n",
        "\n",
        "Given that the time it takes for Negar to cycle from home to school follows a normal distribution with a mean $\\mu$ of 40 minutes and a variance $\\sigma^2$ of 7 minutes, we first need to find the standard deviation $\\sigma$ by taking the square root of the variance:\n",
        "\n",
        "$\\sigma = \\sqrt{7} \\approx 2.65$\n",
        "\n",
        "Next, we calculate the z-score corresponding to the 95th percentile of the standard normal distribution, denoted as $ z_{0.95}$. This value corresponds to the number of standard deviations from the mean such that 95% of the data falls below it.\n",
        "\n",
        "Since we want to find the z-score for the upper 5% (corresponding to 95% confidence), we find $z_{0.95}$ using the standard normal distribution table or calculator. The z-score for the upper 5% is approximately 1.645.\n",
        "\n",
        "Now, we use the z-score formula to find the latest time Negar can leave the house:\n",
        "\n",
        "$\\text{Latest Time} = \\mu + z_{\\alpha} \\cdot \\sigma$\n",
        "\n",
        "Where:\n",
        "- $\\mu$ = mean = 40 minutes\n",
        "- $z_{\\alpha}$ = z-score corresponding to the upper $\\alpha$ percentile (95th percentile in this case) = 1.645\n",
        "- $\\sigma$ = standard deviation = $\\sqrt{7}$ minutes\n",
        "\n",
        "Substituting the values:\n",
        "\n",
        "$\\text{Latest Time} = 40 + 1.645 \\times 2.65$\n",
        "\n",
        "$\\text{Latest Time} \\approx 44.39$\n",
        "\n",
        "So, Negar can leave the house at approximately 44 minutes before 1 pm, which is approximately 12:16 pm, to have 95% confidence of attending her class at 1 pm."
      ]
    },
    {
      "cell_type": "markdown",
      "metadata": {
        "id": "6wp2h84UBWcg"
      },
      "source": [
        "<hr>"
      ]
    },
    {
      "cell_type": "markdown",
      "metadata": {
        "id": "KnCCjZmwBWcg"
      },
      "source": [
        "### <span style='color:#2ECC71; font-family: \"Arial\", sans-serif; font-size: 1.3em; font-weight: bold;'>Question 7</span>\n",
        "\n",
        "<span style='font-family: \"Segoe UI\", Tahoma, Geneva, Verdana, sans-serif; font-size: 1.2em; font-weight: bold;'>\n",
        "\n",
        "In this question, you are going to use the “Heart” dataset. This dataset consists of some \n",
        "details about 900 people. Note that you must use the ggplot2 library to draw the diagrams.\n",
        "</span>"
      ]
    },
    {
      "cell_type": "markdown",
      "metadata": {
        "id": "i7EvPYL5BWch"
      },
      "source": [
        "#### <span style='color:#E74C3C; font-family: \"Arial\", sans-serif; font-size: 1.1em; font-weight: bold;'>Answer</span>"
      ]
    },
    {
      "cell_type": "markdown",
      "metadata": {
        "id": "1-GFxXp_BWcj"
      },
      "source": [
        "##### <span style='color:#3498DB; font-family: \"Helvetica\", Arial, sans-serif; font-size: 1.2em; font-weight: bold;'>Part a:</span>\n",
        "\n",
        "<span style='font-family: \"Segoe UI\", Tahoma, Geneva, Verdana, sans-serif; font-size: 1.2em; font-weight: bold;'>\n",
        "Plot the histogram  for  age with an appropriate bin size. Then overlay that  with the density \n",
        "curve. You also have to mark the 2.5% and the 97.5% percentiles on the diagram.\n",
        "</span>\n"
      ]
    },
    {
      "cell_type": "markdown",
      "metadata": {},
      "source": [
        "First Read Our dataset (The `heart disease` dataset not exist in `R`)"
      ]
    },
    {
      "cell_type": "code",
      "execution_count": 7,
      "metadata": {
        "vscode": {
          "languageId": "r"
        }
      },
      "outputs": [
        {
          "name": "stdout",
          "output_type": "stream",
          "text": [
            "'data.frame':\t303 obs. of  14 variables:\n",
            " $ age     : int  63 37 41 56 57 57 56 44 52 57 ...\n",
            " $ sex     : int  1 1 0 1 0 1 0 1 1 1 ...\n",
            " $ cp      : int  3 2 1 1 0 0 1 1 2 2 ...\n",
            " $ trtbps  : int  145 130 130 120 120 140 140 120 172 150 ...\n",
            " $ chol    : int  233 250 204 236 354 192 294 263 199 168 ...\n",
            " $ fbs     : int  1 0 0 0 0 0 0 0 1 0 ...\n",
            " $ restecg : int  0 1 0 1 1 1 0 1 1 1 ...\n",
            " $ thalachh: int  150 187 172 178 163 148 153 173 162 174 ...\n",
            " $ exng    : int  0 0 0 0 1 0 0 0 0 0 ...\n",
            " $ oldpeak : num  2.3 3.5 1.4 0.8 0.6 0.4 1.3 0 0.5 1.6 ...\n",
            " $ slp     : int  0 0 2 2 2 1 1 2 2 2 ...\n",
            " $ caa     : int  0 0 0 0 0 0 0 0 0 0 ...\n",
            " $ thall   : int  1 2 2 2 2 1 2 3 3 2 ...\n",
            " $ output  : int  1 1 1 1 1 1 1 1 1 1 ...\n"
          ]
        },
        {
          "data": {
            "text/html": [
              "<table class=\"dataframe\">\n",
              "<caption>A data.frame: 6 × 14</caption>\n",
              "<thead>\n",
              "\t<tr><th></th><th scope=col>age</th><th scope=col>sex</th><th scope=col>cp</th><th scope=col>trtbps</th><th scope=col>chol</th><th scope=col>fbs</th><th scope=col>restecg</th><th scope=col>thalachh</th><th scope=col>exng</th><th scope=col>oldpeak</th><th scope=col>slp</th><th scope=col>caa</th><th scope=col>thall</th><th scope=col>output</th></tr>\n",
              "\t<tr><th></th><th scope=col>&lt;int&gt;</th><th scope=col>&lt;int&gt;</th><th scope=col>&lt;int&gt;</th><th scope=col>&lt;int&gt;</th><th scope=col>&lt;int&gt;</th><th scope=col>&lt;int&gt;</th><th scope=col>&lt;int&gt;</th><th scope=col>&lt;int&gt;</th><th scope=col>&lt;int&gt;</th><th scope=col>&lt;dbl&gt;</th><th scope=col>&lt;int&gt;</th><th scope=col>&lt;int&gt;</th><th scope=col>&lt;int&gt;</th><th scope=col>&lt;int&gt;</th></tr>\n",
              "</thead>\n",
              "<tbody>\n",
              "\t<tr><th scope=row>1</th><td>63</td><td>1</td><td>3</td><td>145</td><td>233</td><td>1</td><td>0</td><td>150</td><td>0</td><td>2.3</td><td>0</td><td>0</td><td>1</td><td>1</td></tr>\n",
              "\t<tr><th scope=row>2</th><td>37</td><td>1</td><td>2</td><td>130</td><td>250</td><td>0</td><td>1</td><td>187</td><td>0</td><td>3.5</td><td>0</td><td>0</td><td>2</td><td>1</td></tr>\n",
              "\t<tr><th scope=row>3</th><td>41</td><td>0</td><td>1</td><td>130</td><td>204</td><td>0</td><td>0</td><td>172</td><td>0</td><td>1.4</td><td>2</td><td>0</td><td>2</td><td>1</td></tr>\n",
              "\t<tr><th scope=row>4</th><td>56</td><td>1</td><td>1</td><td>120</td><td>236</td><td>0</td><td>1</td><td>178</td><td>0</td><td>0.8</td><td>2</td><td>0</td><td>2</td><td>1</td></tr>\n",
              "\t<tr><th scope=row>5</th><td>57</td><td>0</td><td>0</td><td>120</td><td>354</td><td>0</td><td>1</td><td>163</td><td>1</td><td>0.6</td><td>2</td><td>0</td><td>2</td><td>1</td></tr>\n",
              "\t<tr><th scope=row>6</th><td>57</td><td>1</td><td>0</td><td>140</td><td>192</td><td>0</td><td>1</td><td>148</td><td>0</td><td>0.4</td><td>1</td><td>0</td><td>1</td><td>1</td></tr>\n",
              "</tbody>\n",
              "</table>\n"
            ],
            "text/latex": [
              "A data.frame: 6 × 14\n",
              "\\begin{tabular}{r|llllllllllllll}\n",
              "  & age & sex & cp & trtbps & chol & fbs & restecg & thalachh & exng & oldpeak & slp & caa & thall & output\\\\\n",
              "  & <int> & <int> & <int> & <int> & <int> & <int> & <int> & <int> & <int> & <dbl> & <int> & <int> & <int> & <int>\\\\\n",
              "\\hline\n",
              "\t1 & 63 & 1 & 3 & 145 & 233 & 1 & 0 & 150 & 0 & 2.3 & 0 & 0 & 1 & 1\\\\\n",
              "\t2 & 37 & 1 & 2 & 130 & 250 & 0 & 1 & 187 & 0 & 3.5 & 0 & 0 & 2 & 1\\\\\n",
              "\t3 & 41 & 0 & 1 & 130 & 204 & 0 & 0 & 172 & 0 & 1.4 & 2 & 0 & 2 & 1\\\\\n",
              "\t4 & 56 & 1 & 1 & 120 & 236 & 0 & 1 & 178 & 0 & 0.8 & 2 & 0 & 2 & 1\\\\\n",
              "\t5 & 57 & 0 & 0 & 120 & 354 & 0 & 1 & 163 & 1 & 0.6 & 2 & 0 & 2 & 1\\\\\n",
              "\t6 & 57 & 1 & 0 & 140 & 192 & 0 & 1 & 148 & 0 & 0.4 & 1 & 0 & 1 & 1\\\\\n",
              "\\end{tabular}\n"
            ],
            "text/markdown": [
              "\n",
              "A data.frame: 6 × 14\n",
              "\n",
              "| <!--/--> | age &lt;int&gt; | sex &lt;int&gt; | cp &lt;int&gt; | trtbps &lt;int&gt; | chol &lt;int&gt; | fbs &lt;int&gt; | restecg &lt;int&gt; | thalachh &lt;int&gt; | exng &lt;int&gt; | oldpeak &lt;dbl&gt; | slp &lt;int&gt; | caa &lt;int&gt; | thall &lt;int&gt; | output &lt;int&gt; |\n",
              "|---|---|---|---|---|---|---|---|---|---|---|---|---|---|---|\n",
              "| 1 | 63 | 1 | 3 | 145 | 233 | 1 | 0 | 150 | 0 | 2.3 | 0 | 0 | 1 | 1 |\n",
              "| 2 | 37 | 1 | 2 | 130 | 250 | 0 | 1 | 187 | 0 | 3.5 | 0 | 0 | 2 | 1 |\n",
              "| 3 | 41 | 0 | 1 | 130 | 204 | 0 | 0 | 172 | 0 | 1.4 | 2 | 0 | 2 | 1 |\n",
              "| 4 | 56 | 1 | 1 | 120 | 236 | 0 | 1 | 178 | 0 | 0.8 | 2 | 0 | 2 | 1 |\n",
              "| 5 | 57 | 0 | 0 | 120 | 354 | 0 | 1 | 163 | 1 | 0.6 | 2 | 0 | 2 | 1 |\n",
              "| 6 | 57 | 1 | 0 | 140 | 192 | 0 | 1 | 148 | 0 | 0.4 | 1 | 0 | 1 | 1 |\n",
              "\n"
            ],
            "text/plain": [
              "  age sex cp trtbps chol fbs restecg thalachh exng oldpeak slp caa thall output\n",
              "1 63  1   3  145    233  1   0       150      0    2.3     0   0   1     1     \n",
              "2 37  1   2  130    250  0   1       187      0    3.5     0   0   2     1     \n",
              "3 41  0   1  130    204  0   0       172      0    1.4     2   0   2     1     \n",
              "4 56  1   1  120    236  0   1       178      0    0.8     2   0   2     1     \n",
              "5 57  0   0  120    354  0   1       163      1    0.6     2   0   2     1     \n",
              "6 57  1   0  140    192  0   1       148      0    0.4     1   0   1     1     "
            ]
          },
          "metadata": {},
          "output_type": "display_data"
        }
      ],
      "source": [
        "# Set the file path\n",
        "file_path <- \"heart.csv\"\n",
        "\n",
        "# Read the CSV file\n",
        "data <- read.csv(file_path)\n",
        "\n",
        "# Check the structure of the data\n",
        "str(data)\n",
        "\n",
        "# View the first few rows of the data\n",
        "head(data)\n"
      ]
    },
    {
      "cell_type": "code",
      "execution_count": 8,
      "metadata": {
        "vscode": {
          "languageId": "r"
        }
      },
      "outputs": [
        {
          "data": {
            "text/plain": [
              "      age             sex               cp            trtbps     \n",
              " Min.   :29.00   Min.   :0.0000   Min.   :0.000   Min.   : 94.0  \n",
              " 1st Qu.:47.50   1st Qu.:0.0000   1st Qu.:0.000   1st Qu.:120.0  \n",
              " Median :55.00   Median :1.0000   Median :1.000   Median :130.0  \n",
              " Mean   :54.37   Mean   :0.6832   Mean   :0.967   Mean   :131.6  \n",
              " 3rd Qu.:61.00   3rd Qu.:1.0000   3rd Qu.:2.000   3rd Qu.:140.0  \n",
              " Max.   :77.00   Max.   :1.0000   Max.   :3.000   Max.   :200.0  \n",
              "      chol            fbs            restecg          thalachh    \n",
              " Min.   :126.0   Min.   :0.0000   Min.   :0.0000   Min.   : 71.0  \n",
              " 1st Qu.:211.0   1st Qu.:0.0000   1st Qu.:0.0000   1st Qu.:133.5  \n",
              " Median :240.0   Median :0.0000   Median :1.0000   Median :153.0  \n",
              " Mean   :246.3   Mean   :0.1485   Mean   :0.5281   Mean   :149.6  \n",
              " 3rd Qu.:274.5   3rd Qu.:0.0000   3rd Qu.:1.0000   3rd Qu.:166.0  \n",
              " Max.   :564.0   Max.   :1.0000   Max.   :2.0000   Max.   :202.0  \n",
              "      exng           oldpeak          slp             caa        \n",
              " Min.   :0.0000   Min.   :0.00   Min.   :0.000   Min.   :0.0000  \n",
              " 1st Qu.:0.0000   1st Qu.:0.00   1st Qu.:1.000   1st Qu.:0.0000  \n",
              " Median :0.0000   Median :0.80   Median :1.000   Median :0.0000  \n",
              " Mean   :0.3267   Mean   :1.04   Mean   :1.399   Mean   :0.7294  \n",
              " 3rd Qu.:1.0000   3rd Qu.:1.60   3rd Qu.:2.000   3rd Qu.:1.0000  \n",
              " Max.   :1.0000   Max.   :6.20   Max.   :2.000   Max.   :4.0000  \n",
              "     thall           output      \n",
              " Min.   :0.000   Min.   :0.0000  \n",
              " 1st Qu.:2.000   1st Qu.:0.0000  \n",
              " Median :2.000   Median :1.0000  \n",
              " Mean   :2.314   Mean   :0.5446  \n",
              " 3rd Qu.:3.000   3rd Qu.:1.0000  \n",
              " Max.   :3.000   Max.   :1.0000  "
            ]
          },
          "metadata": {},
          "output_type": "display_data"
        }
      ],
      "source": [
        "summary(data)"
      ]
    },
    {
      "cell_type": "markdown",
      "metadata": {},
      "source": [
        "In this part utilizes the `Freedman-Diaconis` (mentioned in our course) rule to determine an appropriate bin width for creating a histogram of ages in dataset. It then generates a histogram with a density curve, visually representing the distribution of ages, and adds dashed vertical lines indicating the 2.5th and 97.5th percentiles."
      ]
    },
    {
      "cell_type": "code",
      "execution_count": 10,
      "metadata": {
        "vscode": {
          "languageId": "r"
        }
      },
      "outputs": [
        {
          "data": {
            "image/png": "[encoded data removed]",
            "text/plain": [
              "plot without title"
            ]
          },
          "metadata": {
            "image/png": {
              "height": 420,
              "width": 420
            }
          },
          "output_type": "display_data"
        }
      ],
      "source": [
        "library(ggplot2)\n",
        "\n",
        "# Calculate Freedman-Diaconis bin width\n",
        "fd_bin_width <- diff(quantile(data$age, c(0.25, 0.75))) / (2 * IQR(data$age)^(1/3))\n",
        "\n",
        "# Round bin width to a whole number\n",
        "bins <- round(diff(range(data$age)) / fd_bin_width)\n",
        "\n",
        "# Create histogram with density curve\n",
        "ggplot(data, aes(x = age)) +\n",
        "  geom_histogram(aes(y = ..density..), bins = bins, fill = \"lightblue\", color = \"black\", alpha = 0.8) +\n",
        "  geom_density(color = \"red\", size = 1.5) +\n",
        "  labs(x = \"Age\", y = \"Density\", title = \"Histogram of Age with Density Curve\") +\n",
        "  geom_vline(xintercept = quantile(data$age, c(0.025, 0.975)), linetype = \"dashed\", color = \"blue\") +\n",
        "  geom_text(data = data.frame(x = quantile(data$age, c(0.025, 0.975)), y = 0.02), \n",
        "            aes(x = x, y = y, label = paste0(round(quantile(data$age, c(0.025, 0.975)), 1))),\n",
        "            vjust = -0.5, color = \"#080850\", size = 3)\n"
      ]
    },
    {
      "cell_type": "markdown",
      "metadata": {
        "id": "WGZbIKgNBWck"
      },
      "source": [
        "##### <span style='color:#3498DB; font-family: \"Helvetica\", Arial, sans-serif; font-size: 1.2em; font-weight: bold;'>Part b:</span>\n",
        "\n",
        "<span style='font-family: \"Segoe UI\", Tahoma, Geneva, Verdana, sans-serif; font-size: 1.2em; font-weight: bold;'>\n",
        "Draw the QQ-plot of thalch (maximum heart rate achieved) for each gender. Can we sensibly \n",
        "assume that this variable is coming from a Gaussian distribution? \n",
        "</span>\n"
      ]
    },
    {
      "cell_type": "code",
      "execution_count": 37,
      "metadata": {
        "vscode": {
          "languageId": "r"
        }
      },
      "outputs": [
        {
          "data": {
            "image/png": "[encoded data removed]",
            "text/plain": [
              "plot without title"
            ]
          },
          "metadata": {
            "image/png": {
              "height": 420,
              "width": 420
            }
          },
          "output_type": "display_data"
        }
      ],
      "source": [
        "# Create QQ-plots for each gender\n",
        "ggplot(data, aes(sample = thalachh)) +\n",
        "  geom_qq() +\n",
        "  facet_wrap(~sex) +\n",
        "  stat_qq_line(color = \"red\") +\n",
        "  labs(x = \"Theoretical Quantiles\", y = \"Sample Quantiles\", title = \"QQ-plot of Maximum Heart Rate by Gender\")\n"
      ]
    },
    {
      "cell_type": "markdown",
      "metadata": {},
      "source": [
        "In both plots, the horizontal axis represents the quantiles from a Gaussian (or normal) distribution, and the vertical axis represents the observed sample quantiles of the `thalch` variable for each group. The red line indicates where the points would lie if the `thalch` data followed a perfect Gaussian distribution.\n",
        "\n",
        "For the plot labelled `0`, the points largely follow the red line, especially in the middle section of the plot, suggesting that the distribution of `thalachh` for this group is approximately Gaussian. However, there are some deviations at the ends, particularly in the lower tail (left side), which might indicate slight departures from normality in the form of a lighter left tail than would be expected for a Gaussian distribution.(based on our course Short tails (narrower than the normal distribution) Points follow an S-shaped curve.)\n",
        "\n",
        "The plot labelled `1` shows a similar pattern, with points closely following the red line in the central part of the plot, though with a slight deviation at the upper tail (right side). This could suggest a heavier right tail than expected under a Gaussian distribution for this group.(based on our course Left skew -Points bend down and to the right of the line.)"
      ]
    },
    {
      "cell_type": "markdown",
      "metadata": {},
      "source": [
        "**And now in below histograms we can see both of the plots has aproximate gaussian distrubition.**"
      ]
    },
    {
      "cell_type": "code",
      "execution_count": 44,
      "metadata": {
        "vscode": {
          "languageId": "r"
        }
      },
      "outputs": [
        {
          "data": {
            "image/png": "[encoded data removed]",
            "text/plain": [
              "plot without title"
            ]
          },
          "metadata": {
            "image/png": {
              "height": 420,
              "width": 420
            }
          },
          "output_type": "display_data"
        },
        {
          "data": {
            "image/png": "[encoded data removed]",
            "text/plain": [
              "plot without title"
            ]
          },
          "metadata": {
            "image/png": {
              "height": 420,
              "width": 420
            }
          },
          "output_type": "display_data"
        }
      ],
      "source": [
        "# Calculate percentiles for each sex\n",
        "percentiles_male <- quantile(data[data$sex == 0, \"age\"], c(0.025, 0.975))\n",
        "percentiles_female <- quantile(data[data$sex == 1, \"age\"], c(0.025, 0.975))\n",
        "\n",
        "# Plot for males\n",
        "ggplot(data[data$sex == 0, ], aes(x = age, y = ..density..)) +\n",
        "  geom_histogram(bins = 20, fill = \"lightblue\", color = \"black\", alpha = 0.8) +\n",
        "  geom_density(color = \"red\", size = 1.5) +\n",
        "  labs(x = \"Age\", y = \"Density\", title = \"Histogram of Age for Males with Density Curve\")\n",
        "\n",
        "# Plot for females\n",
        "ggplot(data[data$sex == 1, ], aes(x = age, y = ..density..)) +\n",
        "  geom_histogram(bins = 20, fill = \"lightblue\", color = \"black\", alpha = 0.8) +\n",
        "  geom_density(color = \"red\", size = 1.5) +\n",
        "  labs(x = \"Age\", y = \"Density\", title = \"Histogram of Age for Females with Density Curve\")"
      ]
    },
    {
      "cell_type": "markdown",
      "metadata": {
        "id": "vI6Qh4w0BWck"
      },
      "source": [
        "##### <span style='color:#3498DB; font-family: \"Helvetica\", Arial, sans-serif; font-size: 1.2em; font-weight: bold;'>Part c:</span>\n",
        "\n",
        "<span style='font-family: \"Segoe UI\", Tahoma, Geneva, Verdana, sans-serif; font-size: 1.2em; font-weight: bold;'>\n",
        "Sort the categories in origin (place of study) by their frequencies, then draw a horizontal bar \n",
        "plot to show the result.\n",
        "</span>\n"
      ]
    },
    {
      "cell_type": "code",
      "execution_count": 58,
      "metadata": {
        "vscode": {
          "languageId": "r"
        }
      },
      "outputs": [
        {
          "data": {
            "text/html": [
              "<table class=\"dataframe\">\n",
              "<caption>A data.frame: 4 × 3</caption>\n",
              "<thead>\n",
              "\t<tr><th scope=col>cp</th><th scope=col>freq.Var1</th><th scope=col>freq.Freq</th></tr>\n",
              "\t<tr><th scope=col>&lt;chr&gt;</th><th scope=col>&lt;fct&gt;</th><th scope=col>&lt;int&gt;</th></tr>\n",
              "</thead>\n",
              "<tbody>\n",
              "\t<tr><td>0</td><td>0</td><td>143</td></tr>\n",
              "\t<tr><td>2</td><td>2</td><td> 87</td></tr>\n",
              "\t<tr><td>1</td><td>1</td><td> 50</td></tr>\n",
              "\t<tr><td>3</td><td>3</td><td> 23</td></tr>\n",
              "</tbody>\n",
              "</table>\n"
            ],
            "text/latex": [
              "A data.frame: 4 × 3\n",
              "\\begin{tabular}{lll}\n",
              " cp & freq.Var1 & freq.Freq\\\\\n",
              " <chr> & <fct> & <int>\\\\\n",
              "\\hline\n",
              "\t 0 & 0 & 143\\\\\n",
              "\t 2 & 2 &  87\\\\\n",
              "\t 1 & 1 &  50\\\\\n",
              "\t 3 & 3 &  23\\\\\n",
              "\\end{tabular}\n"
            ],
            "text/markdown": [
              "\n",
              "A data.frame: 4 × 3\n",
              "\n",
              "| cp &lt;chr&gt; | freq.Var1 &lt;fct&gt; | freq.Freq &lt;int&gt; |\n",
              "|---|---|---|\n",
              "| 0 | 0 | 143 |\n",
              "| 2 | 2 |  87 |\n",
              "| 1 | 1 |  50 |\n",
              "| 3 | 3 |  23 |\n",
              "\n"
            ],
            "text/plain": [
              "  cp freq.Var1 freq.Freq\n",
              "1 0  0         143      \n",
              "2 2  2          87      \n",
              "3 1  1          50      \n",
              "4 3  3          23      "
            ]
          },
          "metadata": {},
          "output_type": "display_data"
        }
      ],
      "source": [
        "# Calculate frequencies of categories in cp\n",
        "cp_freq <- table(data$cp)\n",
        "\n",
        "# Sort the frequencies and corresponding categories\n",
        "sorted_cp <- sort(cp_freq, decreasing = TRUE)\n",
        "\n",
        "# Create a data frame for plotting\n",
        "plot_data <- data.frame(cp = names(sorted_cp), freq = sorted_cp)\n",
        "\n",
        "plot_data"
      ]
    },
    {
      "cell_type": "code",
      "execution_count": 63,
      "metadata": {
        "vscode": {
          "languageId": "r"
        }
      },
      "outputs": [
        {
          "data": {
            "image/png": "[encoded data removed]",
            "text/plain": [
              "plot without title"
            ]
          },
          "metadata": {
            "image/png": {
              "height": 420,
              "width": 420
            }
          },
          "output_type": "display_data"
        }
      ],
      "source": [
        "# Create a horizontal bar plot\n",
        "ggplot(plot_data, aes(x = freq.Freq, y = reorder(cp, freq.Freq))) +\n",
        "  geom_bar(stat = \"identity\", fill = \"#20c395\") +\n",
        "  labs(x = \"Frequency\", y = \"Category (cp)\", \n",
        "       title = \"Frequencies of Categories in cp\") +\n",
        "  theme_minimal()"
      ]
    },
    {
      "cell_type": "markdown",
      "metadata": {
        "id": "nQ-JosQZBWcl"
      },
      "source": [
        "##### <span style='color:#3498DB; font-family: \"Helvetica\", Arial, sans-serif; font-size: 1.2em; font-weight: bold;'>Part d:</span>\n",
        "\n",
        "<span style='font-family: \"Segoe UI\", Tahoma, Geneva, Verdana, sans-serif; font-size: 1.2em; font-weight: bold;'>\n",
        "Draw the separate boxplots of the trestbps (resting blood pressure) variable for each cp (chest \n",
        "pain type). \n",
        "</span>\n"
      ]
    },
    {
      "cell_type": "code",
      "execution_count": 65,
      "metadata": {
        "vscode": {
          "languageId": "r"
        }
      },
      "outputs": [
        {
          "data": {
            "image/png": "[encoded data removed]",
            "text/plain": [
              "plot without title"
            ]
          },
          "metadata": {
            "image/png": {
              "height": 420,
              "width": 420
            }
          },
          "output_type": "display_data"
        }
      ],
      "source": [
        "# Separate boxplots of trestbps for each cp\n",
        "ggplot(data, aes(x = factor(cp), y = trtbps)) +\n",
        "  geom_boxplot() +\n",
        "  labs(x = \"Chest Pain Type (cp)\", y = \"Resting Blood Pressure (trestbps)\",\n",
        "       title = \"Boxplots of Resting Blood Pressure by Chest Pain Type\")\n"
      ]
    },
    {
      "cell_type": "markdown",
      "metadata": {},
      "source": [
        "<hr>"
      ]
    },
    {
      "cell_type": "markdown",
      "metadata": {},
      "source": [
        "### <span style='color:#2ECC71; font-family: \"Arial\", sans-serif; font-size: 1.3em; font-weight: bold;'>Question 8</span>\n",
        "\n",
        "<span style='font-family: \"Segoe UI\", Tahoma, Geneva, Verdana, sans-serif; font-size: 1.2em; font-weight: bold;'>\n",
        "\n",
        "In this question, we will learn more about Monte Carlo simulation and understand how it can \n",
        "help  us  to  model  and  analyze  complex  systems,  where  analytical  or  closed-form  solutions  are \n",
        "difficult. We are going to estimate the value of 𝜋 using Monte Carlo simulation. The idea is to \n",
        "randomly  generate  points  within  a  square  and  determine  how  many  fall  in  a  circle  inscribed \n",
        "by the  square.  By comparing the  points inside  the  circle  to the  total number of points  you can \n",
        "approximate 𝜋. Repeat your simulation with different number of points and analyze their results. \n",
        "</span>"
      ]
    },
    {
      "cell_type": "markdown",
      "metadata": {},
      "source": [
        "#### <span style='color:#E74C3C; font-family: \"Arial\", sans-serif; font-size: 1.1em; font-weight: bold;'>Answer</span>"
      ]
    },
    {
      "cell_type": "markdown",
      "metadata": {},
      "source": [
        "A Monte Carlo simulation is a way to model the probability of different outcomes in a process that cannot easily be predicted due to the intervention of random variables. It is a technique used to understand the impact of risk and uncertainty.\n",
        "\n",
        "In the context of estimating the value of π using Monte Carlo simulation, the approach involves randomly generating points within a square and determining how many of those points fall inside a circle inscribed within the square. By comparing the number of points inside the cicle to the total number of points generated, one can approximate the value of π. This is based on the fact that the ratio of the area of the circle to the area of the square is π/4, and as the number of random points increases, the approximation becomes more accurate.\n",
        "\n",
        "To answer the question, we would perform the following steps:\n",
        "\n",
        "1. Generate a specified number of random points within a square.\n",
        "2. Determine which points fall inside the inscribed circle by checking whether the distance of each point from the center of the square is less than the radius of the circle.\n",
        "3. Calculate the ratio of the number of points inside the circle to the total number of points generated.\n",
        "4. Use this ratio to approximate the value of π by multiplying it by 4.\n",
        "5. Repeat the simulation with different numbers of points and analyze how the estimates of π converge as the number of points increases."
      ]
    },
    {
      "cell_type": "markdown",
      "metadata": {},
      "source": [
        "**Simulation with `R`**"
      ]
    },
    {
      "cell_type": "markdown",
      "metadata": {},
      "source": [
        "This code defines a function `estimate_pi` that performs a single simulation to estimate the value of π using Monte Carlo simulation. It generates `num_points` random points within a square and counts how many fall inside the inscribed circle. Then, it approximates π based on the ratio of points inside the circle to the total number of points generated.\n",
        "\n",
        "The main loop performs multiple simulations with different numbers of points (`num_points`) and prints out the estimated values of π for each simulation as well as the mean estimated value over all simulations. Adjust `num_simulations` and num_points to perform more or fewer simulations and vary the number of points used in each simulation."
      ]
    },
    {
      "cell_type": "code",
      "execution_count": 3,
      "metadata": {
        "vscode": {
          "languageId": "r"
        }
      },
      "outputs": [
        {
          "name": "stdout",
          "output_type": "stream",
          "text": [
            "Number of points: 100 \n",
            "Estimated values of pi: 2.96 3.32 3.08 3.24 3.04 3.24 3.08 3.04 3.04 3.2 \n",
            "Mean estimated value of pi: 3.124 \n",
            "\n",
            "Number of points: 1000 \n",
            "Estimated values of pi: 3.24 3.084 3.128 3.128 3.14 3.14 3.124 3.176 3.112 3.052 \n",
            "Mean estimated value of pi: 3.1324 \n",
            "\n",
            "Number of points: 10000 \n",
            "Estimated values of pi: 3.1288 3.1344 3.1628 3.1408 3.144 3.1316 3.1432 3.1168 3.1204 3.146 \n",
            "Mean estimated value of pi: 3.13688 \n",
            "\n",
            "Number of points: 1e+05 \n",
            "Estimated values of pi: 3.14092 3.14664 3.14764 3.13696 3.14304 3.14864 3.14384 3.1396 3.14308 3.13752 \n",
            "Mean estimated value of pi: 3.142788 \n",
            "\n",
            "Number of points: 1e+06 \n",
            "Estimated values of pi: 3.141512 3.143108 3.14148 3.137424 3.144476 3.141544 3.140612 3.145388 3.142572 3.138504 \n",
            "Mean estimated value of pi: 3.141662 \n",
            "\n"
          ]
        }
      ],
      "source": [
        "# Function to estimate pi using Monte Carlo simulation\n",
        "estimate_pi <- function(num_points) {\n",
        "  # Generate random points within a square [-1, 1] x [-1, 1]\n",
        "  x <- runif(num_points, min = -1, max = 1)\n",
        "  y <- runif(num_points, min = -1, max = 1)\n",
        "  \n",
        "  # Count the number of points inside the circle\n",
        "  inside_circle <- sum(x^2 + y^2 <= 1)\n",
        "  \n",
        "  # Approximate pi\n",
        "  pi_approx <- 4 * inside_circle / num_points\n",
        "  \n",
        "  return(pi_approx)\n",
        "}\n",
        "\n",
        "# Number of simulations and number of points for each simulation\n",
        "num_simulations <- 10\n",
        "num_points <- c(100, 1000, 10000, 100000, 1000000)\n",
        "\n",
        "# Perform simulations\n",
        "for (n in num_points) {\n",
        "  cat(\"Number of points:\", n, \"\\n\")\n",
        "  pi_estimates <- replicate(num_simulations, estimate_pi(n))\n",
        "  cat(\"Estimated values of pi:\", pi_estimates, \"\\n\")\n",
        "  cat(\"Mean estimated value of pi:\", mean(pi_estimates), \"\\n\\n\")\n",
        "}\n"
      ]
    }
  ],
  "metadata": {
    "colab": {
      "collapsed_sections": [
        "KQbRmJCrBWbi",
        "u4gFy0JTBWcO",
        "VrLL7kfNBWcQ",
        "_UUYPnglBWcU",
        "J2GKlfrIBWcV",
        "e2wZ3uNABWcb",
        "KnCCjZmwBWcg",
        "i7EvPYL5BWch"
      ],
      "provenance": [],
      "toc_visible": true
    },
    "kernelspec": {
      "display_name": "R",
      "language": "R",
      "name": "ir"
    },
    "language_info": {
      "codemirror_mode": "r",
      "file_extension": ".r",
      "mimetype": "text/x-r-source",
      "name": "R",
      "pygments_lexer": "r",
      "version": "4.2.2"
    }
  },
  "nbformat": 4,
  "nbformat_minor": 0
}
